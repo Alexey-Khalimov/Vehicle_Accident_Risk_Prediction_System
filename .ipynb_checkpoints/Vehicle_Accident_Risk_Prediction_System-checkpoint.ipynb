{
 "cells": [
  {
   "cell_type": "markdown",
   "id": "c46bdbf4",
   "metadata": {
    "toc": true
   },
   "source": [
    "<h1>Table of Contents<span class=\"tocSkip\"></span></h1>\n",
    "<div class=\"toc\"><ul class=\"toc-item\"><li><span><a href=\"#Подключение-к-базе-данных-и-первичны-обзор-данных\" data-toc-modified-id=\"Подключение-к-базе-данных-и-первичны-обзор-данных-1\"><span class=\"toc-item-num\">1&nbsp;&nbsp;</span>Подключение к базе данных и первичны обзор данных</a></span><ul class=\"toc-item\"><li><span><a href=\"#Импорт-библиотек-и-настройка-графиков\" data-toc-modified-id=\"Импорт-библиотек-и-настройка-графиков-1.1\"><span class=\"toc-item-num\">1.1&nbsp;&nbsp;</span>Импорт библиотек и настройка графиков</a></span></li></ul></li></ul></div>"
   ]
  },
  {
   "cell_type": "markdown",
   "id": "f4aedddd",
   "metadata": {},
   "source": [
    "# Проект: \"Система оценки риска для прогнозирования дорожно-транспортных происшествий на основе исторических данных\""
   ]
  },
  {
   "cell_type": "markdown",
   "id": "532d0ff6",
   "metadata": {},
   "source": [
    "**ПОСТАНОВКА ЗАДАЧИ**\n",
    "\n",
    "**Заказчик исследования:**  \n",
    "Каршеринговая компания\n",
    "\n",
    "**Исходные данные:**  \n",
    "Исторические данные о дорожно-транспортных происшествиях (ДТП) за 2010-2012 года. Данные включают информацию о происшествиях, участниках и транспортных средствах. Основной интерес представляют ДТП с повреждениями автомобилей, за исключением лёгких повреждений типа \"царапина\", с учетом возраста автомобиля и виновности водителя.\n",
    "\n",
    "**Цель исследования:**  \n",
    "Разработать систему оценки риска ДТП, которая на основе выбранного маршрута сможет предсказывать вероятность аварий с повреждением транспортного средства и предоставлять предупреждения водителям в случае высокого риска.\n",
    "\n",
    "**Задачи исследования:**\n",
    "\n",
    "1. Исследовать возможность предсказания ДТП, используя исторические данные.\n",
    "2. Определить основные факторы, влияющие на вероятность ДТП, с акцентом на возраст автомобиля.\n",
    "3. Оценить возможность создания адекватной системы предупреждений для водителей на основе полученных данных.\n",
    "4. Определить дополнительные факторы, которые могут повысить точность модели.\n",
    "5. Исследовать необходимость установки датчиков, камер или иных мер в автомобиле для улучшения системы.\n",
    "\n",
    "**Ход исследования:**  \n",
    "Исследование будет включать в себя следующие этапы:\n",
    "\n",
    "\n",
    "1. **Сбор и подготовка данных:**\n",
    "   - Подключение к базе данных и загрузка необходимых таблиц (case_ids, collisions, parties, vehicles).\n",
    "   - Проведение первичного анализа данных для понимания структуры и связей между таблицами.\n",
    "\n",
    "\n",
    "2. **Анализ факторов ДТП:**\n",
    "   - Проведение статистического анализа факторов, влияющих на вероятность аварии.\n",
    "   - Исследование взаимосвязей между факторами и вероятностью ДТП.\n",
    "\n",
    "\n",
    "3. **Создание и обучение модели:**\n",
    "   - Формирование набора данных для моделирования на основе случаев ДТП с участием автомобилей.\n",
    "   - Проведение первичного отбора факторов и обучение нескольких моделей для предсказания виновности водителя в аварии.\n",
    "   - Оценка модели с помощью соответствующих метрик и анализ важности факторов.\n",
    "\n",
    "\n",
    "4. **Оценка модели:**\n",
    "   - Выбор наилучшей модели по результатам перебора гиперпараметров.\n",
    "   - Проведение графического анализа \"Матрицы ошибок\" и оценка важности факторов.\n",
    "\n",
    "\n",
    "5. **Выводы и рекомендации:**\n",
    "   - Анализ результатов модели и оценка возможности создания адекватной системы предупреждений для водителей.\n",
    "   - Рекомендации по установке дополнительных сенсоров или камер в автомобиле для улучшения безопасности."
   ]
  },
  {
   "cell_type": "markdown",
   "id": "26638c92",
   "metadata": {
    "lang": "ru"
   },
   "source": [
    "## Подключение к базе данных и первичны обзор данных"
   ]
  },
  {
   "cell_type": "markdown",
   "id": "6526efc6",
   "metadata": {},
   "source": [
    "### Импорт библиотек и настройка графиков"
   ]
  },
  {
   "cell_type": "markdown",
   "id": "7a182695",
   "metadata": {},
   "source": [
    "Импортируем библиотеки torch, pandas, numpy, matplotlib, seaborn, sklearn, shap, psycopg2 и другие. "
   ]
  },
  {
   "cell_type": "code",
   "execution_count": 12,
   "id": "17c482ee",
   "metadata": {
    "ExecuteTime": {
     "end_time": "2024-09-16T20:31:58.718065Z",
     "start_time": "2024-09-16T20:31:58.713058Z"
    }
   },
   "outputs": [],
   "source": [
    "#!pip install sqlalchemy "
   ]
  },
  {
   "cell_type": "code",
   "execution_count": 1,
   "id": "d3a16669",
   "metadata": {
    "ExecuteTime": {
     "end_time": "2024-09-16T20:22:05.916491Z",
     "start_time": "2024-09-16T20:22:01.737702Z"
    }
   },
   "outputs": [],
   "source": [
    "# Импорт стандартных библиотек\n",
    "import os\n",
    "import re\n",
    "import time\n",
    "import random\n",
    "import warnings\n",
    "from IPython.display import IFrame  # Для отображения файлов в Jupyter\n",
    "\n",
    "# Импорт библиотек для работы с БД\n",
    "import psycopg2\n",
    "from sqlalchemy import create_engine\n",
    "\n",
    "# Импорт библиотек для научных вычислений и визуализации данных\n",
    "import numpy as np\n",
    "import pandas as pd\n",
    "import seaborn as sns\n",
    "import plotly.express as px\n",
    "import matplotlib.pyplot as plt\n",
    "\n",
    "# Импорт библиотек для анализа корреляций и отчетов\n",
    "from phik import phik_matrix\n",
    "from phik.report import plot_correlation_matrix\n",
    "import sweetviz as sv\n",
    "\n",
    "# Импорт библиотек для предобработки данных и работы с моделями\n",
    "from sklearn.compose import ColumnTransformer\n",
    "from sklearn.pipeline import Pipeline, make_pipeline\n",
    "from sklearn.model_selection import train_test_split, KFold\n",
    "from sklearn.preprocessing import OneHotEncoder, StandardScaler\n",
    "import optuna\n",
    "\n",
    "# Импорт библиотек для работы с PyTorch\n",
    "import torch  # Основная библиотека для работы с тензорами\n",
    "import torch.nn as nn  # Модуль для создания нейронных сетей\n",
    "import torch.optim as optim  # Модуль для оптимизации\n",
    "# Для работы с загрузкой данных\n",
    "from torch.utils.data import DataLoader, TensorDataset\n",
    "\n",
    "# Настройка отображения в Pandas, чтобы видеть весь список параметров\n",
    "pd.set_option('display.max_colwidth', None)\n",
    "\n",
    "# Константы\n",
    "LINE_1 = '-' * 125\n",
    "RANDOM_STATE = 42\n",
    "TEST_SIZE = 0.20\n",
    "N_FOLDS = 5"
   ]
  },
  {
   "cell_type": "markdown",
   "id": "0b33b1c9",
   "metadata": {},
   "source": [
    "Подключимся к БД где хранятся вся необходимая информация"
   ]
  },
  {
   "cell_type": "code",
   "execution_count": 2,
   "id": "7abad68b",
   "metadata": {
    "ExecuteTime": {
     "end_time": "2024-09-16T20:22:19.080309Z",
     "start_time": "2024-09-16T20:22:19.069312Z"
    }
   },
   "outputs": [],
   "source": [
    "# Настройки для подключения у БД:\n",
    "db_config = {\n",
    "'user': 'praktikum_student', # имя пользователя,\n",
    "'psw': 'Sdf4$2;d-d30pp', # пароль,\n",
    "'host': 'rc1b-wcoijxj3yxfsf3fs.mdb.yandexcloud.net',\n",
    "'port': 6432, # порт подключения,\n",
    "'db': 'data-science-vehicle-db' # название базы данных,\n",
    "} "
   ]
  },
  {
   "cell_type": "code",
   "execution_count": 6,
   "id": "9f0677c7",
   "metadata": {
    "ExecuteTime": {
     "end_time": "2024-09-16T20:29:18.168682Z",
     "start_time": "2024-09-16T20:29:18.124164Z"
    }
   },
   "outputs": [],
   "source": [
    "# Формируем строку подключения\n",
    "connection_string = 'postgresql://{}:{}@{}:{}/{}'.format(\n",
    "    db_config['user'],\n",
    "    db_config['pwd'],\n",
    "    db_config['host'],\n",
    "    db_config['port'],\n",
    "    db_config['db'],\n",
    ")\n",
    "\n",
    "# Создаем движок (соединение) SQLAlchemy\n",
    "engine = create_engine(connection_string)"
   ]
  },
  {
   "cell_type": "code",
   "execution_count": 16,
   "id": "a0dc319a",
   "metadata": {
    "ExecuteTime": {
     "end_time": "2024-09-16T20:36:52.557157Z",
     "start_time": "2024-09-16T20:36:45.065536Z"
    },
    "scrolled": true
   },
   "outputs": [],
   "source": [
    "# Выполняем запрос и загружаем результат в DataFrame\n",
    "query = \"\"\"\n",
    "SELECT *\n",
    "FROM vehicles;\n",
    "\"\"\"\n",
    "\n",
    "# Результат выдачи SQL-запроса\n",
    "retention_rate_df = pd.read_sql_query(query, con = engine)\n",
    "\n",
    "#df = pd.read_sql(query, engine) # Сохраним датасет"
   ]
  },
  {
   "cell_type": "code",
   "execution_count": 17,
   "id": "8061b6c1",
   "metadata": {
    "ExecuteTime": {
     "end_time": "2024-09-16T20:36:54.638000Z",
     "start_time": "2024-09-16T20:36:54.616998Z"
    },
    "scrolled": true
   },
   "outputs": [
    {
     "data": {
      "text/html": [
       "<div>\n",
       "<style scoped>\n",
       "    .dataframe tbody tr th:only-of-type {\n",
       "        vertical-align: middle;\n",
       "    }\n",
       "\n",
       "    .dataframe tbody tr th {\n",
       "        vertical-align: top;\n",
       "    }\n",
       "\n",
       "    .dataframe thead th {\n",
       "        text-align: right;\n",
       "    }\n",
       "</style>\n",
       "<table border=\"1\" class=\"dataframe\">\n",
       "  <thead>\n",
       "    <tr style=\"text-align: right;\">\n",
       "      <th></th>\n",
       "      <th>id</th>\n",
       "      <th>case_id</th>\n",
       "      <th>party_number</th>\n",
       "      <th>vehicle_type</th>\n",
       "      <th>vehicle_transmission</th>\n",
       "      <th>vehicle_age</th>\n",
       "    </tr>\n",
       "  </thead>\n",
       "  <tbody>\n",
       "    <tr>\n",
       "      <th>0</th>\n",
       "      <td>1175713</td>\n",
       "      <td>5305032</td>\n",
       "      <td>2</td>\n",
       "      <td>sedan</td>\n",
       "      <td>manual</td>\n",
       "      <td>3.0</td>\n",
       "    </tr>\n",
       "    <tr>\n",
       "      <th>1</th>\n",
       "      <td>1</td>\n",
       "      <td>3858022</td>\n",
       "      <td>1</td>\n",
       "      <td>sedan</td>\n",
       "      <td>auto</td>\n",
       "      <td>3.0</td>\n",
       "    </tr>\n",
       "    <tr>\n",
       "      <th>2</th>\n",
       "      <td>1175712</td>\n",
       "      <td>5305030</td>\n",
       "      <td>1</td>\n",
       "      <td>sedan</td>\n",
       "      <td>auto</td>\n",
       "      <td>3.0</td>\n",
       "    </tr>\n",
       "    <tr>\n",
       "      <th>3</th>\n",
       "      <td>1175717</td>\n",
       "      <td>5305033</td>\n",
       "      <td>3</td>\n",
       "      <td>sedan</td>\n",
       "      <td>auto</td>\n",
       "      <td>5.0</td>\n",
       "    </tr>\n",
       "    <tr>\n",
       "      <th>4</th>\n",
       "      <td>1175722</td>\n",
       "      <td>5305034</td>\n",
       "      <td>2</td>\n",
       "      <td>sedan</td>\n",
       "      <td>auto</td>\n",
       "      <td>5.0</td>\n",
       "    </tr>\n",
       "    <tr>\n",
       "      <th>...</th>\n",
       "      <td>...</td>\n",
       "      <td>...</td>\n",
       "      <td>...</td>\n",
       "      <td>...</td>\n",
       "      <td>...</td>\n",
       "      <td>...</td>\n",
       "    </tr>\n",
       "    <tr>\n",
       "      <th>1021229</th>\n",
       "      <td>1175684</td>\n",
       "      <td>5304990</td>\n",
       "      <td>2</td>\n",
       "      <td>sedan</td>\n",
       "      <td>manual</td>\n",
       "      <td>6.0</td>\n",
       "    </tr>\n",
       "    <tr>\n",
       "      <th>1021230</th>\n",
       "      <td>1175686</td>\n",
       "      <td>5304993</td>\n",
       "      <td>2</td>\n",
       "      <td>sedan</td>\n",
       "      <td>manual</td>\n",
       "      <td>3.0</td>\n",
       "    </tr>\n",
       "    <tr>\n",
       "      <th>1021231</th>\n",
       "      <td>1175687</td>\n",
       "      <td>5304994</td>\n",
       "      <td>2</td>\n",
       "      <td>sedan</td>\n",
       "      <td>manual</td>\n",
       "      <td>3.0</td>\n",
       "    </tr>\n",
       "    <tr>\n",
       "      <th>1021232</th>\n",
       "      <td>1175693</td>\n",
       "      <td>5305002</td>\n",
       "      <td>1</td>\n",
       "      <td>sedan</td>\n",
       "      <td>manual</td>\n",
       "      <td>5.0</td>\n",
       "    </tr>\n",
       "    <tr>\n",
       "      <th>1021233</th>\n",
       "      <td>1175699</td>\n",
       "      <td>5305007</td>\n",
       "      <td>1</td>\n",
       "      <td>sedan</td>\n",
       "      <td>manual</td>\n",
       "      <td>6.0</td>\n",
       "    </tr>\n",
       "  </tbody>\n",
       "</table>\n",
       "<p>1021234 rows × 6 columns</p>\n",
       "</div>"
      ],
      "text/plain": [
       "              id  case_id  party_number vehicle_type vehicle_transmission  \\\n",
       "0        1175713  5305032             2        sedan               manual   \n",
       "1              1  3858022             1        sedan                 auto   \n",
       "2        1175712  5305030             1        sedan                 auto   \n",
       "3        1175717  5305033             3        sedan                 auto   \n",
       "4        1175722  5305034             2        sedan                 auto   \n",
       "...          ...      ...           ...          ...                  ...   \n",
       "1021229  1175684  5304990             2        sedan               manual   \n",
       "1021230  1175686  5304993             2        sedan               manual   \n",
       "1021231  1175687  5304994             2        sedan               manual   \n",
       "1021232  1175693  5305002             1        sedan               manual   \n",
       "1021233  1175699  5305007             1        sedan               manual   \n",
       "\n",
       "         vehicle_age  \n",
       "0                3.0  \n",
       "1                3.0  \n",
       "2                3.0  \n",
       "3                5.0  \n",
       "4                5.0  \n",
       "...              ...  \n",
       "1021229          6.0  \n",
       "1021230          3.0  \n",
       "1021231          3.0  \n",
       "1021232          5.0  \n",
       "1021233          6.0  \n",
       "\n",
       "[1021234 rows x 6 columns]"
      ]
     },
     "execution_count": 17,
     "metadata": {},
     "output_type": "execute_result"
    }
   ],
   "source": [
    "retention_rate_df"
   ]
  },
  {
   "cell_type": "code",
   "execution_count": 20,
   "id": "c8973f16",
   "metadata": {
    "ExecuteTime": {
     "end_time": "2024-09-16T20:38:29.019530Z",
     "start_time": "2024-09-16T20:38:28.989017Z"
    }
   },
   "outputs": [
    {
     "ename": "TypeError",
     "evalue": "pivot() takes 1 positional argument but 4 were given",
     "output_type": "error",
     "traceback": [
      "\u001b[1;31m---------------------------------------------------------------------------\u001b[0m",
      "\u001b[1;31mTypeError\u001b[0m                                 Traceback (most recent call last)",
      "Cell \u001b[1;32mIn[20], line 2\u001b[0m\n\u001b[0;32m      1\u001b[0m \u001b[38;5;66;03m# создаём сводную таблицу с результатами\u001b[39;00m\n\u001b[1;32m----> 2\u001b[0m retention \u001b[38;5;241m=\u001b[39m \u001b[43mdf\u001b[49m\u001b[38;5;241;43m.\u001b[39;49m\u001b[43mpivot\u001b[49m\u001b[43m(\u001b[49m\u001b[38;5;124;43m'\u001b[39;49m\u001b[38;5;124;43mvehicle_type\u001b[39;49m\u001b[38;5;124;43m'\u001b[39;49m\u001b[43m,\u001b[49m\u001b[43m \u001b[49m\u001b[38;5;124;43m'\u001b[39;49m\u001b[38;5;124;43mvehicle_transmission\u001b[39;49m\u001b[38;5;124;43m'\u001b[39;49m\u001b[43m,\u001b[49m\u001b[43m \u001b[49m\u001b[38;5;124;43m'\u001b[39;49m\u001b[38;5;124;43mvehicle_age\u001b[39;49m\u001b[38;5;124;43m'\u001b[39;49m\u001b[43m)\u001b[49m\n\u001b[0;32m      3\u001b[0m retention\u001b[38;5;241m.\u001b[39mindex \u001b[38;5;241m=\u001b[39m [\u001b[38;5;28mstr\u001b[39m(x)[\u001b[38;5;241m0\u001b[39m:\u001b[38;5;241m10\u001b[39m] \u001b[38;5;28;01mfor\u001b[39;00m x \u001b[38;5;129;01min\u001b[39;00m retention\u001b[38;5;241m.\u001b[39mindex]\n\u001b[0;32m      4\u001b[0m retention\u001b[38;5;241m.\u001b[39mcolumns \u001b[38;5;241m=\u001b[39m [\u001b[38;5;28mstr\u001b[39m(x)[\u001b[38;5;241m0\u001b[39m:\u001b[38;5;241m10\u001b[39m] \u001b[38;5;28;01mfor\u001b[39;00m x \u001b[38;5;129;01min\u001b[39;00m retention\u001b[38;5;241m.\u001b[39mcolumns]\n",
      "\u001b[1;31mTypeError\u001b[0m: pivot() takes 1 positional argument but 4 were given"
     ]
    }
   ],
   "source": [
    "# создаём сводную таблицу с результатами\n",
    "retention = df.pivot('vehicle_type', 'vehicle_transmission', 'vehicle_age')\n",
    "retention.index = [str(x)[0:10] for x in retention.index]\n",
    "retention.columns = [str(x)[0:10] for x in retention.columns]\n",
    "\n",
    "# строим хитмэп\n",
    "plt.figure(figsize=(16, 16)) # задаём размер графика\n",
    "sns.heatmap(retention, # датафрейм с данными\n",
    "            annot=True, # добавляем подписи\n",
    "            fmt='') # задаём исходный формат\n",
    "plt.title('Тепловая карта') # название графика\n",
    "plt.show() "
   ]
  },
  {
   "cell_type": "code",
   "execution_count": null,
   "id": "277461a6",
   "metadata": {},
   "outputs": [],
   "source": []
  },
  {
   "cell_type": "code",
   "execution_count": 19,
   "id": "66f8e663",
   "metadata": {
    "ExecuteTime": {
     "end_time": "2024-09-16T20:37:58.113880Z",
     "start_time": "2024-09-16T20:37:58.095896Z"
    }
   },
   "outputs": [
    {
     "data": {
      "text/html": [
       "<div>\n",
       "<style scoped>\n",
       "    .dataframe tbody tr th:only-of-type {\n",
       "        vertical-align: middle;\n",
       "    }\n",
       "\n",
       "    .dataframe tbody tr th {\n",
       "        vertical-align: top;\n",
       "    }\n",
       "\n",
       "    .dataframe thead th {\n",
       "        text-align: right;\n",
       "    }\n",
       "</style>\n",
       "<table border=\"1\" class=\"dataframe\">\n",
       "  <thead>\n",
       "    <tr style=\"text-align: right;\">\n",
       "      <th></th>\n",
       "      <th>id</th>\n",
       "      <th>case_id</th>\n",
       "      <th>party_number</th>\n",
       "      <th>vehicle_type</th>\n",
       "      <th>vehicle_transmission</th>\n",
       "      <th>vehicle_age</th>\n",
       "    </tr>\n",
       "  </thead>\n",
       "  <tbody>\n",
       "    <tr>\n",
       "      <th>0</th>\n",
       "      <td>1175713</td>\n",
       "      <td>5305032</td>\n",
       "      <td>2</td>\n",
       "      <td>sedan</td>\n",
       "      <td>manual</td>\n",
       "      <td>3.0</td>\n",
       "    </tr>\n",
       "    <tr>\n",
       "      <th>1</th>\n",
       "      <td>1</td>\n",
       "      <td>3858022</td>\n",
       "      <td>1</td>\n",
       "      <td>sedan</td>\n",
       "      <td>auto</td>\n",
       "      <td>3.0</td>\n",
       "    </tr>\n",
       "    <tr>\n",
       "      <th>2</th>\n",
       "      <td>1175712</td>\n",
       "      <td>5305030</td>\n",
       "      <td>1</td>\n",
       "      <td>sedan</td>\n",
       "      <td>auto</td>\n",
       "      <td>3.0</td>\n",
       "    </tr>\n",
       "    <tr>\n",
       "      <th>3</th>\n",
       "      <td>1175717</td>\n",
       "      <td>5305033</td>\n",
       "      <td>3</td>\n",
       "      <td>sedan</td>\n",
       "      <td>auto</td>\n",
       "      <td>5.0</td>\n",
       "    </tr>\n",
       "    <tr>\n",
       "      <th>4</th>\n",
       "      <td>1175722</td>\n",
       "      <td>5305034</td>\n",
       "      <td>2</td>\n",
       "      <td>sedan</td>\n",
       "      <td>auto</td>\n",
       "      <td>5.0</td>\n",
       "    </tr>\n",
       "  </tbody>\n",
       "</table>\n",
       "</div>"
      ],
      "text/plain": [
       "        id  case_id  party_number vehicle_type vehicle_transmission  \\\n",
       "0  1175713  5305032             2        sedan               manual   \n",
       "1        1  3858022             1        sedan                 auto   \n",
       "2  1175712  5305030             1        sedan                 auto   \n",
       "3  1175717  5305033             3        sedan                 auto   \n",
       "4  1175722  5305034             2        sedan                 auto   \n",
       "\n",
       "   vehicle_age  \n",
       "0          3.0  \n",
       "1          3.0  \n",
       "2          3.0  \n",
       "3          5.0  \n",
       "4          5.0  "
      ]
     },
     "execution_count": 19,
     "metadata": {},
     "output_type": "execute_result"
    }
   ],
   "source": [
    "# Выводим результат\n",
    "df.head()  # Выводим первые несколько строк результата"
   ]
  },
  {
   "cell_type": "code",
   "execution_count": 5,
   "id": "00684466",
   "metadata": {
    "ExecuteTime": {
     "end_time": "2024-09-16T20:08:33.469160Z",
     "start_time": "2024-09-16T20:08:33.455160Z"
    }
   },
   "outputs": [
    {
     "ename": "SyntaxError",
     "evalue": "invalid syntax (1080065117.py, line 1)",
     "output_type": "error",
     "traceback": [
      "\u001b[1;36m  Cell \u001b[1;32mIn[5], line 1\u001b[1;36m\u001b[0m\n\u001b[1;33m    SELECET *\u001b[0m\n\u001b[1;37m             ^\u001b[0m\n\u001b[1;31mSyntaxError\u001b[0m\u001b[1;31m:\u001b[0m invalid syntax\n"
     ]
    }
   ],
   "source": [
    "\"\"\"\n",
    "SELECET *\n",
    "FROM vehicles\n",
    "\"\"\""
   ]
  },
  {
   "cell_type": "code",
   "execution_count": 11,
   "id": "4318a004",
   "metadata": {
    "ExecuteTime": {
     "end_time": "2024-09-16T20:30:14.564489Z",
     "start_time": "2024-09-16T20:30:14.384138Z"
    }
   },
   "outputs": [
    {
     "name": "stdout",
     "output_type": "stream",
     "text": [
      "<class 'pandas.core.frame.DataFrame'>\n",
      "RangeIndex: 1021234 entries, 0 to 1021233\n",
      "Data columns (total 6 columns):\n",
      " #   Column                Non-Null Count    Dtype  \n",
      "---  ------                --------------    -----  \n",
      " 0   id                    1021234 non-null  int64  \n",
      " 1   case_id               1021234 non-null  object \n",
      " 2   party_number          1021234 non-null  int64  \n",
      " 3   vehicle_type          1021234 non-null  object \n",
      " 4   vehicle_transmission  997575 non-null   object \n",
      " 5   vehicle_age           996652 non-null   float64\n",
      "dtypes: float64(1), int64(2), object(3)\n",
      "memory usage: 46.7+ MB\n"
     ]
    }
   ],
   "source": [
    "df.info()"
   ]
  },
  {
   "cell_type": "code",
   "execution_count": null,
   "id": "dc11f416",
   "metadata": {},
   "outputs": [],
   "source": []
  },
  {
   "cell_type": "code",
   "execution_count": null,
   "id": "89bffa84",
   "metadata": {},
   "outputs": [],
   "source": []
  }
 ],
 "metadata": {
  "kernelspec": {
   "display_name": "Python 3 (ipykernel)",
   "language": "python",
   "name": "python3"
  },
  "language_info": {
   "codemirror_mode": {
    "name": "ipython",
    "version": 3
   },
   "file_extension": ".py",
   "mimetype": "text/x-python",
   "name": "python",
   "nbconvert_exporter": "python",
   "pygments_lexer": "ipython3",
   "version": "3.9.19"
  },
  "nbTranslate": {
   "displayLangs": [
    "ru"
   ],
   "hotkey": "alt-t",
   "langInMainMenu": true,
   "sourceLang": "ru",
   "targetLang": "en",
   "useGoogleTranslate": true
  },
  "toc": {
   "base_numbering": 1,
   "nav_menu": {},
   "number_sections": true,
   "sideBar": true,
   "skip_h1_title": true,
   "title_cell": "Table of Contents",
   "title_sidebar": "Contents",
   "toc_cell": true,
   "toc_position": {
    "height": "calc(100% - 180px)",
    "left": "10px",
    "top": "150px",
    "width": "374.391px"
   },
   "toc_section_display": true,
   "toc_window_display": true
  },
  "varInspector": {
   "cols": {
    "lenName": 16,
    "lenType": 16,
    "lenVar": 40
   },
   "kernels_config": {
    "python": {
     "delete_cmd_postfix": "",
     "delete_cmd_prefix": "del ",
     "library": "var_list.py",
     "varRefreshCmd": "print(var_dic_list())"
    },
    "r": {
     "delete_cmd_postfix": ") ",
     "delete_cmd_prefix": "rm(",
     "library": "var_list.r",
     "varRefreshCmd": "cat(var_dic_list()) "
    }
   },
   "types_to_exclude": [
    "module",
    "function",
    "builtin_function_or_method",
    "instance",
    "_Feature"
   ],
   "window_display": false
  }
 },
 "nbformat": 4,
 "nbformat_minor": 5
}
