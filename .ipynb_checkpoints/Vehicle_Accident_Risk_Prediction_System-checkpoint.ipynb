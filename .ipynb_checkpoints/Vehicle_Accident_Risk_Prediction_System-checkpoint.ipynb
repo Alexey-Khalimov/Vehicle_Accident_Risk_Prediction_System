{
 "cells": [
  {
   "cell_type": "markdown",
   "id": "c46bdbf4",
   "metadata": {
    "toc": true
   },
   "source": [
    "<h1>Table of Contents<span class=\"tocSkip\"></span></h1>\n",
    "<div class=\"toc\"><ul class=\"toc-item\"><li><span><a href=\"#Подключение-к-базе-данных-и-первичны-обзор-данных\" data-toc-modified-id=\"Подключение-к-базе-данных-и-первичны-обзор-данных-1\"><span class=\"toc-item-num\">1&nbsp;&nbsp;</span>Подключение к базе данных и первичны обзор данных</a></span><ul class=\"toc-item\"><li><span><a href=\"#Импорт-библиотек-и-настройка-графиков\" data-toc-modified-id=\"Импорт-библиотек-и-настройка-графиков-1.1\"><span class=\"toc-item-num\">1.1&nbsp;&nbsp;</span>Импорт библиотек и настройка графиков</a></span></li><li><span><a href=\"#Используемые-функции\" data-toc-modified-id=\"Используемые-функции-1.2\"><span class=\"toc-item-num\">1.2&nbsp;&nbsp;</span>Используемые функции</a></span></li><li><span><a href=\"#Настройка-подключения-к-БД\" data-toc-modified-id=\"Настройка-подключения-к-БД-1.3\"><span class=\"toc-item-num\">1.3&nbsp;&nbsp;</span><ya-tr-span data-index=\"201-0\" data-translated=\"false\" data-source-lang=\"en\" data-target-lang=\"ru\" data-value=\"Настройка подключения к БД\" data-translation=\"Настройка подключения к БД\" data-ch=\"0\" data-type=\"trSpan\" style=\"visibility: inherit !important;\">Настройка подключения к БД</ya-tr-span></a></span></li><li><span><a href=\"#ER---диаграмма-БД\" data-toc-modified-id=\"ER---диаграмма-БД-1.4\"><span class=\"toc-item-num\">1.4&nbsp;&nbsp;</span><ya-tr-span data-index=\"236-0\" data-translated=\"false\" data-source-lang=\"en\" data-target-lang=\"ru\" data-value=\"ER - диаграмма БД\" data-translation=\"ER - диаграмма БД\" data-ch=\"0\" data-type=\"trSpan\" style=\"visibility: inherit !important;\">ER - диаграмма БД</ya-tr-span></a></span><ul class=\"toc-item\"><li><span><a href=\"#collisions-(информация-о-происшествиях)\" data-toc-modified-id=\"collisions-(информация-о-происшествиях)-1.4.1\"><span class=\"toc-item-num\">1.4.1&nbsp;&nbsp;</span><ya-tr-span data-index=\"238-0\" data-translated=\"false\" data-source-lang=\"en\" data-target-lang=\"ru\" data-value=\"collisions (информация о происшествиях)\" data-translation=\"collisions (информация о происшествиях)\" data-ch=\"0\" data-type=\"trSpan\" style=\"visibility: inherit !important;\">collisions (информация о происшествиях)</ya-tr-span></a></span></li><li><span><a href=\"#Parties-(описание-участников-происшествия)\" data-toc-modified-id=\"Parties-(описание-участников-происшествия)-1.4.2\"><span class=\"toc-item-num\">1.4.2&nbsp;&nbsp;</span>Parties (описание участников происшествия)</a></span></li><li><span><a href=\"#Vehicles-(Описание-автомобиля)\" data-toc-modified-id=\"Vehicles-(Описание-автомобиля)-1.4.3\"><span class=\"toc-item-num\">1.4.3&nbsp;&nbsp;</span>Vehicles (Описание автомобиля)</a></span></li></ul></li><li><span><a href=\"#Первичный-обзор-данных\" data-toc-modified-id=\"Первичный-обзор-данных-1.5\"><span class=\"toc-item-num\">1.5&nbsp;&nbsp;</span>Первичный обзор данных</a></span></li></ul></li><li><span><a href=\"#Статистический-анализ-факторов-ДТП\" data-toc-modified-id=\"Статистический-анализ-факторов-ДТП-2\"><span class=\"toc-item-num\">2&nbsp;&nbsp;</span>Статистический анализ факторов ДТП</a></span><ul class=\"toc-item\"><li><span><a href=\"#Перечень-аналитических-задач\" data-toc-modified-id=\"Перечень-аналитических-задач-2.1\"><span class=\"toc-item-num\">2.1&nbsp;&nbsp;</span>Перечень аналитических задач</a></span></li><li><span><a href=\"#Определение-наиболее-аварийных-месяцев\" data-toc-modified-id=\"Определение-наиболее-аварийных-месяцев-2.2\"><span class=\"toc-item-num\">2.2&nbsp;&nbsp;</span>Определение наиболее аварийных месяцев</a></span></li><li><span><a href=\"#Найдем-взаимосвязь-ДТП-с-состоянием-дороги\" data-toc-modified-id=\"Найдем-взаимосвязь-ДТП-с-состоянием-дороги-2.3\"><span class=\"toc-item-num\">2.3&nbsp;&nbsp;</span>Найдем взаимосвязь ДТП с состоянием дороги</a></span></li><li><span><a href=\"#Определение-наиболее-частых-причин-ДТП\" data-toc-modified-id=\"Определение-наиболее-частых-причин-ДТП-2.4\"><span class=\"toc-item-num\">2.4&nbsp;&nbsp;</span>Определение наиболее частых причин ДТП</a></span></li><li><span><a href=\"#Найдем-взаимосвязь-ДТП-с-освещенностью\" data-toc-modified-id=\"Найдем-взаимосвязь-ДТП-с-освещенностью-2.5\"><span class=\"toc-item-num\">2.5&nbsp;&nbsp;</span>Найдем взаимосвязь ДТП с освещенностью</a></span></li></ul></li><li><span><a href=\"#Отбор-данных-для-модели\" data-toc-modified-id=\"Отбор-данных-для-модели-3\"><span class=\"toc-item-num\">3&nbsp;&nbsp;</span>Отбор данных для модели</a></span></li><li><span><a href=\"#Предобработка-отобранных-данных\" data-toc-modified-id=\"Предобработка-отобранных-данных-4\"><span class=\"toc-item-num\">4&nbsp;&nbsp;</span>Предобработка отобранных данных</a></span><ul class=\"toc-item\"><li><span><a href=\"#Первичный-обзор-данных\" data-toc-modified-id=\"Первичный-обзор-данных-4.1\"><span class=\"toc-item-num\">4.1&nbsp;&nbsp;</span>Первичный обзор данных</a></span></li><li><span><a href=\"#Удалим-явные-дубликаты\" data-toc-modified-id=\"Удалим-явные-дубликаты-4.2\"><span class=\"toc-item-num\">4.2&nbsp;&nbsp;</span>Удалим явные дубликаты</a></span></li><li><span><a href=\"#Устранения-пропущенных-значений\" data-toc-modified-id=\"Устранения-пропущенных-значений-4.3\"><span class=\"toc-item-num\">4.3&nbsp;&nbsp;</span>Устранения пропущенных значений</a></span><ul class=\"toc-item\"><li><span><a href=\"#Удалим-наблюдения-где-пристутвсуют-пропуски-во-всех-категориях-с-пропусками\" data-toc-modified-id=\"Удалим-наблюдения-где-пристутвсуют-пропуски-во-всех-категориях-с-пропусками-4.3.1\"><span class=\"toc-item-num\">4.3.1&nbsp;&nbsp;</span>Удалим наблюдения где пристутвсуют пропуски во всех категориях с пропусками</a></span></li><li><span><a href=\"#Заполним-пропуски-в-location_type,-удалим-at_intersection-и-direction\" data-toc-modified-id=\"Заполним-пропуски-в-location_type,-удалим-at_intersection-и-direction-4.3.2\"><span class=\"toc-item-num\">4.3.2&nbsp;&nbsp;</span>Заполним пропуски в <code>location_type</code>, удалим <code>at_intersection</code> и <code>direction</code></a></span></li><li><span><a href=\"#Заполним-пропуски-в-lighting-и-time\" data-toc-modified-id=\"Заполним-пропуски-в-lighting-и-time-4.3.3\"><span class=\"toc-item-num\">4.3.3&nbsp;&nbsp;</span>Заполним пропуски в <code>lighting</code> и <code>time</code></a></span></li><li><span><a href=\"#Заполним-пропуски-в-road_surface-и-weather\" data-toc-modified-id=\"Заполним-пропуски-в-road_surface-и-weather-4.3.4\"><span class=\"toc-item-num\">4.3.4&nbsp;&nbsp;</span>Заполним пропуски в <code>road_surface</code> и <code>weather</code></a></span></li><li><span><a href=\"#Заполним-пропуски-в-vehicle_age\" data-toc-modified-id=\"Заполним-пропуски-в-vehicle_age-4.3.5\"><span class=\"toc-item-num\">4.3.5&nbsp;&nbsp;</span>Заполним пропуски в <code>vehicle_age</code></a></span></li></ul></li><li><span><a href=\"#Проверка-на-наличие-ошибок-в-vehicle_age\" data-toc-modified-id=\"Проверка-на-наличие-ошибок-в-vehicle_age-4.4\"><span class=\"toc-item-num\">4.4&nbsp;&nbsp;</span>Проверка на наличие ошибок в <code>vehicle_age</code></a></span></li><li><span><a href=\"#Устранение-выбросов-в-main_road_dist\" data-toc-modified-id=\"Устранение-выбросов-в-main_road_dist-4.5\"><span class=\"toc-item-num\">4.5&nbsp;&nbsp;</span>Устранение выбросов в <code>main_road_dist</code></a></span></li></ul></li><li><span><a href=\"#Исследовательский-анализ-отобранных-данных-(EDA)\" data-toc-modified-id=\"Исследовательский-анализ-отобранных-данных-(EDA)-5\"><span class=\"toc-item-num\">5&nbsp;&nbsp;</span>Исследовательский анализ отобранных данных (EDA)</a></span><ul class=\"toc-item\"><li><span><a href=\"#Влияние-признаков-на-таргет\" data-toc-modified-id=\"Влияние-признаков-на-таргет-5.1\"><span class=\"toc-item-num\">5.1&nbsp;&nbsp;</span>Влияние признаков на таргет</a></span></li><li><span><a href=\"#Перекрестная-проверка-влияния-категорий-на-таргет\" data-toc-modified-id=\"Перекрестная-проверка-влияния-категорий-на-таргет-5.2\"><span class=\"toc-item-num\">5.2&nbsp;&nbsp;</span>Перекрестная проверка влияния категорий на таргет</a></span></li></ul></li><li><span><a href=\"#Корреляционный-анализ\" data-toc-modified-id=\"Корреляционный-анализ-6\"><span class=\"toc-item-num\">6&nbsp;&nbsp;</span>Корреляционный анализ</a></span></li><li><span><a href=\"#Подготовка-данных-для-предсказания\" data-toc-modified-id=\"Подготовка-данных-для-предсказания-7\"><span class=\"toc-item-num\">7&nbsp;&nbsp;</span>Подготовка данных для предсказания</a></span><ul class=\"toc-item\"><li><span><a href=\"#Удаление-ненужных-признаков-и-уплотним-категории\" data-toc-modified-id=\"Удаление-ненужных-признаков-и-уплотним-категории-7.1\"><span class=\"toc-item-num\">7.1&nbsp;&nbsp;</span>Удаление ненужных признаков и уплотним категории</a></span></li><li><span><a href=\"#Разделение-данных-на-выборки\" data-toc-modified-id=\"Разделение-данных-на-выборки-7.2\"><span class=\"toc-item-num\">7.2&nbsp;&nbsp;</span>Разделение данных на выборки</a></span></li><li><span><a href=\"#Создание-итогового-пайплайна\" data-toc-modified-id=\"Создание-итогового-пайплайна-7.3\"><span class=\"toc-item-num\">7.3&nbsp;&nbsp;</span>Создание итогового пайплайна</a></span></li><li><span><a href=\"#Обучение-модели-&quot;DecisionTreeClassifier&quot;\" data-toc-modified-id=\"Обучение-модели-&quot;DecisionTreeClassifier&quot;-7.4\"><span class=\"toc-item-num\">7.4&nbsp;&nbsp;</span>Обучение модели \"DecisionTreeClassifier\"</a></span></li><li><span><a href=\"#Обучение-модели-&quot;Catboost&quot;\" data-toc-modified-id=\"Обучение-модели-&quot;Catboost&quot;-7.5\"><span class=\"toc-item-num\">7.5&nbsp;&nbsp;</span>Обучение модели \"Catboost\"</a></span></li><li><span><a href=\"#Обучение-модели-&quot;LightGBM&quot;\" data-toc-modified-id=\"Обучение-модели-&quot;LightGBM&quot;-7.6\"><span class=\"toc-item-num\">7.6&nbsp;&nbsp;</span>Обучение модели \"LightGBM\"</a></span></li><li><span><a href=\"#Обучение-нейронной-модели\" data-toc-modified-id=\"Обучение-нейронной-модели-7.7\"><span class=\"toc-item-num\">7.7&nbsp;&nbsp;</span>Обучение нейронной модели</a></span><ul class=\"toc-item\"><li><span><a href=\"#Подготовка-данных\" data-toc-modified-id=\"Подготовка-данных-7.7.1\"><span class=\"toc-item-num\">7.7.1&nbsp;&nbsp;</span>Подготовка данных</a></span></li><li><span><a href=\"#Создание-функций-для-нейронной-сети\" data-toc-modified-id=\"Создание-функций-для-нейронной-сети-7.7.2\"><span class=\"toc-item-num\">7.7.2&nbsp;&nbsp;</span>Создание функций для нейронной сети</a></span></li><li><span><a href=\"#Обучение-модели\" data-toc-modified-id=\"Обучение-модели-7.7.3\"><span class=\"toc-item-num\">7.7.3&nbsp;&nbsp;</span>Обучение модели</a></span></li></ul></li></ul></li><li><span><a href=\"#Анализ-моделей\" data-toc-modified-id=\"Анализ-моделей-8\"><span class=\"toc-item-num\">8&nbsp;&nbsp;</span>Анализ моделей</a></span><ul class=\"toc-item\"><li><span><a href=\"#Проверка-модели-на-адекватность\" data-toc-modified-id=\"Проверка-модели-на-адекватность-8.1\"><span class=\"toc-item-num\">8.1&nbsp;&nbsp;</span>Проверка модели на адекватность</a></span></li><li><span><a href=\"#Получение-результатов\" data-toc-modified-id=\"Получение-результатов-8.2\"><span class=\"toc-item-num\">8.2&nbsp;&nbsp;</span>Получение результатов</a></span></li><li><span><a href=\"#Матрица-ошибок\" data-toc-modified-id=\"Матрица-ошибок-8.3\"><span class=\"toc-item-num\">8.3&nbsp;&nbsp;</span>Матрица ошибок</a></span></li><li><span><a href=\"#График-полноты-и-точности\" data-toc-modified-id=\"График-полноты-и-точности-8.4\"><span class=\"toc-item-num\">8.4&nbsp;&nbsp;</span>График полноты и точности</a></span></li><li><span><a href=\"#Анализ-важности-факторов\" data-toc-modified-id=\"Анализ-важности-факторов-8.5\"><span class=\"toc-item-num\">8.5&nbsp;&nbsp;</span>Анализ важности факторов</a></span></li><li><span><a href=\"#Дополнительное-исследование-важного-фактора\" data-toc-modified-id=\"Дополнительное-исследование-важного-фактора-8.6\"><span class=\"toc-item-num\">8.6&nbsp;&nbsp;</span>Дополнительное исследование важного фактора</a></span></li></ul></li><li><span><a href=\"#Обучение-лучшей-модели-на-основе-наиболее-важных-признаках\" data-toc-modified-id=\"Обучение-лучшей-модели-на-основе-наиболее-важных-признаках-9\"><span class=\"toc-item-num\">9&nbsp;&nbsp;</span>Обучение лучшей модели на основе наиболее важных признаках</a></span></li><li><span><a href=\"#И\" data-toc-modified-id=\"И-10\"><span class=\"toc-item-num\">10&nbsp;&nbsp;</span>И</a></span></li><li><span><a href=\"#Лишнее\" data-toc-modified-id=\"Лишнее-11\"><span class=\"toc-item-num\">11&nbsp;&nbsp;</span>Лишнее</a></span></li><li><span><a href=\"#Часть-неиспользованного-кода\" data-toc-modified-id=\"Часть-неиспользованного-кода-12\"><span class=\"toc-item-num\">12&nbsp;&nbsp;</span>Часть неиспользованного кода</a></span></li></ul></div>"
   ]
  },
  {
   "cell_type": "markdown",
   "id": "1749b80e",
   "metadata": {
    "ExecuteTime": {
     "end_time": "2024-09-20T15:57:22.378685Z",
     "start_time": "2024-09-20T15:57:22.355532Z"
    }
   },
   "source": [
    "[![image.png](https://pushinka.top/uploads/posts/2023-03/1679094106_pushinka-top-p-avariya-raskraska-dlya-detei-krasivo-69.jpg)](https://pushinka.top/uploads/posts/2023-03/1679094106_pushinka-top-p-avariya-raskraska-dlya-detei-krasivo-69.jpg) "
   ]
  },
  {
   "cell_type": "markdown",
   "id": "f4aedddd",
   "metadata": {},
   "source": [
    "# Проект: \"Система оценки риска для прогнозирования дорожно-транспортных происшествий на основе исторических данных\""
   ]
  },
  {
   "cell_type": "markdown",
   "id": "532d0ff6",
   "metadata": {},
   "source": [
    "**ПОСТАНОВКА ЗАДАЧИ**\n",
    "\n",
    "**Заказчик исследования:**  \n",
    "Каршеринговая компания\n",
    "\n",
    "**Исходные данные:**  \n",
    "Исторические данные о дорожно-транспортных происшествиях (ДТП) за 2010-2012 года. Данные включают информацию о происшествиях, участниках и транспортных средствах. Основной интерес представляют ДТП с повреждениями автомобилей, за исключением лёгких повреждений типа \"царапина\", с учетом возраста автомобиля и виновности водителя.\n",
    "\n",
    "**Цель исследования:**  \n",
    "Разработать систему оценки риска ДТП, которая на основе выбранного маршрута сможет предсказывать вероятность аварий с повреждением транспортного средства и предоставлять предупреждения водителям в случае высокого риска.\n",
    "\n",
    "**Задачи исследования:**\n",
    "\n",
    "1. Исследовать возможность предсказания ДТП, используя исторические данные.\n",
    "2. Определить основные факторы, влияющие на вероятность ДТП, с акцентом на возраст автомобиля.\n",
    "3. Оценить возможность создания адекватной системы предупреждений для водителей на основе полученных данных.\n",
    "4. Определить дополнительные факторы, которые могут повысить точность модели.\n",
    "5. Исследовать необходимость установки датчиков, камер или иных мер в автомобиле для улучшения системы.\n",
    "\n",
    "**Ход исследования:**  \n",
    "Исследование будет включать в себя следующие этапы:\n",
    "\n",
    "\n",
    "1. **Сбор и подготовка данных:**\n",
    "   - Подключение к базе данных и загрузка необходимых таблиц (case_ids, collisions, parties, vehicles).\n",
    "   - Проведение первичного анализа данных для понимания структуры и связей между таблицами.\n",
    "\n",
    "\n",
    "2. **Анализ факторов ДТП:**\n",
    "   - Проведение статистического анализа факторов, влияющих на вероятность аварии.\n",
    "   - Исследование взаимосвязей между факторами и вероятностью ДТП.\n",
    "\n",
    "\n",
    "3. **Создание и обучение модели:**\n",
    "   - Формирование набора данных для моделирования на основе случаев ДТП с участием автомобилей.\n",
    "   - Проведение первичного отбора факторов и обучение нескольких моделей для предсказания виновности водителя в аварии.\n",
    "   - Оценка модели с помощью соответствующих метрик и анализ важности факторов.\n",
    "\n",
    "\n",
    "4. **Оценка модели:**\n",
    "   - Выбор наилучшей модели по результатам перебора гиперпараметров.\n",
    "   - Проведение графического анализа \"Матрицы ошибок\" и оценка важности факторов.\n",
    "\n",
    "\n",
    "5. **Выводы и рекомендации:**\n",
    "   - Анализ результатов модели и оценка возможности создания адекватной системы предупреждений для водителей.\n",
    "   - Рекомендации по установке дополнительных сенсоров или камер в автомобиле для улучшения безопасности."
   ]
  },
  {
   "cell_type": "markdown",
   "id": "26638c92",
   "metadata": {
    "lang": "ru"
   },
   "source": [
    "## Подключение к базе данных и первичны обзор данных"
   ]
  },
  {
   "cell_type": "markdown",
   "id": "6526efc6",
   "metadata": {},
   "source": [
    "### Импорт библиотек и настройка графиков"
   ]
  },
  {
   "cell_type": "markdown",
   "id": "7a182695",
   "metadata": {},
   "source": [
    "Импортируем библиотеки torch, pandas, numpy, matplotlib, seaborn, sklearn, shap, psycopg2 и другие. "
   ]
  },
  {
   "cell_type": "code",
   "execution_count": 1,
   "id": "17c482ee",
   "metadata": {
    "ExecuteTime": {
     "end_time": "2024-10-01T18:37:32.105419Z",
     "start_time": "2024-10-01T18:37:32.090937Z"
    }
   },
   "outputs": [],
   "source": [
    "#!pip install sqlalchemy "
   ]
  },
  {
   "cell_type": "code",
   "execution_count": 2,
   "id": "d3a16669",
   "metadata": {
    "ExecuteTime": {
     "end_time": "2024-10-01T18:37:38.836457Z",
     "start_time": "2024-10-01T18:37:32.157961Z"
    }
   },
   "outputs": [],
   "source": [
    "# Импорт стандартных библиотек\n",
    "import os\n",
    "import re\n",
    "import time\n",
    "import random\n",
    "import warnings\n",
    "from IPython.display import IFrame  # Для отображения файлов в Jupyter\n",
    "\n",
    "# Импорт библиотек для работы с БД\n",
    "import psycopg2\n",
    "from sqlalchemy import create_engine, inspect\n",
    "\n",
    "# Импорт библиотек для научных вычислений и визуализации данных\n",
    "import numpy as np\n",
    "import pandas as pd\n",
    "import seaborn as sns\n",
    "import plotly.express as px\n",
    "import matplotlib.pyplot as plt\n",
    "\n",
    "# Импорт библиотек для анализа корреляций и отчетов\n",
    "from phik import phik_matrix\n",
    "from phik.report import plot_correlation_matrix\n",
    "import sweetviz as sv\n",
    "\n",
    "# Расчет статистик\n",
    "from sklearn.metrics import (\n",
    "    accuracy_score, \n",
    "    classification_report,\n",
    "    f1_score, \n",
    "    precision_score,\n",
    "    recall_score, \n",
    "    roc_auc_score,\n",
    "    roc_curve,\n",
    "    precision_recall_curve,\n",
    "    confusion_matrix, \n",
    "    ConfusionMatrixDisplay\n",
    ")\n",
    "\n",
    "# Импорт библиотек для предобработки данных и работы с моделями\n",
    "from sklearn.compose import ColumnTransformer\n",
    "from sklearn.impute import SimpleImputer\n",
    "from sklearn.pipeline import Pipeline, make_pipeline\n",
    "from sklearn.experimental import enable_halving_search_cv  # Необходимо для HalvingSearch\n",
    "from sklearn.model_selection import (\n",
    "    StratifiedKFold,\n",
    "    cross_val_score,\n",
    "    HalvingRandomSearchCV,  # После импорта enable_halving_search_cv это будет работать\n",
    "    HalvingGridSearchCV,    # Также заработает после импорта enable_halving_search_cv\n",
    "    RandomizedSearchCV, \n",
    "    GridSearchCV,\n",
    "    KFold,\n",
    "    train_test_split\n",
    ")\n",
    "from sklearn.tree import DecisionTreeClassifier\n",
    "from sklearn.ensemble import RandomForestClassifier\n",
    "from catboost import CatBoostClassifier, Pool, cv \n",
    "from sklearn.preprocessing import (\n",
    "    LabelEncoder,\n",
    "    OrdinalEncoder,\n",
    "    OneHotEncoder,\n",
    "    StandardScaler, \n",
    "    MinMaxScaler\n",
    ")\n",
    "import lightgbm as lgb\n",
    "from lightgbm import LGBMClassifier, early_stopping, log_evaluation\n",
    "import optuna\n",
    "from optuna.integration import LightGBMPruningCallback\n",
    "from optuna.trial import Trial\n",
    "from optuna.samplers import TPESampler\n",
    "\n",
    "# Модели машинного обучения\n",
    "from sklearn.dummy import DummyClassifier\n",
    "\n",
    "# Импорт библиотек для работы с PyTorch\n",
    "import torch  # Основная библиотека для работы с тензорами\n",
    "import torch.nn as nn  # Модуль для создания нейронных сетей\n",
    "import torch.optim as optim  # Модуль для оптимизации\n",
    "# Для работы с загрузкой данных\n",
    "from torch.utils.data import DataLoader, TensorDataset\n",
    "\n",
    "import shap\n",
    "\n",
    "# Настройка отображения в Pandas, чтобы видеть весь список параметров\n",
    "pd.set_option('display.max_colwidth', None)\n",
    "pd.options.display.max_columns = None # Установка опции для отображения всех столбцов\n",
    "\n",
    "# Отключаем предупреждение\n",
    "warnings.filterwarnings(\"ignore\", category=FutureWarning)\n",
    "\n",
    "# Константы\n",
    "LINE_1 = '-' * 125\n",
    "RANDOM_STATE = 34\n",
    "TEST_SIZE = 0.3\n",
    "N_FOLDS = 5"
   ]
  },
  {
   "cell_type": "markdown",
   "id": "0f1a4f91",
   "metadata": {},
   "source": [
    "### Используемые функции"
   ]
  },
  {
   "cell_type": "code",
   "execution_count": 3,
   "id": "a100549b",
   "metadata": {
    "ExecuteTime": {
     "end_time": "2024-10-01T18:37:38.851808Z",
     "start_time": "2024-10-01T18:37:38.838301Z"
    }
   },
   "outputs": [],
   "source": [
    "# Функция для выполнения SQL-запроса и отображения результатов\n",
    "def execute_query(query):\n",
    "    return pd.read_sql(query, engine)"
   ]
  },
  {
   "cell_type": "code",
   "execution_count": 4,
   "id": "5588d5e3",
   "metadata": {
    "ExecuteTime": {
     "end_time": "2024-10-01T18:37:38.867808Z",
     "start_time": "2024-10-01T18:37:38.853809Z"
    }
   },
   "outputs": [],
   "source": [
    "# Функция для получения всех столбцов, с возможностью фильтрации по типам данных\n",
    "def get_columns(table_name, data_types=None):\n",
    "    if data_types:\n",
    "        # Если переданы типы данных, фильтруем по ним\n",
    "        data_type_str = \", \".join([f\"'{dtype}'\" for dtype in data_types])\n",
    "        query = f\"\"\"\n",
    "        SELECT column_name \n",
    "        FROM information_schema.columns \n",
    "        WHERE table_name = '{table_name}'\n",
    "        AND data_type IN ({data_type_str});\n",
    "        \"\"\"\n",
    "    else:\n",
    "        # Если типы данных не переданы, выводим все столбцы\n",
    "        query = f\"\"\"\n",
    "        SELECT column_name \n",
    "        FROM information_schema.columns \n",
    "        WHERE table_name = '{table_name}';\n",
    "        \"\"\"\n",
    "    \n",
    "    columns = execute_query(query)\n",
    "    return columns['column_name'].tolist()"
   ]
  },
  {
   "cell_type": "code",
   "execution_count": 5,
   "id": "f8e55620",
   "metadata": {
    "ExecuteTime": {
     "end_time": "2024-10-01T18:37:38.882810Z",
     "start_time": "2024-10-01T18:37:38.869808Z"
    }
   },
   "outputs": [],
   "source": [
    "# Функция для проверки пропусков по каждому столбцу\n",
    "def check_nulls(table_name):\n",
    "    columns = get_columns(table_name)\n",
    "    results = []\n",
    "    \n",
    "    for col in columns:\n",
    "        query = f\"\"\"\n",
    "        SELECT \n",
    "            '{col}' AS column_name,\n",
    "            COUNT(*) AS total_rows,\n",
    "            COUNT({col}) AS non_null_rows,\n",
    "            COUNT(*) - COUNT({col}) AS null_values,\n",
    "            (COUNT(*) - COUNT({col})) * 100.0 / COUNT(*) AS null_percentage\n",
    "        FROM {table_name};\n",
    "        \"\"\"\n",
    "        result = execute_query(query)\n",
    "        results.append(result)\n",
    "    \n",
    "    return pd.concat(results, ignore_index=True)\n"
   ]
  },
  {
   "cell_type": "code",
   "execution_count": 6,
   "id": "23596bfb",
   "metadata": {
    "ExecuteTime": {
     "end_time": "2024-10-01T18:37:38.914318Z",
     "start_time": "2024-10-01T18:37:38.884809Z"
    }
   },
   "outputs": [],
   "source": [
    "# Функция для получения статистики \n",
    "def get_aggregate_stats(table_name, drop_columns=None):\n",
    "    # Получаем числовые столбцы\n",
    "    numeric_columns = get_columns(table_name, data_types=['integer', 'real', 'float', 'numeric'])\n",
    "    # Получаем категориальные столбцы\n",
    "    categorical_columns = get_columns(table_name, data_types=['text', 'varchar', 'char'])\n",
    "\n",
    "    # Если указаны столбцы для удаления, удаляем их из списка\n",
    "    if drop_columns:\n",
    "        numeric_columns = [col for col in numeric_columns if col not in drop_columns]\n",
    "        categorical_columns = [col for col in categorical_columns if col not in drop_columns]\n",
    "\n",
    "    numeric_stats = None\n",
    "    categorical_stats = None\n",
    "\n",
    "    # Статистика для числовых столбцов\n",
    "    if numeric_columns:\n",
    "        query_parts = []\n",
    "\n",
    "        # Агрегации для числовых столбцов\n",
    "        for col in numeric_columns:\n",
    "            query_parts.append(f\"COUNT({col}) AS count_{col}\")\n",
    "            query_parts.append(f\"AVG({col}) AS mean_{col}\")\n",
    "            query_parts.append(f\"STDDEV({col}) AS stddev_{col}\")\n",
    "            query_parts.append(f\"MIN({col}) AS min_{col}\")\n",
    "            query_parts.append(f\"PERCENTILE_CONT(0.25) WITHIN GROUP (ORDER BY {col}) AS p25_{col}\")\n",
    "            query_parts.append(f\"PERCENTILE_CONT(0.50) WITHIN GROUP (ORDER BY {col}) AS median_{col}\")\n",
    "            query_parts.append(f\"PERCENTILE_CONT(0.75) WITHIN GROUP (ORDER BY {col}) AS p75_{col}\")\n",
    "            query_parts.append(f\"MAX({col}) AS max_{col}\")\n",
    "\n",
    "        query = f\"SELECT {', '.join(query_parts)} FROM {table_name}\"\n",
    "        \n",
    "        try:\n",
    "            result = execute_query(query)\n",
    "            # Округление значений до 2 знаков\n",
    "            result = result.round(2)\n",
    "            \n",
    "            result_transposed = result.transpose()\n",
    "            result_transposed.columns = ['value']\n",
    "            result_transposed.reset_index(inplace=True)\n",
    "            result_transposed[['metric', 'column']] = result_transposed['index'].apply(\n",
    "                lambda x: pd.Series(x.split('_', 1) if '_' in x else [x, None])\n",
    "            )\n",
    "\n",
    "            # Переименование метрик для соответствия describe()\n",
    "            rename_dict = {\n",
    "                'count': 'count',\n",
    "                'mean': 'mean',\n",
    "                'stddev': 'std',\n",
    "                'min': 'min',\n",
    "                'p25': '25%',\n",
    "                'median': '50%',\n",
    "                'p75': '75%',\n",
    "                'max': 'max'\n",
    "            }\n",
    "            result_transposed['metric'] = result_transposed['metric'].replace(rename_dict)\n",
    "\n",
    "            # Установка порядка метрик\n",
    "            ordered_metrics = ['count', 'mean', 'std', 'min', '25%', '50%', '75%', 'max']\n",
    "            result_transposed['metric'] = pd.Categorical(result_transposed['metric'], categories=ordered_metrics, ordered=True)\n",
    "            result_transposed.sort_values(by='metric', inplace=True)\n",
    "\n",
    "            numeric_stats = result_transposed.pivot(index='metric', columns='column', values='value')\n",
    "            numeric_stats.index.name = None\n",
    "            numeric_stats.columns.name = None\n",
    "        except Exception as e:\n",
    "            print(f\"Ошибка при обработке числовых данных таблицы {table_name}: {str(e)}\")\n",
    "\n",
    "    # Статистика для категориальных столбцов\n",
    "    if categorical_columns:\n",
    "        query_parts = []\n",
    "        freq_queries = []\n",
    "\n",
    "        # Агрегации для категориальных столбцов\n",
    "        for col in categorical_columns:\n",
    "            query_parts.append(f\"COUNT({col}) AS count_{col}\")\n",
    "            query_parts.append(f\"COUNT(DISTINCT {col}) AS unique_{col}\")\n",
    "            query_parts.append(f\"MODE() WITHIN GROUP (ORDER BY {col}) AS mode_{col}\")\n",
    "\n",
    "            # Отдельный запрос для получения частоты (freq)\n",
    "            freq_queries.append(f\"(SELECT COUNT(*) FROM {table_name} WHERE {col} = (SELECT MODE() WITHIN GROUP (ORDER BY {col}) FROM {table_name})) AS freq_{col}\")\n",
    "\n",
    "        # Объединение запросов\n",
    "        query = f\"SELECT {', '.join(query_parts + freq_queries)} FROM {table_name}\"\n",
    "\n",
    "        try:\n",
    "            result = execute_query(query)\n",
    "            result_transposed = result.transpose()\n",
    "            result_transposed.columns = ['value']\n",
    "            result_transposed.reset_index(inplace=True)\n",
    "            result_transposed[['metric', 'column']] = result_transposed['index'].apply(\n",
    "                lambda x: pd.Series(x.split('_', 1) if '_' in x else [x, None])\n",
    "            )\n",
    "\n",
    "            # Установка порядка метрик для категориальных данных\n",
    "            ordered_metrics = ['count', 'unique', 'mode', 'freq']\n",
    "            result_transposed['metric'] = pd.Categorical(result_transposed['metric'], categories=ordered_metrics, ordered=True)\n",
    "            result_transposed.sort_values(by='metric', inplace=True)\n",
    "\n",
    "            categorical_stats = result_transposed.pivot(index='metric', columns='column', values='value')\n",
    "            categorical_stats.index.name = None\n",
    "            categorical_stats.columns.name = None\n",
    "        except Exception as e:\n",
    "            print(f\"Ошибка при обработке категориальных данных таблицы {table_name}: {str(e)}\")\n",
    "\n",
    "    return numeric_stats, categorical_stats"
   ]
  },
  {
   "cell_type": "code",
   "execution_count": 7,
   "id": "a138e33e",
   "metadata": {
    "ExecuteTime": {
     "end_time": "2024-10-01T18:37:38.929374Z",
     "start_time": "2024-10-01T18:37:38.916320Z"
    }
   },
   "outputs": [],
   "source": [
    "# Функция постройки гистограмм\n",
    "def plot_histograms_in_batches(table_name, batch_size=5, drop_columns=None):\n",
    "    # Установим стиль графика с помощью seaborn\n",
    "    sns.set(style=\"whitegrid\")  # Стиль с белой сеткой\n",
    "\n",
    "    # Получаем все числовые столбцы\n",
    "    numeric_columns = get_columns(table_name, data_types=['integer', 'real', 'float', 'numeric'])\n",
    "    \n",
    "    # Если указаны столбцы для удаления, удаляем их из списка\n",
    "    if drop_columns:\n",
    "        numeric_columns = [col for col in numeric_columns if col not in drop_columns]\n",
    "\n",
    "    # Обрабатываем столбцы порциями\n",
    "    for i in range(0, len(numeric_columns), batch_size):\n",
    "        batch_columns = numeric_columns[i:i+batch_size]\n",
    "        \n",
    "        for col in batch_columns:\n",
    "            query = f\"SELECT {col} FROM {table_name} WHERE {col} IS NOT NULL;\"\n",
    "            df = execute_query(query)\n",
    "            \n",
    "            # Построение гистограммы\n",
    "            plt.figure(figsize=(12, 4))\n",
    "            plt.hist(df[col], bins=30, color=sns.color_palette(\"deep\")[0], edgecolor='black', alpha=0.7)\n",
    "            \n",
    "            # Добавляем улучшения для графика\n",
    "            plt.title(f\"Гистограмма для {col}\", fontsize=16, fontweight='bold')\n",
    "            plt.xlabel(col, fontsize=14)\n",
    "            plt.ylabel('Частота', fontsize=14)\n",
    "            plt.grid(True, linestyle='--', alpha=0.6)  # Изменим стиль и прозрачность сетки\n",
    "            \n",
    "            # Изменяем стили осей\n",
    "            plt.xticks(fontsize=12)\n",
    "            plt.yticks(fontsize=12)\n",
    "            \n",
    "            # Показываем график\n",
    "            plt.show()"
   ]
  },
  {
   "cell_type": "code",
   "execution_count": 8,
   "id": "e95742b3",
   "metadata": {
    "ExecuteTime": {
     "end_time": "2024-10-01T18:37:38.944833Z",
     "start_time": "2024-10-01T18:37:38.931319Z"
    }
   },
   "outputs": [],
   "source": [
    "# Функция построения countplot\n",
    "def plot_countplot_in_batches(table_name, batch_size=5, drop_columns=None):\n",
    "    # Получаем все категориальные столбцы\n",
    "    categorical_columns = get_columns(table_name, data_types=['text', 'varchar', 'char'])\n",
    "    \n",
    "    # Если указаны столбцы для удаления, удаляем их из списка\n",
    "    if drop_columns:\n",
    "        categorical_columns = [col for col in categorical_columns if col not in drop_columns]\n",
    "\n",
    "    # Обрабатываем столбцы порциями\n",
    "    for i in range(0, len(categorical_columns), batch_size):\n",
    "        batch_columns = categorical_columns[i:i+batch_size]\n",
    "        \n",
    "        for col in batch_columns:\n",
    "            query = f\"SELECT {col} FROM {table_name} WHERE {col} IS NOT NULL;\"\n",
    "            df = execute_query(query)\n",
    "            \n",
    "            # Получаем топ-20 значений по частоте\n",
    "            top_20 = df[col].value_counts().nlargest(20)\n",
    "            \n",
    "            # Построение countplot для топ-20 категорий\n",
    "            plt.figure(figsize=(15, 5))\n",
    "            sns.countplot(y=df[col], palette=\"Set2\", order=top_20.index)\n",
    "            \n",
    "            # Настройки графика\n",
    "            plt.title(f\"Топ-20 значений для {col}\", fontsize=16, fontweight='bold')\n",
    "            plt.xlabel('Количество', fontsize=14)\n",
    "            plt.ylabel(col, fontsize=14)\n",
    "            plt.xticks(fontsize=12)\n",
    "            plt.yticks(fontsize=12)\n",
    "            plt.grid(True, linestyle='--', alpha=0.6)\n",
    "            \n",
    "            # Показать график\n",
    "            plt.show()"
   ]
  },
  {
   "cell_type": "code",
   "execution_count": 9,
   "id": "23bca7be",
   "metadata": {
    "ExecuteTime": {
     "end_time": "2024-10-01T18:37:38.960831Z",
     "start_time": "2024-10-01T18:37:38.946833Z"
    }
   },
   "outputs": [],
   "source": [
    "# Функция для первичного обхора данных\n",
    "def data_overview(df):\n",
    "    \"\"\"\n",
    "    Функция для обзора данных, включает:\n",
    "    1. Вывод первых 5 строк\n",
    "    2. Общую информацию о данных\n",
    "    3. Проверку пропусков (абсолютные и относительные значения)\n",
    "    4. Распределение количественных столбцов\n",
    "    5. Уникальные значения для категориальных столбцов\n",
    "    6. Количество уникальных значений в количественных данных\n",
    "    7. Проверку на наличие дубликатов\n",
    "    \"\"\"\n",
    "    # 1. Вывод первых 5 строк для быстрого обзора данных\n",
    "    print(\"1. Первые 5 строк данных:\")\n",
    "    display(df.head())\n",
    "    \n",
    "    # Визуальное разделение\n",
    "    print(LINE_1)\n",
    "    \n",
    "    # 2. Общая информация о данных: типы данных и количество ненулевых значений\n",
    "    print(\"\\n2. Информация о данных:\")\n",
    "    df.info()\n",
    "    \n",
    "    # Визуальное разделение\n",
    "    print(LINE_1)\n",
    "    \n",
    "    # 3. Проверка пропусков: абсолютные и относительные значения (в процентах)\n",
    "    print(\"\\n3. Проверка пропусков в данных:\")\n",
    "    missing_abs = df.isnull().sum()  # Абсолютные значения пропусков\n",
    "    missing_rel = (df.isnull().sum() / len(df)) * 100  # Пропуски в процентах\n",
    "    missing_df = pd.DataFrame({'Пропуски (абсолютные)': missing_abs, 'Пропуски (%)': missing_rel})\n",
    "    # Выводим информацию только о тех столбцах, где есть пропуски\n",
    "    display(missing_df[missing_df['Пропуски (абсолютные)'] > 0])\n",
    "    \n",
    "    # Визуальное разделение\n",
    "    print(LINE_1)\n",
    "    \n",
    "    # 4. Распределение количественных данных: ключевые статистические показатели\n",
    "    print(\"\\n4. Распределение количественных данных:\")\n",
    "    numeric_cols = df.select_dtypes(include=['int8', 'int16', 'int32', 'int64', 'float16', 'float32', 'float64']).columns\n",
    "    display(df[numeric_cols].describe())  # Описание распределения (среднее, стандартное отклонение и т.д.)\n",
    "    \n",
    "    # Визуальное разделение\n",
    "    print(LINE_1)\n",
    "    \n",
    "    # 5. Количество уникальных значений в количественных данных\n",
    "    print(\"\\n5. Количество уникальных значений в данных:\")\n",
    "    display(df.nunique())  # Выводим количество уникальных значений для числовых столбцов\n",
    "        \n",
    "    # Визуальное разделение\n",
    "    print(LINE_1)\n",
    "    \n",
    "    # 6. Уникальные значения для категориальных столбцов: анализ категорий\n",
    "    print(\"\\n6. Уникальные значения для категориальных столбцов:\")\n",
    "    categorical_cols = df.select_dtypes(include=['object', 'category']).columns  # Выбираем только категориальные столбцы\n",
    "    for col in categorical_cols:\n",
    "        print(f\"\\nУникальные значения в столбце '{col}':\")\n",
    "        print(df[col].sort_values().unique())  # Выводим уникальные значения для каждого категориального столбца\n",
    "        \n",
    "    # Визуальное разделение\n",
    "    print(LINE_1)\n",
    "    \n",
    "    # 7. Проверка на дубликаты\n",
    "    print(\"\\n7. Проверка на наличие дубликатов:\")\n",
    "    duplicates_count = df.duplicated().sum()  # Считаем количество дубликатов\n",
    "    if duplicates_count > 0:\n",
    "        print(f\"Найдено дубликатов: {duplicates_count}\")\n",
    "    else:\n",
    "        print(\"Дубликатов не найдено.\")"
   ]
  },
  {
   "cell_type": "code",
   "execution_count": 10,
   "id": "6881c660",
   "metadata": {
    "ExecuteTime": {
     "end_time": "2024-10-01T18:37:38.976831Z",
     "start_time": "2024-10-01T18:37:38.962833Z"
    }
   },
   "outputs": [],
   "source": [
    "def create_result_dataframe(best_scores, model_time=None, predict_time=None, best_params=None, name_model=None):\n",
    "    def seconds_to_hh_mm_ss(seconds):\n",
    "        hours = int(seconds // 3600)\n",
    "        minutes = int((seconds % 3600) // 60)\n",
    "        seconds = seconds % 60\n",
    "        return f\"{hours:02}:{minutes:02}:{seconds:04.1f}\"# Функция для построения тепловой карты\n",
    "def plot_heatmap(data, x, y, title, xlabel, ylabel, fmt=\"d\", cmap=\"YlGnBu\"):\n",
    "    plt.figure(figsize=(12, 5))\n",
    "    cross_tab = pd.crosstab(data[y], data[x])\n",
    "    sns.heatmap(cross_tab, annot=True, fmt=fmt, cmap=cmap, cbar=True)\n",
    "    plt.title(title)\n",
    "    plt.xlabel(xlabel)\n",
    "    plt.ylabel(ylabel)\n",
    "    plt.show()\n",
    "\n",
    "# Функция для построения столбчатой диаграммы\n",
    "def plot_bar_chart(data, x, y, hue, title, xlabel, ylabel):\n",
    "    plt.figure(figsize=(12, 5))\n",
    "    sns.barplot(x=x, y=y, hue=hue, data=data, palette=\"viridis\")\n",
    "    plt.title(title)\n",
    "    plt.xlabel(xlabel)\n",
    "    plt.ylabel(ylabel)\n",
    "    plt.grid(True)\n",
    "    plt.show()\n",
    "\n",
    "# Функция для построения stacked bar chart\n",
    "def plot_stacked_bar_chart(data, title, xlabel, ylabel):\n",
    "    data.plot(kind='bar', stacked=True, figsize=(12, 5))\n",
    "    plt.title(title)\n",
    "    plt.xlabel(xlabel)\n",
    "    plt.ylabel(ylabel)\n",
    "    plt.grid(True)\n",
    "    plt.show()"
   ]
  },
  {
   "cell_type": "code",
   "execution_count": 11,
   "id": "62095ffb",
   "metadata": {
    "ExecuteTime": {
     "end_time": "2024-10-01T18:37:38.992831Z",
     "start_time": "2024-10-01T18:37:38.980833Z"
    }
   },
   "outputs": [],
   "source": [
    "def create_result_dataframe(best_scores, model_time=None, predict_time=None, best_params=None, name_model=None):\n",
    "    # Функция для преобразования времени в формате секунд в формат чч:мм:сс\n",
    "    def seconds_to_hh_mm_ss(seconds):\n",
    "        hours = int(seconds // 3600)\n",
    "        minutes = int((seconds % 3600) // 60)\n",
    "        seconds = seconds % 60\n",
    "        return f\"{hours:02}:{minutes:02}:{seconds:04.1f}\"\n",
    "\n",
    "    # Проверка времени и замена на \"не задано\" при необходимости (учитывая np.nan)\n",
    "    model_time_formatted = \"не задано\" if model_time is None or pd.isna(model_time) else seconds_to_hh_mm_ss(model_time)\n",
    "    predict_time_formatted = \"не задано\" if predict_time is None or pd.isna(predict_time) else seconds_to_hh_mm_ss(predict_time)\n",
    "\n",
    "    # Создание словаря с результатами метрик\n",
    "    data = {\n",
    "        'модель': [name_model],\n",
    "        'время_обучения': [model_time_formatted],\n",
    "        'время_предсказания': [predict_time_formatted],\n",
    "    }\n",
    "\n",
    "    # Добавляем метрики в словарь (замена np.nan на \"не задано\")\n",
    "    for metric_name, score in best_scores.items():\n",
    "        data[f'метрика_{metric_name}'] = [\"не задано\" if pd.isna(score) else score]\n",
    "\n",
    "    data['параметры_модели'] = [best_params if best_params is not None else 'не заданы']\n",
    "\n",
    "    result = pd.DataFrame(data)\n",
    "    columns_order = [col for col in result.columns if col != 'параметры_модели'] + ['параметры_модели']\n",
    "    \n",
    "    return result[columns_order]"
   ]
  },
  {
   "cell_type": "code",
   "execution_count": 12,
   "id": "b7db5080",
   "metadata": {
    "ExecuteTime": {
     "end_time": "2024-10-01T18:37:39.008346Z",
     "start_time": "2024-10-01T18:37:38.994833Z"
    }
   },
   "outputs": [],
   "source": [
    "def time_report(model, X_train, y_train, X_test, y_test, Catboost=False, NN=False, optimizer=None, num_epochs=10, verbose=False, plot=False):\n",
    "    # Запись времени начала обучения\n",
    "    start_time = time.time()\n",
    "\n",
    "    if Catboost:\n",
    "        # Если CatBoost\n",
    "        model.fit(X_train, y_train, cat_features=ohe_columns, eval_set=(X_test, y_test), verbose=verbose, plot=plot)\n",
    "    elif NN:\n",
    "        # Если нейронная сеть (PyTorch)\n",
    "        for epoch in range(num_epochs):\n",
    "            model.train()\n",
    "            optimizer.zero_grad()\n",
    "            output = model(X_train)\n",
    "            loss = nn.BCELoss()(output, y_train)\n",
    "            loss.backward()\n",
    "            optimizer.step()\n",
    "    else:\n",
    "        # Для других моделей (если не CatBoost и не нейронная сеть)\n",
    "        model.fit(X_train, y_train)\n",
    "\n",
    "    # Запись времени окончания обучения\n",
    "    model_time = time.time() - start_time\n",
    "\n",
    "    # Запись времени начала предсказания\n",
    "    start_time_predict = time.time()\n",
    "\n",
    "    if NN:\n",
    "        # Предсказание для PyTorch модели\n",
    "        model.eval()\n",
    "        with torch.no_grad():\n",
    "            y_pred = model(X_test)\n",
    "            y_pred_proba = y_pred.cpu().numpy()  # Получаем вероятности для ROC AUC\n",
    "            y_pred_labels = (y_pred > 0.5).float()  # Преобразуем в метки для F1-score\n",
    "    else:\n",
    "        # Предсказание для CatBoost или другой модели\n",
    "        y_pred = model.predict(X_test)\n",
    "        y_pred_proba = model.predict_proba(X_test)[:, 1]  # Для ROC AUC\n",
    "\n",
    "    # Рассчитываем метрики\n",
    "    f1 = f1_score(y_test.cpu() if NN else y_test, y_pred_labels.cpu() if NN else y_pred)\n",
    "    roc_auc = roc_auc_score(y_test.cpu() if NN else y_test, y_pred_proba)\n",
    "\n",
    "    # Запись времени окончания предсказания\n",
    "    predict_time = time.time() - start_time_predict\n",
    "\n",
    "    return model_time, predict_time, f1, roc_auc"
   ]
  },
  {
   "cell_type": "markdown",
   "id": "7fec0b3d",
   "metadata": {},
   "source": [
    "### Настройка подключения к БД"
   ]
  },
  {
   "cell_type": "markdown",
   "id": "0b33b1c9",
   "metadata": {},
   "source": [
    "Подключимся к БД где хранятся вся необходимая информация"
   ]
  },
  {
   "cell_type": "code",
   "execution_count": null,
   "id": "7abad68b",
   "metadata": {
    "ExecuteTime": {
     "end_time": "2024-10-01T18:36:52.438940Z",
     "start_time": "2024-10-01T18:36:52.429882Z"
    }
   },
   "outputs": [],
   "source": [
    "# Настройки для подключения у БД:\n",
    "db_config = {\n",
    "'user': 'praktikum_student', # имя пользователя,\n",
    "'pwd': 'Sdf4$2;d-d30pp', # пароль,\n",
    "'host': 'rc1b-wcoijxj3yxfsf3fs.mdb.yandexcloud.net',\n",
    "'port': 6432, # порт подключения,\n",
    "'db': 'data-science-vehicle-db' # название базы данных,\n",
    "} "
   ]
  },
  {
   "cell_type": "code",
   "execution_count": null,
   "id": "9f0677c7",
   "metadata": {
    "ExecuteTime": {
     "end_time": "2024-10-01T18:36:52.517906Z",
     "start_time": "2024-10-01T18:36:52.488394Z"
    }
   },
   "outputs": [],
   "source": [
    "# Формируем строку подключения\n",
    "connection_string = 'postgresql://{}:{}@{}:{}/{}'.format(\n",
    "    db_config['user'],\n",
    "    db_config['pwd'],\n",
    "    db_config['host'],\n",
    "    db_config['port'],\n",
    "    db_config['db'],\n",
    ")\n",
    "\n",
    "# Создаем движок (соединение) SQLAlchemy\n",
    "engine = create_engine(connection_string)"
   ]
  },
  {
   "cell_type": "markdown",
   "id": "24af6b2f",
   "metadata": {},
   "source": [
    "Выведем все имена имеющих таблиц"
   ]
  },
  {
   "cell_type": "code",
   "execution_count": null,
   "id": "820017af",
   "metadata": {
    "ExecuteTime": {
     "end_time": "2024-10-01T18:36:52.611927Z",
     "start_time": "2024-10-01T18:36:52.596927Z"
    }
   },
   "outputs": [],
   "source": [
    "# Используем инспектор для получения списка всех таблиц\n",
    "inspector = inspect(engine)\n",
    "\n",
    "# Получаем список всех таблиц\n",
    "tables = inspector.get_table_names()\n",
    "tables"
   ]
  },
  {
   "cell_type": "markdown",
   "id": "1bbcbdc2",
   "metadata": {},
   "source": [
    "### ER - диаграмма БД"
   ]
  },
  {
   "cell_type": "markdown",
   "id": "00d79f8b",
   "metadata": {},
   "source": [
    "Для описания данных имеется ER - диаграмма"
   ]
  },
  {
   "cell_type": "markdown",
   "id": "22f9d215",
   "metadata": {},
   "source": [
    "![Example Image](https://pictures.s3.yandex.net/resources/PPROD-4019_1725013595.png)"
   ]
  },
  {
   "cell_type": "markdown",
   "id": "3314eb80",
   "metadata": {
    "ExecuteTime": {
     "end_time": "2024-09-17T11:36:45.145250Z",
     "start_time": "2024-09-17T11:36:45.121175Z"
    }
   },
   "source": [
    "<h4>collisions (информация о происшествиях)</h4>\n",
    "\n",
    "<table>\n",
    "  <thead>\n",
    "    <tr>\n",
    "      <th style=\"text-align:left\">Описание</th>\n",
    "      <th style=\"text-align:left\">Обозначение в таблице</th>\n",
    "      <th style=\"text-align:left\">Код</th>\n",
    "      <th style=\"text-align:left\">Описание</th>\n",
    "    </tr>\n",
    "  </thead>\n",
    "  <tbody>\n",
    "    <tr>\n",
    "      <td style=\"text-align:left\">Идентификационный Номер в базе данных</td>\n",
    "      <td style=\"text-align:left\">CASE_ID</td>\n",
    "      <td></td>\n",
    "      <td style=\"text-align:left\">Уникальный номер для зарегистрированного происшествия в таблице происшествий.</td>\n",
    "    </tr>\n",
    "    <tr>\n",
    "      <td style=\"text-align:left\">Дата происшествия</td>\n",
    "      <td style=\"text-align:left\">COLLISION_DATE</td>\n",
    "      <td style=\"text-align:left\"></td>\n",
    "      <td style=\"text-align:left\">Формат год/месяц/день</td>\n",
    "    </tr>\n",
    "    <tr>\n",
    "      <td style=\"text-align:left\">Время происшествия</td>\n",
    "      <td style=\"text-align:left\">COLLISION_TIME</td>\n",
    "      <td></td>\n",
    "      <td style=\"text-align:left\">Формат: 24-часовой</td>\n",
    "    </tr>\n",
    "    <tr>\n",
    "      <td style=\"text-align:left\">Является ли место происшествия перекрёстком</td>\n",
    "      <td style=\"text-align:left\">INTERSECTION</td>\n",
    "      <td style=\"text-align:left\">Y<br>N<br>--</td>\n",
    "      <td style=\"text-align:left\">Intersection (перекрёсток)<br>Not Intersection (не перекрёсток)<br>Not stated (Не указано)</td>\n",
    "    </tr>\n",
    "    <tr>\n",
    "      <td style=\"text-align:left\">Погода</td>\n",
    "      <td style=\"text-align:left\">WEATHER_1</td>\n",
    "      <td style=\"text-align:left\">A<br>B<br>C<br>D<br>E<br>F<br>G<br>-</td>\n",
    "      <td style=\"text-align:left\">Clear (Ясно)<br>Cloudy (Облачно)<br>Raining (Дождь)<br>Snowing (Снегопад)<br>Fog (Туман)<br>Other (Другое)<br>Wind (Ветер)<br>Not Stated (Не указано)</td>\n",
    "    </tr>\n",
    "    <tr>\n",
    "      <td style=\"text-align:left\">Серьёзность происшествия</td>\n",
    "      <td style=\"text-align:left\">COLLISION_DAMAGE</td>\n",
    "      <td style=\"text-align:left\">1<br>2<br>3<br>4<br>0</td>\n",
    "      <td style=\"text-align:left\">FATAL ТС (Не подлежит восстановлению)<br>SEVERE DAMAGE (Серьёзный ремонт)<br>MIDDLE DAMAGE (Средний ремонт)<br>SMALL DAMAGE (Отдельный элемент кузова под замену/покраску)<br>SCRATCH (Царапина)</td>\n",
    "    </tr>\n",
    "    <tr>\n",
    "      <td style=\"text-align:left\">Основной фактор аварии</td>\n",
    "      <td style=\"text-align:left\">PRIMARY_COLL_FACTOR</td>\n",
    "      <td style=\"text-align:left\">A<br>B<br>C<br>D<br>E<br>-</td>\n",
    "      <td style=\"text-align:left\">Code Violation (Нарушение правил ПДД)<br>Other Improper Driving (Другое неправильное вождение)<br>Other Than Driver (Кроме водителя)<br>Unknown (Неизвестно)<br>Fell Asleep (Заснул)<br>Not Stated (Не указано)</td>\n",
    "    </tr>\n",
    "    <tr>\n",
    "      <td style=\"text-align:left\">Состояние дороги</td>\n",
    "      <td style=\"text-align:left\">ROAD_SURFACE</td>\n",
    "      <td style=\"text-align:left\">A<br>B<br>C<br>D<br>-</td>\n",
    "      <td style=\"text-align:left\">Dry (Сухая)<br>Wet (Мокрая)<br>Snowy or Icy (Заснеженная или обледенелая)<br>Slippery (Скользкая, грязная, маслянистая и т. д.)<br>Not Stated (Не указано)</td>\n",
    "    </tr>\n",
    "    <tr>\n",
    "      <td style=\"text-align:left\">Освещение</td>\n",
    "      <td style=\"text-align:left\">LIGHTING</td>\n",
    "      <td style=\"text-align:left\">A<br>B<br>C<br>D<br>E<br>-</td>\n",
    "      <td style=\"text-align:left\">Daylight (Дневной свет)<br>Dusk-Dawn (Сумерки-Рассвет)<br>Dark-Street Lights (Темно-Уличные фонари)<br>Dark-No Street Lights (Темно-Нет уличных фонарей)<br>Dark-Street Lights Not Functioning (Темно-Уличные фонари не работают)<br>Not Stated (Не указано)</td>\n",
    "    </tr>\n",
    "    <tr>\n",
    "      <td style=\"text-align:left\">Номер географических районов</td>\n",
    "      <td style=\"text-align:left\">COUNTY_CITY_LOCATION</td>\n",
    "      <td style=\"text-align:left\"></td>\n",
    "      <td style=\"text-align:left\">Числовое значение</td>\n",
    "    </tr>\n",
    "    <tr>\n",
    "      <td style=\"text-align:left\">Названия географических районов</td>\n",
    "      <td style=\"text-align:left\">COUNTY_LOCATION</td>\n",
    "      <td style=\"text-align:left\"></td>\n",
    "      <td style=\"text-align:left\">Список разных названий, категориальный тип данных</td>\n",
    "    </tr>\n",
    "    <tr>\n",
    "      <td style=\"text-align:left\">Направление движения</td>\n",
    "      <td style=\"text-align:left\">DIRECTION</td>\n",
    "      <td style=\"text-align:left\">N<br>E<br>S<br>W<br>-</td>\n",
    "      <td style=\"text-align:left\">North (Север)<br>East (Восток)<br>South (Юг)<br>West (Запад)<br>Not State (Не указано)</td>\n",
    "    </tr>\n",
    "    <tr>\n",
    "      <td style=\"text-align:left\">Расстояние от главной дороги (метры)</td>\n",
    "      <td style=\"text-align:left\">DISTANCE</td>\n",
    "      <td style=\"text-align:left\"td>\n",
    "      <td style=\"text-align:left\">Число</td>\n",
    "    </tr>\n",
    "    <tr>\n",
    "      <td style=\"text-align:left\">Тип дороги</td>\n",
    "      <td style=\"text-align:left\">LOCATION_TYPE</td>\n",
    "      <td style=\"text-align:left\">H<br>I<br>R<br>-</td>\n",
    "      <td style=\"text-align:left\">Highway (Шоссе)<br>Intersection (Перекрёсток)<br>Ramp (or Collector) (Рампа)<br>Not State Highway (Не указано)</td>\n",
    "    </tr>\n",
    "    <tr>\n",
    "      <td style=\"text-align:left\">Количество участников</td>\n",
    "      <td style=\"text-align:left\">PARTY_COUNT</td>\n",
    "      <td style=\"text-align:left\"></td>\n",
    "      <td style=\"text-align:left\">Число</td>\n",
    "    </tr>\n",
    "    <tr>\n",
    "      <td style=\"text-align:left\">Категория нарушения</td>\n",
    "      <td style=\"text-align:left\">PCF_VIOLATION_CATEGORY</td>\n",
    "      <td style=\"text-align:left\">01<br>02<br>03<br>04<br>05<br>06<br>07<br>08<br>09<br>10<br>11<br>12<br>13<br>14<br>15<br>16<br>17<br>18<br>19<br>20<br>21<br>22<br>23<br>24<br>00<br>-</td>\n",
    "      <td style=\"text-align:left\">Driving or Bicycling Under the Influence (Вождение в состоянии алкогольного или наркотического опьянения)<br>Impeding Traffic (Препятствие движению транспорта)<br>Unsafe Speed (Превышение скорости)<br>Following Too Closely (Опасное сближение)<br>Wrong Side of Road (Неправильная сторона дороги)<br>Improper Passing (Неправильное движение)<br>Unsafe Lane Change (Небезопасная смена полосы движения)<br>Improper Turning (Неправильный поворот)<br>Automobile Right of Way (Автомобильное право проезда)<br>Pedestrian Right of Way (Пешеходное право проезда)<br>Pedestrian Violation (Нарушение пешеходами)<br>Traffic Signals and Signs (Дорожные сигналы и знаки)<br>Hazardous Parking (Неправильная парковка)<br>Lights (Освещение)<br>Brakes (Тормоза)<br>Other Equipment (Другое оборудование)<br>Other Hazardous Violation (Другие нарушения)<br>Other Than Driver (Кроме водителя или пешехода)<br>Speeding (Скорость)<br>Pedestrian dui (Нарушение пешехода)<br>Unsafe Starting or Backing (Опасный старт)<br>Other Improper Driving (Другое неправильное вождение)<br>Pedestrian or \"Other\" Under the Influence (Пешеход или «Другой» в состоянии алкогольного или наркотического опьянения)<br>Fell Asleep (Заснул)<br>Unknown (Неизвестно)<br>Not Stated (Не указано)</td>\n",
    "    </tr>\n",
    "    <tr>\n",
    "      <td style=\"text-align:left\">Тип аварии</td>\n",
    "      <td style=\"text-align:left\">TYPE_OF_COLLISION</td>\n",
    "      <td style=\"text-align:left\">A<br>B<br>C<br>D<br>E<br>F<br>G<br>H<br>-</td>\n",
    "      <td style=\"text-align:left\">Head-On (Лоб в лоб)<br>Sideswipe (Сторона)<br>Rear End (Столкновение задней частью)<br>Broadside (Боковой удар)<br>Hit Object (Удар объекта)<br>Overturned (Опрокинутый)<br>Vehicle (Транспортное средство/Пешеход)<br>Other (Другое)<br>Not Stated (Не указано)</td>\n",
    "    </tr>\n",
    "    <tr>\n",
    "      <td style=\"text-align:left\">Дополнительные участники ДТП</td>\n",
    "      <td style=\"text-align:left\">MOTOR_VEHICLE_INVOLVED_WITH</td>\n",
    "      <td style=\"text-align:left\">Other motor vehicle<br>Fixed object<br>Parked motor vehicle<br>Pedestrian<br>Bicycle<br>Non-collision<br>Other object<br>Motor vehicle on other roadway<br>Animal<br>Train</td>\n",
    "      <td style=\"text-align:left\">Другой автомобиль<br>Неподвижный объект<br>Припаркованный автомобиль<br>Пешеход<br>Велосипедист<br>Не столкновение<br>Другой объект<br>Автомобиль на другой проезжей части<br>Животное<br>Поезд</td>\n",
    "    </tr>\n",
    "    <tr>\n",
    "      <td style=\"text-align:left\">Дорожное состояние</td>\n",
    "      <td style=\"text-align:left\">ROAD_CONDITION_1</td>\n",
    "      <td style=\"text-align:left\">A<br>B<br>C<br>D<br>E<br>F<br>G<br>H<br>-</td>\n",
    "      <td style=\"text-align:left\">Holes, Deep Ruts (Ямы, глубокая колея)<br>Loose Material on Roadway (Сыпучий материал)<br>Obstruction on Roadway (Препятствие на проезжей части)<br>Construction or Repair Zone (Зона строительства или ремонта)<br>Reduced Roadway Width (Уменьшенная ширина проезжей части)<br>Flooded (Затоплено)<br>Other (Другое)<br>No Unusual Condition (Нет ничего необычного)<br>Not Stated (Не указано)</td>\n",
    "    </tr>\n",
    "    <tr>\n",
    "      <td style=\"text-align:left\">Устройство управления</td>\n",
    "      <td style=\"text-align:left\">CONTROL_CONDITION_1</td>\n",
    "      <td style=\"text-align:left\">A<br>B<br>C<br>D<br>-</td>\n",
    "      <td style=\"text-align:left\">Functioning (Функционирует)<br>Not Functioning (Не функционирует)<br>Obscured (Затемнённый)<br>None (Нет)<br>Not Stated (Не указано)</td>\n",
    "    </tr>\n",
    "  </tbody>\n",
    "</table>\n"
   ]
  },
  {
   "cell_type": "markdown",
   "id": "abe243db",
   "metadata": {},
   "source": [
    "<h4>Parties (описание участников происшествия)</h4>\n",
    "\n",
    "<table>\n",
    "  <thead>\n",
    "    <tr>\n",
    "      <th style=\"text-align:left\">Описание</th>\n",
    "      <th style=\"text-align:left\">Обозначение в таблице</th>\n",
    "      <th style=\"text-align:left\">Код</th>\n",
    "      <th style=\"text-align:left\">Описание</th>\n",
    "    </tr>\n",
    "  </thead>\n",
    "  <tbody>\n",
    "    <tr>\n",
    "      <td style=\"text-align:left\">Идентификационный номер в базе данных</td>\n",
    "      <td style=\"text-align:left\">CASE_ID</td>\n",
    "      <td style=\"text-align:left\"></td>\n",
    "      <td style=\"text-align:left\">Уникальный номер для зарегистрированного происшествия в таблице происшествий.</td>\n",
    "    </tr>\n",
    "    <tr>\n",
    "      <td style=\"text-align:left\">Номер участника происшествия</td>\n",
    "      <td style=\"text-align:left\">PARTY_NUMBER</td>\n",
    "      <td style=\"text-align:left\"></td>\n",
    "      <td style=\"text-align:left\">От 1 до N — по числу участников происшествия</td>\n",
    "    </tr>\n",
    "    <tr>\n",
    "      <td style=\"text-align:left\">Тип участника происшествия</td>\n",
    "      <td style=\"text-align:left\">PARTY_TYPE</td>\n",
    "      <td style=\"text-align:left\">1<br>2<br>3<br>4<br>5<br>6<br>-</td>\n",
    "      <td style=\"text-align:left\">Car (Авто)<br>Road bumper (Дорожные знаки)<br>Building (Строения)<br>Road signs (Отбойник)<br>Other (Другое)<br>Operator (Оператор)<br>Not Stated (Не указано)</td>\n",
    "    </tr>\n",
    "    <tr>\n",
    "      <td style=\"text-align:left\">Виновность участника</td>\n",
    "      <td style=\"text-align:left\">AT_FAULT</td>\n",
    "      <td style=\"text-align:left\"></td>\n",
    "      <td style=\"text-align:left\">0/1</td>\n",
    "    </tr>\n",
    "    <tr>\n",
    "      <td style=\"text-align:left\">Сумма страховки (тыс. $)</td>\n",
    "      <td style=\"text-align:left\">INSURANCE_PREMIUM</td>\n",
    "      <td style=\"text-align:left\"></td>\n",
    "      <td style=\"text-align:left\">Число</td>\n",
    "    </tr>\n",
    "    <tr>\n",
    "      <td style=\"text-align:left\">Состояние участника: физическое или с учётом принятых лекарств</td>\n",
    "      <td style=\"text-align:left\">PARTY_DRUG_PHYSICAL</td>\n",
    "      <td style=\"text-align:left\">E<br>F<br>G<br>H<br>I<br>-</td>\n",
    "      <td style=\"text-align:left\">Under Drug Influence (Под воздействием лекарств)<br>Impairment — Physical (Ухудшение состояния)<br>Impairment Unknown (Не известно)<br>Not Applicable (Не оценивался)<br>Sleepy/Fatigued (Сонный/Усталый)<br>Not Stated (Не указано)</td>\n",
    "    </tr>\n",
    "    <tr>\n",
    "      <td style=\"text-align:left\">Трезвость участника</td>\n",
    "      <td style=\"text-align:left\">PARTY_SOBRIETY</td>\n",
    "      <td style=\"text-align:left\">A<br>B<br>C<br>D<br>G<br>H<br>-</td>\n",
    "      <td style=\"text-align:left\">Had Not Been Drinking (Не пил)<br>Had Been Drinking, Under Influence (Был пьян, под влиянием)<br>Had Been Drinking, Not Under Influence (Был пьян, не под влиянием)<br>Had Been Drinking, Impairment Unknown (Был пьян, ухудшение неизвестно)<br>Impairment Unknown (Неизвестно ухудшение)<br>Not Applicable (Не оценивался)<br>Not Stated (Не указано)</td>\n",
    "    </tr>\n",
    "    <tr>\n",
    "      <td style=\"text-align:left\">Наличие телефона в автомобиле</td>\n",
    "      <td style=\"text-align:left\">CELLPHONE_IN_USE</td>\n",
    "      <td style=\"text-align:left\"></td>\n",
    "      <td style=\"text-align:left\">0/1</td>\n",
    "    </tr>\n",
    "  </tbody>\n",
    "</table>\n",
    "\n",
    "<h4>Vehicles (Описание автомобиля)</h4>\n",
    "\n",
    "<table>\n",
    "  <thead>\n",
    "    <tr>\n",
    "      <th style=\"text-align:left\">Описание</th>\n",
    "      <th style=\"text-align:left\">Обозначение в таблице</th>\n",
    "      <th style=\"text-align:left\">Код</th>\n",
    "      <th style=\"text-align:left\">Описание</th>\n",
    "    </tr>\n",
    "  </thead>\n",
    "  <tbody>\n",
    "    <tr>\n",
    "      <td style=\"text-align:left\">Индекс текущей таблицы</td>\n",
    "      <td style=\"text-align:left\">ID</td>\n",
    "      <td style=\"text-align:left\"></td>\n",
    "      <td style=\"text-align:left\">Номер в таблице</td>\n",
    "    </tr>\n",
    "    <tr>\n",
    "      <td style=\"text-align:left\">Идентификационный номер в базе данных</td>\n",
    "      <td style=\"text-align:left\">CASE_ID</td>\n",
    "      <td style=\"text-align:left\"></td>\n",
    "      <td style=\"text-align:left\">Уникальный номер для зарегистрированного происшествия в таблице происшествий.</td>\n",
    "    </tr>\n",
    "    <tr>\n",
    "      <td style=\"text-align:left\">Тип кузова</td>\n",
    "      <td style=\"text-align:left\">VEHICLE_TYPE</td>\n",
    "      <td style=\"text-align:left\">MINIVAN<br>COUPE<br>SEDAN<br>HATCHBACK<br>OTHER</td>\n",
    "      <td style=\"text-align:left\">MINIVAN<br>COUPE<br>SEDAN<br>HATCHBACK<br>OTHER</td>\n",
    "    </tr>\n",
    "    <tr>\n",
    "      <td style=\"text-align:left\">Тип КПП</td>\n",
    "      <td style=\"text-align:left\">VEHICLE_TRANSMISSION</td>\n",
    "      <td style=\"text-align:left\">auto<br>manual<br>-</td>\n",
    "      <td style=\"text-align:left\">Автоматическая<br>Ручная<br>Not Stated (Не указано)</td>\n",
    "    </tr>\n",
    "    <tr>\n",
    "      <td style=\"text-align:left\">Возраст автомобиля (в годах)</td>\n",
    "      <td style=\"text-align:left\">VEHICLE_AGE</td>\n",
    "      <td style=\"text-align:left\"></td>\n",
    "      <td style=\"text-align:left\">Число</td>\n",
    "    </tr>\n",
    "  </tbody>\n",
    "</table>\n"
   ]
  },
  {
   "cell_type": "markdown",
   "id": "2717d70c",
   "metadata": {},
   "source": [
    "### Первичный обзор данных"
   ]
  },
  {
   "cell_type": "markdown",
   "id": "281cceb8",
   "metadata": {},
   "source": [
    "Создадим список из названий таблиц для простоты вызова функций"
   ]
  },
  {
   "cell_type": "code",
   "execution_count": null,
   "id": "d43a8f74",
   "metadata": {
    "ExecuteTime": {
     "end_time": "2024-10-01T18:36:52.976490Z",
     "start_time": "2024-10-01T18:36:52.959490Z"
    }
   },
   "outputs": [],
   "source": [
    "table_names = ['case_ids', 'collisions', 'parties', 'vehicles']"
   ]
  },
  {
   "cell_type": "markdown",
   "id": "dae5b0a1",
   "metadata": {},
   "source": [
    "Выведем первые 5 строк для всех таблиц"
   ]
  },
  {
   "cell_type": "code",
   "execution_count": null,
   "id": "5bf80f9b",
   "metadata": {
    "ExecuteTime": {
     "end_time": "2024-10-01T18:36:53.087506Z",
     "start_time": "2024-10-01T18:36:53.058507Z"
    },
    "scrolled": true
   },
   "outputs": [],
   "source": [
    "# Функция для вывода первых 5 строк таблицы\n",
    "def display_first_rows(table_name, limit=5):\n",
    "    print(f\"Первые {limit} строк таблицы {table_name}:\")\n",
    "    query = f\"\"\"\n",
    "        SELECT * \n",
    "        FROM {table_name} \n",
    "        LIMIT {limit}\n",
    "    \"\"\"\n",
    "    display(execute_query(query))\n",
    "    print(LINE_1)\n",
    "\n",
    "# Вызов функции для разных таблиц\n",
    "for tabel in table_names:\n",
    "    display_first_rows(tabel)"
   ]
  },
  {
   "cell_type": "markdown",
   "id": "ea19fd88",
   "metadata": {},
   "source": [
    "Выведем информацию о данных"
   ]
  },
  {
   "cell_type": "code",
   "execution_count": null,
   "id": "cd3bbc98",
   "metadata": {
    "ExecuteTime": {
     "end_time": "2024-10-01T18:36:53.214065Z",
     "start_time": "2024-10-01T18:36:53.161552Z"
    },
    "scrolled": false
   },
   "outputs": [],
   "source": [
    "# Функция для получения информации о столбцах и пропусках\n",
    "def display_table_info(table_names):\n",
    "    for table in table_names:\n",
    "        print(f\"\\nИнформация и пропуски для таблицы {table}:\")\n",
    "\n",
    "        # Получение информации о столбцах\n",
    "        columns_query = f\"\"\"\n",
    "        SELECT column_name, data_type, is_nullable \n",
    "        FROM information_schema.columns \n",
    "        WHERE table_name = '{table}'\n",
    "        \"\"\"\n",
    "        columns_info = execute_query(columns_query)\n",
    "        \n",
    "        # Получение информации о пропусках\n",
    "        nulls_info = check_nulls(table)\n",
    "        \n",
    "        # Объединение данных в один DataFrame по столбцу 'column_name'\n",
    "        combined_info = pd.merge(columns_info, nulls_info, on='column_name', how='left')\n",
    "        \n",
    "        # Вывод объединённой информации\n",
    "        display(combined_info)\n",
    "        print(LINE_1)\n",
    "\n",
    "# Вызов функции для объединённого вывода\n",
    "display_table_info(table_names)"
   ]
  },
  {
   "cell_type": "markdown",
   "id": "7dacdaf0",
   "metadata": {},
   "source": [
    "**Краткий вывод о данных:**\n",
    "\n",
    "1. **Таблица `case_ids`:**\n",
    "   - Содержит 1 400 000 записей.\n",
    "   - Нет пропущенных значений в столбцах `case_id` и `db_year`.\n",
    "\n",
    "\n",
    "2. **Таблица `collisions`:**\n",
    "   - Общее количество записей: 1 400 000.\n",
    "   - Значительное количество пропусков наблюдается в столбце `location_type` (62.94%), что может потребовать дополнительной обработки или удаления. Если схожий процент будет наблюдаться в данных которые будут применены для обучения модели, то целесообразность использования этой фичи крайне низка. \n",
    "   - Пропуски также присутствуют в столбцах `direction` (24.33%), `pcf_violation_category` (1.99%), и других, но в меньшей степени (до 2%).\n",
    "   - Важные для анализа столбцы, такие как `party_count`, `collision_date`, и `collision_damage`, не содержат пропусков.\n",
    "\n",
    "\n",
    "3. **Таблица `parties`:**\n",
    "   - Общее количество записей: 2 752 408.\n",
    "   - Столбец с наибольшим количеством пропусков — `party_drug_physical` (84.29% пропусков), что может снизить его значимость в анализе. Также согласно логическим рассуждений вероятная причина наличия пропусков водитель не проходил мед.освидетельствование в виду отсутствия направления от сотрудников полиции. Свою очередь это может быть связано с тем, что сотрудник полиции оценил состояния водителя как нормально (без различного степени опьянения). Тем самым пропуски целесообразно заполнить `Not Applicable` \n",
    "   - Пропуски также есть в столбцах `cellphone_in_use` (18.59%) и `insurance_premium` (14.73%).\n",
    "   - Столбцы `party_number`, `at_fault`, и `case_id` не содержат пропусков.\n",
    "\n",
    "\n",
    "4. **Таблица `vehicles`:**\n",
    "   - Общее количество записей: 1 021 234.\n",
    "   - Пропуски наблюдаются в столбцах `vehicle_age` (2.41%) и `vehicle_transmission` (2.32%), что является небольшим процентом.\n",
    "   - Важные столбцы, такие как `vehicle_type` и `case_id`, не содержат пропусков.\n",
    "\n",
    "\n",
    "**Общие замечания:**\n",
    "- ***Отсутствие значительных пропусков*** в ключевых столбцах, таких как `case_id`, `party_count`, и `collision_damage`, что облегчает дальнейший анализ.\n",
    "- ***Некоторые столбцы имеют высокие проценты пропусков***, например, `location_type` (62.94%) и `party_drug_physical` (84.29%). Это может потребовать дополнительных мер по обработке данных, таких как заполнение пропусков, удаление этих столбцов или использование методов предсказания значений.\n",
    "- ***В целом, большинство данных достаточно полные*** и готовы для дальнейшего анализа, но потребуется уделить внимание тем столбцам, где процент пропусков выше 10-20%.\n",
    "- ***Данные для ML модели*** Этап пердобработки данных потребуется для данных только за 2012 год, так как они являются наиболее свежими."
   ]
  },
  {
   "cell_type": "markdown",
   "id": "93c66857",
   "metadata": {},
   "source": [
    "Посмотрим статистику количественных данных."
   ]
  },
  {
   "cell_type": "code",
   "execution_count": null,
   "id": "0d7a5784",
   "metadata": {
    "ExecuteTime": {
     "end_time": "2024-10-01T18:36:53.341191Z",
     "start_time": "2024-10-01T18:36:53.311083Z"
    },
    "scrolled": false
   },
   "outputs": [],
   "source": [
    "# Выведем статистику при этом удалив 'id'\n",
    "drop_columns = ['id']  # Столбец, который нужно исключить\n",
    "\n",
    "for table_name in table_names:\n",
    "    print(f\"\\nСтатистика по данным {table_name}:\")\n",
    "    numeric_stats, categorical_stats = get_aggregate_stats(table_name, drop_columns=drop_columns)\n",
    "\n",
    "    if numeric_stats is not None:\n",
    "        print(\"\\nЧисловые данные:\")\n",
    "        display(numeric_stats)\n",
    "    if categorical_stats is not None:\n",
    "        print(\"\\nКатегориальные данные:\")\n",
    "        display(categorical_stats)\n",
    "    print(LINE_1)"
   ]
  },
  {
   "cell_type": "markdown",
   "id": "15f47253",
   "metadata": {},
   "source": [
    "На основании статистики можно выделить несколько интересных моментов и особенностей.\n",
    "\n",
    "**Данные по таблице `case_ids`:**\n",
    "- **Категориальные столбцы:**\n",
    "    - Поле `case_id` содержит уникальные значения для каждого случая (1 400 000 уникальных значений), что логично для идентификатора.\n",
    "    - Поле `db_year` имеет только одно значение — 2021, скорее всего это означает дату обновления.\n",
    "Данная таблица не информативна. Далее в EDA не будет анализирована.\n",
    "\n",
    "**Данные по таблице `collisions`:**\n",
    "- **Числовые столбцы:**\n",
    "    - Поле ***`distance` (Расстояние от главной дороги (метры))*** демонстрирует высокую дисперсию: среднее значение — 660.71, а стандартное отклонение — 11785.79, что указывает на то, что большинство значений близки к нулю, но есть отдельные случаи с очень высокими значениями (максимум — 8 363 520), что сразу указывает на аномалию.\n",
    "    - Поле ***`party_count` (количество участников)*** имеет среднее значение 1.97, что говорит о том, что в большинстве инцидентов участвуют два участника.\n",
    "- **Категориальные столбцы:**\n",
    "    - Поле ***`collision_damage` (Серьёзность происшествия)*** показывает, что большинство аварий связаны с \"small damage (Отдельный элемент кузова под замену/покраску)\" (845 771 случаев из 1 400 000).\n",
    "    - Поле `county_location` (направление) указывает, что Los Angeles фигурирует чаще всего (433 809 случаев), что может быть интересным в контексте анализа географического расположения аварий.\n",
    "    - `lighting` (освещение) демонстрирует, что наибольшее количество аварий происходит при дневном свете (941 950 случаев).\n",
    "    - `weather_1` (погода) демонстрирует, что наибольшее количество аварий происходит в ясную погоду (1 121 048 случаев), что коррелирует с состоянием `road_surface`.\n",
    "    \n",
    "**Данные по таблице `parties`:**\n",
    "- **Числовые столбцы:**\n",
    "    - Поле `at_fault` показывает, что в данных практически поровну виновников и пострадавших в ДТП участников. \n",
    "    - Поле `insurance_premium` имеет высокий разброс значений (от 0 до 105), что может указывать на значительную вариативность в стоимости страховых премий между участниками.\n",
    "- **Категориальные столбцы:**\n",
    "    - Поле `party_drug_physical` указывает на то, что в 232 901 случаях зафиксировано наличие наркотических веществ у участников аварии.\n",
    "    - В поле `party_type` чаще всего фигурируют автомобили (2 469 314 случаев), что подчеркивает доминирование частного транспорта в авариях.\n",
    "\n",
    "**Данные по таблице `vehicles`:**\n",
    "- **Числовые столбцы:**\n",
    "    - Поле `vehicle_age` имеет среднее значение 5.14 года, что говорит о том, что на дорогах преобладают относительно новые автомобили. Однако максимальный возраст транспортного средства — 161 год, что скорее всего является аномалией или ошибкой в данных.\n",
    "- **Категориальные столбцы:**\n",
    "    - Поле `vehicle_transmission` показывает, что автоматическая коробка передач преобладает в половине случаев (502 243 случаев).\n",
    "    - Поле `vehicle_type` указывает, что большинство автомобилей — это седаны (488 665 случаев).\n",
    "\n",
    "**Общие выводы:**\n",
    "1. **Высокая дисперсия в числовых данных** (например, для расстояния и страховой премии) указывает на необходимость дальнейшего исследования аномалий и крайних значений. Возможно, требуется их корректировка или удаление для более точного анализа.\n",
    "2. **Категориальные столбцы** предоставляют полезные сведения о характеристиках участников и транспортных средств, участвующих в авариях, что можно использовать для сегментации или предсказательного моделирования.\n",
    "3. В **столбцах `party_drug_physical` и `lighting`** содержится важная информация о факторах, которые могут влиять на аварии (наличие наркотиков у участников и время суток)."
   ]
  },
  {
   "cell_type": "markdown",
   "id": "687c2a33",
   "metadata": {},
   "source": [
    "Перезапишим наименование таблиц."
   ]
  },
  {
   "cell_type": "code",
   "execution_count": null,
   "id": "44983d49",
   "metadata": {
    "ExecuteTime": {
     "end_time": "2024-10-01T18:36:53.467613Z",
     "start_time": "2024-10-01T18:36:53.452612Z"
    }
   },
   "outputs": [],
   "source": [
    "table_names = ['collisions', 'parties', 'vehicles']"
   ]
  },
  {
   "cell_type": "markdown",
   "id": "72e50edc",
   "metadata": {},
   "source": [
    "Выведем количество уникальных значений для каждой таблицы"
   ]
  },
  {
   "cell_type": "code",
   "execution_count": null,
   "id": "1c7e8aa7",
   "metadata": {
    "ExecuteTime": {
     "end_time": "2024-10-01T18:36:53.562630Z",
     "start_time": "2024-10-01T18:36:53.551630Z"
    }
   },
   "outputs": [],
   "source": [
    "# Функция для проверки количества уникальных значений в каждом столбце порциями\n",
    "def check_unique_values_in_batches(table_name, batch_size=5, sort_by_unique=False):\n",
    "    columns = get_columns(table_name)\n",
    "    results = []\n",
    "    \n",
    "    # Обрабатываем столбцы порциями\n",
    "    for i in range(0, len(columns), batch_size):\n",
    "        batch_columns = columns[i:i+batch_size]\n",
    "        for col in batch_columns:\n",
    "            query = f\"\"\"\n",
    "            SELECT \n",
    "                '{col}' AS column_name,\n",
    "                COUNT(DISTINCT {col}) AS unique_values\n",
    "            FROM {table_name};\n",
    "            \"\"\"\n",
    "            result = execute_query(query)\n",
    "            results.append(result)\n",
    "    \n",
    "    # Объединяем результаты\n",
    "    combined_results = pd.concat(results, ignore_index=True)\n",
    "    \n",
    "    # Сортируем по unique_values, если указано\n",
    "    if sort_by_unique:\n",
    "        combined_results = combined_results.sort_values(by='unique_values', ascending=False).reset_index(drop=True)\n",
    "    \n",
    "    return combined_results"
   ]
  },
  {
   "cell_type": "code",
   "execution_count": null,
   "id": "51918bca",
   "metadata": {
    "ExecuteTime": {
     "end_time": "2024-10-01T18:36:53.642241Z",
     "start_time": "2024-10-01T18:36:53.607141Z"
    },
    "scrolled": true
   },
   "outputs": [],
   "source": [
    "# Вызов функции для разных таблиц\n",
    "for tabel in table_names:\n",
    "    print(f'Количество уникальных значений в таблице {tabel}')\n",
    "    display(check_unique_values_in_batches(tabel, batch_size=10, sort_by_unique=True))\n",
    "    print(LINE_1)"
   ]
  },
  {
   "cell_type": "code",
   "execution_count": null,
   "id": "868997f8",
   "metadata": {
    "ExecuteTime": {
     "end_time": "2024-10-01T18:36:53.688748Z",
     "start_time": "2024-10-01T18:36:53.662650Z"
    },
    "scrolled": true
   },
   "outputs": [],
   "source": [
    "# Построение гистограмм для числовых данных с использованием батчей\n",
    "for tabel in table_names:\n",
    "    print(f'Гистограммы для таблицы: {tabel}')\n",
    "    plot_histograms_in_batches(tabel, batch_size=5, drop_columns=['id'])\n",
    "    print(LINE_1)"
   ]
  },
  {
   "cell_type": "code",
   "execution_count": null,
   "id": "5769a8ba",
   "metadata": {
    "ExecuteTime": {
     "end_time": "2024-10-01T18:36:53.751667Z",
     "start_time": "2024-10-01T18:36:53.723158Z"
    },
    "scrolled": false
   },
   "outputs": [],
   "source": [
    "# Построение countplot для категориальных данных с использованием батчей\n",
    "for tabel in table_names:\n",
    "    print(f'Сountplot для таблицы: {tabel}')\n",
    "    plot_countplot_in_batches(tabel, batch_size=5, drop_columns=['case_id', 'id', 'county_city_location'])\n",
    "    print(LINE_1)"
   ]
  },
  {
   "cell_type": "markdown",
   "id": "294e39f0",
   "metadata": {},
   "source": [
    "По предоставленным графикам можно сделать следующие выводы:\n",
    "\n",
    "1. **Распределение категорий в данных**:\n",
    "   - **Категориальные признаки** в данных, такие как виды происшествий или характеристики транспортных средств, демонстрируют значительное разнообразие, однако наблюдается сильная концентрация на нескольких значениях. Например, такие категории, как \"Sedan\" или определенные виды столкновений, значительно доминируют над другими. Это может указывать на явные шаблоны поведения или эксплуатации транспортных средств, а также на часто встречающиеся типы аварий.\n",
    "   - **Частотное распределение по категориям** указывает на сильную асимметрию. Это может потребовать работы с дисбалансом данных для предотвращения смещения модели при обучении.\n",
    "\n",
    "\n",
    "2. **Числовые данные**:\n",
    "   - **Распределение числовых признаков**, таких как возраст транспортных средств или количество участников аварий, имеет различные характерные особенности. Некоторые распределения показаны с длинным \"хвостом\", что говорит о наличии выбросов или редко встречающихся значений, которые могут повлиять на точность прогнозов.\n",
    "   - **Средние значения и медианы** числовых признаков часто различаются. Например, количество участников в авариях в основном варьируется от 1 до 2, но присутствуют случаи с большим количеством участников, что может указать на более серьезные происшествия, при это таких данных крайне мало.\n",
    "\n",
    "\n",
    "3. **Закономерности в данных**:\n",
    "   - **Топовые категории** для большинства категориальных признаков достаточно очевидны и имеют высокую частоту повторяемости. Это может свидетельствовать о том, что большинство данных представляют собой частые случаи стандартных происшествий или распространенных типов транспортных средств.\n",
    "   - **Наличие редких значений и выбросов** указывает на необходимость более детального анализа, особенно при построении моделей машинного обучения. Эти редкие значения могут вносить шум в модели и влиять на предсказательную способность.\n",
    "\n",
    "\n",
    "4. **Аналитические рекомендации**:\n",
    "   - **Категориальные признаки** требуют внимательной обработки, включая кодирование категорий и, возможно, применение методов для борьбы с дисбалансом, таких как oversampling или undersampling.\n",
    "   - **Числовые признаки** могут потребовать нормализации или логарифмирования из-за наличия выбросов. Кроме того, стоит рассмотреть работу с перцентилями для фильтрации редких значений."
   ]
  },
  {
   "cell_type": "markdown",
   "id": "84bf9f62",
   "metadata": {},
   "source": [
    "**ОБЩИЙ ВЫВОД ПО РАЗДЕЛУ 1 \"ПОДКЛЮЧЕНИЕ К БАЗЕ ДАННЫХ И ПЕРВИЧНЫЙ ОБХОР ДАННЫХ\":**\n",
    "\n",
    "1. **Обзор данных и подключение к БД**:\n",
    "   - Мы подключились к базе данных и загрузили четыре таблицы: `case_ids`, `collisions`, `parties` и `vehicles`.\n",
    "   - Импортированы все необходимые библиотеки для работы с данными, анализа и моделирования.\n",
    "   - Использованы SQL-запросы для получения первичных данных из каждой таблицы.\n",
    "\n",
    "\n",
    "2. **Анализ таблиц**:\n",
    "   - **case_ids**: Таблица содержит уникальные идентификаторы и год (db_year). Все значения в поле `db_year` одинаковы (2021), что говорит о дате обновления или загрузки данных. Таблица неинформативна для дальнейшего анализа.\n",
    "   - **collisions**: Таблица с данными о происшествиях. Есть значительные пропуски в полях `location_type` (62.94%) и `direction` (24.33%). Поле `distance` имеет аномально большие значения, что требует проверки. Важные поля, такие как `collision_date`, `collision_damage`, не содержат пропусков.\n",
    "   - **parties**: Таблица с данными об участниках происшествий. Поля `party_drug_physical` и `cellphone_in_use` содержат много пропусков (84.29% и 18.59% соответственно). Тем не менее, такие поля, как `party_type` и `at_fault`, информативны.\n",
    "   - **vehicles**: Таблица с данными о транспортных средствах. Пропуски присутствуют в полях `vehicle_age` и `vehicle_transmission` (2.41% и 2.32% соответственно). Таблица в целом хорошо заполнена.\n",
    "\n",
    "\n",
    "3. **Распределение и закономерности**:\n",
    "   - **Категориальные данные** демонстрируют значительное доминирование нескольких значений. Например, седаны доминируют среди типов транспортных средств, что можно учесть при построении моделей.\n",
    "   - **Числовые данные** показывают наличие выбросов и редких значений, что требует особой обработки перед обучением моделей.\n",
    "\n",
    "**Вывод о структуре данных**\n",
    "\n",
    "\n",
    "1. **Набор данных во всех таблицах**:\n",
    "   - Все таблицы содержат данные, однако таблица `case_ids` не является полезной для анализа, так как в ней только идентификаторы и год. Остальные таблицы — `collisions`, `parties`, `vehicles` — имеют необходимые данные для анализа аварий, участников и транспортных средств.\n",
    "   - Часть данных не соответсвуют описанию в ER - диаграмме, так например при описании категрии `ROAD_CONDITION_1` данные в ER - диаграмме описаны так \"A — Holes, Deep Ruts (Ямы, глубокая колея)\", что понимается в данном столбце будет категория `A`, но данные представлены как `Holes`.\n",
    "\n",
    "\n",
    "2. **Соответствие количества таблиц условию задачи**: В условии задачи указывалось на необходимость работы с авариями, участниками и транспортными средствами. В базе данных есть все соответствующие таблицы, что соответствует задаче. ***Однако для создания полноценной системы, которая могла бы оценивать риск ДТП на выбранном маршруте, имеющихся данных недостаточно. У нас есть информация только о самих ДТП, но отсутствуют данные о поездках без аварий, а также геоданные маршрутов и информация о водителях, включая стаж, наличие нарушений и прошлые аварии. Поэтому основной задачей будет создать модель, которая будте предсказывать будет ли водитель каршеринговой маишины виновником или пострадавшим в ДТП.***.\n",
    "\n",
    "\n",
    "3. **Наличие общего ключа для связи таблиц**:\n",
    "   - Все таблицы имеют общий ключ `case_id`, который можно использовать для связи между таблицами. Это позволяет интегрировать данные о происшествиях, участниках и транспортных средствах для дальнейшего анализа и моделирования.\n",
    "   \n",
    "4. **Целевая переменная**: В ER-диаграмме нет явного указания, что является `TRUE` и `FALSE`, не всегда логич"
   ]
  },
  {
   "cell_type": "markdown",
   "id": "c8cb93f9",
   "metadata": {},
   "source": [
    "## Статистический анализ факторов ДТП"
   ]
  },
  {
   "cell_type": "markdown",
   "id": "2ab171fa",
   "metadata": {},
   "source": [
    "### Перечень аналитических задач"
   ]
  },
  {
   "cell_type": "markdown",
   "id": "1bb114b2",
   "metadata": {},
   "source": [
    "**Задачи для аналитического совещания рабочей группы:**\n",
    "\n",
    "1. **Анализ связи между типом дорожного покрытия и серьёзностью ДТП**: Проведите анализ, связывая данные о состоянии дороги из таблицы `collisions` и серьёзности повреждений из таблицы `parties`.\n",
    "\n",
    "2. **Определение влияния погодных условий на частоту ДТП**: Исследуйте, как различные погодные условия (дождь, снег, туман) влияют на количество аварий, используя данные из `collisions` и `weather_conditions`.\n",
    "\n",
    "3. **Анализ роли алкоголя в ДТП**: Сравните количество ДТП, связанных с употреблением алкоголя, с ДТП, где алкоголь не употреблялся, используя данные из `parties`.\n",
    "\n",
    "4. **Изучение временных трендов аварийности**: Проанализируйте, как изменяется количество ДТП в зависимости от времени суток и дня недели, связывая `collisions` и `parties`, а также как рапределены ДТП с учетом состояния дороги.\n",
    "\n",
    "5. **Оценка эффективности безопасности транспортных средств**: Изучите, как тип автомобиля влияет на исходы ДТП для пассажиров и водителей, используя данные из `vehicles` и `parties`.\n",
    "\n",
    "6. **Выявление наиболее опасных участков дорог**: Определите, на каких участках дорог происходит больше всего ДТП, анализируя местоположения из `collisions`.\n",
    "\n",
    "7. **Сравнение динамики аварийности в различных районах**: Оцените, как отличается аварийность в разных географических районах, анализируя данные о местоположении из `collisions`.\n",
    "\n",
    "8. **Изучение влияния дня недели на количество ДТП**: Выявите, есть ли зависимость между днем недели и количеством происходящих ДТП, связывая данные из `collisions`."
   ]
  },
  {
   "cell_type": "markdown",
   "id": "c3f2891b",
   "metadata": {},
   "source": [
    "### Определение наиболее аварийных месяцев"
   ]
  },
  {
   "cell_type": "code",
   "execution_count": null,
   "id": "a3227732",
   "metadata": {
    "ExecuteTime": {
     "end_time": "2024-10-01T18:36:54.067720Z",
     "start_time": "2024-10-01T18:36:54.042211Z"
    }
   },
   "outputs": [],
   "source": [
    "# Выполняем SQL-запрос и строим график\n",
    "query_collisions_by_month = \"\"\"\n",
    "SELECT \n",
    "    EXTRACT(MONTH FROM collision_date) AS month,\n",
    "    COUNT(*) AS total_collisions\n",
    "FROM collisions\n",
    "GROUP BY month\n",
    "ORDER BY total_collisions DESC;\n",
    "\"\"\"\n",
    "df_collisions_by_month = execute_query(query_collisions_by_month)\n",
    "\n",
    "# Построение графика\n",
    "plt.figure(figsize=(15, 6))\n",
    "sns.barplot(x=df_collisions_by_month['month'], y=df_collisions_by_month['total_collisions'])\n",
    "plt.title('Количество аварий по месяцам', fontsize=16, fontweight='bold')\n",
    "plt.xlabel('Месяц', fontsize=14)\n",
    "plt.ylabel('Количество аварий', fontsize=14)\n",
    "plt.grid(True, linestyle='--', alpha=0.7)\n",
    "plt.show()"
   ]
  },
  {
   "cell_type": "code",
   "execution_count": null,
   "id": "2b9083f5",
   "metadata": {
    "ExecuteTime": {
     "end_time": "2024-10-01T18:36:54.131230Z",
     "start_time": "2024-10-01T18:36:54.101231Z"
    },
    "scrolled": true
   },
   "outputs": [],
   "source": [
    "df_collisions_by_month.head()"
   ]
  },
  {
   "cell_type": "markdown",
   "id": "643fbfe8",
   "metadata": {},
   "source": [
    "В разрезе всех данных наиболее аварийными месяцам является первая половина года с пиком в марте. Есть вероятность того, что данные не равномерно собраны в разных годах. Проверим это. "
   ]
  },
  {
   "cell_type": "code",
   "execution_count": null,
   "id": "72fddd02",
   "metadata": {
    "ExecuteTime": {
     "end_time": "2024-10-01T18:36:54.226249Z",
     "start_time": "2024-10-01T18:36:54.203256Z"
    }
   },
   "outputs": [],
   "source": [
    "# Выполняем SQL-запрос и строим график\n",
    "query_collisions_by_year = \"\"\"\n",
    "SELECT \n",
    "    EXTRACT(YEAR FROM collision_date) AS year,\n",
    "    COUNT(*) AS total_collisions\n",
    "FROM collisions\n",
    "GROUP BY year\n",
    "ORDER BY total_collisions DESC;\n",
    "\"\"\"\n",
    "df_collisions_by_year = execute_query(query_collisions_by_year)\n",
    "\n",
    "# Построение графика\n",
    "plt.figure(figsize=(15, 6))\n",
    "sns.barplot(x=df_collisions_by_year['year'], y=df_collisions_by_year['total_collisions'])\n",
    "plt.title('Количество аварий по годам', fontsize=16, fontweight='bold')\n",
    "plt.xlabel('Год', fontsize=14)\n",
    "plt.ylabel('Количество аварий', fontsize=14)\n",
    "plt.grid(True, linestyle='--', alpha=0.7)\n",
    "plt.show()"
   ]
  },
  {
   "cell_type": "code",
   "execution_count": null,
   "id": "645a6e5a",
   "metadata": {
    "ExecuteTime": {
     "end_time": "2024-10-01T18:36:54.273759Z",
     "start_time": "2024-10-01T18:36:54.259759Z"
    },
    "scrolled": true
   },
   "outputs": [],
   "source": [
    "df_collisions_by_year"
   ]
  },
  {
   "cell_type": "markdown",
   "id": "19273ee8",
   "metadata": {},
   "source": [
    "Построим для каждого года рапределение аварий по месяцам."
   ]
  },
  {
   "cell_type": "code",
   "execution_count": null,
   "id": "e0d3ddc0",
   "metadata": {
    "ExecuteTime": {
     "end_time": "2024-10-01T18:36:54.383776Z",
     "start_time": "2024-10-01T18:36:54.359776Z"
    }
   },
   "outputs": [],
   "source": [
    "# SQL-запрос для получения распределения аварий по месяцам и годам\n",
    "query_collisions_year_month = \"\"\"\n",
    "SELECT \n",
    "    EXTRACT(YEAR FROM collision_date) AS year,\n",
    "    EXTRACT(MONTH FROM collision_date) AS month,\n",
    "    COUNT(*) AS total_collisions\n",
    "FROM collisions\n",
    "WHERE EXTRACT(YEAR FROM collision_date) NOT IN ('2013', '2020')\n",
    "GROUP BY year, month\n",
    "ORDER BY year, month;\n",
    "\"\"\"\n",
    "# Выполняем SQL-запрос\n",
    "df_year_month_collisions = execute_query(query_collisions_year_month)\n",
    "\n",
    "# Построение графика\n",
    "plt.figure(figsize=(15, 8))\n",
    "sns.lineplot(x='month', y='total_collisions', hue='year', data=df_year_month_collisions, marker='o', palette='tab10')\n",
    "\n",
    "# Настройка графика\n",
    "plt.title('Распределение аварий по месяцам для каждого года', fontsize=16, fontweight='bold')\n",
    "plt.xlabel('Месяц', fontsize=14)\n",
    "plt.ylabel('Количество аварий', fontsize=14)\n",
    "plt.xticks(rotation=45)\n",
    "plt.grid(True, linestyle='--', alpha=0.7)\n",
    "plt.legend(title='Год', loc='right', fontsize=10)\n",
    "plt.show()"
   ]
  },
  {
   "cell_type": "markdown",
   "id": "76725a76",
   "metadata": {},
   "source": [
    "Что и требовалось доказать, данные за 2012 год не полные. Повторно определим аварийность в каждый месяц уже без учета 2012 года."
   ]
  },
  {
   "cell_type": "code",
   "execution_count": null,
   "id": "d091c343",
   "metadata": {
    "ExecuteTime": {
     "end_time": "2024-10-01T18:36:54.478794Z",
     "start_time": "2024-10-01T18:36:54.461794Z"
    }
   },
   "outputs": [],
   "source": [
    "# Выполняем SQL-запрос и строим график\n",
    "query_collisions_by_month = \"\"\"\n",
    "SELECT \n",
    "    EXTRACT(MONTH FROM collision_date) AS month,\n",
    "    COUNT(*) AS total_collisions\n",
    "FROM collisions\n",
    "WHERE EXTRACT(YEAR FROM collision_date) NOT IN ('2012', '2013', '2020')\n",
    "GROUP BY month\n",
    "ORDER BY total_collisions DESC;\n",
    "\"\"\"\n",
    "df_collisions_by_month = execute_query(query_collisions_by_month)\n",
    "\n",
    "# Построение графика\n",
    "plt.figure(figsize=(15, 6))\n",
    "sns.barplot(x=df_collisions_by_month['month'], y=df_collisions_by_month['total_collisions'])\n",
    "plt.title('Количество аварий по месяцам', fontsize=16, fontweight='bold')\n",
    "plt.xlabel('Месяц', fontsize=14)\n",
    "plt.ylabel('Количество аварий', fontsize=14)\n",
    "plt.grid(True, linestyle='--', alpha=0.7)\n",
    "plt.show()"
   ]
  },
  {
   "cell_type": "code",
   "execution_count": null,
   "id": "f37c3875",
   "metadata": {
    "ExecuteTime": {
     "end_time": "2024-10-01T18:36:54.542405Z",
     "start_time": "2024-10-01T18:36:54.517303Z"
    }
   },
   "outputs": [],
   "source": [
    "df_collisions_by_month"
   ]
  },
  {
   "cell_type": "markdown",
   "id": "3c3b2db5",
   "metadata": {},
   "source": [
    "**ВЫВОД:** Наиболее аварийные месяцы это октябрь, март и декабрь. Наиболее вероятная причина аварийности в такие месяцы связана с переходным периодом при смене сезонности. [Согласно источникам](https://pogoda.365c.ru/usa/los-angeles/po_mesyacam/) в Лос-Анджелесе в марте выпадают наиболее часты осадки. При этом в декабре много праздников и выходных дней, что в свою очередь вносит свой вклад в аварийность на дорогах. Также необходимо не включать в модель признак даты, так как за 2012 год даннные не полные."
   ]
  },
  {
   "cell_type": "markdown",
   "id": "490441ab",
   "metadata": {},
   "source": [
    "### Найдем взаимосвязь ДТП с состоянием дороги"
   ]
  },
  {
   "cell_type": "markdown",
   "id": "4fa7f0e2",
   "metadata": {},
   "source": [
    "Сделаем запрос в БД, для того, чтобы определить как распределены аварии для разных состояний дороги."
   ]
  },
  {
   "cell_type": "code",
   "execution_count": null,
   "id": "d086d4e2",
   "metadata": {
    "ExecuteTime": {
     "end_time": "2024-10-01T18:36:54.732450Z",
     "start_time": "2024-10-01T18:36:54.701338Z"
    },
    "scrolled": false
   },
   "outputs": [],
   "source": [
    "query_collision_factor = \"\"\"\n",
    "SELECT\n",
    "    collisions.road_surface AS road_condition,\n",
    "    collisions.collision_damage AS damage_severity,\n",
    "    COUNT(*) AS total_collisions\n",
    "FROM collisions\n",
    "GROUP BY road_condition, damage_severity\n",
    "ORDER BY total_collisions DESC;\n",
    "\"\"\"\n",
    "df_collision_factor = execute_query(query_collision_factor)\n",
    "\n",
    "# Построение графика\n",
    "plt.figure(figsize=(12, 6))\n",
    "sns.barplot(x='road_condition', y='total_collisions', hue='damage_severity', data=df_collision_factor, palette='muted')\n",
    "plt.title('Анализ серьёзности повреждений в зависимости от состояния дороги', fontsize=16, fontweight='bold')\n",
    "plt.xlabel('Состояние дороги', fontsize=14)\n",
    "plt.ylabel('Количество ДТП', fontsize=14)\n",
    "plt.legend(title='Серьёзность повреждений')\n",
    "plt.grid(True, linestyle='--', alpha=0.7)\n",
    "plt.show()"
   ]
  },
  {
   "cell_type": "markdown",
   "id": "a23d1b20",
   "metadata": {},
   "source": [
    "В разных условиях дорожного покрытия количество и серьёзность происшествий варьируется. На сухих дорогах происходит больше ДТП, но они чаще всего незначительные, в то время как на мокрых, снежных и скользких дорогах количество ДТП меньше, но процент тяжёлых случаев выше. В данных присутствуют еще один фактор состоятния дороги `road_condition_1`. Посмотрим как в них распределены данные."
   ]
  },
  {
   "cell_type": "code",
   "execution_count": null,
   "id": "8f2277b6",
   "metadata": {
    "ExecuteTime": {
     "end_time": "2024-10-01T18:36:54.827487Z",
     "start_time": "2024-10-01T18:36:54.806360Z"
    },
    "scrolled": false
   },
   "outputs": [],
   "source": [
    "query_collision_factor_1 = \"\"\"\n",
    "SELECT\n",
    "    collisions.road_condition_1 AS road_condition,\n",
    "    collisions.collision_damage AS damage_severity,\n",
    "    COUNT(*) AS total_collisions\n",
    "FROM collisions\n",
    "GROUP BY road_condition, damage_severity\n",
    "ORDER BY total_collisions DESC;\n",
    "\"\"\"\n",
    "df_collision_factor_1 = execute_query(query_collision_factor_1)\n",
    "\n",
    "# Построение графика\n",
    "plt.figure(figsize=(12, 6))\n",
    "sns.barplot(x='road_condition', y='total_collisions', hue='damage_severity', data=df_collision_factor_1, palette='muted')\n",
    "plt.title('Анализ серьёзности повреждений в зависимости от  физического состояния дороги', fontsize=16, fontweight='bold')\n",
    "plt.xlabel('Состояние дороги', fontsize=14)\n",
    "plt.ylabel('Количество ДТП', fontsize=14)\n",
    "plt.legend(title='Серьёзность повреждений')\n",
    "plt.grid(True, linestyle='--', alpha=0.7)\n",
    "plt.show()"
   ]
  },
  {
   "cell_type": "markdown",
   "id": "79d5866c",
   "metadata": {},
   "source": [
    "В количественном выражении в основном ДТП случаются на дорогах с нормальными условиями. Скорее всего из за того, что на таких дорогах водители менее сконцентрированы. Объеденим две категории и посмотрим на них."
   ]
  },
  {
   "cell_type": "code",
   "execution_count": null,
   "id": "eadb222e",
   "metadata": {
    "ExecuteTime": {
     "end_time": "2024-10-01T18:36:54.938486Z",
     "start_time": "2024-10-01T18:36:54.911377Z"
    }
   },
   "outputs": [],
   "source": [
    "query_collision_factor_all = \"\"\"\n",
    "SELECT\n",
    "    -- Объединение информации о дорожной поверхности и состоянии дороги\n",
    "    CONCAT(collisions.road_surface, ' & ', collisions.road_condition_1) AS road_condition_combined,\n",
    "\n",
    "    -- Уровень серьезности повреждений в результате столкновения\n",
    "    collisions.collision_damage AS damage_severity,\n",
    "\n",
    "    -- Подсчет общего количества столкновений для каждой комбинации условий\n",
    "    COUNT(*) AS total_collisions\n",
    "FROM collisions\n",
    "JOIN parties ON collisions.case_id = parties.case_id\n",
    "WHERE \n",
    "    collisions.road_surface IS NOT NULL\n",
    "    AND collisions.road_surface != ' '  -- исключаем пустые строки\n",
    "    AND collisions.road_condition_1 IS NOT NULL\n",
    "    AND collisions.road_condition_1 != ' '  -- исключаем пустые строки\n",
    "    AND collisions.collision_damage IS NOT NULL\n",
    "    AND collisions.collision_damage != ' '  -- исключаем пустые строки\n",
    "GROUP BY road_condition_combined, damage_severity\n",
    "ORDER BY total_collisions DESC;\n",
    "\"\"\"\n",
    "df_collision_factor_all = execute_query(query_collision_factor_all)\n",
    "\n",
    "# Отбор топ категорий по количеству ДТП\n",
    "df_collision_factor_all_top = df_collision_factor_all.nlargest(10, 'total_collisions')\n",
    "\n",
    "# Построение графика\n",
    "plt.figure(figsize=(14, 6))\n",
    "sns.barplot(\n",
    "    x='road_condition_combined', \n",
    "    y='total_collisions', \n",
    "    hue='damage_severity', \n",
    "    data=df_collision_factor_all_top, \n",
    "    palette='muted'\n",
    ")\n",
    "plt.title('Анализ серьёзности повреждений в зависимости от состояния дороги', fontsize=16, fontweight='bold')\n",
    "plt.xlabel('Состояние дороги (поверхность и условия)', fontsize=14)\n",
    "plt.ylabel('Количество ДТП', fontsize=14)\n",
    "plt.xticks(rotation=90)\n",
    "plt.legend(title='Серьёзность повреждений')\n",
    "plt.grid(True, linestyle='--', alpha=0.7)\n",
    "plt.tight_layout()  # Чтобы не было наложения меток оси X\n",
    "plt.show()"
   ]
  },
  {
   "cell_type": "markdown",
   "id": "89350790",
   "metadata": {},
   "source": [
    "На основе обновленного графика, который детализирует количество дорожно-транспортных происшествий в зависимости от состояния дороги (поверхность и условия) и серьёзности повреждений, можно сделать следующие выводы: Что главым фактором все же остается состояние дороги из-за погоды а уже после физическое состояние поверхности.\n",
    "\n",
    "Посмотрим на данные в разрезе их процентного распределения внутри "
   ]
  },
  {
   "cell_type": "code",
   "execution_count": null,
   "id": "df00bb59",
   "metadata": {
    "ExecuteTime": {
     "end_time": "2024-10-01T18:36:55.033506Z",
     "start_time": "2024-10-01T18:36:55.013401Z"
    }
   },
   "outputs": [],
   "source": [
    "# Группируем данные по road_condition_combined и damage_severity и суммируем количество ДТП\n",
    "df_pivot_factor = df_collision_factor.pivot_table(\n",
    "    index='road_condition',\n",
    "    columns='damage_severity',\n",
    "    values='total_collisions',\n",
    "    aggfunc='sum'\n",
    ")\n",
    "\n",
    "# Рассчитываем процентные значения для каждой категории внутри группы состояния дороги\n",
    "df_percentage_factor = df_pivot_factor.div(df_pivot_factor.sum(axis=1), axis=0) * 100\n",
    "\n",
    "# Построение stacked bar chart с процентными значениями\n",
    "df_percentage_factor.plot(kind='bar', stacked=True, figsize=(14, 6), colormap='Paired')\n",
    "\n",
    "# Настройки графика\n",
    "plt.title('Процентное соотношение серьёзности повреждений в зависимости от состояния дороги', fontsize=16, fontweight='bold')\n",
    "plt.xlabel('Cостояние дороги из-за погоды', fontsize=14)\n",
    "plt.ylabel('Процентное соотношение ДТП', fontsize=14)\n",
    "plt.xticks(rotation=90)\n",
    "plt.legend(title='Серьёзность повреждений')\n",
    "plt.grid(True, linestyle='--', alpha=0.7)\n",
    "plt.tight_layout()  # Для предотвращения наложения меток\n",
    "plt.show()"
   ]
  },
  {
   "cell_type": "code",
   "execution_count": null,
   "id": "9a0af44d",
   "metadata": {
    "ExecuteTime": {
     "end_time": "2024-10-01T18:36:55.096419Z",
     "start_time": "2024-10-01T18:36:55.068911Z"
    }
   },
   "outputs": [],
   "source": [
    "df_percentage_factor.sort_values('fatal', ascending=False)"
   ]
  },
  {
   "cell_type": "markdown",
   "id": "4804aded",
   "metadata": {},
   "source": [
    "Согласно данным на скользкой поверхности преобладают сильные повреждения автомобиля, при этом в снежную погоду водители более аккуратны, при этом необходимо иметь ввиду, что данные в основном из теплых штатов, что свою очередь имеют сильный дисбаланс по погодым факторам."
   ]
  },
  {
   "cell_type": "code",
   "execution_count": null,
   "id": "1d837e88",
   "metadata": {
    "ExecuteTime": {
     "start_time": "2024-10-01T18:36:55.169Z"
    }
   },
   "outputs": [],
   "source": [
    "# Группируем данные по road_condition_combined и damage_severity и суммируем количество ДТП\n",
    "df_pivot_factor_1 = df_collision_factor_1.pivot_table(\n",
    "    index='road_condition',\n",
    "    columns='damage_severity',\n",
    "    values='total_collisions',\n",
    "    aggfunc='sum'\n",
    ")\n",
    "\n",
    "# Рассчитываем процентные значения для каждой категории внутри группы состояния дороги\n",
    "df_percentage_factor_1 = df_pivot_factor_1.div(df_pivot_factor_1.sum(axis=1), axis=0) * 100\n",
    "\n",
    "# Построение stacked bar chart с процентными значениями\n",
    "df_percentage_factor_1.plot(kind='bar', stacked=True, figsize=(14, 6), colormap='Paired')\n",
    "\n",
    "# Настройки графика\n",
    "plt.title('Процентное соотношение серьёзности повреждений в зависимости от состояния дороги', fontsize=16, fontweight='bold')\n",
    "plt.xlabel('Физическое состояние дороги', fontsize=14)\n",
    "plt.ylabel('Процентное соотношение ДТП', fontsize=14)\n",
    "plt.xticks(rotation=90)\n",
    "plt.legend(title='Серьёзность повреждений')\n",
    "plt.grid(True, linestyle='--', alpha=0.7)\n",
    "plt.tight_layout()  # Для предотвращения наложения меток\n",
    "plt.show()"
   ]
  },
  {
   "cell_type": "code",
   "execution_count": null,
   "id": "e648c5ab",
   "metadata": {
    "ExecuteTime": {
     "start_time": "2024-10-01T18:36:55.228Z"
    }
   },
   "outputs": [],
   "source": [
    "df_percentage_factor_1.sort_values('fatal', ascending=False)"
   ]
  },
  {
   "cell_type": "markdown",
   "id": "a683b9f6",
   "metadata": {},
   "source": [
    "Также основной фактор который определяет серьезность повреждения автомобиля это наличие на дороге рассыпанного материала. Данный фактор является весьма внезапным для автомобилистов, что и влечет за собой серьезность повреждений. Также другие не указанные факторы, также имеют серьезную составляющую в определение степени повреждения автомобиля. "
   ]
  },
  {
   "cell_type": "markdown",
   "id": "a5b19411",
   "metadata": {},
   "source": [
    "Посмотрим на данные для объединеных факторов"
   ]
  },
  {
   "cell_type": "code",
   "execution_count": null,
   "id": "402054c7",
   "metadata": {
    "ExecuteTime": {
     "start_time": "2024-10-01T18:36:55.370Z"
    }
   },
   "outputs": [],
   "source": [
    "# Группируем данные по road_condition_combined и damage_severity и суммируем количество ДТП\n",
    "df_pivot_collision_factor_all = df_collision_factor_all.pivot_table(\n",
    "    index='road_condition_combined',\n",
    "    columns='damage_severity',\n",
    "    values='total_collisions',\n",
    "    aggfunc='sum'\n",
    ")\n",
    "\n",
    "# Рассчитываем процентные значения для каждой категории внутри группы состояния дороги\n",
    "df_percentage_collision_factor_all = df_pivot_collision_factor_all.div(df_pivot_collision_factor_all.sum(axis=1), axis=0) * 100\n",
    "\n",
    "# Построение stacked bar chart с процентными значениями\n",
    "df_percentage_collision_factor_all.plot(kind='bar', stacked=True, figsize=(14, 6), colormap='Paired')\n",
    "\n",
    "# Настройки графика\n",
    "plt.title('Процентное соотношение серьёзности повреждений в зависимости от состояния дороги', fontsize=16, fontweight='bold')\n",
    "plt.xlabel('Состояние дороги (поверхность и условия)', fontsize=14)\n",
    "plt.ylabel('Процентное соотношение ДТП', fontsize=14)\n",
    "plt.xticks(rotation=90)\n",
    "plt.legend(title='Серьёзность повреждений')\n",
    "plt.grid(True, linestyle='--', alpha=0.7)\n",
    "plt.tight_layout()  # Для предотвращения наложения меток\n",
    "plt.show()"
   ]
  },
  {
   "cell_type": "code",
   "execution_count": null,
   "id": "9afc5068",
   "metadata": {
    "ExecuteTime": {
     "start_time": "2024-10-01T18:36:55.428Z"
    }
   },
   "outputs": [],
   "source": [
    "df_percentage_collision_factor_all.sort_values(['small damage', 'scratch']).head(10)"
   ]
  },
  {
   "cell_type": "markdown",
   "id": "8c7e5cae",
   "metadata": {},
   "source": [
    "На основе представленного графика процентного соотношения серьёзности повреждений в зависимости от состояния дороги, можно сделать следующие выводы:\n",
    "\n",
    "\n",
    "1. **Состояние дороги и виды повреждений**:\n",
    "   - На сухих дорогах (`dry & normal`, `dry & loose material`) преобладают случаи с небольшими повреждениями (`small damage`), что может быть связано с большим количеством мелких столкновений при высокой скорости, которые не влекут серьёзных последствий.\n",
    "   - На мокрых (`wet & normal`) и скользких (`slippery & normal`) дорогах, несмотря на сниженное количество аварий, увеличивается доля серьёзных (`severe damage`) и смертельных (`fatal`) исходов, что указывает на ухудшение управляемости и тормозных качеств автомобилей в таких условиях.\n",
    "\n",
    "\n",
    "2. **Особые условия дорог**:\n",
    "   - `Dry & flooded` (сухая и затопленная дорога) демонстрирует высокую долю аварий с повреждениями типа `scratch`, что может свидетельствовать о неожиданных препятствиях на дороге, которые не вызывают серьёзных аварий.\n",
    "   - `Slippery & reduced width` (скользкая дорога с уменьшенной шириной) показывает высокий процент случаев с незначительными повреждениями, что может быть связано с более осторожным вождением в условиях узкой дороги.\n",
    "\n",
    "\n",
    "3. **Зимние условия**:\n",
    "   - Зимние дорожные условия (`snowy & normal`, `snowy & flooded`) также приводят к повышенной доле серьёзных повреждений, подчёркивая трудность управления и потенциальную опасность при вождении в снег.\n",
    "   - Особенно опасными являются дороги со снегом и уменьшенной шириной (`snowy & reduced width`), где практически отсутствуют лёгкие повреждения.\n",
    "\n",
    "\n",
    "**Интересные моменты**:\n",
    "- `Slippery & construction` (скользкая дорога в условиях строительства) и `snowy & construction` (снежная дорога в условиях строительства) показывают интересные результаты с высокой долей незначительных повреждений, что может указывать на то, что строительные зоны стимулируют более внимательное и осторожное вождение.\n",
    "- `Dry & construction` (сухая дорога в условиях строительства) имеет схожий профиль, где также доминируют незначительные повреждения.\n",
    "\n",
    "**Заключение**:\n",
    "- Данные подтверждают необходимость адаптации стиля вождения и скоростного режима к текущим условиям дороги. Также они подчеркивают важность информирования водителей о текущих условиях через дорожные знаки, особенно в сложных и переменных погодных условиях."
   ]
  },
  {
   "cell_type": "markdown",
   "id": "c9edea79",
   "metadata": {},
   "source": [
    "**ВЫВОД:**\n",
    "\n",
    "В разделе 2.2 мы рассмотрели взаимосвязь между состоянием дороги и серьёзностью происшествий на основе анализа данных из базы данных о ДТП. Главные выводы из этого анализа следующие:\n",
    "\n",
    "1. **Влияние состояния дороги на ДТП**: \n",
    "   - Сухие дороги характеризуются большим количеством происшествий, но большинство из них имеют незначительные повреждения. Это может быть связано с тем, что при хороших дорожных условиях водители чувствуют себя увереннее и движутся быстрее, что ведёт к увеличению числа мелких столкновений.\n",
    "   - На мокрых, скользких и снежных дорогах количество ДТП меньше, но доля серьёзных и смертельных исходов значительно выше. Это подчёркивает риски, связанные с управлением транспортным средством при плохих погодных условиях и скользком дорожном покрытии.\n",
    "\n",
    "\n",
    "2. **Особые условия дорог**: Дороги с особыми условиями, такие как строительство или затопление, требуют от водителей повышенного внимания и могут привести к увеличению числа ДТП с лёгкими повреждениями из-за неожиданных препятствий.\n",
    "\n",
    "\n",
    "3. **Процентное распределение по серьёзности повреждений**: Анализ процентного распределения показывает, что на дорогах с плохими условиями, такими как скользкость или наличие рассыпанного материала, повышается доля серьёзных повреждений. Это указывает на необходимость предпринятия мер по предотвращению таких условий или лучшего информирования водителей о потенциальных опасностях.\n",
    "\n",
    "\n",
    "4. **Информирование и профилактика**: На основе данных анализа подчёркивается важность обучения водителей и предоставления информации о текущих дорожных условиях. Это может включать усиление дорожной разметки, установку предупреждающих знаков и активное информирование через дорожные информационные системы, особенно в плохую погоду.\n",
    "\n",
    "\n",
    "**Общий вывод**: Исследование подтвердило, что состояние дороги играет критическую роль в безопасности дорожного движения. Необходим комплексный подход, включающий техническое обслуживание дорог, обучение водителей и активное использование дорожных информационных систем для снижения количества и серьёзности ДТП."
   ]
  },
  {
   "cell_type": "markdown",
   "id": "4cad9c8f",
   "metadata": {},
   "source": [
    "### Определение наиболее частых причин ДТП"
   ]
  },
  {
   "cell_type": "markdown",
   "id": "fea4263a",
   "metadata": {},
   "source": [
    "Под причинами дорожно-транспортных происшествий можно понимать различные факторы, такие как нарушение правил дорожного движения, сон или употребление запрещённых веществ. Рассмотрим, какие признаки наиболее распространены в ДТП. В качестве исследуемых данных будем использовать следующие категории: `PARTY_DRUG_PHYSICAL, CELLPHONE_IN_USE и PARTY_SOBRIETY`из таблицы `Parties`, а также `primary_collision_factor` из таблицы `collisions`. Будем рассматривать "
   ]
  },
  {
   "cell_type": "code",
   "execution_count": null,
   "id": "c6b55487",
   "metadata": {
    "ExecuteTime": {
     "start_time": "2024-10-01T18:36:55.657Z"
    }
   },
   "outputs": [],
   "source": [
    "# SQL-запрос для случаев, где parties.at_fault = 1\n",
    "query_primary_collision_factor_fault_0 = \"\"\"\n",
    "SELECT\n",
    "    c.primary_collision_factor AS cause,\n",
    "    COUNT(*) AS total_collisions,\n",
    "    'At Fault' AS fault_status\n",
    "FROM collisions AS c\n",
    "JOIN parties AS p ON c.case_id = p.case_id\n",
    "WHERE p.at_fault = 1\n",
    "GROUP BY c.primary_collision_factor\n",
    "ORDER BY total_collisions DESC;\n",
    "\"\"\"\n",
    "\n",
    "# SQL-запрос для случаев, где parties.at_fault = 0\n",
    "query_primary_collision_factor_fault_1 = \"\"\"\n",
    "SELECT\n",
    "    c.primary_collision_factor AS cause,\n",
    "    COUNT(*) AS total_collisions,\n",
    "    'Not At Fault' AS fault_status\n",
    "FROM collisions AS c\n",
    "JOIN parties AS p ON c.case_id = p.case_id\n",
    "WHERE p.at_fault = 0\n",
    "GROUP BY c.primary_collision_factor\n",
    "ORDER BY total_collisions DESC;\n",
    "\"\"\"\n",
    "\n",
    "# Выполняем оба запроса\n",
    "df_primary_collision_factor_fault_0 = execute_query(query_primary_collision_factor_fault_0).reset_index(drop=True)\n",
    "df_primary_collision_factor_fault_1 = execute_query(query_primary_collision_factor_fault_1).reset_index(drop=True)\n",
    "\n",
    "# Объединяем результаты в один DataFrame и снова сбрасываем индекс после объединения\n",
    "df_primary_collision_factor = pd.concat([\n",
    "    df_primary_collision_factor_fault_0, \n",
    "    df_primary_collision_factor_fault_1\n",
    "]).reset_index(drop=True)\n",
    "\n",
    "# Построение графика\n",
    "plt.figure(figsize=(12, 8))\n",
    "sns.barplot(x='total_collisions', y='cause', hue='fault_status', data=df_primary_collision_factor, palette=\"muted\")\n",
    "plt.title('Сравнение причин ДТП (виновник vs не виновник)', fontsize=16, fontweight='bold')\n",
    "plt.xlabel('Количество ДТП', fontsize=14)\n",
    "plt.ylabel('Причина ДТП', fontsize=14)\n",
    "plt.legend(title='Fault Status')\n",
    "plt.grid(True, linestyle='--', alpha=0.7)\n",
    "plt.show()"
   ]
  },
  {
   "cell_type": "markdown",
   "id": "9449625a",
   "metadata": {},
   "source": [
    "Наиболее частая причина ДТП это нарушение правил дорожного движения. Переведен все в процентную шкалу"
   ]
  },
  {
   "cell_type": "code",
   "execution_count": null,
   "id": "077ee275",
   "metadata": {
    "ExecuteTime": {
     "start_time": "2024-10-01T18:36:55.762Z"
    },
    "scrolled": true
   },
   "outputs": [],
   "source": [
    "query_primary_collision_factor = \"\"\"\n",
    "SELECT\n",
    "    primary_collision_factor AS cause,\n",
    "    COUNT(*) AS total_collisions\n",
    "FROM collisions\n",
    "GROUP BY cause\n",
    "ORDER BY total_collisions DESC;\n",
    "\"\"\"\n",
    "df_primary_collision_factor = execute_query(query_primary_collision_factor)\n",
    "\n",
    "# Считаем общую сумму столкновений для этих категорий\n",
    "total_collisions = df_primary_collision_factor['total_collisions'].sum()\n",
    "\n",
    "# Рассчет процентного соотношения\n",
    "df_primary_collision_factor['percentage'] = (df_primary_collision_factor['total_collisions'] / total_collisions) * 100\n",
    "\n",
    "df_primary_collision_factor"
   ]
  },
  {
   "cell_type": "markdown",
   "id": "fb3aab5d",
   "metadata": {},
   "source": [
    "Как мы видим `unknown` и `other improper driving` присущи только для невиновников ДТП. 94% имеет причина нарушение ПДД. Целесообразность остальных занчений крайне мала, поэтому необходимо остальные категории объеденить, либо вообще создать новую категорию `наличие нарушений ПДД`"
   ]
  },
  {
   "cell_type": "code",
   "execution_count": null,
   "id": "dea530ce",
   "metadata": {
    "ExecuteTime": {
     "start_time": "2024-10-01T18:36:55.867Z"
    }
   },
   "outputs": [],
   "source": [
    "query_party_status = \"\"\"\n",
    "SELECT\n",
    "    PARTY_DRUG_PHYSICAL AS party_status,\n",
    "    COUNT(*) AS total_collisions\n",
    "FROM parties\n",
    "WHERE at_fault = 1\n",
    "GROUP BY party_status\n",
    "ORDER BY total_collisions DESC;\n",
    "\"\"\"\n",
    "df_party_status = execute_query(query_party_status)\n",
    "\n",
    "# Построение графика\n",
    "plt.figure(figsize=(12, 8))\n",
    "sns.barplot(x='total_collisions', y='party_status', data=df_party_status, palette=\"muted\")\n",
    "plt.title('Сравнение причин ДТП по причине состояния водителя', fontsize=16, fontweight='bold')\n",
    "plt.xlabel('Количество ДТП', fontsize=14)\n",
    "plt.ylabel('Причина ДТП', fontsize=14)\n",
    "plt.grid(True, linestyle='--', alpha=0.7)\n",
    "plt.show()"
   ]
  },
  {
   "cell_type": "code",
   "execution_count": null,
   "id": "c0c8410b",
   "metadata": {
    "ExecuteTime": {
     "start_time": "2024-10-01T18:36:55.924Z"
    }
   },
   "outputs": [],
   "source": [
    "df_party_status"
   ]
  },
  {
   "cell_type": "markdown",
   "id": "b2bc1b6a",
   "metadata": {},
   "source": [
    "В данных достаточно количество пропущенных значений. Большинство случаев связанно с категорией `G` что означает `Не известно`, что в контексте не до конца понятно, что это значит. Избавимся от неиформативных признаков и посмотрим как они распределены в проценттном соотношении."
   ]
  },
  {
   "cell_type": "code",
   "execution_count": null,
   "id": "a27422fa",
   "metadata": {
    "ExecuteTime": {
     "start_time": "2024-10-01T18:36:56.025Z"
    }
   },
   "outputs": [],
   "source": [
    "# Выполняем SQL-запрос для получения данных\n",
    "query_party_status = \"\"\"\n",
    "SELECT\n",
    "    PARTY_DRUG_PHYSICAL AS party_status,\n",
    "    COUNT(*) AS total_collisions\n",
    "FROM parties\n",
    "WHERE at_fault = 1 \n",
    "AND PARTY_DRUG_PHYSICAL IN ('sleepy/fatigued', 'impairment - physical', 'under drug influence')\n",
    "GROUP BY PARTY_DRUG_PHYSICAL\n",
    "ORDER BY total_collisions DESC;\n",
    "\"\"\"\n",
    "df_party_status = execute_query(query_party_status)\n",
    "\n",
    "# Считаем общую сумму столкновений для этих категорий\n",
    "total_collisions_in_group = df_party_status['total_collisions'].sum()\n",
    "\n",
    "# Рассчитываем процентное соотношение для каждой категории от общей суммы\n",
    "df_party_status['percentage'] = (df_party_status['total_collisions'] / total_collisions_in_group) * 100\n",
    "\n",
    "# Построение графика\n",
    "plt.figure(figsize=(12, 8))\n",
    "sns.barplot(x='percentage', y='party_status', data=df_party_status, palette=\"muted\")\n",
    "plt.title('Доля столкновений по причинам (sleepy/fatigued, impairment - physical, under drug influence)', fontsize=16, fontweight='bold')\n",
    "plt.xlabel('Процент от общего числа столкновений', fontsize=14)\n",
    "plt.ylabel('Причина столкновения', fontsize=14)\n",
    "plt.grid(True, linestyle='--', alpha=0.7)\n",
    "plt.show()\n"
   ]
  },
  {
   "cell_type": "markdown",
   "id": "b4e0c07e",
   "metadata": {},
   "source": [
    "Лекарства и усталось имеют одинаковый риск вызвать ДТП."
   ]
  },
  {
   "cell_type": "code",
   "execution_count": null,
   "id": "4fd66fe6",
   "metadata": {
    "ExecuteTime": {
     "start_time": "2024-10-01T18:36:56.128Z"
    },
    "scrolled": false
   },
   "outputs": [],
   "source": [
    "query_party_sobriety = \"\"\"\n",
    "SELECT\n",
    "    PARTY_SOBRIETY AS party_sobriety,\n",
    "    COUNT(*) AS total_collisions\n",
    "FROM parties\n",
    "WHERE at_fault = 1\n",
    "GROUP BY party_sobriety\n",
    "ORDER BY total_collisions DESC;\n",
    "\"\"\"\n",
    "df_party_sobriety = execute_query(query_party_sobriety)\n",
    "\n",
    "# Рассчитываем процентное соотношение для каждой категории от общей суммы\n",
    "df_party_sobriety['percentage'] = (df_party_sobriety['total_collisions'] / total_collisions) * 100\n",
    "\n",
    "# Построение графика\n",
    "plt.figure(figsize=(12, 8))\n",
    "sns.barplot(x='percentage', y='party_sobriety', data=df_party_sobriety, palette=\"muted\")\n",
    "plt.title('Количество ДТП связанных с опьянением виновника', fontsize=16, fontweight='bold')\n",
    "plt.xlabel('Количество ДТП', fontsize=14)\n",
    "plt.ylabel('Трезвость', fontsize=14)\n",
    "plt.grid(True, linestyle='--', alpha=0.7)\n",
    "plt.show()"
   ]
  },
  {
   "cell_type": "code",
   "execution_count": null,
   "id": "8de2309f",
   "metadata": {
    "ExecuteTime": {
     "start_time": "2024-10-01T18:36:56.184Z"
    }
   },
   "outputs": [],
   "source": [
    "df_party_sobriety"
   ]
  },
  {
   "cell_type": "markdown",
   "id": "62322dab",
   "metadata": {},
   "source": [
    "В большинстве случаях виновник ДТП был трез. При этом 7.6% связан с аклогольным опьянением."
   ]
  },
  {
   "cell_type": "markdown",
   "id": "a5bbd799",
   "metadata": {},
   "source": [
    "Проведем перекрестную заимосвязь между `PARTY_DRUG_PHYSICAL и PARTY_SOBRIETY`"
   ]
  },
  {
   "cell_type": "code",
   "execution_count": null,
   "id": "cd8618e1",
   "metadata": {
    "ExecuteTime": {
     "start_time": "2024-10-01T18:36:56.338Z"
    },
    "scrolled": false
   },
   "outputs": [],
   "source": [
    "query_sobriety_vs_status = '''\n",
    "SELECT \n",
    "    c.primary_collision_factor,\n",
    "    p.party_sobriety,\n",
    "    COUNT(*) AS count\n",
    "FROM parties AS p\n",
    "JOIN collisions AS c ON p.case_id = c.case_id\n",
    "WHERE \n",
    "    p.at_fault = 1 AND\n",
    "    c.primary_collision_factor NOT IN ('unknown', 'None', 'other than driver') AND\n",
    "    p.party_sobriety NOT IN ('not applicable')\n",
    "GROUP BY p.party_sobriety, c.primary_collision_factor\n",
    "ORDER BY count DESC;\n",
    "'''\n",
    "\n",
    "df_sobriety_vs_status = execute_query(query_sobriety_vs_status)\n",
    "\n",
    "# Замена английских названий на русские\n",
    "translation_dict = {\n",
    "    'fell asleep': 'Уснул',\n",
    "    'other improper driving': 'Другое неправильное вождение',\n",
    "    'vehicle code violation': 'Нарушение правил ПДД',\n",
    "    'had not been drinking': 'Не пил',\n",
    "    'had been drinking, not under influence': 'Был пьян, не под влиянием',\n",
    "    'had been drinking, impairment unknown': 'Был пьян, ухудшение неизвестно',\n",
    "    'impairment unknown': 'Неизвестно ухудшение',\n",
    "    'had been drinking, under influence': 'Был пьян, под влиянием'\n",
    "}\n",
    "df_sobriety_vs_status.replace(translation_dict, inplace=True)\n",
    "\n",
    "# Построение графика\n",
    "plt.figure(figsize=(15, 8))\n",
    "\n",
    "# Построение scatter-графика\n",
    "scatter_plot = plt.scatter(\n",
    "    x=df_sobriety_vs_status['primary_collision_factor'],\n",
    "    y=df_sobriety_vs_status['party_sobriety'],\n",
    "    s=df_sobriety_vs_status['count'] * 0.01,  # Масштабируем размер точек\n",
    "    alpha=0.85,\n",
    ")\n",
    "\n",
    "plt.title('Зависимость между основным фактором ДТП и трезвостью участника', fontsize=16)\n",
    "plt.xlabel('Основной фактор аварии', fontsize=14)\n",
    "plt.xticks(fontsize=12)\n",
    "plt.ylabel('Трезвость участника', fontsize=14)\n",
    "plt.yticks(fontsize=12)\n",
    "\n",
    "# Добавляем отступы\n",
    "plt.margins(x=0.1, y=0.2)  # 20% отступ по осям X и Y\n",
    "\n",
    "plt.tight_layout()\n",
    "plt.show()"
   ]
  },
  {
   "cell_type": "markdown",
   "id": "09401cd4",
   "metadata": {},
   "source": [
    "Из графика \"Зависимость между основным фактором ДТП и трезвостью участника\" видно:\n",
    "\n",
    "1. **Большинство ДТП происходит с трезвыми водителями**, что указывает на то, что причины аварий зачастую связаны не с употреблением алкоголя.\n",
    "2. **Алкоголь все же играет значительную роль** в авариях, особенно когда водители находятся под его влиянием.\n",
    "3. **Нарушение правил ПДД** — наиболее частая причина ДТП"
   ]
  },
  {
   "cell_type": "markdown",
   "id": "60185e94",
   "metadata": {},
   "source": [
    "### Найдем взаимосвязь ДТП с освещенностью"
   ]
  },
  {
   "cell_type": "code",
   "execution_count": null,
   "id": "933792cf",
   "metadata": {
    "ExecuteTime": {
     "start_time": "2024-10-01T18:36:56.489Z"
    },
    "scrolled": true
   },
   "outputs": [],
   "source": [
    "query_lighting = \"\"\"\n",
    "SELECT \n",
    "    c.LIGHTING AS lighting, \n",
    "    COUNT(*) AS total_collisions\n",
    "FROM collisions AS c\n",
    "JOIN parties AS p ON c.case_id = p.case_id\n",
    "WHERE c.lighting IS NOT NULL AND p.at_fault = 1\n",
    "GROUP BY c.lighting\n",
    "ORDER BY total_collisions DESC;\n",
    "\"\"\"\n",
    "df_lighting = execute_query(query_lighting)  \n",
    "\n",
    "# Считаем общую сумму столкновений для этих категорий\n",
    "total_collisions_in_group = df_lighting['total_collisions'].sum()\n",
    "\n",
    "# Рассчитываем процентное соотношение для каждой категории от общей суммы\n",
    "df_lighting['percentage'] = (df_lighting['total_collisions'] / total_collisions_in_group) * 100\n",
    "\n",
    "plt.figure(figsize=(12, 6))\n",
    "sns.barplot(data=df_lighting, x='percentage', y='lighting')\n",
    "plt.title('Влияние освещености на частоту ДТП')\n",
    "plt.xlabel('Освещенность')\n",
    "plt.ylabel('Количество ДТП')\n",
    "plt.show()"
   ]
  },
  {
   "cell_type": "code",
   "execution_count": null,
   "id": "6195abcf",
   "metadata": {
    "ExecuteTime": {
     "start_time": "2024-10-01T18:36:56.547Z"
    }
   },
   "outputs": [],
   "source": [
    "df_lighting"
   ]
  },
  {
   "cell_type": "markdown",
   "id": "a59f452b",
   "metadata": {},
   "source": [
    "**ВЫВОД:** В основном ДТП происходят в при наличии освещения."
   ]
  },
  {
   "cell_type": "markdown",
   "id": "b5761142",
   "metadata": {},
   "source": [
    "**ОБЩИЙ ВЫВОД ПО РАЗДЕЛУ 2 \"СТАТИСТИЧЕСКИЙ АНАЛИЗ ФАКТОРОВ ДТП\":**\n",
    "\n",
    "В результате анализа данных о дорожно-транспортных происшествиях удалось выявить несколько значимых закономерностей:\n",
    "\n",
    "1. **Наиболее аварийные месяцы**: \n",
    "- Анализ распределения ДТП по месяцам показал, что пик аварийности приходится на октябрь, март и декабрь. Причины могут быть связаны с переходными сезонами и изменением погодных условий, а также увеличением числа поездок в праздничные периоды (декабрь). Этот вывод подчеркивает необходимость дополнительных мер по обеспечению безопасности в эти периоды.\n",
    "\n",
    "\n",
    "2. **Влияние состояния дороги на серьёзность ДТП**: \n",
    "- Сухие дороги приводят к большему числу аварий, но в основном с незначительными повреждениями. В то же время, на мокрых, снежных и скользких дорогах наблюдается меньшее количество аварий, но процент серьёзных и смертельных случаев значительно выше. Это говорит о важности подготовки водителей и улучшения дорожной инфраструктуры в неблагоприятных погодных условиях.\n",
    "\n",
    "\n",
    "3. **Основные причины ДТП**:\n",
    "- Наиболее частая причина ДТП — нарушение правил дорожного движения. Около 94% аварий связано с этим фактором, что подчеркивает важность соблюдения правил и усиления контроля на дорогах.\n",
    "- Важно отметить, что категории, такие как \"Неизвестно ухудшение\" и \"Другие неправильные действия\", чаще встречаются у участников, не виновных в авариях. Это требует дальнейшего анализа для лучшего понимания этих категорий.\n",
    "\n",
    "\n",
    "4. **Влияние освещенности на количество ДТП**: \n",
    "- Большая часть аварий происходит в дневное время, когда освещенность на дорогах высокая. Однако, значительная доля ДТП также приходится на темное время суток, особенно в условиях уличного освещения. Это подчеркивает важность качественного освещения дорог для предотвращения аварий в ночное время.\n",
    "\n",
    "\n",
    "5. **Роль алкоголя и усталости**:\n",
    "- Несмотря на то, что большая часть ДТП происходит с трезвыми водителями, 7.6% аварий всё же связаны с алкогольным опьянением. Это указывает на необходимость усиления мер по борьбе с вождением в нетрезвом виде.\n",
    "- Также был выявлен значительный риск аварий, связанных с усталостью водителей и воздействием наркотических средств.\n",
    "\n",
    "**Рекомендации:**\n",
    "- Усиление мер безопасности в периоды повышенной аварийности (осень, весна и праздничные месяцы).\n",
    "- Обеспечение дорожных условий, включая улучшение освещения и информирование водителей о текущем состоянии дорог.\n",
    "- Повышение контроля за соблюдением правил дорожного движения, в том числе через использование технологий, таких как автоматические системы контроля скорости и нарушения.\n",
    "- Образовательные программы, направленные на снижение количества случаев вождения в состоянии усталости или алкогольного/наркотического опьянения."
   ]
  },
  {
   "cell_type": "markdown",
   "id": "5a155749",
   "metadata": {},
   "source": [
    "## Отбор данных для модели"
   ]
  },
  {
   "cell_type": "markdown",
   "id": "b36ca95f",
   "metadata": {},
   "source": [
    "Для создания модели оценки водительского риска на основе первоначального предположения заказчика, необходимо выполнить следующие действия:\n",
    "\n",
    "1. Учесть только случаи, где виновником аварии является только **автомобиль (car)**.\n",
    "2. Включить в выборку инциденты, которые привели к **значимым повреждениям** автомобиля участников (исключить случаи с типом повреждения \"scratch\").\n",
    "3. Использовать данные только за **2012 год**.\n",
    "4. Добавить в модель фактор **возраста автомобиля**.\n",
    "5. Подготовить исходную таблицу с использованием SQL-запроса.\n",
    "\n",
    "**SQL-запрос должен:**\n",
    "- Фильтровать данные по типу виновника \"car\".\n",
    "- Исключать записи с типом повреждения \"scratch\".\n",
    "- Выбирать данные за 2012 год.\n",
    "- Включать информацию о возрасте автомобиля."
   ]
  },
  {
   "cell_type": "markdown",
   "id": "51fa8062",
   "metadata": {},
   "source": [
    "Для задачи оценки риска ДТП мы будем понимать под \"риском\" вероятность возникновения аварии с любым повреждением транспортного средства. Как только водитель бронирует автомобиль, садится за руль и выбирает маршрут, система должна автоматически оценить уровень риска. В случае высокого риска водитель получит предупреждение и рекомендации по корректировке маршрута. \n",
    "\n",
    "Следовательно, для модели должны быть учтены следующие данные:\n",
    "- Информация о маршруте (длина, особенности, условия).\n",
    "- Данные о водителе (стаж, возраст, наличие нарушений в истории).\n",
    "- Характеристики автомобиля (возраст, тип, техническое состояние).\n",
    "- Факторы окружающей среды (погодные условия, загруженность дорог, день недели и т.д.).\n",
    "\n",
    "В модели **нельзя** использовать признаки, которые могут вызвать утечку целевой переменной, то есть напрямую связаны с исходом происшествия. К таким признакам относятся:\n",
    "- `PRIMARY_COLL_FACTOR` — основной фактор аварии.\n",
    "- `COLLISION_DAMAGE` — серьёзность происшествия.\n",
    "- `TYPE_OF_COLLISION` — тип столкновения.\n",
    "- `MOTOR_VEHICLE_INVOLVED_WITH` — дополнительные участники ДТП.\n",
    "- `INSURANCE_PREMIUM` — сумма страховки (неясно, относится ли это к сумме страховой выплаты после происшествия или к сумме, на которую застрахован участник).\n",
    "\n",
    "Также нельзя включать признаки, которые были определены **после** происшествия, такие как:\n",
    "- `CONTROL_CONDITION_1` — состояние управляющего устройства (неясно, относится ли это к неисправности, возникшей после аварии, или к наличию дополнительной функции автомобиля).\n",
    "- `PCF_VIOLATION_CATEGORY` — категория нарушения (данные должны быть включены, только если они относятся к истории нарушений водителя, а не к фактам, выявленным после аварии).\n",
    "\n",
    "Допускается включение данных о предыдущих нарушениях, если они заранее зарегистрированы в базе и относятся к истории водителя, что позволяет учесть наличие факторов риска, связанных с его поведением на дороге."
   ]
  },
  {
   "cell_type": "markdown",
   "id": "30ac1d18",
   "metadata": {},
   "source": [
    "**Отберем следующие признаки для модели:**\n",
    "\n",
    "**Факторы из таблицы `parties` (описание участников происшествия):**\n",
    "- **`at_fault` (Виновность участника)** — целевая переменная (таргет), показывающая, был ли участник виновен в ДТП. Этот фактор важен для оценки вероятности того, что определённые характеристики участников могут быть связаны с их виновностью.  \n",
    "- **`insurance_premium` (Страховая премия, тыс.)** — сумма страховки может быть связана с риском ДТП, так как водители с более высокой страховой премией могут быть более аккуратными или опытными, а также водить более современные или безопасные автомобили. (Будем использовать исключение из вывода выше).\n",
    "- **`!party_drug_physical` (Физическое состояние участника с учётом принятых лекарств)** — фактор, напрямую влияющий на способность водителя контролировать транспортное средство. Физическое состояние или приём лекарств может ослабить реакции водителя и повысить риск ДТП. Будем его использовать только для исследовательского анализа, в модели его использовать не будем.\n",
    "- **`!party_sobriety` (Трезвость участника)** — один из ключевых факторов, влияющих на риск аварий. Водители в состоянии алкогольного или наркотического опьянения значительно чаще становятся виновниками ДТП. При этом если нет механизма определения трезвости водителя, которые после их прохождения позволяют завести машшину (такие наработки на рынке нет) то такой признак использовать в модели нельзя, так как он обнаруживается только после ДТП. Но для исследовательского анализа данный признак необходим.\n",
    "- **`cellphone_in_use` (Использование телефона в автомобиле)** — наличие телефона и возможность разговаривать по громкой связи могут влиять на отвлечение водителя. Разговоры во время вождения увеличивают риск аварий, особенно если используется телефон без громкой связи.\n",
    "\n",
    "**Факторы из таблицы `vehicles` (описание автомобиля):**\n",
    "- **`vehicle_type` (Тип кузова)** — разные типы автомобилей имеют различные управляемость и габариты, что может влиять на риск ДТП. Водители могут быть менее опытны в управлении определёнными типами автомобилей, что повышает вероятность аварий.\n",
    "- **`vehicle_transmission` (Тип коробки передач)** — управление автомобилем с механической коробкой передач может быть сложнее для водителей, привыкших к автоматической коробке, что может увеличить риск аварий.\n",
    "- **`vehicle_age` (Возраст автомобиля в годах)** — старые автомобили могут иметь технические проблемы, которые повышают вероятность ДТП. Кроме того, устаревшие системы безопасности могут не защищать водителей так эффективно, как современные.\n",
    "\n",
    "**Факторы из таблицы `collisions` (информация о происшествиях):**\n",
    "- **`case_id` (Идентификационный номер дела)** — используется для идентификации случаев в базе данных и связывания данных из различных таблиц.\n",
    "- **`collision_time` (Время происшествия)** — фактор времени может быть коррелирован с уровнем загруженности дорог и световым днем, что, в свою очередь, влияет на риск ДТП. Например, аварии чаще происходят в часы пик.\n",
    "- **`collision_date` (Дата происшествия)** — день недели может влиять на аварийность, так как поведение водителей меняется в зависимости от того, рабочий это день или выходной. Использование этого фактора позволит учесть сезонные и недельные колебания в аварийности.\n",
    "- **`intersection` (Перекрёсток)** — ДТП на перекрёстках встречаются чаще из-за пересекающихся потоков движения. Учитывание этого фактора помогает выявить опасные зоны с повышенным риском столкновений.\n",
    "- **`weather_1` (Погода)** — погодные условия (дождь, снег, туман) оказывают прямое влияние на видимость и сцепление автомобиля с дорогой, что существенно повышает риск ДТП.\n",
    "- **`county_location` (Район происшествия)** — местоположение может влиять на частоту аварий. Например, в городах с интенсивным трафиком или в районах с плохой дорожной инфраструктурой ДТП могут происходить чаще.\n",
    "- **`road_surface` (Поверхность дороги)** — качество и состояние дорожного покрытия (сухая, мокрая, скользкая поверхность) влияют на управляемость автомобиля и риск заноса.\n",
    "- **`lighting` (Освещение)** — уровень освещенности на дороге напрямую влияет на видимость водителей. В условиях плохого освещения вероятность ДТП возрастает.\n",
    "- **`direction` (Направление движения)** — направление движения автомобиля может быть важным фактором в анализе аварийности на многополосных дорогах, особенно в условиях сложного трафика или на опасных участках.\n",
    "- **`distance` (Расстояние от главной дороги)** — этот фактор помогает понять, происходят ли аварии на удалённых дорогах или вблизи основных магистралей, где интенсивность движения выше.\n",
    "- **`location_type` (Тип дороги)** — тип дороги (городская, загородная, магистраль) влияет на стиль вождения, скорость и частоту аварий.\n",
    "- **`road_condition_1` (Дорожное состояние)** — состояние дороги (например, наличие ям или неровностей) влияет на вероятность аварий. Плохие дорожные условия могут стать причиной потери управления и столкновений.\n",
    "\n",
    "**Дополнения:**\n",
    "Каждый из этих факторов играет важную роль в оценке риска ДТП, так как они могут сильно влиять на вероятность аварийности и её последствия. Учитывая сочетание факторов, можно получить более точное представление о возможных причинах ДТП и путях их предотвращения."
   ]
  },
  {
   "cell_type": "markdown",
   "id": "085b846d",
   "metadata": {},
   "source": [
    "Так как в таблицах разное количество данных (в таблице `vehicles` есть данные не для всех из таблицы `parties`) будем использовать для объединения таблиц `INNER JOIN`, чтобы не создавать дополнительных пропусков. При недостаточной метрике, можно будет попробовать увеличить выборку путем использовании `LEFT JOIN` для соединения данных из таблицы `vehicles` в `parties`. "
   ]
  },
  {
   "cell_type": "code",
   "execution_count": null,
   "id": "e6e2381b",
   "metadata": {
    "ExecuteTime": {
     "start_time": "2024-10-01T18:36:56.911Z"
    }
   },
   "outputs": [],
   "source": [
    "query_df = \"\"\"\n",
    "SELECT \n",
    "    EXTRACT(DAY FROM c.collision_date)::int AS day,\n",
    "    TO_CHAR(c.collision_date, 'FMDay') AS weekday,\n",
    "    TO_CHAR(c.collision_time, 'HH24') AS time,\n",
    "    CASE \n",
    "        WHEN c.intersection = 1 THEN TRUE \n",
    "        ELSE FALSE \n",
    "    END AS at_intersection,\n",
    "    c.weather_1 AS weather,\n",
    "    c.county_location AS location,\n",
    "    CASE \n",
    "        WHEN c.road_surface IN ('snowy', 'slippery') THEN 'other'\n",
    "        ELSE c.road_surface\n",
    "    END AS road_surface,         \n",
    "    CASE \n",
    "        WHEN c.lighting IN ('dark with no street lights', 'dark with street lights not functioning') THEN 'D'\n",
    "        WHEN c.lighting = 'dark with street lights' THEN 'C'\n",
    "        WHEN c.lighting = 'daylight' THEN 'B'\n",
    "        WHEN c.lighting = 'dusk or dawn' THEN 'A'\n",
    "        ELSE NULL\n",
    "    END AS lighting, \n",
    "    c.direction AS direction,\n",
    "    c.distance::integer AS main_road_dist,\n",
    "    c.location_type AS location_type,\n",
    "    COALESCE(c.road_condition_1, 'other') AS road_condition,\n",
    "    v.vehicle_type AS vehicle_type,\n",
    "    COALESCE(v.vehicle_transmission, 'unknown') AS vehicle_transmission,\n",
    "    v.vehicle_age AS vehicle_age,\n",
    "    COALESCE(p.insurance_premium, 0)::integer AS insurance_premium,\n",
    "    CASE \n",
    "        WHEN p.party_drug_physical = 'under drug influence' THEN 'E'\n",
    "        WHEN p.party_drug_physical = 'impairment - physical' THEN 'F'\n",
    "        WHEN p.party_drug_physical = 'sleepy/fatigued' THEN 'I'\n",
    "        WHEN p.party_drug_physical = 'not applicable' THEN 'G'\n",
    "        WHEN COALESCE(p.party_drug_physical, 'not applicable') = 'not applicable' THEN 'G'\n",
    "        ELSE 'G'\n",
    "    END AS party_drug_physical,\n",
    "    CASE \n",
    "        WHEN p.party_sobriety = 'had not been drinking' THEN 'A'\n",
    "        WHEN p.party_sobriety = 'had been drinking, under influence' THEN 'B'\n",
    "        WHEN p.party_sobriety = 'had been drinking, not under influence' THEN 'C'\n",
    "        WHEN p.party_sobriety = 'had been drinking, impairment unknown' THEN 'D'\n",
    "        WHEN COALESCE(p.party_sobriety, 'not applicable') = 'not applicable' THEN 'H'\n",
    "        ELSE 'H'\n",
    "    END AS party_sobriety,    \n",
    "    CASE \n",
    "        WHEN p.cellphone_in_use = 1 THEN TRUE \n",
    "        ELSE FALSE \n",
    "    END AS cellphone_in_use,\n",
    "    p.at_fault::integer AS target\n",
    "FROM collisions AS c\n",
    "JOIN parties AS p ON c.case_id = p.case_id\n",
    "JOIN vehicles AS v ON p.case_id = v.case_id\n",
    "WHERE p.at_fault IS NOT NULL \n",
    "    AND p.party_type = 'car'\n",
    "    AND EXTRACT(YEAR FROM c.collision_date) = 2012\n",
    "    AND c.collision_damage != 'scratch';\n",
    "\"\"\"\n",
    "df = execute_query(query_df)"
   ]
  },
  {
   "cell_type": "code",
   "execution_count": null,
   "id": "2a2eb736",
   "metadata": {
    "ExecuteTime": {
     "start_time": "2024-10-01T18:36:56.972Z"
    }
   },
   "outputs": [],
   "source": [
    "# Закрытие соединения\n",
    "#engine.dispose()"
   ]
  },
  {
   "cell_type": "markdown",
   "id": "559be771",
   "metadata": {},
   "source": [
    "**ВЫВОД:** Данные отобраны"
   ]
  },
  {
   "cell_type": "markdown",
   "id": "c30a0b5b",
   "metadata": {},
   "source": [
    "## Предобработка отобранных данных"
   ]
  },
  {
   "cell_type": "markdown",
   "id": "b6f97623",
   "metadata": {},
   "source": [
    "### Первичный обзор данных"
   ]
  },
  {
   "cell_type": "code",
   "execution_count": null,
   "id": "45f76b50",
   "metadata": {
    "ExecuteTime": {
     "start_time": "2024-10-01T18:36:57.154Z"
    },
    "scrolled": false
   },
   "outputs": [],
   "source": [
    "data_overview(df)"
   ]
  },
  {
   "cell_type": "markdown",
   "id": "991a3922",
   "metadata": {},
   "source": [
    "Бегло взгянем на данные"
   ]
  },
  {
   "cell_type": "code",
   "execution_count": null,
   "id": "3d504f2e",
   "metadata": {
    "ExecuteTime": {
     "start_time": "2024-10-01T18:36:57.258Z"
    }
   },
   "outputs": [],
   "source": [
    "num_columns = ['insurance_premium', 'main_road_dist']\n",
    "\n",
    "# Определяем количество столбцов и строк для субплотов\n",
    "n_cols = 2\n",
    "n_rows = (len(df[num_columns].columns) + n_cols - 1) // n_cols\n",
    "\n",
    "# Создаем фигуру и оси\n",
    "fig, axes = plt.subplots(n_rows, n_cols, figsize=(15, 5 * n_rows))\n",
    "\n",
    "# Преобразуем массив осей в плоский список для удобства итерации\n",
    "axes = axes.flatten()\n",
    "\n",
    "# Строим гистограммы для каждого столбца\n",
    "for i, col in enumerate(df[num_columns].columns):\n",
    "    ax = axes[i]\n",
    "    df[col].hist(ax=ax, bins=20)\n",
    "    ax.set_title(col, fontsize = 15)\n",
    "    ax.set_xlabel('Значения', fontsize = 12)\n",
    "    ax.set_ylabel('Частота', fontsize = 12)\n",
    "\n",
    "# Удаляем пустые графики, если столбцов меньше, чем подграфиков\n",
    "for i in range(len(df[num_columns].columns), len(axes)):\n",
    "    fig.delaxes(axes[i])\n",
    "\n",
    "# Добавляем пространство между графиками\n",
    "plt.tight_layout()\n",
    "plt.show()"
   ]
  },
  {
   "cell_type": "markdown",
   "id": "f075d409",
   "metadata": {},
   "source": [
    "Как видим в данных присутсвуют категориальные парметры, отобразим их отдельно"
   ]
  },
  {
   "cell_type": "code",
   "execution_count": null,
   "id": "a137bf79",
   "metadata": {
    "ExecuteTime": {
     "start_time": "2024-10-01T18:36:57.363Z"
    },
    "scrolled": false
   },
   "outputs": [],
   "source": [
    "# Порядок дней недели\n",
    "weekday_order = ['Monday', 'Tuesday', 'Wednesday', 'Thursday', 'Friday', 'Saturday', 'Sunday']\n",
    "\n",
    "# Порядок для времени\n",
    "time_order = [f'{i:02d}' for i in range(24)]  # Список ['00', '01', ..., '23']\n",
    "\n",
    "# Подсчет количества строк\n",
    "n_rows = (len(df.drop([*num_columns, 'location'], axis=1).columns) + n_cols - 1) // n_cols\n",
    "\n",
    "# Создаем фигуру и оси\n",
    "fig, axes = plt.subplots(n_rows, n_cols, figsize=(15, n_rows * 5))\n",
    "\n",
    "# Преобразуем массив осей в плоский список для удобства итерации\n",
    "axes = axes.flatten()\n",
    "\n",
    "# Строим гистограммы для каждого столбца\n",
    "for i, column in enumerate(df.drop([*num_columns, 'location'], axis=1).columns):\n",
    "    ax = axes[i]\n",
    "    \n",
    "    if column == 'weekday':\n",
    "        sns.countplot(x=column, data=df, ax=ax, order=weekday_order)  # Задаем порядок для дней недели\n",
    "    elif column == 'time':\n",
    "        sns.countplot(x=column, data=df, ax=ax, order=time_order)  # Задаем порядок для времени\n",
    "    else:\n",
    "        sns.countplot(x=column, data=df, ax=ax)\n",
    "    \n",
    "    ax.set_title(f'Распределение {column}', fontsize=15)\n",
    "    ax.set_xlabel('Значения', fontsize=12)\n",
    "    ax.set_ylabel('Частота', fontsize=12)\n",
    "    \n",
    "    plt.setp(ax.get_xticklabels(), rotation=0)\n",
    "    if column in ['road_condition']:\n",
    "        plt.setp(ax.get_xticklabels(), rotation=90)\n",
    "\n",
    "# Удаляем пустые графики, если столбцов меньше, чем подграфиков\n",
    "for i in range(len(df.drop([*num_columns, 'location'], axis=1).columns), len(axes)):\n",
    "    fig.delaxes(axes[i])\n",
    "\n",
    "# Добавляем пространство между графиками\n",
    "plt.tight_layout()\n",
    "plt.show()"
   ]
  },
  {
   "cell_type": "markdown",
   "id": "0a32398d",
   "metadata": {},
   "source": [
    "**ВЫВОД:**\n",
    "\n",
    "- **Категориальные признаки и бинарная классификация**: В наборе данных большинство признаков являются категориальными, включая целевую переменную (таргет). Поэтому для моделирования будет использована **бинарная классификация**. Однако, в признаке `main_road_dist` были обнаружены выбросы, что требует дополнительной обработки.\n",
    "- **Пропуски в данных**: Два признака — `location_type` и `direction` — содержат значительное количество пропусков. Несмотря на фильтрацию выборки, доля пропусков осталась высокой. Использование признака `location_type` в модели нецелесообразно.\n",
    "- **Аномалии**: В признаке `vehicle_age` обнаружено аномальное значение в 161 год. Это значение явно некорректно и должно быть исключено или скорректировано в процессе обработки данных.\n",
    "- **Использование признака `at_intersection`**: Признак `at_intersection` имеет ограниченное применение и используется в основном для заполнения пропусков в `location_type`.\n",
    "- **Дубликаты**: В данных было выявлено 2200 явных дубликатов, которые необходимо удалить перед дальнейшим анализом и построением модели.\n",
    "- **Анализ частоты ДТП по дням недели**: Наиболее часто аварии происходят в пятницу и субботу. Это может быть связано с повышенной активностью людей после окончания рабочей недели, а также с увеличением числа водителей в состоянии алкогольного опьянения в выходные.\n",
    "- **Время суток и ДТП**: В 7 и 8 часов утра наблюдается локальный пик аварий, что может быть связано с тем, что люди спешат на работу, что повышает риск ДТП. В ночное время количество аварий снижается, что, вероятно, обусловлено уменьшением числа машин на дорогах в этот период.\n",
    "- **Признак `weather`**:Данные о погоде в основном распределены между тремя категориями. Поэтому целесообразно сократить их количество до четырёх категорий для улучшения интерпретируемости модели.\n",
    "- **Освещённость (`lighting`) и аварийность**: Наиболее часто аварии происходят в сумерки, что указывает на повышенный риск ДТП в условиях недостаточной освещённости.\n",
    "- **Признак `road_condition`**: Данные о состоянии дороги в основном сгруппированы в две категории. Целесообразно расширить количество категорий до трёх для более точного учёта этого фактора.\n",
    "- **Признак `vehicle_type`**: Наиболее распространёнными типами автомобилей являются SEDAN и COUPE. Целесообразно объединить остальные типы в одну категорию \"другие\", чтобы упростить модель и избежать слишком мелких категорий.\n",
    "- **Признаки `party_drug_physical` и `cellphone_in_use`**: Оба признака имеют ярко выраженный дисбаланс данных, что снижает их значимость для модели. Признак `party_drug_physical` малозначителен, а у признака `cellphone_in_use` также наблюдается сильный дисбаланс."
   ]
  },
  {
   "cell_type": "markdown",
   "id": "95ae668c",
   "metadata": {},
   "source": [
    "### Удалим явные дубликаты"
   ]
  },
  {
   "cell_type": "code",
   "execution_count": null,
   "id": "9e53d963",
   "metadata": {
    "ExecuteTime": {
     "start_time": "2024-10-01T18:36:57.511Z"
    },
    "scrolled": false
   },
   "outputs": [],
   "source": [
    "print('Количество явных дубликатов:', df.duplicated().sum())\n",
    "df = df.drop_duplicates()\n",
    "print('Количество явных дубликатов:', df.duplicated().sum())"
   ]
  },
  {
   "cell_type": "markdown",
   "id": "101d6892",
   "metadata": {},
   "source": [
    "### Устранения пропущенных значений"
   ]
  },
  {
   "cell_type": "markdown",
   "id": "2172781a",
   "metadata": {},
   "source": [
    "#### Удалим наблюдения где пристутвсуют пропуски во всех категориях с пропусками"
   ]
  },
  {
   "cell_type": "code",
   "execution_count": null,
   "id": "fce42704",
   "metadata": {
    "ExecuteTime": {
     "start_time": "2024-10-01T18:36:57.654Z"
    },
    "scrolled": false
   },
   "outputs": [],
   "source": [
    "df.isna().sum()"
   ]
  },
  {
   "cell_type": "code",
   "execution_count": null,
   "id": "5631235c",
   "metadata": {
    "ExecuteTime": {
     "start_time": "2024-10-01T18:36:57.710Z"
    },
    "scrolled": true
   },
   "outputs": [],
   "source": [
    "df = df.dropna(subset=[\n",
    "    'time', \n",
    "    'weather', \n",
    "    'road_surface',\n",
    "    'lighting',\n",
    "    'location_type',\n",
    "    'road_condition',\n",
    "    'vehicle_age', \n",
    "], how='all')\n",
    "\n",
    "df.isna().sum()"
   ]
  },
  {
   "cell_type": "markdown",
   "id": "e4e76ee3",
   "metadata": {},
   "source": [
    "**Вывод:** Таких данных нет."
   ]
  },
  {
   "cell_type": "markdown",
   "id": "0db64154",
   "metadata": {},
   "source": [
    "#### Заполним пропуски в `location_type`, удалим `at_intersection` и `direction`"
   ]
  },
  {
   "cell_type": "markdown",
   "id": "2bf03ffd",
   "metadata": {},
   "source": [
    "Проверим количество строк в которых в `at_intersection` есть наличие перекреста, а в `location_type` нету"
   ]
  },
  {
   "cell_type": "code",
   "execution_count": null,
   "id": "ea1589ab",
   "metadata": {
    "ExecuteTime": {
     "start_time": "2024-10-01T18:36:57.899Z"
    }
   },
   "outputs": [],
   "source": [
    "print('Количество пропущенных значений в \"location_type\":', df['location_type'].isnull().sum())"
   ]
  },
  {
   "cell_type": "code",
   "execution_count": null,
   "id": "8c17316b",
   "metadata": {
    "ExecuteTime": {
     "start_time": "2024-10-01T18:36:57.952Z"
    }
   },
   "outputs": [],
   "source": [
    "df.query('at_intersection and location_type != \"intersection\"').shape[0]"
   ]
  },
  {
   "cell_type": "markdown",
   "id": "fab1c775",
   "metadata": {},
   "source": [
    "Проверим количество строк в которых в `at_intersection` есть наличие перекреста, а в `location_type` пропущенные значения"
   ]
  },
  {
   "cell_type": "code",
   "execution_count": null,
   "id": "a8253590",
   "metadata": {
    "ExecuteTime": {
     "start_time": "2024-10-01T18:36:58.051Z"
    }
   },
   "outputs": [],
   "source": [
    "df[(df['at_intersection'] == True) & (df['location_type'].isnull())].shape[0]"
   ]
  },
  {
   "cell_type": "markdown",
   "id": "83e58b21",
   "metadata": {},
   "source": [
    "В данных имеется явное нарушение логики. Заменим пропуски на \"intersection\" там где `at_intersection` есть наличие перекреста"
   ]
  },
  {
   "cell_type": "code",
   "execution_count": null,
   "id": "aa96d456",
   "metadata": {
    "ExecuteTime": {
     "start_time": "2024-10-01T18:36:58.150Z"
    }
   },
   "outputs": [],
   "source": [
    "df.loc[(df['at_intersection'] == True) & (df['location_type'].isnull()), 'location_type'] = 'intersection'\n",
    "print('Количество пропущенных значений в \"location_type\":', df['location_type'].isna().sum())"
   ]
  },
  {
   "cell_type": "markdown",
   "id": "664f9c41",
   "metadata": {},
   "source": [
    "Удалим столбец `at_intersection`, а оставшиеся пропуски заменим на новую категорию \"road\""
   ]
  },
  {
   "cell_type": "code",
   "execution_count": null,
   "id": "1bfada57",
   "metadata": {
    "ExecuteTime": {
     "start_time": "2024-10-01T18:36:58.254Z"
    }
   },
   "outputs": [],
   "source": [
    "df = df.drop(['at_intersection', 'direction'], axis=1)\n",
    "df['location_type'] = df['location_type'].fillna('road')\n",
    "print('Количество пропущенных значений в \"location_type\":', df['location_type'].isna().sum())"
   ]
  },
  {
   "cell_type": "markdown",
   "id": "4d74ad6c",
   "metadata": {},
   "source": [
    "**ВЫВОД:** Удалось уменьшить количество пропусков в 2 раза."
   ]
  },
  {
   "cell_type": "markdown",
   "id": "1844962e",
   "metadata": {},
   "source": [
    "#### Заполним пропуски в `lighting` и `time`"
   ]
  },
  {
   "cell_type": "markdown",
   "id": "2558ecf5",
   "metadata": {},
   "source": [
    "Освещение можно заполнить из `time`, удалим строки где в `time` и `lighting` имеются одновременные пропуски"
   ]
  },
  {
   "cell_type": "code",
   "execution_count": null,
   "id": "756f48b5",
   "metadata": {
    "ExecuteTime": {
     "start_time": "2024-10-01T18:36:58.440Z"
    }
   },
   "outputs": [],
   "source": [
    "df[(df['time'].isna()) & (df['lighting'].isna())].shape[0]"
   ]
  },
  {
   "cell_type": "code",
   "execution_count": null,
   "id": "951fb2fe",
   "metadata": {
    "ExecuteTime": {
     "start_time": "2024-10-01T18:36:58.497Z"
    }
   },
   "outputs": [],
   "source": [
    "df =df.drop(df[(df['time'].isna()) & (df['lighting'].isna())].index)\n",
    "df[(df['time'].isna()) & (df['lighting'].isna())].shape[0]"
   ]
  },
  {
   "cell_type": "code",
   "execution_count": null,
   "id": "dfc4e665",
   "metadata": {
    "ExecuteTime": {
     "start_time": "2024-10-01T18:36:58.554Z"
    }
   },
   "outputs": [],
   "source": [
    "# Функция для заполнения пропусков в time на основании lighting\n",
    "def fill_time_based_on_lighting(row):\n",
    "    if pd.isna(row['time']):  # Если в time есть пропуск\n",
    "        if row['lighting'] == 'A':  # Сумерки или рассвет\n",
    "            return random.choice(list(range(5, 7)) + list(range(18, 20)))\n",
    "        elif row['lighting'] == 'B':  # Дневной свет\n",
    "            return random.choice(list(range(7, 18)))\n",
    "        elif row['lighting'] == 'C':  # Ночь\n",
    "            return random.choice(list(range(0, 5)) + list(range(20, 24)))\n",
    "        elif row['lighting'] == 'D':  # Ночь\n",
    "            return random.choice(list(range(0, 5)) + list(range(20, 24)))\n",
    "    return row['time']  # Если нет пропуска, оставляем исходное значение\n",
    "\n",
    "# Применяем функцию ко всему DataFrame для заполнения пропусков\n",
    "df['time'] = df.apply(fill_time_based_on_lighting, axis=1)\n",
    "print('Количество пропущенных значений в \"time\":', df['time'].isna().sum())"
   ]
  },
  {
   "cell_type": "code",
   "execution_count": null,
   "id": "8e4826ea",
   "metadata": {
    "ExecuteTime": {
     "start_time": "2024-10-01T18:36:58.614Z"
    }
   },
   "outputs": [],
   "source": [
    "df['time'] = df['time'].astype('int')"
   ]
  },
  {
   "cell_type": "code",
   "execution_count": null,
   "id": "a2dc3957",
   "metadata": {
    "ExecuteTime": {
     "start_time": "2024-10-01T18:36:58.668Z"
    }
   },
   "outputs": [],
   "source": [
    "df['time'].sort_values().unique()"
   ]
  },
  {
   "cell_type": "code",
   "execution_count": null,
   "id": "213dcb29",
   "metadata": {
    "ExecuteTime": {
     "start_time": "2024-10-01T18:36:58.728Z"
    }
   },
   "outputs": [],
   "source": [
    "# Функция для замены пропусков в lighting на основании времени\n",
    "def fill_lighting_based_on_time(row):\n",
    "    if pd.isna(row['lighting']):  # Если в lighting есть пропуск\n",
    "        time = int(row['time'])  # Преобразуем time в целое число\n",
    "        if 4 <= time <= 6 or 18 <= time <= 21:  # Сумерки или рассвет\n",
    "            return 'A'\n",
    "        elif 7 <= time <= 17:  # Дневной свет\n",
    "            return 'B'\n",
    "        elif time >= 22 or time <= 3:  # Ночь\n",
    "            return 'D'\n",
    "    return row['lighting']  # Если нет пропуска, оставляем исходное значение\n",
    "\n",
    "# Применяем функцию ко всему DataFrame для заполнения пропусков\n",
    "df['lighting'] = df.apply(fill_lighting_based_on_time, axis=1)\n",
    "print('Количество пропущенных значений в \"lighting\":', df['lighting'].isna().sum())"
   ]
  },
  {
   "cell_type": "markdown",
   "id": "7cb68169",
   "metadata": {},
   "source": [
    "**ВЫВОД:** Пропуски заполнены."
   ]
  },
  {
   "cell_type": "markdown",
   "id": "58645a84",
   "metadata": {},
   "source": [
    "#### Заполним пропуски в `road_surface` и `weather`"
   ]
  },
  {
   "cell_type": "markdown",
   "id": "ae2c04af",
   "metadata": {},
   "source": [
    "Состояние дороги можно заполнить из `weather`, удалим строки где в `weather` и `road_surface` имеются одновременные пропуски"
   ]
  },
  {
   "cell_type": "code",
   "execution_count": null,
   "id": "0bc2f32c",
   "metadata": {
    "ExecuteTime": {
     "start_time": "2024-10-01T18:36:58.916Z"
    }
   },
   "outputs": [],
   "source": [
    "df[(df['weather'].isna()) & (df['road_surface'].isna())].shape[0]"
   ]
  },
  {
   "cell_type": "code",
   "execution_count": null,
   "id": "547229b0",
   "metadata": {
    "ExecuteTime": {
     "start_time": "2024-10-01T18:36:58.971Z"
    }
   },
   "outputs": [],
   "source": [
    "df = df.drop(df[(df['weather'].isna()) & (df['road_surface'].isna())].index)\n",
    "df[(df['weather'].isna()) & (df['road_surface'].isna())].shape[0]"
   ]
  },
  {
   "cell_type": "code",
   "execution_count": null,
   "id": "53f5d03a",
   "metadata": {
    "ExecuteTime": {
     "start_time": "2024-10-01T18:36:59.028Z"
    }
   },
   "outputs": [],
   "source": [
    "# Функция для заполнения пропусков в road_surface на основании weather\n",
    "def fill_road_surface_based_on_weather(row):\n",
    "    if pd.isna(row['road_surface']):  # Если в road_surface есть пропуск\n",
    "        if row['weather'] == 'clear':\n",
    "            return 'dry'\n",
    "        elif row['weather'] == 'raining':\n",
    "            return 'wet'\n",
    "        else:\n",
    "            return 'other'\n",
    "    return row['road_surface']  # Если нет пропуска, оставляем исходное значение\n",
    "\n",
    "# Применяем функцию ко всему DataFrame для заполнения пропусков\n",
    "df['road_surface'] = df.apply(fill_road_surface_based_on_weather, axis=1)\n",
    "print('Количество пропущенных значений в \"road_surface\":', df['road_surface'].isna().sum())"
   ]
  },
  {
   "cell_type": "code",
   "execution_count": null,
   "id": "41b171ad",
   "metadata": {
    "ExecuteTime": {
     "start_time": "2024-10-01T18:36:59.087Z"
    }
   },
   "outputs": [],
   "source": [
    "# Функция для заполнения пропусков в weather на основании road_surface\n",
    "def fill_weather_based_on_road_surface(row):\n",
    "    if pd.isna(row['weather']):  # Если в weather есть пропуск\n",
    "        if row['road_surface'] == 'dry':\n",
    "            return 'clear'\n",
    "        elif row['road_surface'] == 'wet':\n",
    "            return 'raining'\n",
    "        else:\n",
    "            return 'other'\n",
    "    return row['weather']  # Если нет пропуска, оставляем исходное значение\n",
    "\n",
    "# Применяем функцию ко всему DataFrame для заполнения пропусков\n",
    "df['weather'] = df.apply(fill_weather_based_on_road_surface, axis=1)\n",
    "\n",
    "# Проверяем количество оставшихся пропусков в 'weather'\n",
    "print('Количество пропущенных значений в \"weather\":', df['weather'].isna().sum())"
   ]
  },
  {
   "cell_type": "markdown",
   "id": "a6731350",
   "metadata": {},
   "source": [
    "**ВЫВОД:** Пропуски заполнены."
   ]
  },
  {
   "cell_type": "markdown",
   "id": "b085b3af",
   "metadata": {},
   "source": [
    "#### Заполним пропуски в `vehicle_age`"
   ]
  },
  {
   "cell_type": "markdown",
   "id": "7d50e1c5",
   "metadata": {},
   "source": [
    "Заменим данные медианной"
   ]
  },
  {
   "cell_type": "code",
   "execution_count": null,
   "id": "2bfd37db",
   "metadata": {
    "ExecuteTime": {
     "start_time": "2024-10-01T18:36:59.274Z"
    },
    "scrolled": true
   },
   "outputs": [],
   "source": [
    "# Заменяем пропуски медианным значением\n",
    "df['vehicle_age'] = df['vehicle_age'].fillna(df['vehicle_age'].median())\n",
    "\n",
    "# Проверяем количество оставшихся пропусков в 'vehicle_age'\n",
    "print('Количество пропущенных значений в \"vehicle_age\":', df['vehicle_age'].isna().sum())"
   ]
  },
  {
   "cell_type": "code",
   "execution_count": null,
   "id": "2d373ee9",
   "metadata": {
    "ExecuteTime": {
     "start_time": "2024-10-01T18:36:59.330Z"
    },
    "scrolled": true
   },
   "outputs": [],
   "source": [
    "df.isna().sum()"
   ]
  },
  {
   "cell_type": "markdown",
   "id": "15ebe0fe",
   "metadata": {},
   "source": [
    "**ВЫВОД:** Пропуски все заполнены."
   ]
  },
  {
   "cell_type": "markdown",
   "id": "09b61fbf",
   "metadata": {},
   "source": [
    "### Проверка на наличие ошибок в `vehicle_age`"
   ]
  },
  {
   "cell_type": "code",
   "execution_count": null,
   "id": "031549c4",
   "metadata": {
    "ExecuteTime": {
     "start_time": "2024-10-01T18:36:59.470Z"
    },
    "scrolled": true
   },
   "outputs": [],
   "source": [
    "df['vehicle_age'].sort_values().unique()"
   ]
  },
  {
   "cell_type": "code",
   "execution_count": null,
   "id": "c22ce990",
   "metadata": {
    "ExecuteTime": {
     "start_time": "2024-10-01T18:36:59.528Z"
    }
   },
   "outputs": [],
   "source": [
    "df.loc[df['vehicle_age'] == 161, 'vehicle_age'] = 16\n",
    "\n",
    "# Преобразуем тип данных к int\n",
    "df['vehicle_age'] = df['vehicle_age'].astype(int)"
   ]
  },
  {
   "cell_type": "markdown",
   "id": "64bb0344",
   "metadata": {},
   "source": [
    "Еще раз посмотрим как распределены данные "
   ]
  },
  {
   "cell_type": "code",
   "execution_count": null,
   "id": "f2cb523b",
   "metadata": {
    "ExecuteTime": {
     "start_time": "2024-10-01T18:36:59.629Z"
    },
    "scrolled": false
   },
   "outputs": [],
   "source": [
    "sns.countplot(x='vehicle_age', data=df)\n",
    "plt.title(f'Распределение vehicle_age', fontsize=15)\n",
    "plt.xlabel('Год', fontsize=12)\n",
    "plt.ylabel('Частота', fontsize=12)\n",
    "plt.show()"
   ]
  },
  {
   "cell_type": "markdown",
   "id": "a19e2988",
   "metadata": {},
   "source": [
    "Создадим на основе `vehicle_age` категорию `vehicle_age_category`"
   ]
  },
  {
   "cell_type": "code",
   "execution_count": null,
   "id": "35e25d03",
   "metadata": {
    "ExecuteTime": {
     "start_time": "2024-10-01T18:36:59.732Z"
    },
    "scrolled": false
   },
   "outputs": [],
   "source": [
    "# Задаем конкретные границы для категорий\n",
    "bins = [0, 2, 5, 10, 20]  \n",
    "df['vehicle_age_category'] = pd.cut(\n",
    "    df['vehicle_age'], \n",
    "    bins=bins, \n",
    "    labels=['Young', 'Middle', 'Old', 'Very_old'], \n",
    "    right=False\n",
    ")\n",
    "\n",
    "# Проверяем результат с визуализацией\n",
    "sns.countplot(x='vehicle_age_category', data=df)\n",
    "plt.title('Распределение vehicle_age_category', fontsize=15)\n",
    "plt.xlabel('Категория возраста', fontsize=12)\n",
    "plt.ylabel('Частота', fontsize=12)\n",
    "plt.show()"
   ]
  },
  {
   "cell_type": "markdown",
   "id": "1f7871e7",
   "metadata": {},
   "source": [
    "**ВЫВОД:** Аномальные значения устранены, и добавлена новая категория возраста автомобиля"
   ]
  },
  {
   "cell_type": "markdown",
   "id": "2473efea",
   "metadata": {},
   "source": [
    "### Устранение выбросов в `main_road_dist`"
   ]
  },
  {
   "cell_type": "code",
   "execution_count": null,
   "id": "fe78d574",
   "metadata": {
    "ExecuteTime": {
     "start_time": "2024-10-01T18:36:59.876Z"
    },
    "scrolled": true
   },
   "outputs": [],
   "source": [
    "plt.figure(figsize=(12, 5))\n",
    "sns.boxplot(y=df['main_road_dist'])\n",
    "plt.title('Boxplot main_road_dist', fontsize=15)\n",
    "plt.ylabel('Расстояние')\n",
    "plt.grid(True)\n",
    "plt.show()"
   ]
  },
  {
   "cell_type": "markdown",
   "id": "76350cbf",
   "metadata": {},
   "source": [
    "Удалим данные больше 99% процентиля"
   ]
  },
  {
   "cell_type": "code",
   "execution_count": null,
   "id": "38ea0dee",
   "metadata": {
    "ExecuteTime": {
     "start_time": "2024-10-01T18:36:59.980Z"
    }
   },
   "outputs": [],
   "source": [
    "df['main_road_dist'].quantile(0.99)"
   ]
  },
  {
   "cell_type": "code",
   "execution_count": null,
   "id": "5fbbf4e5",
   "metadata": {
    "ExecuteTime": {
     "start_time": "2024-10-01T18:37:00.043Z"
    }
   },
   "outputs": [],
   "source": [
    "# Удалим данные больше 99% процентиля\n",
    "df = df[df['main_road_dist'] <= df['main_road_dist'].quantile(0.99)]"
   ]
  },
  {
   "cell_type": "code",
   "execution_count": null,
   "id": "477354d5",
   "metadata": {
    "ExecuteTime": {
     "start_time": "2024-10-01T18:37:00.107Z"
    }
   },
   "outputs": [],
   "source": [
    "plt.figure(figsize=(12, 5))\n",
    "sns.boxplot(y=df['main_road_dist'])\n",
    "plt.title('Boxplot main_road_dist', fontsize=15)\n",
    "plt.ylabel('Расстояние')\n",
    "plt.grid(True)\n",
    "plt.show()"
   ]
  },
  {
   "cell_type": "code",
   "execution_count": null,
   "id": "7e9ed5ce",
   "metadata": {
    "ExecuteTime": {
     "start_time": "2024-10-01T18:37:00.166Z"
    }
   },
   "outputs": [],
   "source": [
    "# Создание подграфика\n",
    "fig, ax = plt.subplots(figsize=(15, 6))\n",
    "\n",
    "# Построение гистограммы\n",
    "df['main_road_dist'].hist(ax=ax, bins=50)\n",
    "\n",
    "# Установка заголовка и меток осей\n",
    "ax.set_title('main_road_dist', fontsize=15)\n",
    "ax.set_xlabel('Расстояние', fontsize=12)\n",
    "ax.set_ylabel('Частота', fontsize=12)\n",
    "\n",
    "# Отображение графика\n",
    "plt.show()"
   ]
  },
  {
   "cell_type": "code",
   "execution_count": null,
   "id": "84827412",
   "metadata": {
    "ExecuteTime": {
     "start_time": "2024-10-01T18:37:00.227Z"
    }
   },
   "outputs": [],
   "source": [
    "print('Количество явных дубликатов:', df.duplicated().sum())\n",
    "df = df.drop_duplicates()\n",
    "print('Количество явных дубликатов:', df.duplicated().sum())"
   ]
  },
  {
   "cell_type": "markdown",
   "id": "3a4a07fc",
   "metadata": {},
   "source": [
    "**Вывод:** Выбросы устранены"
   ]
  },
  {
   "cell_type": "markdown",
   "id": "f6e79966",
   "metadata": {},
   "source": [
    "**ОБЩИЙ ВЫВОД ПО РАЗДЕЛУ 4 \"ПРЕДОБРАБОТКА ОТОБРАННЫХ ДАННЫХ\":**\n",
    "\n",
    "**Первичный анализ данных**:\n",
    "- В данных представлены как числовые, так и категориальные признаки. Большинство признаков категориальные, что обусловило выбор бинарной классификации для дальнейшего моделирования.\n",
    "- Были выявлены выбросы в числовом признаке `main_road_dist`, а также аномальные значения в признаке `vehicle_age`, что потребовало их обработки.\n",
    "\n",
    "**Обработка пропусков**:\n",
    "- Некоторые признаки, такие как `location_type` и `direction`, содержали значительное количество пропусков. Признак `location_type` был частично заполнен на основании признака `at_intersection`, после чего оставшиеся пропуски были заменены новой категорией. Признак `direction` был удален из-за большого количества пропусков.\n",
    "- Пропуски в других признаках, таких как `lighting`, `time`, `road_surface` и `weather`, были успешно заполнены на основе логики зависимости между признаками.\n",
    "\n",
    "**Устранение аномалий и дубликатов**:\n",
    "- Были выявлены аномальные значения в признаке `vehicle_age` (возраст автомобиля), включая значение в 161 год. Аномальные значения были скорректированы, а для этого признака была добавлена новая категория возраста автомобиля, разделяющая автомобили по возрастным группам: Young, Middle, Old, и Very_old.\n",
    "- В данных было обнаружено 2200 дубликатов, которые были успешно удалены.\n",
    "\n",
    "**Обработка выбросов**:\n",
    "- В признаке `main_road_dist` были выявлены выбросы, которые были удалены путем отсечения данных выше 99-го процентиля. Это позволило устранить искажения в распределении признака.\n",
    "\n",
    "**Итог**: Данные были тщательно подготовлены для дальнейшего моделирования. Удалены дубликаты, скорректированы выбросы и аномальные значения, а пропуски успешно заполнены на основании логических связей между признаками."
   ]
  },
  {
   "cell_type": "markdown",
   "id": "6113fe2a",
   "metadata": {},
   "source": [
    "## Исследовательский анализ отобранных данных (EDA)"
   ]
  },
  {
   "cell_type": "markdown",
   "id": "b4e4a44e",
   "metadata": {},
   "source": [
    "### Влияние признаков на таргет"
   ]
  },
  {
   "cell_type": "markdown",
   "id": "c6dcc078",
   "metadata": {},
   "source": [
    "Посмотрим как признаки распределяется по отношению таргета"
   ]
  },
  {
   "cell_type": "code",
   "execution_count": null,
   "id": "91a14aba",
   "metadata": {
    "ExecuteTime": {
     "start_time": "2024-10-01T18:37:00.527Z"
    }
   },
   "outputs": [],
   "source": [
    "sns.set(style=\"whitegrid\")\n",
    "\n",
    "fig, ax = plt.subplots(figsize=(12, 5))  \n",
    "\n",
    "feature = \"lifetime\"\n",
    "title = \"Распределение времени существования стартапа в днях по статусу\"\n",
    "\n",
    "sns.histplot(data=df, x='main_road_dist', hue=\"target\", multiple=\"stack\", ax=ax, palette=\"viridis\", bins=20)\n",
    "ax.set_title(\"Распределение расстояния до главной дороги по таргету\")\n",
    "ax.set_xlabel(\"main_road_dist\")\n",
    "ax.set_ylabel(\"Количество записей\")\n",
    "\n",
    "plt.tight_layout()\n",
    "plt.show()"
   ]
  },
  {
   "cell_type": "code",
   "execution_count": null,
   "id": "da7c313d",
   "metadata": {
    "ExecuteTime": {
     "start_time": "2024-10-01T18:37:00.592Z"
    },
    "scrolled": false
   },
   "outputs": [],
   "source": [
    "# Построение боксплота для main_road_dist\n",
    "plt.figure(figsize=(8, 5))\n",
    "sns.boxplot(x='target', y='main_road_dist', data=df, palette=\"viridis\")\n",
    "plt.title('Влияние расстояния до главной дороги на риск ДТП', fontsize=15)\n",
    "plt.xlabel('Целевая переменная (Виновен)', fontsize=12)\n",
    "plt.ylabel('Расстояние до главной дороги', fontsize=12)\n",
    "plt.grid(True)\n",
    "plt.show()"
   ]
  },
  {
   "cell_type": "code",
   "execution_count": null,
   "id": "dbb8a9d1",
   "metadata": {
    "ExecuteTime": {
     "start_time": "2024-10-01T18:37:00.658Z"
    },
    "scrolled": false
   },
   "outputs": [],
   "source": [
    "n_cols = 2\n",
    "n_rows = 4  \n",
    "\n",
    "# Создание фигуры и осей\n",
    "fig, axes = plt.subplots(n_rows, n_cols, figsize=(16, 20))\n",
    "\n",
    "# Преобразование массива осей в плоский список для удобства итерации\n",
    "axes = axes.flatten()\n",
    "\n",
    "# Создание списка данных для визуализации\n",
    "features = [\n",
    "    ('vehicle_age_category', 'Влияние возраста автомобиля на риск ДТП'),\n",
    "    ('weather', 'Влияние погодных условий на риск ДТП'),\n",
    "    ('road_surface', 'Влияние состояния дороги на риск ДТП'),\n",
    "    ('party_sobriety', 'Влияние трезвости водителя на риск ДТП'),\n",
    "    ('time', 'Влияние времени суток на риск ДТП'),\n",
    "    ('lighting', 'Влияние освещения на риск ДТП'),\n",
    "    ('cellphone_in_use', 'Влияние использования телефона на риск ДТП')\n",
    "]\n",
    "\n",
    "# Итерация по каждому признаку и построение графиков\n",
    "for i, (feature, title) in enumerate(features):\n",
    "    ax = axes[i]\n",
    "    \n",
    "    # Рассчитываем процент для каждой категории\n",
    "    df_percent = df.groupby([feature, 'target']).size().unstack(fill_value=0)\n",
    "    df_percent = df_percent.div(df_percent.sum(axis=1), axis=0) * 100\n",
    "    df_percent = df_percent.stack().reset_index(name='percentage')\n",
    "    \n",
    "    # Строим график с процентами\n",
    "    sns.barplot(x=feature, y='percentage', hue='target', data=df_percent, palette='viridis', ax=ax)\n",
    "    \n",
    "    ax.set_title(title, fontsize=15)\n",
    "    ax.set_xlabel(feature, fontsize=12)\n",
    "    ax.set_ylabel('Процент', fontsize=12)\n",
    "    ax.grid(True)\n",
    "\n",
    "# Удаляем лишние оси, если есть\n",
    "for i in range(len(features), len(axes)):\n",
    "    fig.delaxes(axes[i])\n",
    "\n",
    "# Добавляем отступы между графиками\n",
    "plt.tight_layout()\n",
    "\n",
    "# Отображаем все графики\n",
    "plt.show()"
   ]
  },
  {
   "cell_type": "code",
   "execution_count": null,
   "id": "f728a44d",
   "metadata": {
    "ExecuteTime": {
     "start_time": "2024-10-01T18:37:00.723Z"
    },
    "scrolled": false
   },
   "outputs": [],
   "source": [
    "# Влияние возраста автомобиля на целевую переменную\n",
    "plt.figure(figsize=(8, 5))\n",
    "sns.countplot(x='vehicle_age_category', hue='target', data=df, palette='coolwarm')\n",
    "plt.title('Влияние возраста автомобиля на риск ДТП', fontsize=15)\n",
    "plt.xlabel('Категория возраста автомобиля', fontsize=12)\n",
    "plt.ylabel('Количество случаев', fontsize=12)\n",
    "plt.grid(True)\n",
    "plt.show()"
   ]
  },
  {
   "cell_type": "markdown",
   "id": "467f385c",
   "metadata": {},
   "source": [
    "**ВЫВОД:** На основе проведённого исследования были выявлены следующие интересные закономерности и взаимосвязи между различными категориями и риском дорожно-транспортных происшествий (ДТП):\n",
    "\n",
    "1. **Возраст автомобиля**: Видно, что старые и очень старые автомобили имеют более высокую вероятность участия в ДТП по вине водителя. Это может быть связано с техническим состоянием старых автомобилей, которое повышает риск аварии.\n",
    "\n",
    "2. **Погодные условия**: Различия в вероятности ДТП в зависимости от погоды не столь значительны, однако в условиях снегопада и наблюдается большая вероятность ДТП по вине водителя, при том что в общем этог класс минорный.\n",
    "\n",
    "3. **Состояние дороги**: Сухое дорожное покрытие связано с более низким риском ДТП по сравнению с мокрым или другими условиями дороги. Это подтверждает ожидания, что мокрые и скользкие дороги увеличивают риск аварий.\n",
    "\n",
    "4. **Трезвость водителя**: Ясно видно, что нарушение трезвости значительно увеличивает риск ДТП. Водители в состоянии алкогольного опьянения чаще оказываются виновниками ДТП.\n",
    "\n",
    "5. **Время суток**: Время суток существенно влияет на вероятность ДТП. Диаграммы показывают, что минорный класс доминирует в ночное время (0-5 утра).\n",
    "\n",
    "6. **Освещение**: Наибольший риск ДТП в условиях недостаточного освещения (категории C и D), что указывает на важность хорошего освещения для предотвращения ДТП."
   ]
  },
  {
   "cell_type": "markdown",
   "id": "6813a4f7",
   "metadata": {},
   "source": [
    "### Перекрестная проверка влияния категорий на таргет"
   ]
  },
  {
   "cell_type": "code",
   "execution_count": null,
   "id": "967532c8",
   "metadata": {
    "ExecuteTime": {
     "start_time": "2024-10-01T18:37:00.883Z"
    },
    "scrolled": false
   },
   "outputs": [],
   "source": [
    "# Тепловая карта: Взаимосвязь между возрастом автомобиля и погодой\n",
    "plot_heatmap(\n",
    "    df, \n",
    "    'weather', \n",
    "    'vehicle_age_category', \n",
    "    'Взаимосвязь между возрастом автомобиля и погодой', \n",
    "    'Погодные условия', \n",
    "    'Возраст автомобиля'\n",
    ")\n",
    "\n",
    "# Группировка данных для барчарта с процентами для Таргет=1\n",
    "def group_data(data, x, y, target_col='target'):\n",
    "    grouped = data.groupby([x, y, target_col]).size().unstack(fill_value=0).reset_index()\n",
    "    grouped['total'] = grouped[0] + grouped[1]\n",
    "    grouped['percent_target_1'] = (grouped[1] / grouped['total']) * 100\n",
    "    return grouped\n",
    "\n",
    "# Взаимосвязь двух категорий (возраст автомобиля и погода) на таргет\n",
    "df_grouped_vehicle_weather = group_data(df, 'vehicle_age_category', 'weather')\n",
    "plot_bar_chart(\n",
    "    df_grouped_vehicle_weather, \n",
    "    'vehicle_age_category', \n",
    "    'percent_target_1', \n",
    "    'weather', \n",
    "    'Влияние возраста автомобиля и погоды на риск ДТП (Таргет = 1)', \n",
    "    'Возраст автомобиля', \n",
    "    'Процент ДТП (Таргет=1)'\n",
    ")\n",
    "\n",
    "# Стековая диаграмма: Влияние возраста автомобиля и погоды на таргет\n",
    "cross_tab_target = pd.crosstab([df['vehicle_age_category'], df['weather']], df['target'], normalize='index')\n",
    "plot_stacked_bar_chart(\n",
    "    cross_tab_target, \n",
    "    'Стековая диаграмма: Влияние возраста автомобиля и погоды на таргет', \n",
    "    'Возраст автомобиля и Погода', \n",
    "    'Процент'\n",
    ")\n",
    "\n",
    "# Тепловая карта: Взаимосвязь освещения и погоды\n",
    "plot_heatmap(df, 'weather', 'lighting', 'Взаимосвязь между освещением и погодой', 'Погодные условия', 'Освещение')\n",
    "\n",
    "# Влияние трезвости водителя и состояния дороги на таргет\n",
    "df_grouped_road_sobriety = group_data(df, 'party_sobriety', 'road_surface')\n",
    "plot_bar_chart(\n",
    "    df_grouped_road_sobriety, \n",
    "    'party_sobriety', \n",
    "    'percent_target_1', \n",
    "    'road_surface', \n",
    "    'Влияние трезвости водителя и состояния дороги на риск ДТП (Таргет = 1)', \n",
    "    'Трезвость водителя', \n",
    "    'Процент ДТП (Таргет=1)'\n",
    ")\n"
   ]
  },
  {
   "cell_type": "code",
   "execution_count": null,
   "id": "85641385",
   "metadata": {
    "ExecuteTime": {
     "start_time": "2024-10-01T18:37:00.949Z"
    },
    "scrolled": false
   },
   "outputs": [],
   "source": [
    "# Виолончельный график для распределения премий по разным категориям возраста автомобиля\n",
    "plt.figure(figsize=(10, 6))\n",
    "sns.violinplot(x='vehicle_age_category', y='insurance_premium', hue='target', data=df, split=True, palette='viridis')\n",
    "plt.title('Виолончельный график: Распределение страховых премий по возрасту автомобиля и таргету')\n",
    "plt.xlabel('Возраст автомобиля')\n",
    "plt.ylabel('Сумма страховой премии')\n",
    "plt.grid(True)\n",
    "plt.show()\n"
   ]
  },
  {
   "cell_type": "markdown",
   "id": "fc6cd67d",
   "metadata": {},
   "source": [
    "Исходя из представленного графика \"Виолончельного графика: Распределение страховых премий по возрасту автомобиля и таргету\", можно сделать следующие выводы относительно сумм страховых премий водителей:\n",
    "\n",
    "1. **Молодые автомобили (Young)**: Страховые премии для этой категории распределены относительно равномерно между случаями с ДТП и без.\n",
    "\n",
    "2. **Средний возраст автомобилей (Middle)**: В этой категории присутствует большая вариативность в суммах страховых премий, особенно для водителей с авариями. Э\n",
    "\n",
    "3. **Старые автомобили (Old)**: Страховые премии, как правило, выше для водителей с ДТП, что может указывать на повышенный риск аварий или более высокую стоимость ремонта для этих автомобилей.\n",
    "\n",
    "4. **Очень старые автомобили (Very_old)**: Наименьшие страховые премии среди всех категорий, при этом разница между премиями для случаев с ДТП и без минимальна. Это может быть связано с меньшей степенью активности вождения владельцами очень старых автомобилей."
   ]
  },
  {
   "cell_type": "code",
   "execution_count": null,
   "id": "21fdd78d",
   "metadata": {
    "ExecuteTime": {
     "start_time": "2024-10-01T18:37:01.052Z"
    },
    "scrolled": true
   },
   "outputs": [],
   "source": [
    "# Ящик с усами для распределения расстояния до главной дороги по состоянию дороги\n",
    "plt.figure(figsize=(10, 6))\n",
    "sns.boxplot(x='road_surface', y='main_road_dist', hue='target', data=df, palette='viridis')\n",
    "plt.title('Ящик с усами: Распределение расстояния до главной дороги по состоянию дороги и таргету')\n",
    "plt.xlabel('Состояние дороги')\n",
    "plt.ylabel('Расстояние до главной дороги')\n",
    "plt.grid(True)\n",
    "plt.show()\n"
   ]
  },
  {
   "cell_type": "code",
   "execution_count": null,
   "id": "f160a030",
   "metadata": {
    "ExecuteTime": {
     "start_time": "2024-10-01T18:37:01.110Z"
    },
    "scrolled": false
   },
   "outputs": [],
   "source": [
    "# Двумерное распределение для расстояния до главной дороги и возраста автомобиля\n",
    "plt.figure(figsize=(10, 6))\n",
    "sns.kdeplot(x='main_road_dist', y='vehicle_age', data=df, hue='target', fill=True, palette='viridis', alpha=0.5)\n",
    "plt.title('KDE двумерное распределение для расстояния до главной дороги и возраста автомобиля')\n",
    "plt.xlabel('Расстояние до главной дороги')\n",
    "plt.ylabel('Возраст автомобиля')\n",
    "plt.grid(True)\n",
    "plt.show()\n"
   ]
  },
  {
   "cell_type": "markdown",
   "id": "d3835b6a",
   "metadata": {},
   "source": [
    "На данном графике KDE (ядерная оценка плотности) изображено двумерное распределение возраста автомобилей и расстояния до главной дороги с учетом исхода (целевой переменной) ДТП: 0 (отсутствие ДТП) и 1 (наличие ДТП).\n",
    "\n",
    "**Основные наблюдения:**\n",
    "\n",
    "1. **Большинство автомобилей, не участвовавших в ДТП (целевая переменная = 0), сосредоточены в нижней части графика**. Это показывает, что младшие по возрасту автомобили чаще оказываются далеко от главных дорог, что может быть связано с меньшей вероятностью попадания в ДТП из-за меньшего количества активного движения или лучших условий вождения.\n",
    "\n",
    "2. **Кластер автомобилей, участвовавших в ДТП (целевая переменная = 1), расположен отдельно и ближе к 1000 метрам от главной дороги**. Этот кластер включает автомобили примерно среднего возраста (примерно 5 лет). Меньшее расстояние до главных дорог в этом случае может свидетельствовать о большем риске ДТП из-за более интенсивного дорожного движения.\n",
    "\n",
    "**Выводы:**\n",
    "\n",
    "- **Расстояние до главной дороги и возраст автомобиля могут быть связаны с риском ДТП**. Младшие автомобили, расположенные дальше от главных дорог, менее подвержены риску участия в авариях, в то время как среднего возраста автомобили, находящиеся ближе к главным дорогам, имеют более высокий риск попадания в ДТП.\n",
    "\n",
    "- **Эффект \"близости к главной дороге\" может быть значимым фактором при анализе и прогнозировании вероятности ДТП**. Это может потребовать дополнительного анализа, включая другие переменные, такие как интенсивность дорожного движения, условия дорог и другие факторы окружающей среды."
   ]
  },
  {
   "cell_type": "code",
   "execution_count": null,
   "id": "92ae3cec",
   "metadata": {
    "ExecuteTime": {
     "start_time": "2024-10-01T18:37:01.215Z"
    },
    "scrolled": true
   },
   "outputs": [],
   "source": [
    "# Мультивариантный boxplot для анализа страховой премии в зависимости от типа автомобиля и трезвости водителя\n",
    "plt.figure(figsize=(10, 6))\n",
    "sns.boxplot(x='vehicle_type', y='insurance_premium', hue='party_sobriety', data=df, palette='viridis')\n",
    "plt.title('Boxplot: Страховая премия по типу автомобиля и трезвости водителя', fontsize=15)\n",
    "plt.xlabel('Тип автомобиля', fontsize=12)\n",
    "plt.ylabel('Страховая премия', fontsize=12)\n",
    "plt.grid(True)\n",
    "plt.show()\n"
   ]
  },
  {
   "cell_type": "markdown",
   "id": "429709b5",
   "metadata": {},
   "source": [
    "**ВЫВОД:**\n",
    "\n",
    "1. **Возраст автомобиля и погода**: Автомобили разных возрастных категорий подвержены риску ДТП при различных погодных условиях. Молодые автомобили чаще попадают в аварии при ясной погоде, тогда как более старые автомобили могут быть более уязвимы в неблагоприятных погодных условиях.\n",
    "\n",
    "2. **Трезвость водителя и состояние дороги**: Трезвость водителя и состояние дороги оказывают существенное влияние на вероятность ДТП. Водители, находящиеся в трезвом состоянии, чаще попадают в аварии на сухих дорогах, тогда как на мокрых и скользких дорогах возрастает доля аварий среди водителей в состоянии алкогольного или иного опьянения.\n",
    "\n",
    "3. **Освещение и погодные условия**: Освещение и погода взаимосвязаны с количеством ДТП. Наибольшее количество аварий происходит в дневное время и при ясной погоде, но в условиях плохой видимости (например, ночью или при сильном дождливом освещении) риск ДТП также увеличивается.\n",
    "\n",
    "4. **Использование телефона**: Водители, которые не использовали телефон во время вождения, чаще попадают в аварии, чем те, кто его использовал. Это может быть связано с тем, что многие люди используют функции громкой связи, что не сильно отвлекает их от вождения.\n",
    "\n",
    "5. **Время суток и аварийность**: Часы пик утром и вечером имеют наибольшую концентрацию ДТП. Это свидетельствует о том, что многие аварии происходят во время спешки на работу или с работы.\n",
    "\n",
    "6. **Состояние дороги и ДТП**: Большинство аварий происходит на сухих дорогах, что может быть связано с тем, что водители становятся менее осторожными при хороших дорожных условиях. Тем не менее, на скользких или мокрых дорогах аварии имеют более серьезные последствия."
   ]
  },
  {
   "cell_type": "markdown",
   "id": "cd1a96d7",
   "metadata": {},
   "source": [
    "**ОБЩИЙ ВЫВОД ПО РАЗДЕЛУ 5 \"ИССЛЕДОВАТЕЛЬСКИЙ АНАЛИЗ ДАННЫХ\":**\n",
    "\n",
    "Исследование показало, что различные факторы имеют значительное влияние на вероятность дорожно-транспортных происшествий. В частности, было выявлено следующее:\n",
    "\n",
    "1. **Возраст автомобиля** имеет значительное влияние на риск ДТП, где старые и очень старые автомобили чаще участвуют в авариях. Это может быть связано с ухудшением технического состояния автомобилей по мере их старения.\n",
    "\n",
    "2. **Погодные условия** и **состояние дороги** также играют роль в безопасности дорожного движения. Сухие дорожные условия ассоциированы с меньшим числом аварий по сравнению с мокрыми или скользкими дорогами, что подчеркивает важность адекватной подготовки к изменениям погодных условий.\n",
    "\n",
    "3. **Трезвость водителей** оказывает существенное влияние на безопасность вождения, где нарушение трезвости значительно увеличивает вероятность участия в ДТП.\n",
    "\n",
    "4. **Время суток** и **освещение** важны для предотвращения ДТП. Наибольший риск ДТП наблюдается в ночное время и при плохом освещении, что требует дополнительного внимания к мерам безопасности в эти периоды.\n",
    "\n",
    "5. **Использование телефона** влияет на внимание водителей, хотя данные показывают, что не все использования телефона одинаково увеличивают риск ДТП, возможно, благодаря использованию технологий hands-free.\n",
    "\n",
    "Исходя из анализа, важно акцентировать внимание на усилении мер безопасности в отношении старых автомобилей, обеспечении адаптации вождения к изменениям погодных условий, повышении осведомленности водителей о рисках вождения в состоянии алкогольного опьянения и улучшении инфраструктуры освещения на дорогах. Эти меры могут способствовать снижению вероятности ДТП и повышению безопасности дорожного движения."
   ]
  },
  {
   "cell_type": "markdown",
   "id": "971a481d",
   "metadata": {},
   "source": [
    "## Корреляционный анализ"
   ]
  },
  {
   "cell_type": "markdown",
   "id": "a98579b9",
   "metadata": {},
   "source": [
    "Построим диаграмму рассеивания"
   ]
  },
  {
   "cell_type": "code",
   "execution_count": null,
   "id": "3b1dcfda",
   "metadata": {
    "ExecuteTime": {
     "start_time": "2024-10-01T18:37:01.447Z"
    }
   },
   "outputs": [],
   "source": [
    "# Строим pairplot\n",
    "sns.pairplot(df, hue='target', palette='viridis', diag_kind='kde')\n",
    "plt.suptitle('Pairplot для числовых признаков', y=1.02)\n",
    "plt.show()"
   ]
  },
  {
   "cell_type": "markdown",
   "id": "9aeb3879",
   "metadata": {},
   "source": [
    "Проведем корреляционный анализ. Так как в данных присутствуют категориальные значения, для построения матрицы корреляции будем использовать библиотеку `phik`"
   ]
  },
  {
   "cell_type": "code",
   "execution_count": null,
   "id": "060ca539",
   "metadata": {
    "ExecuteTime": {
     "start_time": "2024-10-01T18:37:01.547Z"
    },
    "scrolled": true
   },
   "outputs": [],
   "source": [
    "# Подготовка данных\n",
    "interval_cols = ['time', 'main_road_dist', 'insurance_premium', 'day']\n",
    "\n",
    "# Проведем корреляционный анализ с использованием библиотеки phik\n",
    "corr_matrix = df.drop('vehicle_age', axis=1).phik_matrix(interval_cols=interval_cols)\n",
    "corr_matrix.round(2)"
   ]
  },
  {
   "cell_type": "code",
   "execution_count": null,
   "id": "e1e9668b",
   "metadata": {
    "ExecuteTime": {
     "start_time": "2024-10-01T18:37:01.603Z"
    }
   },
   "outputs": [],
   "source": [
    "plot_correlation_matrix(\n",
    "    corr_matrix.values,\n",
    "    x_labels=corr_matrix.columns,\n",
    "    y_labels=corr_matrix.index,\n",
    "    vmin=0, vmax=1, color_map='Greens', \n",
    "    title=r'Корреляция $\\phi_K$',  \n",
    "    fontsize_factor=1.5,  \n",
    "    figsize=(20, 15)\n",
    ")"
   ]
  },
  {
   "cell_type": "markdown",
   "id": "ce8a0090",
   "metadata": {},
   "source": [
    "Построим хитмап отдельно для каждого класса, так как у нас несколько класов целевой переменной. Это поможет визуальному анализу того, какие признаки оказывают влияние на каждый из классов. Проанализировав отдельные хитмапы, мы сможешь выделить те признаки, которые оказывают влияние внутри каждого из классов таргета. Это может помочь в понимании важности определенных характеристик для принятия решения моделью."
   ]
  },
  {
   "cell_type": "code",
   "execution_count": null,
   "id": "adef9a95",
   "metadata": {
    "ExecuteTime": {
     "start_time": "2024-10-01T18:37:01.706Z"
    }
   },
   "outputs": [],
   "source": [
    "# Разделение данных на подмножества в соответствии с классами\n",
    "df_target_0 = df[df['target'] == 0]\n",
    "df_target_1 = df[df['target'] == 1]\n",
    "\n",
    "# Вычисление матриц корреляции для каждого подмножества данных\n",
    "corr_matrix_0 = df_target_0.drop(columns=['target', 'vehicle_age']).phik_matrix(interval_cols=interval_cols);\n",
    "corr_matrix_1 = df_target_1.drop(columns=['target', 'vehicle_age']).phik_matrix(interval_cols=interval_cols);\n",
    "\n",
    "# Построение отдельных хитмапов для каждой матрицы корреляции\n",
    "plot_correlation_matrix(\n",
    "    corr_matrix_0.values,\n",
    "    x_labels=corr_matrix_0.columns,\n",
    "    y_labels=corr_matrix_0.index,\n",
    "    vmin=0, vmax=1, color_map='Greens', \n",
    "    title=r'Корреляция $\\phi_K$, \"target = 0\"',  \n",
    "    fontsize_factor=1.5,  \n",
    "    figsize=(20, 15)\n",
    ");\n",
    "\n",
    "plot_correlation_matrix(\n",
    "    corr_matrix_1.values,\n",
    "    x_labels=corr_matrix_1.columns,\n",
    "    y_labels=corr_matrix_1.index,\n",
    "    vmin=0, vmax=1, color_map='Greens', \n",
    "    title=r'Корреляция $\\phi_K$, \"target = 1\"',  \n",
    "    fontsize_factor=1.5,  \n",
    "    figsize=(20, 15)\n",
    ");"
   ]
  },
  {
   "cell_type": "markdown",
   "id": "d2efeafe",
   "metadata": {},
   "source": [
    "**ОБЩИЙ ВЫВОД ПО РАЗДЕЛУ 6 \"КОРРЕЛЯЦИОННЫЙ АНАЛИЗ\":**\n",
    "\n",
    "На основании предоставленных матриц корреляции можно сделать следующие выводы о различиях между признаками для случаев, когда целевая переменная (target) равна 1 и 0:\n",
    "\n",
    "**Важные различия:**\n",
    "1. **Признак `party_sobriety`:**\n",
    "   - Сильнее коррелирует с целевой переменной, когда `target = 1` (0.52) по сравнению с `target = 0` (0.23).\n",
    "   - Это может указывать на то, что наличие алкоголя в организме участников влияет на вероятность наступления события, описываемого целевой переменной.\n",
    "\n",
    "\n",
    "2. **Признак `lighting`:**\n",
    "   - Корреляция с `road_surface` заметно выше при `target = 1` (0.72) против `target = 0` (0.73).\n",
    "   - Это может говорить о том, что освещение играет более значимую роль при определенных условиях дорожного покрытия в случаях, когда `target = 1`.\n",
    "\n",
    "\n",
    "3. **Признак `insurance_premium`:**\n",
    "   - Имеет выше корреляцию с `vehicle_age_category` при `target = 1` (0.69) по сравнению с `target = 0` (0.60).\n",
    "   - Предположительно, возраст транспортного средства и страховые выплаты теснее связаны в случаях, которые описываются `target = 1`.\n",
    "\n",
    "**Общие наблюдения:**\n",
    "- **Признак `cellphone_in_use`** демонстрирует более высокую корреляцию с `target = 1` (0.31), что может указывать на влияние использования мобильного телефона на риск наступления события.\n",
    "- **Признак `time`** также коррелирует с `lighting` сильнее при `target = 1` (0.72), что подчеркивает значимость времени суток и освещенности."
   ]
  },
  {
   "cell_type": "markdown",
   "id": "e337b8f9",
   "metadata": {},
   "source": [
    "## Подготовка данных для предсказания"
   ]
  },
  {
   "cell_type": "markdown",
   "id": "6afe974a",
   "metadata": {},
   "source": [
    "### Удаление ненужных признаков и уплотним категории"
   ]
  },
  {
   "cell_type": "code",
   "execution_count": null,
   "id": "f24beae7",
   "metadata": {
    "ExecuteTime": {
     "start_time": "2024-10-01T18:37:01.897Z"
    }
   },
   "outputs": [],
   "source": [
    "df = df.drop(['vehicle_age', 'party_drug_physical', 'party_sobriety'], axis=1)"
   ]
  },
  {
   "cell_type": "code",
   "execution_count": null,
   "id": "dda333a9",
   "metadata": {
    "ExecuteTime": {
     "start_time": "2024-10-01T18:37:01.956Z"
    }
   },
   "outputs": [],
   "source": [
    "df.to_csv('DTP.csv', index=False)  # Запись DataFrame в CSV без сохранения индекса"
   ]
  },
  {
   "cell_type": "code",
   "execution_count": 14,
   "id": "07819f79",
   "metadata": {
    "ExecuteTime": {
     "end_time": "2024-10-01T18:38:23.324330Z",
     "start_time": "2024-10-01T18:38:23.319352Z"
    },
    "scrolled": true
   },
   "outputs": [],
   "source": [
    "#df = pd.read_csv('DTP.csv')  # Запись DataFrame в CSV без сохранения индекса\n",
    "#df.head()"
   ]
  },
  {
   "cell_type": "code",
   "execution_count": 15,
   "id": "efa5f0b0",
   "metadata": {
    "ExecuteTime": {
     "end_time": "2024-10-01T18:38:23.386887Z",
     "start_time": "2024-10-01T18:38:23.374829Z"
    }
   },
   "outputs": [],
   "source": [
    "df_compac = df.copy()"
   ]
  },
  {
   "cell_type": "code",
   "execution_count": 16,
   "id": "62244829",
   "metadata": {
    "ExecuteTime": {
     "end_time": "2024-10-01T18:38:23.513379Z",
     "start_time": "2024-10-01T18:38:23.445865Z"
    }
   },
   "outputs": [],
   "source": [
    "# Замена значений в столбце 'weather'\n",
    "df_compac['weather'] = df_compac['weather'].replace(['fog', 'snowing', 'wind'], 'other')\n",
    "\n",
    "# Замена значений в столбце 'road_condition'\n",
    "df_compac['road_condition'] = df_compac['road_condition'].replace(\n",
    "    ['construction', 'loose material', 'obstruction', 'holes', 'reduced width', 'flooded'],\n",
    "    'other')\n",
    "\n",
    "# Замена значений в столбце 'party_drug_physical'\n",
    "#df_compac['party_drug_physical'] = df_compac['party_drug_physical'].replace(['E', 'I', 'F'], 'other')\n",
    "\n",
    "# Замена значений в столбце 'party_sobriety'\n",
    "#df_compac['party_sobriety'] = df_compac['party_sobriety'].replace(['C', 'D'], 'B')\n",
    "\n",
    "# Удалим лишнее\n",
    "df_compac = df_compac[df_compac['vehicle_transmission'] != 'unknown']\n",
    "\n",
    "df_compac = df_compac.drop(['location'], axis=1)"
   ]
  },
  {
   "cell_type": "markdown",
   "id": "1240b481",
   "metadata": {},
   "source": [
    "Проверим и при наличии удалим дубликаты"
   ]
  },
  {
   "cell_type": "code",
   "execution_count": 17,
   "id": "d06f9959",
   "metadata": {
    "ExecuteTime": {
     "end_time": "2024-10-01T18:38:23.766951Z",
     "start_time": "2024-10-01T18:38:23.572894Z"
    }
   },
   "outputs": [
    {
     "name": "stdout",
     "output_type": "stream",
     "text": [
      "Количество явных дубликатов: 24\n",
      "Количество явных дубликатов: 0\n"
     ]
    }
   ],
   "source": [
    "print('Количество явных дубликатов:', df.duplicated().sum())\n",
    "df = df.drop_duplicates()\n",
    "print('Количество явных дубликатов:', df.duplicated().sum())"
   ]
  },
  {
   "cell_type": "code",
   "execution_count": 18,
   "id": "c1ed5681",
   "metadata": {
    "ExecuteTime": {
     "end_time": "2024-10-01T18:38:23.925477Z",
     "start_time": "2024-10-01T18:38:23.768951Z"
    }
   },
   "outputs": [
    {
     "name": "stdout",
     "output_type": "stream",
     "text": [
      "Количество явных дубликатов: 105\n",
      "Количество явных дубликатов: 0\n"
     ]
    }
   ],
   "source": [
    "print('Количество явных дубликатов:', df_compac.duplicated().sum())\n",
    "df_compac = df_compac.drop_duplicates()\n",
    "print('Количество явных дубликатов:', df_compac.duplicated().sum())"
   ]
  },
  {
   "cell_type": "markdown",
   "id": "10bce475",
   "metadata": {},
   "source": [
    "Преведем данные в нужный тип"
   ]
  },
  {
   "cell_type": "code",
   "execution_count": 19,
   "id": "52677a6d",
   "metadata": {
    "ExecuteTime": {
     "end_time": "2024-10-01T18:38:23.989071Z",
     "start_time": "2024-10-01T18:38:23.926482Z"
    }
   },
   "outputs": [
    {
     "name": "stdout",
     "output_type": "stream",
     "text": [
      "<class 'pandas.core.frame.DataFrame'>\n",
      "Index: 109730 entries, 0 to 111618\n",
      "Data columns (total 15 columns):\n",
      " #   Column                Non-Null Count   Dtype   \n",
      "---  ------                --------------   -----   \n",
      " 0   day                   109730 non-null  category\n",
      " 1   weekday               109730 non-null  category\n",
      " 2   time                  109730 non-null  category\n",
      " 3   weather               109730 non-null  category\n",
      " 4   road_surface          109730 non-null  category\n",
      " 5   lighting              109730 non-null  category\n",
      " 6   main_road_dist        109730 non-null  int64   \n",
      " 7   location_type         109730 non-null  category\n",
      " 8   road_condition        109730 non-null  category\n",
      " 9   vehicle_type          109730 non-null  category\n",
      " 10  vehicle_transmission  109730 non-null  category\n",
      " 11  insurance_premium     109730 non-null  int64   \n",
      " 12  cellphone_in_use      109730 non-null  category\n",
      " 13  target                109730 non-null  category\n",
      " 14  vehicle_age_category  109730 non-null  category\n",
      "dtypes: category(13), int64(2)\n",
      "memory usage: 3.9 MB\n"
     ]
    }
   ],
   "source": [
    "# Список столбцов для преобразования в категориальные\n",
    "categorical_columns = [\n",
    "    'day', \n",
    "    'weekday', \n",
    "    'time', \n",
    "    'weather', \n",
    "    'road_surface', \n",
    "    'lighting', \n",
    "    'location_type', \n",
    "    'road_condition', \n",
    "    'vehicle_type', \n",
    "    'vehicle_transmission', \n",
    "    'cellphone_in_use', \n",
    "    'vehicle_age_category',\n",
    "    'target'\n",
    "]\n",
    "\n",
    "# Преобразование столбцов в категориальные типы данных\n",
    "for column in categorical_columns:\n",
    "    df_compac[column] = df_compac[column].astype('category')\n",
    "    \n",
    "df_compac.info()"
   ]
  },
  {
   "cell_type": "markdown",
   "id": "6e2240c5",
   "metadata": {},
   "source": [
    "### Разделение данных на выборки"
   ]
  },
  {
   "cell_type": "code",
   "execution_count": 20,
   "id": "69cfcd69",
   "metadata": {
    "ExecuteTime": {
     "end_time": "2024-10-01T18:38:24.052010Z",
     "start_time": "2024-10-01T18:38:23.992995Z"
    }
   },
   "outputs": [],
   "source": [
    "# Устанавливаем семена для генераторов случайных чисел для воспроизводимости результатов\n",
    "random.seed(RANDOM_STATE)\n",
    "np.random.seed(RANDOM_STATE)\n",
    "torch.manual_seed(RANDOM_STATE)\n",
    "torch.cuda.manual_seed(RANDOM_STATE)\n",
    "torch.backends.cudnn.deterministic = True\n",
    "torch.backends.cudnn.benchmark = False\n",
    "torch.use_deterministic_algorithms(True)\n",
    "torch.set_num_threads(1)"
   ]
  },
  {
   "cell_type": "code",
   "execution_count": 21,
   "id": "9fb0378b",
   "metadata": {
    "ExecuteTime": {
     "end_time": "2024-10-01T18:38:24.068010Z",
     "start_time": "2024-10-01T18:38:24.053014Z"
    }
   },
   "outputs": [
    {
     "name": "stdout",
     "output_type": "stream",
     "text": [
      "\n",
      "Связь между значениями и кодами:\n",
      "Код 0: Значение '0'\n",
      "Код 1: Значение '1'\n"
     ]
    }
   ],
   "source": [
    "# Создаем экземпляр LabelEncoder\n",
    "label_encoder = LabelEncoder()\n",
    "\n",
    "# Преобразуем категориальные значения в числовой формат\n",
    "df_compac['target'] = label_encoder.fit_transform(df_compac['target'])\n",
    "\n",
    "# Выводим связь между значениями и кодами\n",
    "print(\"\\nСвязь между значениями и кодами:\")\n",
    "for code, category in enumerate(label_encoder.classes_):\n",
    "    print(f\"Код {code}: Значение '{category}'\")\n",
    "\n",
    "X = df_compac.drop(['target'], axis=1)\n",
    "y = df_compac['target']\n",
    "\n",
    "# Создаем новый признак для стратификации, объединяющий несколько категориальных признаков\n",
    "#X['stratify_column'] = X[''].astype(str) + '_' + X[''].astype(str) \n",
    "\n",
    "#print(X['stratify_column'].value_counts().tail(10))"
   ]
  },
  {
   "cell_type": "code",
   "execution_count": 22,
   "id": "ecb4cc76",
   "metadata": {
    "ExecuteTime": {
     "end_time": "2024-10-01T18:38:24.115519Z",
     "start_time": "2024-10-01T18:38:24.070013Z"
    },
    "scrolled": true
   },
   "outputs": [
    {
     "name": "stdout",
     "output_type": "stream",
     "text": [
      "-----------------------------------------------------------------------------------------------------------------------------\n",
      "(76811, 14) (32919, 14)\n",
      "-----------------------------------------------------------------------------------------------------------------------------\n"
     ]
    },
    {
     "data": {
      "text/plain": [
       "((76811,), (32919,))"
      ]
     },
     "execution_count": 22,
     "metadata": {},
     "output_type": "execute_result"
    }
   ],
   "source": [
    "X_train, X_test, y_train, y_test = train_test_split(\n",
    "    X,\n",
    "    y,\n",
    "    test_size = TEST_SIZE, \n",
    "    random_state = RANDOM_STATE,\n",
    "    stratify = df_compac['target'])\n",
    "\n",
    "print(LINE_1)\n",
    "print(X_train.shape, X_test.shape)\n",
    "print(LINE_1)\n",
    "y_train.shape, y_test.shape"
   ]
  },
  {
   "cell_type": "markdown",
   "id": "eb844ca1",
   "metadata": {},
   "source": [
    "Преобразуем строковые категории в тип `object`, так как LGBM работает только с таким типом"
   ]
  },
  {
   "cell_type": "code",
   "execution_count": 23,
   "id": "a6f8038f",
   "metadata": {
    "ExecuteTime": {
     "end_time": "2024-10-01T18:38:24.147066Z",
     "start_time": "2024-10-01T18:38:24.116523Z"
    }
   },
   "outputs": [],
   "source": [
    "# Преобразуем категориальные столбцы в тип 'object'\n",
    "X_train_obj = X_train.select_dtypes(include=['category']).astype('object')\n",
    "\n",
    "# Объединяем обратно столбцы с типами 'object' и 'int'\n",
    "X_train_object = pd.concat([X_train_obj, X_train.select_dtypes(include=['int'])], axis=1)\n",
    "\n",
    "# Для тестовых данных (X_test) делаем то же самое\n",
    "X_test_obj = X_test.select_dtypes(include=['category']).astype('object')\n",
    "\n",
    "# Объединяем столбцы с типами 'object' и 'int'\n",
    "X_test_object = pd.concat([X_test_obj, X_test.select_dtypes(include=['int'])], axis=1)"
   ]
  },
  {
   "cell_type": "code",
   "execution_count": 24,
   "id": "a1300fbe",
   "metadata": {
    "ExecuteTime": {
     "end_time": "2024-10-01T18:38:24.194538Z",
     "start_time": "2024-10-01T18:38:24.173032Z"
    }
   },
   "outputs": [
    {
     "name": "stdout",
     "output_type": "stream",
     "text": [
      "-----------------------------------------------------------------------------------------------------------------------------\n",
      "(76811, 14) (32919, 14)\n",
      "-----------------------------------------------------------------------------------------------------------------------------\n"
     ]
    },
    {
     "data": {
      "text/plain": [
       "((76811,), (32919,))"
      ]
     },
     "execution_count": 24,
     "metadata": {},
     "output_type": "execute_result"
    }
   ],
   "source": [
    "print(LINE_1)\n",
    "print(X_train_object.shape, X_test_object.shape)\n",
    "print(LINE_1)\n",
    "y_train.shape, y_test.shape"
   ]
  },
  {
   "cell_type": "markdown",
   "id": "889e266c",
   "metadata": {},
   "source": [
    "Визуализируем данные после стратификации"
   ]
  },
  {
   "cell_type": "code",
   "execution_count": 25,
   "id": "2c2d44d0",
   "metadata": {
    "ExecuteTime": {
     "end_time": "2024-10-01T18:38:24.606683Z",
     "start_time": "2024-10-01T18:38:24.276051Z"
    }
   },
   "outputs": [
    {
     "data": {
      "image/png": "[encoded data removed]",
      "text/plain": [
       "<Figure size 1200x400 with 3 Axes>"
      ]
     },
     "metadata": {},
     "output_type": "display_data"
    }
   ],
   "source": [
    "# визуализация баланса целевого признака в выборках\n",
    "fig, ax = plt.subplots(1,3, figsize=(12,4))\n",
    "df_compac['target'].value_counts().plot(kind='bar', ax=ax[0], rot=0)\n",
    "ax[0].set_title(\"Исходный датасет\")\n",
    "y_train.value_counts().plot(kind='bar', ax=ax[1], rot=0)\n",
    "ax[1].set_title(\"Train\")\n",
    "y_test.value_counts().plot(kind='bar', ax=ax[2], rot=0)\n",
    "ax[2].set_title(\"Test\")\n",
    "plt.show()"
   ]
  },
  {
   "cell_type": "markdown",
   "id": "d704717a",
   "metadata": {},
   "source": [
    "### Создание итогового пайплайна"
   ]
  },
  {
   "cell_type": "markdown",
   "id": "5b9d22c4",
   "metadata": {},
   "source": [
    "Для решения задачи минимизации риска ДТП на маршруте движения, важно не только предсказать потенциальные риски, но и избежать излишней осторожности со стороны модели. В случае, если модель будет чрезмерно консервативной и вызывать слишком много ложноположительных срабатываний (предупреждений о ДТП, которые на самом деле не произойдут), это приведет к потерям времени и снижению эффективности передвижения, а также может испугнуть потенциальных клиентов.\n",
    "\n",
    "**Приоритеты:**\n",
    "- **Минимизация ложноотрицательных ошибок**: это главный приоритет, так как недооцененные риски могут привести к аварии. Пропуск потенциального ДТП (ложноотрицательный результат) несет высокий уровень угрозы для безопасности.\n",
    "- **Контроль ложноположительных ошибок**: важно, чтобы модель не \"перебарщивала\" с предсказаниями рисков (ложные срабатывания). Если модель будет слишком часто предупреждать о несуществующих рисках, это может подорвать доверие пользователей к системе и снизить её полезность. \n",
    "\n",
    "**Выбор метрик:**\n",
    "- **F1-мера**: будет использоваться для баланса между точностью (precision) и полнотой (recall). Она является ключевой метрикой, так как помогает учесть обе ошибки: как ложноположительные, так и ложноотрицательные. Это особенно важно в задачах, где высокие риски и последствия ошибок.\n",
    "- **AUC-ROC**: для оценки способности модели различать классы и сравнения с рандомной моделью. Это позволит оценить, насколько уверенно модель предсказывает риск ДТП.\n",
    "\n",
    "**Возможные дополнения:**\n",
    "- **Precision (Точность)**: метрика, которая фокусируется на ложноположительных ошибках. Если важно минимизировать ненужные предупреждения, можно дополнительно учитывать точность, которая показывает, насколько правильны предсказания модели о рисках.\n",
    "- **F2-мера**: в случае если основной акцент делается на минимизации ложноотрицательных ошибок (опасность недооценки риска), можно рассмотреть F2-меру, которая придает больший вес полноте (recall), чем точности.\n",
    "\n",
    "**Итого:**\n",
    "Для оценки модели будут использованы следующие метрики:\n",
    "- **F1-мера** — для сбалансированной оценки между ложноположительными и ложноотрицательными ошибками;\n",
    "- **AUC-ROC** — для оценки способности модели различать классы;\n",
    "- Дополнительно можно рассмотреть **Precision** или **F2-меру**, если потребуется больше внимания к конкретному типу ошибки."
   ]
  },
  {
   "cell_type": "code",
   "execution_count": 26,
   "id": "574bdd46",
   "metadata": {
    "ExecuteTime": {
     "end_time": "2024-10-01T18:38:24.622683Z",
     "start_time": "2024-10-01T18:38:24.608684Z"
    }
   },
   "outputs": [],
   "source": [
    "# создаём списки с названиями признаков\n",
    "ohe_columns = [*df_compac.select_dtypes(include=['category']).columns]\n",
    "num_columns = ['insurance_premium', 'main_road_dist']"
   ]
  },
  {
   "cell_type": "code",
   "execution_count": 27,
   "id": "1c4f108f",
   "metadata": {
    "ExecuteTime": {
     "end_time": "2024-10-01T18:38:24.638779Z",
     "start_time": "2024-10-01T18:38:24.623684Z"
    }
   },
   "outputs": [],
   "source": [
    "metrics = {\n",
    "    'f1': 'f1',  # Используем ключи для обозначения метрик\n",
    "    'roc_auc': 'roc_auc'\n",
    "}"
   ]
  },
  {
   "cell_type": "code",
   "execution_count": 28,
   "id": "06ccd382",
   "metadata": {
    "ExecuteTime": {
     "end_time": "2024-10-01T18:38:24.654193Z",
     "start_time": "2024-10-01T18:38:24.640684Z"
    }
   },
   "outputs": [],
   "source": [
    "# Кросс-валидация\n",
    "kf_cv = KFold(n_splits=N_FOLDS, shuffle=True, random_state=RANDOM_STATE)"
   ]
  },
  {
   "cell_type": "code",
   "execution_count": 29,
   "id": "bef92ae4",
   "metadata": {
    "ExecuteTime": {
     "end_time": "2024-10-01T18:38:24.749216Z",
     "start_time": "2024-10-01T18:38:24.655194Z"
    },
    "scrolled": true
   },
   "outputs": [
    {
     "name": "stdout",
     "output_type": "stream",
     "text": [
      "Fold 1\n",
      "Все категории в данных проверки (day) присутствуют в данных обучения !\n",
      "Все категории в данных проверки (weekday) присутствуют в данных обучения !\n",
      "Все категории в данных проверки (time) присутствуют в данных обучения !\n",
      "Все категории в данных проверки (weather) присутствуют в данных обучения !\n",
      "Все категории в данных проверки (road_surface) присутствуют в данных обучения !\n",
      "Все категории в данных проверки (lighting) присутствуют в данных обучения !\n",
      "Все категории в данных проверки (location_type) присутствуют в данных обучения !\n",
      "Все категории в данных проверки (road_condition) присутствуют в данных обучения !\n",
      "Все категории в данных проверки (vehicle_type) присутствуют в данных обучения !\n",
      "Все категории в данных проверки (vehicle_transmission) присутствуют в данных обучения !\n",
      "Все категории в данных проверки (cellphone_in_use) присутствуют в данных обучения !\n",
      "Все категории в данных проверки (vehicle_age_category) присутствуют в данных обучения !\n",
      "\n",
      "Fold 2\n",
      "Все категории в данных проверки (day) присутствуют в данных обучения !\n",
      "Все категории в данных проверки (weekday) присутствуют в данных обучения !\n",
      "Все категории в данных проверки (time) присутствуют в данных обучения !\n",
      "Все категории в данных проверки (weather) присутствуют в данных обучения !\n",
      "Все категории в данных проверки (road_surface) присутствуют в данных обучения !\n",
      "Все категории в данных проверки (lighting) присутствуют в данных обучения !\n",
      "Все категории в данных проверки (location_type) присутствуют в данных обучения !\n",
      "Все категории в данных проверки (road_condition) присутствуют в данных обучения !\n",
      "Все категории в данных проверки (vehicle_type) присутствуют в данных обучения !\n",
      "Все категории в данных проверки (vehicle_transmission) присутствуют в данных обучения !\n",
      "Все категории в данных проверки (cellphone_in_use) присутствуют в данных обучения !\n",
      "Все категории в данных проверки (vehicle_age_category) присутствуют в данных обучения !\n",
      "\n",
      "Fold 3\n",
      "Все категории в данных проверки (day) присутствуют в данных обучения !\n",
      "Все категории в данных проверки (weekday) присутствуют в данных обучения !\n",
      "Все категории в данных проверки (time) присутствуют в данных обучения !\n",
      "Все категории в данных проверки (weather) присутствуют в данных обучения !\n",
      "Все категории в данных проверки (road_surface) присутствуют в данных обучения !\n",
      "Все категории в данных проверки (lighting) присутствуют в данных обучения !\n",
      "Все категории в данных проверки (location_type) присутствуют в данных обучения !\n",
      "Все категории в данных проверки (road_condition) присутствуют в данных обучения !\n",
      "Все категории в данных проверки (vehicle_type) присутствуют в данных обучения !\n",
      "Все категории в данных проверки (vehicle_transmission) присутствуют в данных обучения !\n",
      "Все категории в данных проверки (cellphone_in_use) присутствуют в данных обучения !\n",
      "Все категории в данных проверки (vehicle_age_category) присутствуют в данных обучения !\n",
      "\n",
      "Fold 4\n",
      "Все категории в данных проверки (day) присутствуют в данных обучения !\n",
      "Все категории в данных проверки (weekday) присутствуют в данных обучения !\n",
      "Все категории в данных проверки (time) присутствуют в данных обучения !\n",
      "Все категории в данных проверки (weather) присутствуют в данных обучения !\n",
      "Все категории в данных проверки (road_surface) присутствуют в данных обучения !\n",
      "Все категории в данных проверки (lighting) присутствуют в данных обучения !\n",
      "Все категории в данных проверки (location_type) присутствуют в данных обучения !\n",
      "Все категории в данных проверки (road_condition) присутствуют в данных обучения !\n",
      "Все категории в данных проверки (vehicle_type) присутствуют в данных обучения !\n",
      "Все категории в данных проверки (vehicle_transmission) присутствуют в данных обучения !\n",
      "Все категории в данных проверки (cellphone_in_use) присутствуют в данных обучения !\n",
      "Все категории в данных проверки (vehicle_age_category) присутствуют в данных обучения !\n",
      "\n",
      "Fold 5\n",
      "Все категории в данных проверки (day) присутствуют в данных обучения !\n",
      "Все категории в данных проверки (weekday) присутствуют в данных обучения !\n",
      "Все категории в данных проверки (time) присутствуют в данных обучения !\n",
      "Все категории в данных проверки (weather) присутствуют в данных обучения !\n",
      "Все категории в данных проверки (road_surface) присутствуют в данных обучения !\n",
      "Все категории в данных проверки (lighting) присутствуют в данных обучения !\n",
      "Все категории в данных проверки (location_type) присутствуют в данных обучения !\n",
      "Все категории в данных проверки (road_condition) присутствуют в данных обучения !\n",
      "Все категории в данных проверки (vehicle_type) присутствуют в данных обучения !\n",
      "Все категории в данных проверки (vehicle_transmission) присутствуют в данных обучения !\n",
      "Все категории в данных проверки (cellphone_in_use) присутствуют в данных обучения !\n",
      "Все категории в данных проверки (vehicle_age_category) присутствуют в данных обучения !\n",
      "\n"
     ]
    }
   ],
   "source": [
    "# Проверка уникальных значений в каждом разбиении KFold\n",
    "for fold, (train_index, val_index) in enumerate(kf_cv.split(X)):\n",
    "    X_train_check, X_val_check = X.iloc[train_index], X.iloc[val_index]\n",
    "    y_train_check, y_val_check = y.iloc[train_index], y.iloc[val_index]\n",
    "    \n",
    "    print(f\"Fold {fold + 1}\")\n",
    "    for column in ohe_columns:\n",
    "        #print(f\"Уникальные категории в обучающих данных ({column}):\", X_train[column].unique())\n",
    "        #print(f\"Уникальные категории в данных проверки ({column}):\", X_val[column].unique())\n",
    "\n",
    "        # Проверка, есть ли категории в валидационных данных, которых нет в тренировочных данных\n",
    "        missing_categories = set(X_val_check[column].unique()) - set(X_train_check[column].unique())\n",
    "        if missing_categories:\n",
    "            print(f\"!!! Отсутствующие категории в обучающих данных ({column}), которые присутствуют в данных проверки:\", missing_categories)\n",
    "        else:\n",
    "            print(f\"Все категории в данных проверки ({column}) присутствуют в данных обучения !\")\n",
    "    print()"
   ]
  },
  {
   "cell_type": "code",
   "execution_count": 30,
   "id": "42c1357a",
   "metadata": {
    "ExecuteTime": {
     "end_time": "2024-10-01T18:38:24.765214Z",
     "start_time": "2024-10-01T18:38:24.750218Z"
    }
   },
   "outputs": [],
   "source": [
    "# Определение двух пайплайнов для кодирования\n",
    "def get_preprocessor(encoder_type):\n",
    "    if encoder_type == 'ohe':\n",
    "        encoder = OneHotEncoder(drop='first', sparse_output=False, handle_unknown='ignore')\n",
    "    elif encoder_type == 'label':\n",
    "        encoder = OrdinalEncoder(handle_unknown='use_encoded_value', unknown_value=-1)\n",
    "    else:\n",
    "        raise ValueError(f\"Неизвестный тип кодировщика: {encoder_type}\")\n",
    "    \n",
    "    preprocessor = ColumnTransformer(\n",
    "        transformers=[\n",
    "            ('cat', Pipeline(steps=[\n",
    "                ('imputer', SimpleImputer(strategy='most_frequent')),\n",
    "                ('encoder', encoder)\n",
    "            ]), ohe_columns),\n",
    "            ('num', MinMaxScaler(), num_columns)\n",
    "        ],\n",
    "        remainder='passthrough'\n",
    "    )\n",
    "\n",
    "    return preprocessor\n",
    "\n",
    "\n",
    "\n",
    "def pipe_line(cat_columns, num_columns, model):\n",
    "    preprocessor = get_preprocessor('ohe')\n",
    "    pipe_final = Pipeline([\n",
    "        ('preprocessor', preprocessor),\n",
    "        ('models', model)\n",
    "    ])\n",
    "\n",
    "    return pipe_final\n"
   ]
  },
  {
   "cell_type": "markdown",
   "id": "2923c234",
   "metadata": {},
   "source": [
    "Проверим пайплайн"
   ]
  },
  {
   "cell_type": "code",
   "execution_count": 31,
   "id": "b04f3df7",
   "metadata": {
    "ExecuteTime": {
     "end_time": "2024-10-01T18:38:24.828720Z",
     "start_time": "2024-10-01T18:38:24.774218Z"
    },
    "scrolled": true
   },
   "outputs": [
    {
     "data": {
      "text/html": [
       "<style>#sk-container-id-1 {\n",
       "  /* Definition of color scheme common for light and dark mode */\n",
       "  --sklearn-color-text: black;\n",
       "  --sklearn-color-line: gray;\n",
       "  /* Definition of color scheme for unfitted estimators */\n",
       "  --sklearn-color-unfitted-level-0: #fff5e6;\n",
       "  --sklearn-color-unfitted-level-1: #f6e4d2;\n",
       "  --sklearn-color-unfitted-level-2: #ffe0b3;\n",
       "  --sklearn-color-unfitted-level-3: chocolate;\n",
       "  /* Definition of color scheme for fitted estimators */\n",
       "  --sklearn-color-fitted-level-0: #f0f8ff;\n",
       "  --sklearn-color-fitted-level-1: #d4ebff;\n",
       "  --sklearn-color-fitted-level-2: #b3dbfd;\n",
       "  --sklearn-color-fitted-level-3: cornflowerblue;\n",
       "\n",
       "  /* Specific color for light theme */\n",
       "  --sklearn-color-text-on-default-background: var(--sg-text-color, var(--theme-code-foreground, var(--jp-content-font-color1, black)));\n",
       "  --sklearn-color-background: var(--sg-background-color, var(--theme-background, var(--jp-layout-color0, white)));\n",
       "  --sklearn-color-border-box: var(--sg-text-color, var(--theme-code-foreground, var(--jp-content-font-color1, black)));\n",
       "  --sklearn-color-icon: #696969;\n",
       "\n",
       "  @media (prefers-color-scheme: dark) {\n",
       "    /* Redefinition of color scheme for dark theme */\n",
       "    --sklearn-color-text-on-default-background: var(--sg-text-color, var(--theme-code-foreground, var(--jp-content-font-color1, white)));\n",
       "    --sklearn-color-background: var(--sg-background-color, var(--theme-background, var(--jp-layout-color0, #111)));\n",
       "    --sklearn-color-border-box: var(--sg-text-color, var(--theme-code-foreground, var(--jp-content-font-color1, white)));\n",
       "    --sklearn-color-icon: #878787;\n",
       "  }\n",
       "}\n",
       "\n",
       "#sk-container-id-1 {\n",
       "  color: var(--sklearn-color-text);\n",
       "}\n",
       "\n",
       "#sk-container-id-1 pre {\n",
       "  padding: 0;\n",
       "}\n",
       "\n",
       "#sk-container-id-1 input.sk-hidden--visually {\n",
       "  border: 0;\n",
       "  clip: rect(1px 1px 1px 1px);\n",
       "  clip: rect(1px, 1px, 1px, 1px);\n",
       "  height: 1px;\n",
       "  margin: -1px;\n",
       "  overflow: hidden;\n",
       "  padding: 0;\n",
       "  position: absolute;\n",
       "  width: 1px;\n",
       "}\n",
       "\n",
       "#sk-container-id-1 div.sk-dashed-wrapped {\n",
       "  border: 1px dashed var(--sklearn-color-line);\n",
       "  margin: 0 0.4em 0.5em 0.4em;\n",
       "  box-sizing: border-box;\n",
       "  padding-bottom: 0.4em;\n",
       "  background-color: var(--sklearn-color-background);\n",
       "}\n",
       "\n",
       "#sk-container-id-1 div.sk-container {\n",
       "  /* jupyter's `normalize.less` sets `[hidden] { display: none; }`\n",
       "     but bootstrap.min.css set `[hidden] { display: none !important; }`\n",
       "     so we also need the `!important` here to be able to override the\n",
       "     default hidden behavior on the sphinx rendered scikit-learn.org.\n",
       "     See: https://github.com/scikit-learn/scikit-learn/issues/21755 */\n",
       "  display: inline-block !important;\n",
       "  position: relative;\n",
       "}\n",
       "\n",
       "#sk-container-id-1 div.sk-text-repr-fallback {\n",
       "  display: none;\n",
       "}\n",
       "\n",
       "div.sk-parallel-item,\n",
       "div.sk-serial,\n",
       "div.sk-item {\n",
       "  /* draw centered vertical line to link estimators */\n",
       "  background-image: linear-gradient(var(--sklearn-color-text-on-default-background), var(--sklearn-color-text-on-default-background));\n",
       "  background-size: 2px 100%;\n",
       "  background-repeat: no-repeat;\n",
       "  background-position: center center;\n",
       "}\n",
       "\n",
       "/* Parallel-specific style estimator block */\n",
       "\n",
       "#sk-container-id-1 div.sk-parallel-item::after {\n",
       "  content: \"\";\n",
       "  width: 100%;\n",
       "  border-bottom: 2px solid var(--sklearn-color-text-on-default-background);\n",
       "  flex-grow: 1;\n",
       "}\n",
       "\n",
       "#sk-container-id-1 div.sk-parallel {\n",
       "  display: flex;\n",
       "  align-items: stretch;\n",
       "  justify-content: center;\n",
       "  background-color: var(--sklearn-color-background);\n",
       "  position: relative;\n",
       "}\n",
       "\n",
       "#sk-container-id-1 div.sk-parallel-item {\n",
       "  display: flex;\n",
       "  flex-direction: column;\n",
       "}\n",
       "\n",
       "#sk-container-id-1 div.sk-parallel-item:first-child::after {\n",
       "  align-self: flex-end;\n",
       "  width: 50%;\n",
       "}\n",
       "\n",
       "#sk-container-id-1 div.sk-parallel-item:last-child::after {\n",
       "  align-self: flex-start;\n",
       "  width: 50%;\n",
       "}\n",
       "\n",
       "#sk-container-id-1 div.sk-parallel-item:only-child::after {\n",
       "  width: 0;\n",
       "}\n",
       "\n",
       "/* Serial-specific style estimator block */\n",
       "\n",
       "#sk-container-id-1 div.sk-serial {\n",
       "  display: flex;\n",
       "  flex-direction: column;\n",
       "  align-items: center;\n",
       "  background-color: var(--sklearn-color-background);\n",
       "  padding-right: 1em;\n",
       "  padding-left: 1em;\n",
       "}\n",
       "\n",
       "\n",
       "/* Toggleable style: style used for estimator/Pipeline/ColumnTransformer box that is\n",
       "clickable and can be expanded/collapsed.\n",
       "- Pipeline and ColumnTransformer use this feature and define the default style\n",
       "- Estimators will overwrite some part of the style using the `sk-estimator` class\n",
       "*/\n",
       "\n",
       "/* Pipeline and ColumnTransformer style (default) */\n",
       "\n",
       "#sk-container-id-1 div.sk-toggleable {\n",
       "  /* Default theme specific background. It is overwritten whether we have a\n",
       "  specific estimator or a Pipeline/ColumnTransformer */\n",
       "  background-color: var(--sklearn-color-background);\n",
       "}\n",
       "\n",
       "/* Toggleable label */\n",
       "#sk-container-id-1 label.sk-toggleable__label {\n",
       "  cursor: pointer;\n",
       "  display: block;\n",
       "  width: 100%;\n",
       "  margin-bottom: 0;\n",
       "  padding: 0.5em;\n",
       "  box-sizing: border-box;\n",
       "  text-align: center;\n",
       "}\n",
       "\n",
       "#sk-container-id-1 label.sk-toggleable__label-arrow:before {\n",
       "  /* Arrow on the left of the label */\n",
       "  content: \"▸\";\n",
       "  float: left;\n",
       "  margin-right: 0.25em;\n",
       "  color: var(--sklearn-color-icon);\n",
       "}\n",
       "\n",
       "#sk-container-id-1 label.sk-toggleable__label-arrow:hover:before {\n",
       "  color: var(--sklearn-color-text);\n",
       "}\n",
       "\n",
       "/* Toggleable content - dropdown */\n",
       "\n",
       "#sk-container-id-1 div.sk-toggleable__content {\n",
       "  max-height: 0;\n",
       "  max-width: 0;\n",
       "  overflow: hidden;\n",
       "  text-align: left;\n",
       "  /* unfitted */\n",
       "  background-color: var(--sklearn-color-unfitted-level-0);\n",
       "}\n",
       "\n",
       "#sk-container-id-1 div.sk-toggleable__content.fitted {\n",
       "  /* fitted */\n",
       "  background-color: var(--sklearn-color-fitted-level-0);\n",
       "}\n",
       "\n",
       "#sk-container-id-1 div.sk-toggleable__content pre {\n",
       "  margin: 0.2em;\n",
       "  border-radius: 0.25em;\n",
       "  color: var(--sklearn-color-text);\n",
       "  /* unfitted */\n",
       "  background-color: var(--sklearn-color-unfitted-level-0);\n",
       "}\n",
       "\n",
       "#sk-container-id-1 div.sk-toggleable__content.fitted pre {\n",
       "  /* unfitted */\n",
       "  background-color: var(--sklearn-color-fitted-level-0);\n",
       "}\n",
       "\n",
       "#sk-container-id-1 input.sk-toggleable__control:checked~div.sk-toggleable__content {\n",
       "  /* Expand drop-down */\n",
       "  max-height: 200px;\n",
       "  max-width: 100%;\n",
       "  overflow: auto;\n",
       "}\n",
       "\n",
       "#sk-container-id-1 input.sk-toggleable__control:checked~label.sk-toggleable__label-arrow:before {\n",
       "  content: \"▾\";\n",
       "}\n",
       "\n",
       "/* Pipeline/ColumnTransformer-specific style */\n",
       "\n",
       "#sk-container-id-1 div.sk-label input.sk-toggleable__control:checked~label.sk-toggleable__label {\n",
       "  color: var(--sklearn-color-text);\n",
       "  background-color: var(--sklearn-color-unfitted-level-2);\n",
       "}\n",
       "\n",
       "#sk-container-id-1 div.sk-label.fitted input.sk-toggleable__control:checked~label.sk-toggleable__label {\n",
       "  background-color: var(--sklearn-color-fitted-level-2);\n",
       "}\n",
       "\n",
       "/* Estimator-specific style */\n",
       "\n",
       "/* Colorize estimator box */\n",
       "#sk-container-id-1 div.sk-estimator input.sk-toggleable__control:checked~label.sk-toggleable__label {\n",
       "  /* unfitted */\n",
       "  background-color: var(--sklearn-color-unfitted-level-2);\n",
       "}\n",
       "\n",
       "#sk-container-id-1 div.sk-estimator.fitted input.sk-toggleable__control:checked~label.sk-toggleable__label {\n",
       "  /* fitted */\n",
       "  background-color: var(--sklearn-color-fitted-level-2);\n",
       "}\n",
       "\n",
       "#sk-container-id-1 div.sk-label label.sk-toggleable__label,\n",
       "#sk-container-id-1 div.sk-label label {\n",
       "  /* The background is the default theme color */\n",
       "  color: var(--sklearn-color-text-on-default-background);\n",
       "}\n",
       "\n",
       "/* On hover, darken the color of the background */\n",
       "#sk-container-id-1 div.sk-label:hover label.sk-toggleable__label {\n",
       "  color: var(--sklearn-color-text);\n",
       "  background-color: var(--sklearn-color-unfitted-level-2);\n",
       "}\n",
       "\n",
       "/* Label box, darken color on hover, fitted */\n",
       "#sk-container-id-1 div.sk-label.fitted:hover label.sk-toggleable__label.fitted {\n",
       "  color: var(--sklearn-color-text);\n",
       "  background-color: var(--sklearn-color-fitted-level-2);\n",
       "}\n",
       "\n",
       "/* Estimator label */\n",
       "\n",
       "#sk-container-id-1 div.sk-label label {\n",
       "  font-family: monospace;\n",
       "  font-weight: bold;\n",
       "  display: inline-block;\n",
       "  line-height: 1.2em;\n",
       "}\n",
       "\n",
       "#sk-container-id-1 div.sk-label-container {\n",
       "  text-align: center;\n",
       "}\n",
       "\n",
       "/* Estimator-specific */\n",
       "#sk-container-id-1 div.sk-estimator {\n",
       "  font-family: monospace;\n",
       "  border: 1px dotted var(--sklearn-color-border-box);\n",
       "  border-radius: 0.25em;\n",
       "  box-sizing: border-box;\n",
       "  margin-bottom: 0.5em;\n",
       "  /* unfitted */\n",
       "  background-color: var(--sklearn-color-unfitted-level-0);\n",
       "}\n",
       "\n",
       "#sk-container-id-1 div.sk-estimator.fitted {\n",
       "  /* fitted */\n",
       "  background-color: var(--sklearn-color-fitted-level-0);\n",
       "}\n",
       "\n",
       "/* on hover */\n",
       "#sk-container-id-1 div.sk-estimator:hover {\n",
       "  /* unfitted */\n",
       "  background-color: var(--sklearn-color-unfitted-level-2);\n",
       "}\n",
       "\n",
       "#sk-container-id-1 div.sk-estimator.fitted:hover {\n",
       "  /* fitted */\n",
       "  background-color: var(--sklearn-color-fitted-level-2);\n",
       "}\n",
       "\n",
       "/* Specification for estimator info (e.g. \"i\" and \"?\") */\n",
       "\n",
       "/* Common style for \"i\" and \"?\" */\n",
       "\n",
       ".sk-estimator-doc-link,\n",
       "a:link.sk-estimator-doc-link,\n",
       "a:visited.sk-estimator-doc-link {\n",
       "  float: right;\n",
       "  font-size: smaller;\n",
       "  line-height: 1em;\n",
       "  font-family: monospace;\n",
       "  background-color: var(--sklearn-color-background);\n",
       "  border-radius: 1em;\n",
       "  height: 1em;\n",
       "  width: 1em;\n",
       "  text-decoration: none !important;\n",
       "  margin-left: 1ex;\n",
       "  /* unfitted */\n",
       "  border: var(--sklearn-color-unfitted-level-1) 1pt solid;\n",
       "  color: var(--sklearn-color-unfitted-level-1);\n",
       "}\n",
       "\n",
       ".sk-estimator-doc-link.fitted,\n",
       "a:link.sk-estimator-doc-link.fitted,\n",
       "a:visited.sk-estimator-doc-link.fitted {\n",
       "  /* fitted */\n",
       "  border: var(--sklearn-color-fitted-level-1) 1pt solid;\n",
       "  color: var(--sklearn-color-fitted-level-1);\n",
       "}\n",
       "\n",
       "/* On hover */\n",
       "div.sk-estimator:hover .sk-estimator-doc-link:hover,\n",
       ".sk-estimator-doc-link:hover,\n",
       "div.sk-label-container:hover .sk-estimator-doc-link:hover,\n",
       ".sk-estimator-doc-link:hover {\n",
       "  /* unfitted */\n",
       "  background-color: var(--sklearn-color-unfitted-level-3);\n",
       "  color: var(--sklearn-color-background);\n",
       "  text-decoration: none;\n",
       "}\n",
       "\n",
       "div.sk-estimator.fitted:hover .sk-estimator-doc-link.fitted:hover,\n",
       ".sk-estimator-doc-link.fitted:hover,\n",
       "div.sk-label-container:hover .sk-estimator-doc-link.fitted:hover,\n",
       ".sk-estimator-doc-link.fitted:hover {\n",
       "  /* fitted */\n",
       "  background-color: var(--sklearn-color-fitted-level-3);\n",
       "  color: var(--sklearn-color-background);\n",
       "  text-decoration: none;\n",
       "}\n",
       "\n",
       "/* Span, style for the box shown on hovering the info icon */\n",
       ".sk-estimator-doc-link span {\n",
       "  display: none;\n",
       "  z-index: 9999;\n",
       "  position: relative;\n",
       "  font-weight: normal;\n",
       "  right: .2ex;\n",
       "  padding: .5ex;\n",
       "  margin: .5ex;\n",
       "  width: min-content;\n",
       "  min-width: 20ex;\n",
       "  max-width: 50ex;\n",
       "  color: var(--sklearn-color-text);\n",
       "  box-shadow: 2pt 2pt 4pt #999;\n",
       "  /* unfitted */\n",
       "  background: var(--sklearn-color-unfitted-level-0);\n",
       "  border: .5pt solid var(--sklearn-color-unfitted-level-3);\n",
       "}\n",
       "\n",
       ".sk-estimator-doc-link.fitted span {\n",
       "  /* fitted */\n",
       "  background: var(--sklearn-color-fitted-level-0);\n",
       "  border: var(--sklearn-color-fitted-level-3);\n",
       "}\n",
       "\n",
       ".sk-estimator-doc-link:hover span {\n",
       "  display: block;\n",
       "}\n",
       "\n",
       "/* \"?\"-specific style due to the `<a>` HTML tag */\n",
       "\n",
       "#sk-container-id-1 a.estimator_doc_link {\n",
       "  float: right;\n",
       "  font-size: 1rem;\n",
       "  line-height: 1em;\n",
       "  font-family: monospace;\n",
       "  background-color: var(--sklearn-color-background);\n",
       "  border-radius: 1rem;\n",
       "  height: 1rem;\n",
       "  width: 1rem;\n",
       "  text-decoration: none;\n",
       "  /* unfitted */\n",
       "  color: var(--sklearn-color-unfitted-level-1);\n",
       "  border: var(--sklearn-color-unfitted-level-1) 1pt solid;\n",
       "}\n",
       "\n",
       "#sk-container-id-1 a.estimator_doc_link.fitted {\n",
       "  /* fitted */\n",
       "  border: var(--sklearn-color-fitted-level-1) 1pt solid;\n",
       "  color: var(--sklearn-color-fitted-level-1);\n",
       "}\n",
       "\n",
       "/* On hover */\n",
       "#sk-container-id-1 a.estimator_doc_link:hover {\n",
       "  /* unfitted */\n",
       "  background-color: var(--sklearn-color-unfitted-level-3);\n",
       "  color: var(--sklearn-color-background);\n",
       "  text-decoration: none;\n",
       "}\n",
       "\n",
       "#sk-container-id-1 a.estimator_doc_link.fitted:hover {\n",
       "  /* fitted */\n",
       "  background-color: var(--sklearn-color-fitted-level-3);\n",
       "}\n",
       "</style><div id=\"sk-container-id-1\" class=\"sk-top-container\"><div class=\"sk-text-repr-fallback\"><pre>Pipeline(steps=[(&#x27;preprocessor&#x27;,\n",
       "                 ColumnTransformer(remainder=&#x27;passthrough&#x27;,\n",
       "                                   transformers=[(&#x27;cat&#x27;,\n",
       "                                                  Pipeline(steps=[(&#x27;imputer&#x27;,\n",
       "                                                                   SimpleImputer(strategy=&#x27;most_frequent&#x27;)),\n",
       "                                                                  (&#x27;encoder&#x27;,\n",
       "                                                                   OneHotEncoder(drop=&#x27;first&#x27;,\n",
       "                                                                                 handle_unknown=&#x27;ignore&#x27;,\n",
       "                                                                                 sparse_output=False))]),\n",
       "                                                  [&#x27;day&#x27;, &#x27;weekday&#x27;, &#x27;time&#x27;,\n",
       "                                                   &#x27;weather&#x27;, &#x27;road_surface&#x27;,\n",
       "                                                   &#x27;lighting&#x27;, &#x27;location_type&#x27;,\n",
       "                                                   &#x27;road_condition&#x27;,\n",
       "                                                   &#x27;vehicle_type&#x27;,\n",
       "                                                   &#x27;vehicle_transmission&#x27;,\n",
       "                                                   &#x27;cellphone_in_use&#x27;,\n",
       "                                                   &#x27;vehicle_age_category&#x27;]),\n",
       "                                                 (&#x27;num&#x27;, MinMaxScaler(),\n",
       "                                                  [&#x27;insurance_premium&#x27;,\n",
       "                                                   &#x27;main_road_dist&#x27;])])),\n",
       "                (&#x27;models&#x27;, DecisionTreeClassifier(random_state=34))])</pre><b>In a Jupyter environment, please rerun this cell to show the HTML representation or trust the notebook. <br />On GitHub, the HTML representation is unable to render, please try loading this page with nbviewer.org.</b></div><div class=\"sk-container\" hidden><div class=\"sk-item sk-dashed-wrapped\"><div class=\"sk-label-container\"><div class=\"sk-label  sk-toggleable\"><input class=\"sk-toggleable__control sk-hidden--visually\" id=\"sk-estimator-id-1\" type=\"checkbox\" ><label for=\"sk-estimator-id-1\" class=\"sk-toggleable__label  sk-toggleable__label-arrow \">&nbsp;&nbsp;Pipeline<a class=\"sk-estimator-doc-link \" rel=\"noreferrer\" target=\"_blank\" href=\"https://scikit-learn.org/1.5/modules/generated/sklearn.pipeline.Pipeline.html\">?<span>Documentation for Pipeline</span></a><span class=\"sk-estimator-doc-link \">i<span>Not fitted</span></span></label><div class=\"sk-toggleable__content \"><pre>Pipeline(steps=[(&#x27;preprocessor&#x27;,\n",
       "                 ColumnTransformer(remainder=&#x27;passthrough&#x27;,\n",
       "                                   transformers=[(&#x27;cat&#x27;,\n",
       "                                                  Pipeline(steps=[(&#x27;imputer&#x27;,\n",
       "                                                                   SimpleImputer(strategy=&#x27;most_frequent&#x27;)),\n",
       "                                                                  (&#x27;encoder&#x27;,\n",
       "                                                                   OneHotEncoder(drop=&#x27;first&#x27;,\n",
       "                                                                                 handle_unknown=&#x27;ignore&#x27;,\n",
       "                                                                                 sparse_output=False))]),\n",
       "                                                  [&#x27;day&#x27;, &#x27;weekday&#x27;, &#x27;time&#x27;,\n",
       "                                                   &#x27;weather&#x27;, &#x27;road_surface&#x27;,\n",
       "                                                   &#x27;lighting&#x27;, &#x27;location_type&#x27;,\n",
       "                                                   &#x27;road_condition&#x27;,\n",
       "                                                   &#x27;vehicle_type&#x27;,\n",
       "                                                   &#x27;vehicle_transmission&#x27;,\n",
       "                                                   &#x27;cellphone_in_use&#x27;,\n",
       "                                                   &#x27;vehicle_age_category&#x27;]),\n",
       "                                                 (&#x27;num&#x27;, MinMaxScaler(),\n",
       "                                                  [&#x27;insurance_premium&#x27;,\n",
       "                                                   &#x27;main_road_dist&#x27;])])),\n",
       "                (&#x27;models&#x27;, DecisionTreeClassifier(random_state=34))])</pre></div> </div></div><div class=\"sk-serial\"><div class=\"sk-item sk-dashed-wrapped\"><div class=\"sk-label-container\"><div class=\"sk-label  sk-toggleable\"><input class=\"sk-toggleable__control sk-hidden--visually\" id=\"sk-estimator-id-2\" type=\"checkbox\" ><label for=\"sk-estimator-id-2\" class=\"sk-toggleable__label  sk-toggleable__label-arrow \">&nbsp;preprocessor: ColumnTransformer<a class=\"sk-estimator-doc-link \" rel=\"noreferrer\" target=\"_blank\" href=\"https://scikit-learn.org/1.5/modules/generated/sklearn.compose.ColumnTransformer.html\">?<span>Documentation for preprocessor: ColumnTransformer</span></a></label><div class=\"sk-toggleable__content \"><pre>ColumnTransformer(remainder=&#x27;passthrough&#x27;,\n",
       "                  transformers=[(&#x27;cat&#x27;,\n",
       "                                 Pipeline(steps=[(&#x27;imputer&#x27;,\n",
       "                                                  SimpleImputer(strategy=&#x27;most_frequent&#x27;)),\n",
       "                                                 (&#x27;encoder&#x27;,\n",
       "                                                  OneHotEncoder(drop=&#x27;first&#x27;,\n",
       "                                                                handle_unknown=&#x27;ignore&#x27;,\n",
       "                                                                sparse_output=False))]),\n",
       "                                 [&#x27;day&#x27;, &#x27;weekday&#x27;, &#x27;time&#x27;, &#x27;weather&#x27;,\n",
       "                                  &#x27;road_surface&#x27;, &#x27;lighting&#x27;, &#x27;location_type&#x27;,\n",
       "                                  &#x27;road_condition&#x27;, &#x27;vehicle_type&#x27;,\n",
       "                                  &#x27;vehicle_transmission&#x27;, &#x27;cellphone_in_use&#x27;,\n",
       "                                  &#x27;vehicle_age_category&#x27;]),\n",
       "                                (&#x27;num&#x27;, MinMaxScaler(),\n",
       "                                 [&#x27;insurance_premium&#x27;, &#x27;main_road_dist&#x27;])])</pre></div> </div></div><div class=\"sk-parallel\"><div class=\"sk-parallel-item\"><div class=\"sk-item\"><div class=\"sk-label-container\"><div class=\"sk-label  sk-toggleable\"><input class=\"sk-toggleable__control sk-hidden--visually\" id=\"sk-estimator-id-3\" type=\"checkbox\" ><label for=\"sk-estimator-id-3\" class=\"sk-toggleable__label  sk-toggleable__label-arrow \">cat</label><div class=\"sk-toggleable__content \"><pre>[&#x27;day&#x27;, &#x27;weekday&#x27;, &#x27;time&#x27;, &#x27;weather&#x27;, &#x27;road_surface&#x27;, &#x27;lighting&#x27;, &#x27;location_type&#x27;, &#x27;road_condition&#x27;, &#x27;vehicle_type&#x27;, &#x27;vehicle_transmission&#x27;, &#x27;cellphone_in_use&#x27;, &#x27;vehicle_age_category&#x27;]</pre></div> </div></div><div class=\"sk-serial\"><div class=\"sk-item\"><div class=\"sk-serial\"><div class=\"sk-item\"><div class=\"sk-estimator  sk-toggleable\"><input class=\"sk-toggleable__control sk-hidden--visually\" id=\"sk-estimator-id-4\" type=\"checkbox\" ><label for=\"sk-estimator-id-4\" class=\"sk-toggleable__label  sk-toggleable__label-arrow \">&nbsp;SimpleImputer<a class=\"sk-estimator-doc-link \" rel=\"noreferrer\" target=\"_blank\" href=\"https://scikit-learn.org/1.5/modules/generated/sklearn.impute.SimpleImputer.html\">?<span>Documentation for SimpleImputer</span></a></label><div class=\"sk-toggleable__content \"><pre>SimpleImputer(strategy=&#x27;most_frequent&#x27;)</pre></div> </div></div><div class=\"sk-item\"><div class=\"sk-estimator  sk-toggleable\"><input class=\"sk-toggleable__control sk-hidden--visually\" id=\"sk-estimator-id-5\" type=\"checkbox\" ><label for=\"sk-estimator-id-5\" class=\"sk-toggleable__label  sk-toggleable__label-arrow \">&nbsp;OneHotEncoder<a class=\"sk-estimator-doc-link \" rel=\"noreferrer\" target=\"_blank\" href=\"https://scikit-learn.org/1.5/modules/generated/sklearn.preprocessing.OneHotEncoder.html\">?<span>Documentation for OneHotEncoder</span></a></label><div class=\"sk-toggleable__content \"><pre>OneHotEncoder(drop=&#x27;first&#x27;, handle_unknown=&#x27;ignore&#x27;, sparse_output=False)</pre></div> </div></div></div></div></div></div></div><div class=\"sk-parallel-item\"><div class=\"sk-item\"><div class=\"sk-label-container\"><div class=\"sk-label  sk-toggleable\"><input class=\"sk-toggleable__control sk-hidden--visually\" id=\"sk-estimator-id-6\" type=\"checkbox\" ><label for=\"sk-estimator-id-6\" class=\"sk-toggleable__label  sk-toggleable__label-arrow \">num</label><div class=\"sk-toggleable__content \"><pre>[&#x27;insurance_premium&#x27;, &#x27;main_road_dist&#x27;]</pre></div> </div></div><div class=\"sk-serial\"><div class=\"sk-item\"><div class=\"sk-estimator  sk-toggleable\"><input class=\"sk-toggleable__control sk-hidden--visually\" id=\"sk-estimator-id-7\" type=\"checkbox\" ><label for=\"sk-estimator-id-7\" class=\"sk-toggleable__label  sk-toggleable__label-arrow \">&nbsp;MinMaxScaler<a class=\"sk-estimator-doc-link \" rel=\"noreferrer\" target=\"_blank\" href=\"https://scikit-learn.org/1.5/modules/generated/sklearn.preprocessing.MinMaxScaler.html\">?<span>Documentation for MinMaxScaler</span></a></label><div class=\"sk-toggleable__content \"><pre>MinMaxScaler()</pre></div> </div></div></div></div></div><div class=\"sk-parallel-item\"><div class=\"sk-item\"><div class=\"sk-label-container\"><div class=\"sk-label  sk-toggleable\"><input class=\"sk-toggleable__control sk-hidden--visually\" id=\"sk-estimator-id-8\" type=\"checkbox\" ><label for=\"sk-estimator-id-8\" class=\"sk-toggleable__label  sk-toggleable__label-arrow \">remainder</label><div class=\"sk-toggleable__content \"><pre></pre></div> </div></div><div class=\"sk-serial\"><div class=\"sk-item\"><div class=\"sk-estimator  sk-toggleable\"><input class=\"sk-toggleable__control sk-hidden--visually\" id=\"sk-estimator-id-9\" type=\"checkbox\" ><label for=\"sk-estimator-id-9\" class=\"sk-toggleable__label  sk-toggleable__label-arrow \">passthrough</label><div class=\"sk-toggleable__content \"><pre>passthrough</pre></div> </div></div></div></div></div></div></div><div class=\"sk-item\"><div class=\"sk-estimator  sk-toggleable\"><input class=\"sk-toggleable__control sk-hidden--visually\" id=\"sk-estimator-id-10\" type=\"checkbox\" ><label for=\"sk-estimator-id-10\" class=\"sk-toggleable__label  sk-toggleable__label-arrow \">&nbsp;DecisionTreeClassifier<a class=\"sk-estimator-doc-link \" rel=\"noreferrer\" target=\"_blank\" href=\"https://scikit-learn.org/1.5/modules/generated/sklearn.tree.DecisionTreeClassifier.html\">?<span>Documentation for DecisionTreeClassifier</span></a></label><div class=\"sk-toggleable__content \"><pre>DecisionTreeClassifier(random_state=34)</pre></div> </div></div></div></div></div></div>"
      ],
      "text/plain": [
       "Pipeline(steps=[('preprocessor',\n",
       "                 ColumnTransformer(remainder='passthrough',\n",
       "                                   transformers=[('cat',\n",
       "                                                  Pipeline(steps=[('imputer',\n",
       "                                                                   SimpleImputer(strategy='most_frequent')),\n",
       "                                                                  ('encoder',\n",
       "                                                                   OneHotEncoder(drop='first',\n",
       "                                                                                 handle_unknown='ignore',\n",
       "                                                                                 sparse_output=False))]),\n",
       "                                                  ['day', 'weekday', 'time',\n",
       "                                                   'weather', 'road_surface',\n",
       "                                                   'lighting', 'location_type',\n",
       "                                                   'road_condition',\n",
       "                                                   'vehicle_type',\n",
       "                                                   'vehicle_transmission',\n",
       "                                                   'cellphone_in_use',\n",
       "                                                   'vehicle_age_category']),\n",
       "                                                 ('num', MinMaxScaler(),\n",
       "                                                  ['insurance_premium',\n",
       "                                                   'main_road_dist'])])),\n",
       "                ('models', DecisionTreeClassifier(random_state=34))])"
      ]
     },
     "execution_count": 31,
     "metadata": {},
     "output_type": "execute_result"
    }
   ],
   "source": [
    "pipe_line(ohe_columns, num_columns, DecisionTreeClassifier(random_state=RANDOM_STATE))"
   ]
  },
  {
   "cell_type": "markdown",
   "id": "6fd2733a",
   "metadata": {},
   "source": [
    "### Обучение модели \"DecisionTreeClassifier\""
   ]
  },
  {
   "cell_type": "markdown",
   "id": "256434c5",
   "metadata": {},
   "source": [
    "Обучим модель с помощью `DecisionTreeClassifier`"
   ]
  },
  {
   "cell_type": "code",
   "execution_count": 32,
   "id": "c131ff1f",
   "metadata": {
    "ExecuteTime": {
     "end_time": "2024-10-01T18:38:24.923737Z",
     "start_time": "2024-10-01T18:38:24.919742Z"
    }
   },
   "outputs": [],
   "source": [
    "pipeline_tree = pipe_line(ohe_columns, num_columns, DecisionTreeClassifier(random_state=RANDOM_STATE))\n",
    "\n",
    "param_grid_tree = {\n",
    "    'models__max_depth': range(2, 40),\n",
    "    'models__max_features': range(1, len(X_train.columns) + 1),  # max_features должно быть в диапазоне (0, n_features]\n",
    "    'preprocessor__num': [MinMaxScaler(), StandardScaler(), 'passthrough']\n",
    "}"
   ]
  },
  {
   "cell_type": "code",
   "execution_count": 33,
   "id": "23ea0be3",
   "metadata": {
    "ExecuteTime": {
     "end_time": "2024-10-01T18:38:24.987247Z",
     "start_time": "2024-10-01T18:38:24.977252Z"
    }
   },
   "outputs": [],
   "source": [
    "\"\"\"%%time\n",
    "\n",
    "grid_search_tree = GridSearchCV(\n",
    "    pipeline_tree, \n",
    "    param_grid_tree,  \n",
    "    cv=kf_cv,\n",
    "    scoring=metrics,  # Передаем словарь метрик\n",
    "    refit='f1',  # Указываем, на основе какой метрики перетренировывать\n",
    "    n_jobs=-1\n",
    ")\n",
    "grid_search_tree.fit(X_train, y_train)\"\"\";"
   ]
  },
  {
   "cell_type": "code",
   "execution_count": 34,
   "id": "17e360d9",
   "metadata": {
    "ExecuteTime": {
     "end_time": "2024-10-01T18:38:40.537100Z",
     "start_time": "2024-10-01T18:38:25.036760Z"
    },
    "code_folding": [],
    "scrolled": true
   },
   "outputs": [
    {
     "name": "stdout",
     "output_type": "stream",
     "text": [
      "CPU times: total: 8.7 s\n",
      "Wall time: 15.4 s\n"
     ]
    },
    {
     "data": {
      "text/html": [
       "<style>#sk-container-id-2 {\n",
       "  /* Definition of color scheme common for light and dark mode */\n",
       "  --sklearn-color-text: black;\n",
       "  --sklearn-color-line: gray;\n",
       "  /* Definition of color scheme for unfitted estimators */\n",
       "  --sklearn-color-unfitted-level-0: #fff5e6;\n",
       "  --sklearn-color-unfitted-level-1: #f6e4d2;\n",
       "  --sklearn-color-unfitted-level-2: #ffe0b3;\n",
       "  --sklearn-color-unfitted-level-3: chocolate;\n",
       "  /* Definition of color scheme for fitted estimators */\n",
       "  --sklearn-color-fitted-level-0: #f0f8ff;\n",
       "  --sklearn-color-fitted-level-1: #d4ebff;\n",
       "  --sklearn-color-fitted-level-2: #b3dbfd;\n",
       "  --sklearn-color-fitted-level-3: cornflowerblue;\n",
       "\n",
       "  /* Specific color for light theme */\n",
       "  --sklearn-color-text-on-default-background: var(--sg-text-color, var(--theme-code-foreground, var(--jp-content-font-color1, black)));\n",
       "  --sklearn-color-background: var(--sg-background-color, var(--theme-background, var(--jp-layout-color0, white)));\n",
       "  --sklearn-color-border-box: var(--sg-text-color, var(--theme-code-foreground, var(--jp-content-font-color1, black)));\n",
       "  --sklearn-color-icon: #696969;\n",
       "\n",
       "  @media (prefers-color-scheme: dark) {\n",
       "    /* Redefinition of color scheme for dark theme */\n",
       "    --sklearn-color-text-on-default-background: var(--sg-text-color, var(--theme-code-foreground, var(--jp-content-font-color1, white)));\n",
       "    --sklearn-color-background: var(--sg-background-color, var(--theme-background, var(--jp-layout-color0, #111)));\n",
       "    --sklearn-color-border-box: var(--sg-text-color, var(--theme-code-foreground, var(--jp-content-font-color1, white)));\n",
       "    --sklearn-color-icon: #878787;\n",
       "  }\n",
       "}\n",
       "\n",
       "#sk-container-id-2 {\n",
       "  color: var(--sklearn-color-text);\n",
       "}\n",
       "\n",
       "#sk-container-id-2 pre {\n",
       "  padding: 0;\n",
       "}\n",
       "\n",
       "#sk-container-id-2 input.sk-hidden--visually {\n",
       "  border: 0;\n",
       "  clip: rect(1px 1px 1px 1px);\n",
       "  clip: rect(1px, 1px, 1px, 1px);\n",
       "  height: 1px;\n",
       "  margin: -1px;\n",
       "  overflow: hidden;\n",
       "  padding: 0;\n",
       "  position: absolute;\n",
       "  width: 1px;\n",
       "}\n",
       "\n",
       "#sk-container-id-2 div.sk-dashed-wrapped {\n",
       "  border: 1px dashed var(--sklearn-color-line);\n",
       "  margin: 0 0.4em 0.5em 0.4em;\n",
       "  box-sizing: border-box;\n",
       "  padding-bottom: 0.4em;\n",
       "  background-color: var(--sklearn-color-background);\n",
       "}\n",
       "\n",
       "#sk-container-id-2 div.sk-container {\n",
       "  /* jupyter's `normalize.less` sets `[hidden] { display: none; }`\n",
       "     but bootstrap.min.css set `[hidden] { display: none !important; }`\n",
       "     so we also need the `!important` here to be able to override the\n",
       "     default hidden behavior on the sphinx rendered scikit-learn.org.\n",
       "     See: https://github.com/scikit-learn/scikit-learn/issues/21755 */\n",
       "  display: inline-block !important;\n",
       "  position: relative;\n",
       "}\n",
       "\n",
       "#sk-container-id-2 div.sk-text-repr-fallback {\n",
       "  display: none;\n",
       "}\n",
       "\n",
       "div.sk-parallel-item,\n",
       "div.sk-serial,\n",
       "div.sk-item {\n",
       "  /* draw centered vertical line to link estimators */\n",
       "  background-image: linear-gradient(var(--sklearn-color-text-on-default-background), var(--sklearn-color-text-on-default-background));\n",
       "  background-size: 2px 100%;\n",
       "  background-repeat: no-repeat;\n",
       "  background-position: center center;\n",
       "}\n",
       "\n",
       "/* Parallel-specific style estimator block */\n",
       "\n",
       "#sk-container-id-2 div.sk-parallel-item::after {\n",
       "  content: \"\";\n",
       "  width: 100%;\n",
       "  border-bottom: 2px solid var(--sklearn-color-text-on-default-background);\n",
       "  flex-grow: 1;\n",
       "}\n",
       "\n",
       "#sk-container-id-2 div.sk-parallel {\n",
       "  display: flex;\n",
       "  align-items: stretch;\n",
       "  justify-content: center;\n",
       "  background-color: var(--sklearn-color-background);\n",
       "  position: relative;\n",
       "}\n",
       "\n",
       "#sk-container-id-2 div.sk-parallel-item {\n",
       "  display: flex;\n",
       "  flex-direction: column;\n",
       "}\n",
       "\n",
       "#sk-container-id-2 div.sk-parallel-item:first-child::after {\n",
       "  align-self: flex-end;\n",
       "  width: 50%;\n",
       "}\n",
       "\n",
       "#sk-container-id-2 div.sk-parallel-item:last-child::after {\n",
       "  align-self: flex-start;\n",
       "  width: 50%;\n",
       "}\n",
       "\n",
       "#sk-container-id-2 div.sk-parallel-item:only-child::after {\n",
       "  width: 0;\n",
       "}\n",
       "\n",
       "/* Serial-specific style estimator block */\n",
       "\n",
       "#sk-container-id-2 div.sk-serial {\n",
       "  display: flex;\n",
       "  flex-direction: column;\n",
       "  align-items: center;\n",
       "  background-color: var(--sklearn-color-background);\n",
       "  padding-right: 1em;\n",
       "  padding-left: 1em;\n",
       "}\n",
       "\n",
       "\n",
       "/* Toggleable style: style used for estimator/Pipeline/ColumnTransformer box that is\n",
       "clickable and can be expanded/collapsed.\n",
       "- Pipeline and ColumnTransformer use this feature and define the default style\n",
       "- Estimators will overwrite some part of the style using the `sk-estimator` class\n",
       "*/\n",
       "\n",
       "/* Pipeline and ColumnTransformer style (default) */\n",
       "\n",
       "#sk-container-id-2 div.sk-toggleable {\n",
       "  /* Default theme specific background. It is overwritten whether we have a\n",
       "  specific estimator or a Pipeline/ColumnTransformer */\n",
       "  background-color: var(--sklearn-color-background);\n",
       "}\n",
       "\n",
       "/* Toggleable label */\n",
       "#sk-container-id-2 label.sk-toggleable__label {\n",
       "  cursor: pointer;\n",
       "  display: block;\n",
       "  width: 100%;\n",
       "  margin-bottom: 0;\n",
       "  padding: 0.5em;\n",
       "  box-sizing: border-box;\n",
       "  text-align: center;\n",
       "}\n",
       "\n",
       "#sk-container-id-2 label.sk-toggleable__label-arrow:before {\n",
       "  /* Arrow on the left of the label */\n",
       "  content: \"▸\";\n",
       "  float: left;\n",
       "  margin-right: 0.25em;\n",
       "  color: var(--sklearn-color-icon);\n",
       "}\n",
       "\n",
       "#sk-container-id-2 label.sk-toggleable__label-arrow:hover:before {\n",
       "  color: var(--sklearn-color-text);\n",
       "}\n",
       "\n",
       "/* Toggleable content - dropdown */\n",
       "\n",
       "#sk-container-id-2 div.sk-toggleable__content {\n",
       "  max-height: 0;\n",
       "  max-width: 0;\n",
       "  overflow: hidden;\n",
       "  text-align: left;\n",
       "  /* unfitted */\n",
       "  background-color: var(--sklearn-color-unfitted-level-0);\n",
       "}\n",
       "\n",
       "#sk-container-id-2 div.sk-toggleable__content.fitted {\n",
       "  /* fitted */\n",
       "  background-color: var(--sklearn-color-fitted-level-0);\n",
       "}\n",
       "\n",
       "#sk-container-id-2 div.sk-toggleable__content pre {\n",
       "  margin: 0.2em;\n",
       "  border-radius: 0.25em;\n",
       "  color: var(--sklearn-color-text);\n",
       "  /* unfitted */\n",
       "  background-color: var(--sklearn-color-unfitted-level-0);\n",
       "}\n",
       "\n",
       "#sk-container-id-2 div.sk-toggleable__content.fitted pre {\n",
       "  /* unfitted */\n",
       "  background-color: var(--sklearn-color-fitted-level-0);\n",
       "}\n",
       "\n",
       "#sk-container-id-2 input.sk-toggleable__control:checked~div.sk-toggleable__content {\n",
       "  /* Expand drop-down */\n",
       "  max-height: 200px;\n",
       "  max-width: 100%;\n",
       "  overflow: auto;\n",
       "}\n",
       "\n",
       "#sk-container-id-2 input.sk-toggleable__control:checked~label.sk-toggleable__label-arrow:before {\n",
       "  content: \"▾\";\n",
       "}\n",
       "\n",
       "/* Pipeline/ColumnTransformer-specific style */\n",
       "\n",
       "#sk-container-id-2 div.sk-label input.sk-toggleable__control:checked~label.sk-toggleable__label {\n",
       "  color: var(--sklearn-color-text);\n",
       "  background-color: var(--sklearn-color-unfitted-level-2);\n",
       "}\n",
       "\n",
       "#sk-container-id-2 div.sk-label.fitted input.sk-toggleable__control:checked~label.sk-toggleable__label {\n",
       "  background-color: var(--sklearn-color-fitted-level-2);\n",
       "}\n",
       "\n",
       "/* Estimator-specific style */\n",
       "\n",
       "/* Colorize estimator box */\n",
       "#sk-container-id-2 div.sk-estimator input.sk-toggleable__control:checked~label.sk-toggleable__label {\n",
       "  /* unfitted */\n",
       "  background-color: var(--sklearn-color-unfitted-level-2);\n",
       "}\n",
       "\n",
       "#sk-container-id-2 div.sk-estimator.fitted input.sk-toggleable__control:checked~label.sk-toggleable__label {\n",
       "  /* fitted */\n",
       "  background-color: var(--sklearn-color-fitted-level-2);\n",
       "}\n",
       "\n",
       "#sk-container-id-2 div.sk-label label.sk-toggleable__label,\n",
       "#sk-container-id-2 div.sk-label label {\n",
       "  /* The background is the default theme color */\n",
       "  color: var(--sklearn-color-text-on-default-background);\n",
       "}\n",
       "\n",
       "/* On hover, darken the color of the background */\n",
       "#sk-container-id-2 div.sk-label:hover label.sk-toggleable__label {\n",
       "  color: var(--sklearn-color-text);\n",
       "  background-color: var(--sklearn-color-unfitted-level-2);\n",
       "}\n",
       "\n",
       "/* Label box, darken color on hover, fitted */\n",
       "#sk-container-id-2 div.sk-label.fitted:hover label.sk-toggleable__label.fitted {\n",
       "  color: var(--sklearn-color-text);\n",
       "  background-color: var(--sklearn-color-fitted-level-2);\n",
       "}\n",
       "\n",
       "/* Estimator label */\n",
       "\n",
       "#sk-container-id-2 div.sk-label label {\n",
       "  font-family: monospace;\n",
       "  font-weight: bold;\n",
       "  display: inline-block;\n",
       "  line-height: 1.2em;\n",
       "}\n",
       "\n",
       "#sk-container-id-2 div.sk-label-container {\n",
       "  text-align: center;\n",
       "}\n",
       "\n",
       "/* Estimator-specific */\n",
       "#sk-container-id-2 div.sk-estimator {\n",
       "  font-family: monospace;\n",
       "  border: 1px dotted var(--sklearn-color-border-box);\n",
       "  border-radius: 0.25em;\n",
       "  box-sizing: border-box;\n",
       "  margin-bottom: 0.5em;\n",
       "  /* unfitted */\n",
       "  background-color: var(--sklearn-color-unfitted-level-0);\n",
       "}\n",
       "\n",
       "#sk-container-id-2 div.sk-estimator.fitted {\n",
       "  /* fitted */\n",
       "  background-color: var(--sklearn-color-fitted-level-0);\n",
       "}\n",
       "\n",
       "/* on hover */\n",
       "#sk-container-id-2 div.sk-estimator:hover {\n",
       "  /* unfitted */\n",
       "  background-color: var(--sklearn-color-unfitted-level-2);\n",
       "}\n",
       "\n",
       "#sk-container-id-2 div.sk-estimator.fitted:hover {\n",
       "  /* fitted */\n",
       "  background-color: var(--sklearn-color-fitted-level-2);\n",
       "}\n",
       "\n",
       "/* Specification for estimator info (e.g. \"i\" and \"?\") */\n",
       "\n",
       "/* Common style for \"i\" and \"?\" */\n",
       "\n",
       ".sk-estimator-doc-link,\n",
       "a:link.sk-estimator-doc-link,\n",
       "a:visited.sk-estimator-doc-link {\n",
       "  float: right;\n",
       "  font-size: smaller;\n",
       "  line-height: 1em;\n",
       "  font-family: monospace;\n",
       "  background-color: var(--sklearn-color-background);\n",
       "  border-radius: 1em;\n",
       "  height: 1em;\n",
       "  width: 1em;\n",
       "  text-decoration: none !important;\n",
       "  margin-left: 1ex;\n",
       "  /* unfitted */\n",
       "  border: var(--sklearn-color-unfitted-level-1) 1pt solid;\n",
       "  color: var(--sklearn-color-unfitted-level-1);\n",
       "}\n",
       "\n",
       ".sk-estimator-doc-link.fitted,\n",
       "a:link.sk-estimator-doc-link.fitted,\n",
       "a:visited.sk-estimator-doc-link.fitted {\n",
       "  /* fitted */\n",
       "  border: var(--sklearn-color-fitted-level-1) 1pt solid;\n",
       "  color: var(--sklearn-color-fitted-level-1);\n",
       "}\n",
       "\n",
       "/* On hover */\n",
       "div.sk-estimator:hover .sk-estimator-doc-link:hover,\n",
       ".sk-estimator-doc-link:hover,\n",
       "div.sk-label-container:hover .sk-estimator-doc-link:hover,\n",
       ".sk-estimator-doc-link:hover {\n",
       "  /* unfitted */\n",
       "  background-color: var(--sklearn-color-unfitted-level-3);\n",
       "  color: var(--sklearn-color-background);\n",
       "  text-decoration: none;\n",
       "}\n",
       "\n",
       "div.sk-estimator.fitted:hover .sk-estimator-doc-link.fitted:hover,\n",
       ".sk-estimator-doc-link.fitted:hover,\n",
       "div.sk-label-container:hover .sk-estimator-doc-link.fitted:hover,\n",
       ".sk-estimator-doc-link.fitted:hover {\n",
       "  /* fitted */\n",
       "  background-color: var(--sklearn-color-fitted-level-3);\n",
       "  color: var(--sklearn-color-background);\n",
       "  text-decoration: none;\n",
       "}\n",
       "\n",
       "/* Span, style for the box shown on hovering the info icon */\n",
       ".sk-estimator-doc-link span {\n",
       "  display: none;\n",
       "  z-index: 9999;\n",
       "  position: relative;\n",
       "  font-weight: normal;\n",
       "  right: .2ex;\n",
       "  padding: .5ex;\n",
       "  margin: .5ex;\n",
       "  width: min-content;\n",
       "  min-width: 20ex;\n",
       "  max-width: 50ex;\n",
       "  color: var(--sklearn-color-text);\n",
       "  box-shadow: 2pt 2pt 4pt #999;\n",
       "  /* unfitted */\n",
       "  background: var(--sklearn-color-unfitted-level-0);\n",
       "  border: .5pt solid var(--sklearn-color-unfitted-level-3);\n",
       "}\n",
       "\n",
       ".sk-estimator-doc-link.fitted span {\n",
       "  /* fitted */\n",
       "  background: var(--sklearn-color-fitted-level-0);\n",
       "  border: var(--sklearn-color-fitted-level-3);\n",
       "}\n",
       "\n",
       ".sk-estimator-doc-link:hover span {\n",
       "  display: block;\n",
       "}\n",
       "\n",
       "/* \"?\"-specific style due to the `<a>` HTML tag */\n",
       "\n",
       "#sk-container-id-2 a.estimator_doc_link {\n",
       "  float: right;\n",
       "  font-size: 1rem;\n",
       "  line-height: 1em;\n",
       "  font-family: monospace;\n",
       "  background-color: var(--sklearn-color-background);\n",
       "  border-radius: 1rem;\n",
       "  height: 1rem;\n",
       "  width: 1rem;\n",
       "  text-decoration: none;\n",
       "  /* unfitted */\n",
       "  color: var(--sklearn-color-unfitted-level-1);\n",
       "  border: var(--sklearn-color-unfitted-level-1) 1pt solid;\n",
       "}\n",
       "\n",
       "#sk-container-id-2 a.estimator_doc_link.fitted {\n",
       "  /* fitted */\n",
       "  border: var(--sklearn-color-fitted-level-1) 1pt solid;\n",
       "  color: var(--sklearn-color-fitted-level-1);\n",
       "}\n",
       "\n",
       "/* On hover */\n",
       "#sk-container-id-2 a.estimator_doc_link:hover {\n",
       "  /* unfitted */\n",
       "  background-color: var(--sklearn-color-unfitted-level-3);\n",
       "  color: var(--sklearn-color-background);\n",
       "  text-decoration: none;\n",
       "}\n",
       "\n",
       "#sk-container-id-2 a.estimator_doc_link.fitted:hover {\n",
       "  /* fitted */\n",
       "  background-color: var(--sklearn-color-fitted-level-3);\n",
       "}\n",
       "</style><div id=\"sk-container-id-2\" class=\"sk-top-container\"><div class=\"sk-text-repr-fallback\"><pre>RandomizedSearchCV(cv=KFold(n_splits=5, random_state=34, shuffle=True),\n",
       "                   estimator=Pipeline(steps=[(&#x27;preprocessor&#x27;,\n",
       "                                              ColumnTransformer(remainder=&#x27;passthrough&#x27;,\n",
       "                                                                transformers=[(&#x27;cat&#x27;,\n",
       "                                                                               Pipeline(steps=[(&#x27;imputer&#x27;,\n",
       "                                                                                                SimpleImputer(strategy=&#x27;most_frequent&#x27;)),\n",
       "                                                                                               (&#x27;encoder&#x27;,\n",
       "                                                                                                OneHotEncoder(drop=&#x27;first&#x27;,\n",
       "                                                                                                              handle_unknown=&#x27;ignore&#x27;,\n",
       "                                                                                                              sparse_output=False))]),\n",
       "                                                                               [&#x27;day&#x27;,\n",
       "                                                                                &#x27;weekday&#x27;,\n",
       "                                                                                &#x27;time...\n",
       "                                                                               MinMaxScaler(),\n",
       "                                                                               [&#x27;insurance_premium&#x27;,\n",
       "                                                                                &#x27;main_road_dist&#x27;])])),\n",
       "                                             (&#x27;models&#x27;,\n",
       "                                              DecisionTreeClassifier(random_state=34))]),\n",
       "                   n_iter=30, n_jobs=-1,\n",
       "                   param_distributions={&#x27;models__max_depth&#x27;: range(2, 40),\n",
       "                                        &#x27;models__max_features&#x27;: range(1, 15),\n",
       "                                        &#x27;preprocessor__num&#x27;: [MinMaxScaler(),\n",
       "                                                              StandardScaler(),\n",
       "                                                              &#x27;passthrough&#x27;]},\n",
       "                   random_state=34, refit=&#x27;f1&#x27;,\n",
       "                   scoring={&#x27;f1&#x27;: &#x27;f1&#x27;, &#x27;roc_auc&#x27;: &#x27;roc_auc&#x27;})</pre><b>In a Jupyter environment, please rerun this cell to show the HTML representation or trust the notebook. <br />On GitHub, the HTML representation is unable to render, please try loading this page with nbviewer.org.</b></div><div class=\"sk-container\" hidden><div class=\"sk-item sk-dashed-wrapped\"><div class=\"sk-label-container\"><div class=\"sk-label fitted sk-toggleable\"><input class=\"sk-toggleable__control sk-hidden--visually\" id=\"sk-estimator-id-11\" type=\"checkbox\" ><label for=\"sk-estimator-id-11\" class=\"sk-toggleable__label fitted sk-toggleable__label-arrow fitted\">&nbsp;&nbsp;RandomizedSearchCV<a class=\"sk-estimator-doc-link fitted\" rel=\"noreferrer\" target=\"_blank\" href=\"https://scikit-learn.org/1.5/modules/generated/sklearn.model_selection.RandomizedSearchCV.html\">?<span>Documentation for RandomizedSearchCV</span></a><span class=\"sk-estimator-doc-link fitted\">i<span>Fitted</span></span></label><div class=\"sk-toggleable__content fitted\"><pre>RandomizedSearchCV(cv=KFold(n_splits=5, random_state=34, shuffle=True),\n",
       "                   estimator=Pipeline(steps=[(&#x27;preprocessor&#x27;,\n",
       "                                              ColumnTransformer(remainder=&#x27;passthrough&#x27;,\n",
       "                                                                transformers=[(&#x27;cat&#x27;,\n",
       "                                                                               Pipeline(steps=[(&#x27;imputer&#x27;,\n",
       "                                                                                                SimpleImputer(strategy=&#x27;most_frequent&#x27;)),\n",
       "                                                                                               (&#x27;encoder&#x27;,\n",
       "                                                                                                OneHotEncoder(drop=&#x27;first&#x27;,\n",
       "                                                                                                              handle_unknown=&#x27;ignore&#x27;,\n",
       "                                                                                                              sparse_output=False))]),\n",
       "                                                                               [&#x27;day&#x27;,\n",
       "                                                                                &#x27;weekday&#x27;,\n",
       "                                                                                &#x27;time...\n",
       "                                                                               MinMaxScaler(),\n",
       "                                                                               [&#x27;insurance_premium&#x27;,\n",
       "                                                                                &#x27;main_road_dist&#x27;])])),\n",
       "                                             (&#x27;models&#x27;,\n",
       "                                              DecisionTreeClassifier(random_state=34))]),\n",
       "                   n_iter=30, n_jobs=-1,\n",
       "                   param_distributions={&#x27;models__max_depth&#x27;: range(2, 40),\n",
       "                                        &#x27;models__max_features&#x27;: range(1, 15),\n",
       "                                        &#x27;preprocessor__num&#x27;: [MinMaxScaler(),\n",
       "                                                              StandardScaler(),\n",
       "                                                              &#x27;passthrough&#x27;]},\n",
       "                   random_state=34, refit=&#x27;f1&#x27;,\n",
       "                   scoring={&#x27;f1&#x27;: &#x27;f1&#x27;, &#x27;roc_auc&#x27;: &#x27;roc_auc&#x27;})</pre></div> </div></div><div class=\"sk-parallel\"><div class=\"sk-parallel-item\"><div class=\"sk-item\"><div class=\"sk-label-container\"><div class=\"sk-label fitted sk-toggleable\"><input class=\"sk-toggleable__control sk-hidden--visually\" id=\"sk-estimator-id-12\" type=\"checkbox\" ><label for=\"sk-estimator-id-12\" class=\"sk-toggleable__label fitted sk-toggleable__label-arrow fitted\">best_estimator_: Pipeline</label><div class=\"sk-toggleable__content fitted\"><pre>Pipeline(steps=[(&#x27;preprocessor&#x27;,\n",
       "                 ColumnTransformer(remainder=&#x27;passthrough&#x27;,\n",
       "                                   transformers=[(&#x27;cat&#x27;,\n",
       "                                                  Pipeline(steps=[(&#x27;imputer&#x27;,\n",
       "                                                                   SimpleImputer(strategy=&#x27;most_frequent&#x27;)),\n",
       "                                                                  (&#x27;encoder&#x27;,\n",
       "                                                                   OneHotEncoder(drop=&#x27;first&#x27;,\n",
       "                                                                                 handle_unknown=&#x27;ignore&#x27;,\n",
       "                                                                                 sparse_output=False))]),\n",
       "                                                  [&#x27;day&#x27;, &#x27;weekday&#x27;, &#x27;time&#x27;,\n",
       "                                                   &#x27;weather&#x27;, &#x27;road_surface&#x27;,\n",
       "                                                   &#x27;lighting&#x27;, &#x27;location_type&#x27;,\n",
       "                                                   &#x27;road_condition&#x27;,\n",
       "                                                   &#x27;vehicle_type&#x27;,\n",
       "                                                   &#x27;vehicle_transmission&#x27;,\n",
       "                                                   &#x27;cellphone_in_use&#x27;,\n",
       "                                                   &#x27;vehicle_age_category&#x27;]),\n",
       "                                                 (&#x27;num&#x27;, StandardScaler(),\n",
       "                                                  [&#x27;insurance_premium&#x27;,\n",
       "                                                   &#x27;main_road_dist&#x27;])])),\n",
       "                (&#x27;models&#x27;,\n",
       "                 DecisionTreeClassifier(max_depth=14, max_features=11,\n",
       "                                        random_state=34))])</pre></div> </div></div><div class=\"sk-serial\"><div class=\"sk-item\"><div class=\"sk-serial\"><div class=\"sk-item sk-dashed-wrapped\"><div class=\"sk-label-container\"><div class=\"sk-label fitted sk-toggleable\"><input class=\"sk-toggleable__control sk-hidden--visually\" id=\"sk-estimator-id-13\" type=\"checkbox\" ><label for=\"sk-estimator-id-13\" class=\"sk-toggleable__label fitted sk-toggleable__label-arrow fitted\">&nbsp;preprocessor: ColumnTransformer<a class=\"sk-estimator-doc-link fitted\" rel=\"noreferrer\" target=\"_blank\" href=\"https://scikit-learn.org/1.5/modules/generated/sklearn.compose.ColumnTransformer.html\">?<span>Documentation for preprocessor: ColumnTransformer</span></a></label><div class=\"sk-toggleable__content fitted\"><pre>ColumnTransformer(remainder=&#x27;passthrough&#x27;,\n",
       "                  transformers=[(&#x27;cat&#x27;,\n",
       "                                 Pipeline(steps=[(&#x27;imputer&#x27;,\n",
       "                                                  SimpleImputer(strategy=&#x27;most_frequent&#x27;)),\n",
       "                                                 (&#x27;encoder&#x27;,\n",
       "                                                  OneHotEncoder(drop=&#x27;first&#x27;,\n",
       "                                                                handle_unknown=&#x27;ignore&#x27;,\n",
       "                                                                sparse_output=False))]),\n",
       "                                 [&#x27;day&#x27;, &#x27;weekday&#x27;, &#x27;time&#x27;, &#x27;weather&#x27;,\n",
       "                                  &#x27;road_surface&#x27;, &#x27;lighting&#x27;, &#x27;location_type&#x27;,\n",
       "                                  &#x27;road_condition&#x27;, &#x27;vehicle_type&#x27;,\n",
       "                                  &#x27;vehicle_transmission&#x27;, &#x27;cellphone_in_use&#x27;,\n",
       "                                  &#x27;vehicle_age_category&#x27;]),\n",
       "                                (&#x27;num&#x27;, StandardScaler(),\n",
       "                                 [&#x27;insurance_premium&#x27;, &#x27;main_road_dist&#x27;])])</pre></div> </div></div><div class=\"sk-parallel\"><div class=\"sk-parallel-item\"><div class=\"sk-item\"><div class=\"sk-label-container\"><div class=\"sk-label fitted sk-toggleable\"><input class=\"sk-toggleable__control sk-hidden--visually\" id=\"sk-estimator-id-14\" type=\"checkbox\" ><label for=\"sk-estimator-id-14\" class=\"sk-toggleable__label fitted sk-toggleable__label-arrow fitted\">cat</label><div class=\"sk-toggleable__content fitted\"><pre>[&#x27;day&#x27;, &#x27;weekday&#x27;, &#x27;time&#x27;, &#x27;weather&#x27;, &#x27;road_surface&#x27;, &#x27;lighting&#x27;, &#x27;location_type&#x27;, &#x27;road_condition&#x27;, &#x27;vehicle_type&#x27;, &#x27;vehicle_transmission&#x27;, &#x27;cellphone_in_use&#x27;, &#x27;vehicle_age_category&#x27;]</pre></div> </div></div><div class=\"sk-serial\"><div class=\"sk-item\"><div class=\"sk-serial\"><div class=\"sk-item\"><div class=\"sk-estimator fitted sk-toggleable\"><input class=\"sk-toggleable__control sk-hidden--visually\" id=\"sk-estimator-id-15\" type=\"checkbox\" ><label for=\"sk-estimator-id-15\" class=\"sk-toggleable__label fitted sk-toggleable__label-arrow fitted\">&nbsp;SimpleImputer<a class=\"sk-estimator-doc-link fitted\" rel=\"noreferrer\" target=\"_blank\" href=\"https://scikit-learn.org/1.5/modules/generated/sklearn.impute.SimpleImputer.html\">?<span>Documentation for SimpleImputer</span></a></label><div class=\"sk-toggleable__content fitted\"><pre>SimpleImputer(strategy=&#x27;most_frequent&#x27;)</pre></div> </div></div><div class=\"sk-item\"><div class=\"sk-estimator fitted sk-toggleable\"><input class=\"sk-toggleable__control sk-hidden--visually\" id=\"sk-estimator-id-16\" type=\"checkbox\" ><label for=\"sk-estimator-id-16\" class=\"sk-toggleable__label fitted sk-toggleable__label-arrow fitted\">&nbsp;OneHotEncoder<a class=\"sk-estimator-doc-link fitted\" rel=\"noreferrer\" target=\"_blank\" href=\"https://scikit-learn.org/1.5/modules/generated/sklearn.preprocessing.OneHotEncoder.html\">?<span>Documentation for OneHotEncoder</span></a></label><div class=\"sk-toggleable__content fitted\"><pre>OneHotEncoder(drop=&#x27;first&#x27;, handle_unknown=&#x27;ignore&#x27;, sparse_output=False)</pre></div> </div></div></div></div></div></div></div><div class=\"sk-parallel-item\"><div class=\"sk-item\"><div class=\"sk-label-container\"><div class=\"sk-label fitted sk-toggleable\"><input class=\"sk-toggleable__control sk-hidden--visually\" id=\"sk-estimator-id-17\" type=\"checkbox\" ><label for=\"sk-estimator-id-17\" class=\"sk-toggleable__label fitted sk-toggleable__label-arrow fitted\">num</label><div class=\"sk-toggleable__content fitted\"><pre>[&#x27;insurance_premium&#x27;, &#x27;main_road_dist&#x27;]</pre></div> </div></div><div class=\"sk-serial\"><div class=\"sk-item\"><div class=\"sk-estimator fitted sk-toggleable\"><input class=\"sk-toggleable__control sk-hidden--visually\" id=\"sk-estimator-id-18\" type=\"checkbox\" ><label for=\"sk-estimator-id-18\" class=\"sk-toggleable__label fitted sk-toggleable__label-arrow fitted\">&nbsp;StandardScaler<a class=\"sk-estimator-doc-link fitted\" rel=\"noreferrer\" target=\"_blank\" href=\"https://scikit-learn.org/1.5/modules/generated/sklearn.preprocessing.StandardScaler.html\">?<span>Documentation for StandardScaler</span></a></label><div class=\"sk-toggleable__content fitted\"><pre>StandardScaler()</pre></div> </div></div></div></div></div><div class=\"sk-parallel-item\"><div class=\"sk-item\"><div class=\"sk-label-container\"><div class=\"sk-label fitted sk-toggleable\"><input class=\"sk-toggleable__control sk-hidden--visually\" id=\"sk-estimator-id-19\" type=\"checkbox\" ><label for=\"sk-estimator-id-19\" class=\"sk-toggleable__label fitted sk-toggleable__label-arrow fitted\">remainder</label><div class=\"sk-toggleable__content fitted\"><pre>[]</pre></div> </div></div><div class=\"sk-serial\"><div class=\"sk-item\"><div class=\"sk-estimator fitted sk-toggleable\"><input class=\"sk-toggleable__control sk-hidden--visually\" id=\"sk-estimator-id-20\" type=\"checkbox\" ><label for=\"sk-estimator-id-20\" class=\"sk-toggleable__label fitted sk-toggleable__label-arrow fitted\">passthrough</label><div class=\"sk-toggleable__content fitted\"><pre>passthrough</pre></div> </div></div></div></div></div></div></div><div class=\"sk-item\"><div class=\"sk-estimator fitted sk-toggleable\"><input class=\"sk-toggleable__control sk-hidden--visually\" id=\"sk-estimator-id-21\" type=\"checkbox\" ><label for=\"sk-estimator-id-21\" class=\"sk-toggleable__label fitted sk-toggleable__label-arrow fitted\">&nbsp;DecisionTreeClassifier<a class=\"sk-estimator-doc-link fitted\" rel=\"noreferrer\" target=\"_blank\" href=\"https://scikit-learn.org/1.5/modules/generated/sklearn.tree.DecisionTreeClassifier.html\">?<span>Documentation for DecisionTreeClassifier</span></a></label><div class=\"sk-toggleable__content fitted\"><pre>DecisionTreeClassifier(max_depth=14, max_features=11, random_state=34)</pre></div> </div></div></div></div></div></div></div></div></div></div></div>"
      ],
      "text/plain": [
       "RandomizedSearchCV(cv=KFold(n_splits=5, random_state=34, shuffle=True),\n",
       "                   estimator=Pipeline(steps=[('preprocessor',\n",
       "                                              ColumnTransformer(remainder='passthrough',\n",
       "                                                                transformers=[('cat',\n",
       "                                                                               Pipeline(steps=[('imputer',\n",
       "                                                                                                SimpleImputer(strategy='most_frequent')),\n",
       "                                                                                               ('encoder',\n",
       "                                                                                                OneHotEncoder(drop='first',\n",
       "                                                                                                              handle_unknown='ignore',\n",
       "                                                                                                              sparse_output=False))]),\n",
       "                                                                               ['day',\n",
       "                                                                                'weekday',\n",
       "                                                                                'time...\n",
       "                                                                               MinMaxScaler(),\n",
       "                                                                               ['insurance_premium',\n",
       "                                                                                'main_road_dist'])])),\n",
       "                                             ('models',\n",
       "                                              DecisionTreeClassifier(random_state=34))]),\n",
       "                   n_iter=30, n_jobs=-1,\n",
       "                   param_distributions={'models__max_depth': range(2, 40),\n",
       "                                        'models__max_features': range(1, 15),\n",
       "                                        'preprocessor__num': [MinMaxScaler(),\n",
       "                                                              StandardScaler(),\n",
       "                                                              'passthrough']},\n",
       "                   random_state=34, refit='f1',\n",
       "                   scoring={'f1': 'f1', 'roc_auc': 'roc_auc'})"
      ]
     },
     "execution_count": 34,
     "metadata": {},
     "output_type": "execute_result"
    }
   ],
   "source": [
    "%%time\n",
    "\n",
    "grid_search_tree = RandomizedSearchCV(\n",
    "    pipeline_tree, \n",
    "    param_distributions=param_grid_tree,  \n",
    "    n_iter=30,\n",
    "    cv=kf_cv,\n",
    "    scoring=metrics,  # Передаем словарь метрик\n",
    "    refit='f1',  # Указываем, на основе какой метрики перетренировывать\n",
    "    n_jobs=-1,\n",
    "    random_state=RANDOM_STATE\n",
    ")\n",
    "grid_search_tree.fit(X_train_object, y_train)"
   ]
  },
  {
   "cell_type": "code",
   "execution_count": 35,
   "id": "722c0e7d",
   "metadata": {
    "ExecuteTime": {
     "end_time": "2024-10-01T18:38:40.552547Z",
     "start_time": "2024-10-01T18:38:40.539044Z"
    }
   },
   "outputs": [],
   "source": [
    "\"\"\"%%time\n",
    "\n",
    "grid_search_tree = HalvingRandomSearchCV(\n",
    "    pipeline_tree, \n",
    "    param_grid_tree, \n",
    "    cv=kf_cv,\n",
    "    scoring=metrics,\n",
    "    refit='f1',\n",
    "    n_jobs=-1,\n",
    "    random_state=RANDOM_STATE\n",
    ")\n",
    "\n",
    "grid_search_tree.fit(X_train, y_train)\"\"\";"
   ]
  },
  {
   "cell_type": "code",
   "execution_count": 36,
   "id": "e9e7d7b8",
   "metadata": {
    "ExecuteTime": {
     "end_time": "2024-10-01T18:38:40.584618Z",
     "start_time": "2024-10-01T18:38:40.553549Z"
    },
    "scrolled": true
   },
   "outputs": [
    {
     "name": "stdout",
     "output_type": "stream",
     "text": [
      "Лучшая модель и её параметры:\n",
      "\n",
      " Pipeline(steps=[('preprocessor',\n",
      "                 ColumnTransformer(remainder='passthrough',\n",
      "                                   transformers=[('cat',\n",
      "                                                  Pipeline(steps=[('imputer',\n",
      "                                                                   SimpleImputer(strategy='most_frequent')),\n",
      "                                                                  ('encoder',\n",
      "                                                                   OneHotEncoder(drop='first',\n",
      "                                                                                 handle_unknown='ignore',\n",
      "                                                                                 sparse_output=False))]),\n",
      "                                                  ['day', 'weekday', 'time',\n",
      "                                                   'weather', 'road_surface',\n",
      "                                                   'lighting', 'location_type',\n",
      "                                                   'road_condition',\n",
      "                                                   'vehicle_type',\n",
      "                                                   'vehicle_transmission',\n",
      "                                                   'cellphone_in_use',\n",
      "                                                   'vehicle_age_category']),\n",
      "                                                 ('num', StandardScaler(),\n",
      "                                                  ['insurance_premium',\n",
      "                                                   'main_road_dist'])])),\n",
      "                ('models',\n",
      "                 DecisionTreeClassifier(max_depth=14, max_features=11,\n",
      "                                        random_state=34))])\n",
      "-----------------------------------------------------------------------------------------------------------------------------\n",
      "Параметры лучшей модели: {'preprocessor__num': StandardScaler(), 'models__max_features': 11, 'models__max_depth': 14}\n",
      "-----------------------------------------------------------------------------------------------------------------------------\n",
      "Метрика F1-score для лучшей модели по кросс-валидации на обучающих данных: 0.5189\n",
      "-----------------------------------------------------------------------------------------------------------------------------\n",
      "Метрика ROC AUC для лучшей модели по кросс-валидации: 0.6186\n",
      "-----------------------------------------------------------------------------------------------------------------------------\n"
     ]
    }
   ],
   "source": [
    "# Получаем лучшую модель и параметры\n",
    "best_model_tree = grid_search_tree.best_estimator_\n",
    "print('Лучшая модель и её параметры:\\n\\n', best_model_tree)\n",
    "print(LINE_1)\n",
    "\n",
    "best_params_tree = grid_search_tree.best_params_\n",
    "print('Параметры лучшей модели:', grid_search_tree.best_params_)\n",
    "print(LINE_1)\n",
    "\n",
    "# Метрика F1-score для лучшей модели по кросс-валидации на обучающих данных\n",
    "best_score_tree = grid_search_tree.cv_results_['mean_test_f1'][grid_search_tree.best_index_]\n",
    "print(f'Метрика F1-score для лучшей модели по кросс-валидации на обучающих данных: {best_score_tree:.4f}')\n",
    "print(LINE_1)\n",
    "\n",
    "# Метрика ROC AUC для лучшей модели по кросс-валидации на обучающих данных\n",
    "best_roc_auc_score = grid_search_tree.cv_results_['mean_test_roc_auc'][grid_search_tree.best_index_]\n",
    "print(f'Метрика ROC AUC для лучшей модели по кросс-валидации: {best_roc_auc_score:.4f}')\n",
    "print(LINE_1)\n",
    "\n",
    "\"\"\"# Получаем вероятности класса 1 для тестовой выборки\n",
    "y_pred_proba = best_model_tree.predict_proba(X_test_object)[:, 1]\n",
    "\n",
    "# Рассчитываем метрики на тестовой выборке\n",
    "f1_test = f1_score(y_test, best_model_tree.predict(X_test_object))\n",
    "roc_auc_test = roc_auc_score(y_test, y_pred_proba)\n",
    "\n",
    "print(f'Метрика F1-score для тестовой выборки: {f1_test:.4f}')\n",
    "print(f'Метрика ROC AUC для тестовой выборки: {roc_auc_test:.4f}')\"\"\";"
   ]
  },
  {
   "cell_type": "code",
   "execution_count": 37,
   "id": "a316d57f",
   "metadata": {
    "ExecuteTime": {
     "end_time": "2024-10-01T18:38:41.249775Z",
     "start_time": "2024-10-01T18:38:40.588548Z"
    },
    "scrolled": true
   },
   "outputs": [
    {
     "data": {
      "text/html": [
       "<div>\n",
       "<style scoped>\n",
       "    .dataframe tbody tr th:only-of-type {\n",
       "        vertical-align: middle;\n",
       "    }\n",
       "\n",
       "    .dataframe tbody tr th {\n",
       "        vertical-align: top;\n",
       "    }\n",
       "\n",
       "    .dataframe thead th {\n",
       "        text-align: right;\n",
       "    }\n",
       "</style>\n",
       "<table border=\"1\" class=\"dataframe\">\n",
       "  <thead>\n",
       "    <tr style=\"text-align: right;\">\n",
       "      <th></th>\n",
       "      <th>модель</th>\n",
       "      <th>время_обучения</th>\n",
       "      <th>время_предсказания</th>\n",
       "      <th>метрика_f1</th>\n",
       "      <th>метрика_roc_auc</th>\n",
       "      <th>параметры_модели</th>\n",
       "    </tr>\n",
       "  </thead>\n",
       "  <tbody>\n",
       "    <tr>\n",
       "      <th>0</th>\n",
       "      <td>DecisionTree</td>\n",
       "      <td>00:00:00.4</td>\n",
       "      <td>00:00:00.2</td>\n",
       "      <td>0.526773</td>\n",
       "      <td>0.623785</td>\n",
       "      <td>{'preprocessor__num': StandardScaler(), 'models__max_features': 11, 'models__max_depth': 14}</td>\n",
       "    </tr>\n",
       "  </tbody>\n",
       "</table>\n",
       "</div>"
      ],
      "text/plain": [
       "         модель время_обучения время_предсказания  метрика_f1  \\\n",
       "0  DecisionTree     00:00:00.4         00:00:00.2    0.526773   \n",
       "\n",
       "   метрика_roc_auc  \\\n",
       "0         0.623785   \n",
       "\n",
       "                                                                               параметры_модели  \n",
       "0  {'preprocessor__num': StandardScaler(), 'models__max_features': 11, 'models__max_depth': 14}  "
      ]
     },
     "execution_count": 37,
     "metadata": {},
     "output_type": "execute_result"
    }
   ],
   "source": [
    "# Получаем время и метрики для DecisionTree\n",
    "model_time_tree, predict_time_tree, f1_tree, roc_auc_tree = time_report(\n",
    "    best_model_tree, X_train_object, y_train, X_test_object, y_test\n",
    ")\n",
    "\n",
    "result_tree = create_result_dataframe(\n",
    "    best_scores={'f1': f1_tree, 'roc_auc': roc_auc_tree},\n",
    "    model_time=model_time_tree,\n",
    "    predict_time=predict_time_tree,\n",
    "    best_params=best_params_tree,\n",
    "    name_model='DecisionTree'\n",
    ")\n",
    "\n",
    "result_tree"
   ]
  },
  {
   "cell_type": "markdown",
   "id": "77547f2e",
   "metadata": {},
   "source": [
    "<div class=\"alert alert-info\"> <b>ВОПРОС студента:</b> \n",
    "\n",
    "У меня возник вопрос, при 10 итерациях в RandomizedSearchCV у меня на тренировочной выборке метрики показываю достаточно средний результат, что схоже с другими моделями но метрики на тесте достаточно велики, порядка 0.88. Это все происходит при кросс-валидации, если ее убрать метрика на тесте снижается к тренировочным метрикам. При этом при увеличении иттераций такая проблема не наблюдается. О чем это может свидетельствовать?\n",
    " </div>"
   ]
  },
  {
   "cell_type": "markdown",
   "id": "11e4aa3a",
   "metadata": {},
   "source": [
    "**ВЫВОД:** Модель **DecisionTreeClassifier** показала хороший баланс между точностью и полнотой на обучающих и тестовых данных. Время обучения и предсказания модели оказалось быстрым, что делает её подходящей для использования в реальных условиях. Метрики F1 и ROC AUC на тестовой выборке подтверждают стабильность модели, однако для улучшения качества предсказаний можно рассмотреть дальнейшую оптимизацию или использование более сложных моделей."
   ]
  },
  {
   "cell_type": "markdown",
   "id": "21c69b4b",
   "metadata": {},
   "source": [
    "### Обучение модели \"Catboost\""
   ]
  },
  {
   "cell_type": "code",
   "execution_count": 38,
   "id": "f9957fec",
   "metadata": {
    "ExecuteTime": {
     "end_time": "2024-10-01T18:38:41.265767Z",
     "start_time": "2024-10-01T18:38:41.250771Z"
    }
   },
   "outputs": [],
   "source": [
    "# Определение целевой функции для Optuna\n",
    "def objective_catboost(trial):\n",
    "    param_catboost = {\n",
    "        'iterations': 2000,\n",
    "        'learning_rate': trial.suggest_categorical('learning_rate', [0.01, 0.05, 0.1]),\n",
    "        'depth': trial.suggest_int('depth', 6, 8),\n",
    "        'l2_leaf_reg': trial.suggest_categorical('l2_leaf_reg', [0.001, 0.01, 0.1, 1, 10, 100]),\n",
    "        'loss_function': 'Logloss',  # Для классификации\n",
    "        'eval_metric': 'F1',  # Для оценки качества классификации\n",
    "        'custom_loss': ['AUC', 'F1'],\n",
    "        'random_seed': RANDOM_STATE,\n",
    "        'early_stopping_rounds': 50\n",
    "    }\n",
    "\n",
    "    # Кросс-валидация\n",
    "    cv_data = cv(\n",
    "        params=param_catboost,\n",
    "        dtrain=Pool(X_train, label=y_train, cat_features=ohe_columns),\n",
    "        fold_count=N_FOLDS,\n",
    "        shuffle=True,\n",
    "        partition_random_seed=RANDOM_STATE,\n",
    "        stratified=True,\n",
    "        verbose=False,\n",
    "        plot=True\n",
    "    )\n",
    "    \n",
    "    # Извлекаем максимальные значения F1 и AUC\n",
    "    max_f1 = np.max(cv_data['test-F1-mean'])\n",
    "    max_auc = np.max(cv_data['test-AUC-mean'])    \n",
    "    \n",
    "    # Оптимизируем по F1, но возвращаем обе метрики\n",
    "    trial.set_user_attr('AUC', max_auc)  # Сохраняем метрику AUC как пользовательский атрибут\n",
    "    return max_f1"
   ]
  },
  {
   "cell_type": "code",
   "execution_count": 39,
   "id": "548643a3",
   "metadata": {
    "ExecuteTime": {
     "end_time": "2024-10-01T19:02:15.721518Z",
     "start_time": "2024-10-01T18:38:41.267768Z"
    },
    "scrolled": true
   },
   "outputs": [
    {
     "name": "stderr",
     "output_type": "stream",
     "text": [
      "[I 2024-10-01 23:38:41,270] A new study created in memory with name: no-name-4870b034-b41f-4ad1-bfc8-3b6998264d31\n"
     ]
    },
    {
     "data": {
      "application/vnd.jupyter.widget-view+json": {
       "model_id": "770fd1e928d546c693aa01ddd6c589ed",
       "version_major": 2,
       "version_minor": 0
      },
      "text/plain": [
       "MetricVisualizer(layout=Layout(align_self='stretch', height='500px'))"
      ]
     },
     "metadata": {},
     "output_type": "display_data"
    },
    {
     "name": "stdout",
     "output_type": "stream",
     "text": [
      "Training on fold [0/5]\n",
      "\n",
      "bestTest = 0.5659073056\n",
      "bestIteration = 425\n",
      "\n",
      "Training on fold [1/5]\n",
      "\n",
      "bestTest = 0.5823854903\n",
      "bestIteration = 957\n",
      "\n",
      "Training on fold [2/5]\n",
      "\n",
      "bestTest = 0.533457973\n",
      "bestIteration = 1\n",
      "\n",
      "Training on fold [3/5]\n",
      "\n",
      "bestTest = 0.5869898742\n",
      "bestIteration = 940\n",
      "\n",
      "Training on fold [4/5]\n"
     ]
    },
    {
     "name": "stderr",
     "output_type": "stream",
     "text": [
      "[I 2024-10-01 23:44:14,809] Trial 0 finished with value: 0.5654062150776692 and parameters: {'learning_rate': 0.05, 'depth': 7, 'l2_leaf_reg': 0.01}. Best is trial 0 with value: 0.5654062150776692.\n"
     ]
    },
    {
     "name": "stdout",
     "output_type": "stream",
     "text": [
      "\n",
      "bestTest = 0.5640541391\n",
      "bestIteration = 613\n",
      "\n"
     ]
    },
    {
     "data": {
      "application/vnd.jupyter.widget-view+json": {
       "model_id": "edef17789a754715ae6e89d41ec65d51",
       "version_major": 2,
       "version_minor": 0
      },
      "text/plain": [
       "MetricVisualizer(layout=Layout(align_self='stretch', height='500px'))"
      ]
     },
     "metadata": {},
     "output_type": "display_data"
    },
    {
     "name": "stdout",
     "output_type": "stream",
     "text": [
      "Training on fold [0/5]\n",
      "\n",
      "bestTest = 0.5843317972\n",
      "bestIteration = 592\n",
      "\n",
      "Training on fold [1/5]\n",
      "\n",
      "bestTest = 0.5806451613\n",
      "bestIteration = 829\n",
      "\n",
      "Training on fold [2/5]\n",
      "\n",
      "bestTest = 0.5819950587\n",
      "bestIteration = 555\n",
      "\n",
      "Training on fold [3/5]\n",
      "\n",
      "bestTest = 0.5792965134\n",
      "bestIteration = 329\n",
      "\n",
      "Training on fold [4/5]\n"
     ]
    },
    {
     "name": "stderr",
     "output_type": "stream",
     "text": [
      "[I 2024-10-01 23:50:53,709] Trial 1 finished with value: 0.5819186410756128 and parameters: {'learning_rate': 0.1, 'depth': 7, 'l2_leaf_reg': 1}. Best is trial 1 with value: 0.5819186410756128.\n"
     ]
    },
    {
     "name": "stdout",
     "output_type": "stream",
     "text": [
      "\n",
      "bestTest = 0.5869300912\n",
      "bestIteration = 839\n",
      "\n"
     ]
    },
    {
     "data": {
      "application/vnd.jupyter.widget-view+json": {
       "model_id": "d8b1792b28ef469fb59b9ef4b51d2dd9",
       "version_major": 2,
       "version_minor": 0
      },
      "text/plain": [
       "MetricVisualizer(layout=Layout(align_self='stretch', height='500px'))"
      ]
     },
     "metadata": {},
     "output_type": "display_data"
    },
    {
     "name": "stdout",
     "output_type": "stream",
     "text": [
      "Training on fold [0/5]\n",
      "\n",
      "bestTest = 0.5198259188\n",
      "bestIteration = 17\n",
      "\n",
      "Training on fold [1/5]\n",
      "\n",
      "bestTest = 0.5220902244\n",
      "bestIteration = 0\n",
      "\n",
      "Training on fold [2/5]\n",
      "\n",
      "bestTest = 0.5328047264\n",
      "bestIteration = 1\n",
      "\n",
      "Training on fold [3/5]\n",
      "\n",
      "bestTest = 0.5467723669\n",
      "bestIteration = 8\n",
      "\n",
      "Training on fold [4/5]\n"
     ]
    },
    {
     "name": "stderr",
     "output_type": "stream",
     "text": [
      "[I 2024-10-01 23:51:28,307] Trial 2 finished with value: 0.5188432802052001 and parameters: {'learning_rate': 0.01, 'depth': 7, 'l2_leaf_reg': 0.001}. Best is trial 1 with value: 0.5819186410756128.\n"
     ]
    },
    {
     "name": "stdout",
     "output_type": "stream",
     "text": [
      "\n",
      "bestTest = 0.5089776174\n",
      "bestIteration = 53\n",
      "\n"
     ]
    },
    {
     "data": {
      "application/vnd.jupyter.widget-view+json": {
       "model_id": "1caa410953624f3480ac393bc9ccd521",
       "version_major": 2,
       "version_minor": 0
      },
      "text/plain": [
       "MetricVisualizer(layout=Layout(align_self='stretch', height='500px'))"
      ]
     },
     "metadata": {},
     "output_type": "display_data"
    },
    {
     "name": "stdout",
     "output_type": "stream",
     "text": [
      "Training on fold [0/5]\n",
      "\n",
      "bestTest = 0.5847639485\n",
      "bestIteration = 489\n",
      "\n",
      "Training on fold [1/5]\n",
      "\n",
      "bestTest = 0.5881817492\n",
      "bestIteration = 790\n",
      "\n",
      "Training on fold [2/5]\n",
      "\n",
      "bestTest = 0.5952755906\n",
      "bestIteration = 801\n",
      "\n",
      "Training on fold [3/5]\n",
      "\n",
      "bestTest = 0.5777469564\n",
      "bestIteration = 511\n",
      "\n",
      "Training on fold [4/5]\n"
     ]
    },
    {
     "name": "stderr",
     "output_type": "stream",
     "text": [
      "[I 2024-10-01 23:58:29,421] Trial 3 finished with value: 0.583437273389595 and parameters: {'learning_rate': 0.1, 'depth': 8, 'l2_leaf_reg': 1}. Best is trial 3 with value: 0.583437273389595.\n"
     ]
    },
    {
     "name": "stdout",
     "output_type": "stream",
     "text": [
      "\n",
      "bestTest = 0.5785035265\n",
      "bestIteration = 545\n",
      "\n"
     ]
    },
    {
     "data": {
      "application/vnd.jupyter.widget-view+json": {
       "model_id": "f929e783e61d475397630feea9cffce3",
       "version_major": 2,
       "version_minor": 0
      },
      "text/plain": [
       "MetricVisualizer(layout=Layout(align_self='stretch', height='500px'))"
      ]
     },
     "metadata": {},
     "output_type": "display_data"
    },
    {
     "name": "stdout",
     "output_type": "stream",
     "text": [
      "Training on fold [0/5]\n",
      "\n",
      "bestTest = 0.5891025154\n",
      "bestIteration = 706\n",
      "\n",
      "Training on fold [1/5]\n",
      "\n",
      "bestTest = 0.5595219374\n",
      "bestIteration = 280\n",
      "\n",
      "Training on fold [2/5]\n",
      "\n",
      "bestTest = 0.5830783354\n",
      "bestIteration = 832\n",
      "\n",
      "Training on fold [3/5]\n",
      "\n",
      "bestTest = 0.5720977438\n",
      "bestIteration = 370\n",
      "\n",
      "Training on fold [4/5]\n"
     ]
    },
    {
     "name": "stderr",
     "output_type": "stream",
     "text": [
      "[I 2024-10-02 00:02:15,714] Trial 4 finished with value: 0.5675360362792924 and parameters: {'learning_rate': 0.1, 'depth': 6, 'l2_leaf_reg': 10}. Best is trial 3 with value: 0.583437273389595.\n"
     ]
    },
    {
     "name": "stdout",
     "output_type": "stream",
     "text": [
      "\n",
      "bestTest = 0.5367518774\n",
      "bestIteration = 0\n",
      "\n",
      "Лучшая модель:\n",
      "Лучший F1: 0.583437273389595\n",
      "Лучший AUC: 0.6973188143479774\n",
      "Параметры модели:\n",
      "    learning_rate: 0.1\n",
      "    depth: 8\n",
      "    l2_leaf_reg: 1\n",
      "CPU times: total: 15min 7s\n",
      "Wall time: 23min 34s\n"
     ]
    }
   ],
   "source": [
    "%%time\n",
    "\n",
    "# Запуск Optuna для поиска гиперпараметров для CatBoost\n",
    "study_catboost = optuna.create_study(direction=\"maximize\", sampler=optuna.samplers.TPESampler(seed=RANDOM_STATE))\n",
    "study_catboost.optimize(lambda trial: objective_catboost(trial), n_trials=5)\n",
    "\n",
    "# Вывод лучших результатов\n",
    "print('Лучшая модель:')\n",
    "best_trial_catboost = study_catboost.best_trial\n",
    "best_f1_score = best_trial_catboost.value\n",
    "best_auc_score = best_trial_catboost.user_attrs['AUC']  # Получаем сохранённое значение AUC\n",
    "print(f'Лучший F1: {best_f1_score}')\n",
    "print(f'Лучший AUC: {best_auc_score}')\n",
    "print('Параметры модели:')\n",
    "for key, value in best_trial_catboost.params.items():\n",
    "    print(f'    {key}: {value}')"
   ]
  },
  {
   "cell_type": "code",
   "execution_count": 40,
   "id": "54c508b9",
   "metadata": {
    "ExecuteTime": {
     "end_time": "2024-10-01T19:02:15.737515Z",
     "start_time": "2024-10-01T19:02:15.722515Z"
    },
    "scrolled": true
   },
   "outputs": [
    {
     "name": "stdout",
     "output_type": "stream",
     "text": [
      "CPU times: total: 0 ns\n",
      "Wall time: 0 ns\n"
     ]
    }
   ],
   "source": [
    "%%time\n",
    "# Обучение финальной модели с лучшими параметрами\n",
    "best_params_catboost = best_trial_catboost.params\n",
    "\n",
    "best_model_catboost = CatBoostClassifier(**best_params_catboost)"
   ]
  },
  {
   "cell_type": "code",
   "execution_count": 41,
   "id": "c5a9af12",
   "metadata": {
    "ExecuteTime": {
     "end_time": "2024-10-01T19:04:43.427595Z",
     "start_time": "2024-10-01T19:02:15.738528Z"
    },
    "code_folding": [],
    "scrolled": true
   },
   "outputs": [
    {
     "data": {
      "application/vnd.jupyter.widget-view+json": {
       "model_id": "6a274533a9c944babb4431f2b36c8385",
       "version_major": 2,
       "version_minor": 0
      },
      "text/plain": [
       "MetricVisualizer(layout=Layout(align_self='stretch', height='500px'))"
      ]
     },
     "metadata": {},
     "output_type": "display_data"
    },
    {
     "data": {
      "text/plain": [
       "True"
      ]
     },
     "execution_count": 41,
     "metadata": {},
     "output_type": "execute_result"
    }
   ],
   "source": [
    "# Получаем время и метрики для CatBoost\n",
    "model_time_catboost, predict_time_catboost, f1_catboost, roc_auc_catboost = time_report(\n",
    "    best_model_catboost, X_train, y_train, X_test, y_test, Catboost=True, plot=True\n",
    ")\n",
    "best_model_catboost.is_fitted() # Выводим обучилась ли модель"
   ]
  },
  {
   "cell_type": "markdown",
   "id": "08523df1",
   "metadata": {},
   "source": [
    "Отобразим метрики на тренировочной выборке"
   ]
  },
  {
   "cell_type": "code",
   "execution_count": 42,
   "id": "2a4c6c63",
   "metadata": {
    "ExecuteTime": {
     "end_time": "2024-10-01T19:04:43.711709Z",
     "start_time": "2024-10-01T19:04:43.428594Z"
    }
   },
   "outputs": [
    {
     "data": {
      "text/plain": [
       "{'f1': 0.4921423183303998, 'roc_auc': 0.5897563893669882}"
      ]
     },
     "execution_count": 42,
     "metadata": {},
     "output_type": "execute_result"
    }
   ],
   "source": [
    "# Получаем предсказания для обучения и теста\n",
    "y_pred_train_catboost = best_model_catboost.predict(X_train)\n",
    "\n",
    "# Получаем вероятности для ROC AUC\n",
    "y_pred_proba_train_catboost = best_model_catboost.predict_proba(X_train)[:, 1]\n",
    "\n",
    "# Рассчитываем метрики F1 и ROC AUC\n",
    "f1_score_train_catboost = f1_score(y_train, y_pred_train_catboost)\n",
    "roc_auc_train_catboost = roc_auc_score(y_train, y_pred_proba_train_catboost)\n",
    "\n",
    "# Запишем F1 и ROC AUC в best_score_catboost\n",
    "best_score_train_catboost = {\n",
    "    'f1': f1_score_train_catboost,\n",
    "    'roc_auc': roc_auc_train_catboost\n",
    "}\n",
    "best_score_train_catboost"
   ]
  },
  {
   "cell_type": "code",
   "execution_count": 43,
   "id": "98319ea9",
   "metadata": {
    "ExecuteTime": {
     "end_time": "2024-10-01T19:04:43.727779Z",
     "start_time": "2024-10-01T19:04:43.715724Z"
    }
   },
   "outputs": [
    {
     "data": {
      "text/html": [
       "<div>\n",
       "<style scoped>\n",
       "    .dataframe tbody tr th:only-of-type {\n",
       "        vertical-align: middle;\n",
       "    }\n",
       "\n",
       "    .dataframe tbody tr th {\n",
       "        vertical-align: top;\n",
       "    }\n",
       "\n",
       "    .dataframe thead th {\n",
       "        text-align: right;\n",
       "    }\n",
       "</style>\n",
       "<table border=\"1\" class=\"dataframe\">\n",
       "  <thead>\n",
       "    <tr style=\"text-align: right;\">\n",
       "      <th></th>\n",
       "      <th>модель</th>\n",
       "      <th>время_обучения</th>\n",
       "      <th>время_предсказания</th>\n",
       "      <th>метрика_f1</th>\n",
       "      <th>метрика_roc_auc</th>\n",
       "      <th>параметры_модели</th>\n",
       "    </tr>\n",
       "  </thead>\n",
       "  <tbody>\n",
       "    <tr>\n",
       "      <th>0</th>\n",
       "      <td>Catboost</td>\n",
       "      <td>00:02:27.6</td>\n",
       "      <td>00:00:00.1</td>\n",
       "      <td>0.617116</td>\n",
       "      <td>0.72534</td>\n",
       "      <td>{'learning_rate': 0.1, 'depth': 8, 'l2_leaf_reg': 1}</td>\n",
       "    </tr>\n",
       "  </tbody>\n",
       "</table>\n",
       "</div>"
      ],
      "text/plain": [
       "     модель время_обучения время_предсказания  метрика_f1  метрика_roc_auc  \\\n",
       "0  Catboost     00:02:27.6         00:00:00.1    0.617116          0.72534   \n",
       "\n",
       "                                       параметры_модели  \n",
       "0  {'learning_rate': 0.1, 'depth': 8, 'l2_leaf_reg': 1}  "
      ]
     },
     "execution_count": 43,
     "metadata": {},
     "output_type": "execute_result"
    }
   ],
   "source": [
    "result_catboost = create_result_dataframe(\n",
    "    best_scores={'f1': f1_catboost, 'roc_auc': roc_auc_catboost},\n",
    "    model_time=model_time_catboost, \n",
    "    predict_time=predict_time_catboost,\n",
    "    best_params=best_params_catboost,\n",
    "    name_model='Catboost'\n",
    ")\n",
    "result_catboost"
   ]
  },
  {
   "cell_type": "code",
   "execution_count": 44,
   "id": "61f7ccde",
   "metadata": {
    "ExecuteTime": {
     "end_time": "2024-10-01T19:04:43.775217Z",
     "start_time": "2024-10-01T19:04:43.729712Z"
    },
    "scrolled": true
   },
   "outputs": [
    {
     "data": {
      "text/html": [
       "<div>\n",
       "<style scoped>\n",
       "    .dataframe tbody tr th:only-of-type {\n",
       "        vertical-align: middle;\n",
       "    }\n",
       "\n",
       "    .dataframe tbody tr th {\n",
       "        vertical-align: top;\n",
       "    }\n",
       "\n",
       "    .dataframe thead th {\n",
       "        text-align: right;\n",
       "    }\n",
       "</style>\n",
       "<table border=\"1\" class=\"dataframe\">\n",
       "  <thead>\n",
       "    <tr style=\"text-align: right;\">\n",
       "      <th></th>\n",
       "      <th>Feature Id</th>\n",
       "      <th>Importances</th>\n",
       "    </tr>\n",
       "  </thead>\n",
       "  <tbody>\n",
       "    <tr>\n",
       "      <th>0</th>\n",
       "      <td>time</td>\n",
       "      <td>16.040559</td>\n",
       "    </tr>\n",
       "    <tr>\n",
       "      <th>1</th>\n",
       "      <td>insurance_premium</td>\n",
       "      <td>14.065824</td>\n",
       "    </tr>\n",
       "    <tr>\n",
       "      <th>2</th>\n",
       "      <td>day</td>\n",
       "      <td>14.057446</td>\n",
       "    </tr>\n",
       "    <tr>\n",
       "      <th>3</th>\n",
       "      <td>weekday</td>\n",
       "      <td>10.412035</td>\n",
       "    </tr>\n",
       "    <tr>\n",
       "      <th>4</th>\n",
       "      <td>main_road_dist</td>\n",
       "      <td>8.713206</td>\n",
       "    </tr>\n",
       "    <tr>\n",
       "      <th>5</th>\n",
       "      <td>location_type</td>\n",
       "      <td>8.385664</td>\n",
       "    </tr>\n",
       "    <tr>\n",
       "      <th>6</th>\n",
       "      <td>vehicle_type</td>\n",
       "      <td>7.018757</td>\n",
       "    </tr>\n",
       "    <tr>\n",
       "      <th>7</th>\n",
       "      <td>vehicle_age_category</td>\n",
       "      <td>6.943922</td>\n",
       "    </tr>\n",
       "    <tr>\n",
       "      <th>8</th>\n",
       "      <td>lighting</td>\n",
       "      <td>4.813346</td>\n",
       "    </tr>\n",
       "    <tr>\n",
       "      <th>9</th>\n",
       "      <td>weather</td>\n",
       "      <td>4.419261</td>\n",
       "    </tr>\n",
       "    <tr>\n",
       "      <th>10</th>\n",
       "      <td>road_surface</td>\n",
       "      <td>2.838421</td>\n",
       "    </tr>\n",
       "    <tr>\n",
       "      <th>11</th>\n",
       "      <td>vehicle_transmission</td>\n",
       "      <td>0.930534</td>\n",
       "    </tr>\n",
       "    <tr>\n",
       "      <th>12</th>\n",
       "      <td>road_condition</td>\n",
       "      <td>0.768063</td>\n",
       "    </tr>\n",
       "    <tr>\n",
       "      <th>13</th>\n",
       "      <td>cellphone_in_use</td>\n",
       "      <td>0.592963</td>\n",
       "    </tr>\n",
       "  </tbody>\n",
       "</table>\n",
       "</div>"
      ],
      "text/plain": [
       "              Feature Id  Importances\n",
       "0                   time    16.040559\n",
       "1      insurance_premium    14.065824\n",
       "2                    day    14.057446\n",
       "3                weekday    10.412035\n",
       "4         main_road_dist     8.713206\n",
       "5          location_type     8.385664\n",
       "6           vehicle_type     7.018757\n",
       "7   vehicle_age_category     6.943922\n",
       "8               lighting     4.813346\n",
       "9                weather     4.419261\n",
       "10          road_surface     2.838421\n",
       "11  vehicle_transmission     0.930534\n",
       "12        road_condition     0.768063\n",
       "13      cellphone_in_use     0.592963"
      ]
     },
     "execution_count": 44,
     "metadata": {},
     "output_type": "execute_result"
    }
   ],
   "source": [
    "best_model_catboost.get_feature_importance(prettified=True)"
   ]
  },
  {
   "cell_type": "markdown",
   "id": "7c3cb0e5",
   "metadata": {},
   "source": [
    "**ВЫВОД:** В ходе обучения модели CatBoost с использованием Optuna были проведены несколько итераций, на основе которых подобраны оптимальные гиперпараметры. Лучшая модель показала максимальное значение F1 и AUC. По результатам кросс-валидации, модель CatBoost обучена и протестирована, а также рассчитаны метрики F1 и ROC AUC как на тестовой, так и на обучающей выборках. Проведен анализ важности признаков, что позволило выявить ключевые факторы, влияющие на прогнозирование."
   ]
  },
  {
   "cell_type": "markdown",
   "id": "e55eba8f",
   "metadata": {},
   "source": [
    "### Обучение модели \"LightGBM\""
   ]
  },
  {
   "cell_type": "markdown",
   "id": "1f3cbd0c",
   "metadata": {},
   "source": [
    "Создадим функцию для `OPTUNA`"
   ]
  },
  {
   "cell_type": "code",
   "execution_count": 45,
   "id": "f3de6ea7",
   "metadata": {
    "ExecuteTime": {
     "end_time": "2024-10-01T19:04:43.791271Z",
     "start_time": "2024-10-01T19:04:43.777219Z"
    }
   },
   "outputs": [],
   "source": [
    "# Функция для расчета F1-score\n",
    "def f1_eval(y_pred_proba, dataset):\n",
    "    y_true = dataset.get_label()  # Получаем истинные метки классов\n",
    "    y_pred = (y_pred_proba > 0.5).astype(int)  # Преобразуем вероятности в метки классов\n",
    "    return 'f1', f1_score(y_true, y_pred), True  # Третье значение True указывает на максимизацию метрики\n",
    "\n",
    "def objective_LGBM(trial, X, y):\n",
    "    param_LGBM = {\n",
    "        'learning_rate': trial.suggest_loguniform('learning_rate', 0.01, 0.1),\n",
    "        'num_leaves': trial.suggest_int('num_leaves', 31, 128),\n",
    "        'objective': 'binary',\n",
    "        'metric': 'None',\n",
    "        'random_state': RANDOM_STATE,\n",
    "        'force_row_wise': True\n",
    "    }\n",
    "    \n",
    "    n_estimators = trial.suggest_int('n_estimators', 100, 1000)\n",
    "    \n",
    "    f1_scores = []\n",
    "    roc_auc_scores = []\n",
    "    \n",
    "    for fold_index, (train_index, valid_index) in enumerate(kf_cv.split(X, y)):\n",
    "        X_train, X_valid = X.iloc[train_index], X.iloc[valid_index]\n",
    "        y_train, y_valid = y.iloc[train_index], y.iloc[valid_index]\n",
    "        \n",
    "        train_data = lgb.Dataset(X_train, label=y_train, categorical_feature=ohe_columns)\n",
    "        valid_data = lgb.Dataset(X_valid, label=y_valid, categorical_feature=ohe_columns, reference=train_data)    \n",
    "\n",
    "        model = lgb.train(\n",
    "            param_LGBM,\n",
    "            train_data,\n",
    "            num_boost_round=n_estimators,\n",
    "            valid_sets=[valid_data],\n",
    "            valid_names=['valid_0'],\n",
    "            feval=f1_eval  # Кастомная метрика для F1\n",
    "        )\n",
    "        \n",
    "        y_pred_proba = model.predict(X_valid)\n",
    "        y_pred = (y_pred_proba > 0.5).astype(int)\n",
    "        \n",
    "        f1 = f1_score(y_valid, y_pred)\n",
    "        roc_auc = roc_auc_score(y_valid, y_pred_proba)\n",
    "        \n",
    "        f1_scores.append(f1)\n",
    "        roc_auc_scores.append(roc_auc)\n",
    "    \n",
    "    # Логируем roc_auc на текущей итерации\n",
    "    trial.report(np.mean(roc_auc_scores), step=trial.number)  # Логирование roc_auc\n",
    "    \n",
    "    # Если в процессе оптимизации roc_auc не улучшился, можно прервать итерацию\n",
    "    if trial.should_prune():\n",
    "        raise optuna.exceptions.TrialPruned()\n",
    "    \n",
    "    return np.mean(f1_scores)"
   ]
  },
  {
   "cell_type": "code",
   "execution_count": 46,
   "id": "0bb45bb0",
   "metadata": {
    "ExecuteTime": {
     "end_time": "2024-10-01T19:11:03.106809Z",
     "start_time": "2024-10-01T19:04:43.794218Z"
    },
    "scrolled": false
   },
   "outputs": [
    {
     "name": "stderr",
     "output_type": "stream",
     "text": [
      "[I 2024-10-02 00:04:43,798] A new study created in memory with name: no-name-a6fcd519-ffb1-4f99-a6db-aa33534331f4\n"
     ]
    },
    {
     "name": "stdout",
     "output_type": "stream",
     "text": [
      "[LightGBM] [Info] Number of positive: 29117, number of negative: 32331\n",
      "[LightGBM] [Info] Total Bins 443\n",
      "[LightGBM] [Info] Number of data points in the train set: 61448, number of used features: 14\n",
      "[LightGBM] [Info] [binary:BoostFromScore]: pavg=0.473848 -> initscore=-0.104704\n",
      "[LightGBM] [Info] Start training from score -0.104704\n",
      "[LightGBM] [Info] Number of positive: 29208, number of negative: 32241\n",
      "[LightGBM] [Info] Total Bins 442\n",
      "[LightGBM] [Info] Number of data points in the train set: 61449, number of used features: 14\n",
      "[LightGBM] [Info] [binary:BoostFromScore]: pavg=0.475321 -> initscore=-0.098796\n",
      "[LightGBM] [Info] Start training from score -0.098796\n",
      "[LightGBM] [Info] Number of positive: 29082, number of negative: 32367\n",
      "[LightGBM] [Info] Total Bins 442\n",
      "[LightGBM] [Info] Number of data points in the train set: 61449, number of used features: 14\n",
      "[LightGBM] [Info] [binary:BoostFromScore]: pavg=0.473271 -> initscore=-0.107020\n",
      "[LightGBM] [Info] Start training from score -0.107020\n",
      "[LightGBM] [Info] Number of positive: 29194, number of negative: 32255\n",
      "[LightGBM] [Info] Total Bins 442\n",
      "[LightGBM] [Info] Number of data points in the train set: 61449, number of used features: 14\n",
      "[LightGBM] [Info] [binary:BoostFromScore]: pavg=0.475093 -> initscore=-0.099710\n",
      "[LightGBM] [Info] Start training from score -0.099710\n",
      "[LightGBM] [Info] Number of positive: 29171, number of negative: 32278\n",
      "[LightGBM] [Info] Total Bins 443\n",
      "[LightGBM] [Info] Number of data points in the train set: 61449, number of used features: 14\n",
      "[LightGBM] [Info] [binary:BoostFromScore]: pavg=0.474719 -> initscore=-0.101211\n",
      "[LightGBM] [Info] Start training from score -0.101211\n"
     ]
    },
    {
     "name": "stderr",
     "output_type": "stream",
     "text": [
      "[I 2024-10-02 00:04:59,338] Trial 0 finished with value: 0.5390378202263587 and parameters: {'learning_rate': 0.010928528291128359, 'num_leaves': 107, 'n_estimators': 183}. Best is trial 0 with value: 0.5390378202263587.\n"
     ]
    },
    {
     "name": "stdout",
     "output_type": "stream",
     "text": [
      "[LightGBM] [Info] Number of positive: 29117, number of negative: 32331\n",
      "[LightGBM] [Info] Total Bins 443\n",
      "[LightGBM] [Info] Number of data points in the train set: 61448, number of used features: 14\n",
      "[LightGBM] [Info] [binary:BoostFromScore]: pavg=0.473848 -> initscore=-0.104704\n",
      "[LightGBM] [Info] Start training from score -0.104704\n",
      "[LightGBM] [Info] Number of positive: 29208, number of negative: 32241\n",
      "[LightGBM] [Info] Total Bins 442\n",
      "[LightGBM] [Info] Number of data points in the train set: 61449, number of used features: 14\n",
      "[LightGBM] [Info] [binary:BoostFromScore]: pavg=0.475321 -> initscore=-0.098796\n",
      "[LightGBM] [Info] Start training from score -0.098796\n",
      "[LightGBM] [Info] Number of positive: 29082, number of negative: 32367\n",
      "[LightGBM] [Info] Total Bins 442\n",
      "[LightGBM] [Info] Number of data points in the train set: 61449, number of used features: 14\n",
      "[LightGBM] [Info] [binary:BoostFromScore]: pavg=0.473271 -> initscore=-0.107020\n",
      "[LightGBM] [Info] Start training from score -0.107020\n",
      "[LightGBM] [Info] Number of positive: 29194, number of negative: 32255\n",
      "[LightGBM] [Info] Total Bins 442\n",
      "[LightGBM] [Info] Number of data points in the train set: 61449, number of used features: 14\n",
      "[LightGBM] [Info] [binary:BoostFromScore]: pavg=0.475093 -> initscore=-0.099710\n",
      "[LightGBM] [Info] Start training from score -0.099710\n",
      "[LightGBM] [Info] Number of positive: 29171, number of negative: 32278\n",
      "[LightGBM] [Info] Total Bins 443\n",
      "[LightGBM] [Info] Number of data points in the train set: 61449, number of used features: 14\n",
      "[LightGBM] [Info] [binary:BoostFromScore]: pavg=0.474719 -> initscore=-0.101211\n",
      "[LightGBM] [Info] Start training from score -0.101211\n"
     ]
    },
    {
     "name": "stderr",
     "output_type": "stream",
     "text": [
      "[I 2024-10-02 00:05:51,765] Trial 1 finished with value: 0.547969315797404 and parameters: {'learning_rate': 0.04294303020698242, 'num_leaves': 32, 'n_estimators': 943}. Best is trial 1 with value: 0.547969315797404.\n"
     ]
    },
    {
     "name": "stdout",
     "output_type": "stream",
     "text": [
      "[LightGBM] [Info] Number of positive: 29117, number of negative: 32331\n",
      "[LightGBM] [Info] Total Bins 443\n",
      "[LightGBM] [Info] Number of data points in the train set: 61448, number of used features: 14\n",
      "[LightGBM] [Info] [binary:BoostFromScore]: pavg=0.473848 -> initscore=-0.104704\n",
      "[LightGBM] [Info] Start training from score -0.104704\n",
      "[LightGBM] [Info] Number of positive: 29208, number of negative: 32241\n",
      "[LightGBM] [Info] Total Bins 442\n",
      "[LightGBM] [Info] Number of data points in the train set: 61449, number of used features: 14\n",
      "[LightGBM] [Info] [binary:BoostFromScore]: pavg=0.475321 -> initscore=-0.098796\n",
      "[LightGBM] [Info] Start training from score -0.098796\n",
      "[LightGBM] [Info] Number of positive: 29082, number of negative: 32367\n",
      "[LightGBM] [Info] Total Bins 442\n",
      "[LightGBM] [Info] Number of data points in the train set: 61449, number of used features: 14\n",
      "[LightGBM] [Info] [binary:BoostFromScore]: pavg=0.473271 -> initscore=-0.107020\n",
      "[LightGBM] [Info] Start training from score -0.107020\n",
      "[LightGBM] [Info] Number of positive: 29194, number of negative: 32255\n",
      "[LightGBM] [Info] Total Bins 442\n",
      "[LightGBM] [Info] Number of data points in the train set: 61449, number of used features: 14\n",
      "[LightGBM] [Info] [binary:BoostFromScore]: pavg=0.475093 -> initscore=-0.099710\n",
      "[LightGBM] [Info] Start training from score -0.099710\n",
      "[LightGBM] [Info] Number of positive: 29171, number of negative: 32278\n",
      "[LightGBM] [Info] Total Bins 443\n",
      "[LightGBM] [Info] Number of data points in the train set: 61449, number of used features: 14\n",
      "[LightGBM] [Info] [binary:BoostFromScore]: pavg=0.474719 -> initscore=-0.101211\n",
      "[LightGBM] [Info] Start training from score -0.101211\n"
     ]
    },
    {
     "name": "stderr",
     "output_type": "stream",
     "text": [
      "[I 2024-10-02 00:06:10,029] Trial 2 finished with value: 0.5431677158086741 and parameters: {'learning_rate': 0.026703880860689082, 'num_leaves': 55, 'n_estimators': 271}. Best is trial 1 with value: 0.547969315797404.\n"
     ]
    },
    {
     "name": "stdout",
     "output_type": "stream",
     "text": [
      "[LightGBM] [Info] Number of positive: 29117, number of negative: 32331\n",
      "[LightGBM] [Info] Total Bins 443\n",
      "[LightGBM] [Info] Number of data points in the train set: 61448, number of used features: 14\n",
      "[LightGBM] [Info] [binary:BoostFromScore]: pavg=0.473848 -> initscore=-0.104704\n",
      "[LightGBM] [Info] Start training from score -0.104704\n",
      "[LightGBM] [Info] Number of positive: 29208, number of negative: 32241\n",
      "[LightGBM] [Info] Total Bins 442\n",
      "[LightGBM] [Info] Number of data points in the train set: 61449, number of used features: 14\n",
      "[LightGBM] [Info] [binary:BoostFromScore]: pavg=0.475321 -> initscore=-0.098796\n",
      "[LightGBM] [Info] Start training from score -0.098796\n",
      "[LightGBM] [Info] Number of positive: 29082, number of negative: 32367\n",
      "[LightGBM] [Info] Total Bins 442\n",
      "[LightGBM] [Info] Number of data points in the train set: 61449, number of used features: 14\n",
      "[LightGBM] [Info] [binary:BoostFromScore]: pavg=0.473271 -> initscore=-0.107020\n",
      "[LightGBM] [Info] Start training from score -0.107020\n",
      "[LightGBM] [Info] Number of positive: 29194, number of negative: 32255\n",
      "[LightGBM] [Info] Total Bins 442\n",
      "[LightGBM] [Info] Number of data points in the train set: 61449, number of used features: 14\n",
      "[LightGBM] [Info] [binary:BoostFromScore]: pavg=0.475093 -> initscore=-0.099710\n",
      "[LightGBM] [Info] Start training from score -0.099710\n",
      "[LightGBM] [Info] Number of positive: 29171, number of negative: 32278\n",
      "[LightGBM] [Info] Total Bins 443\n",
      "[LightGBM] [Info] Number of data points in the train set: 61449, number of used features: 14\n",
      "[LightGBM] [Info] [binary:BoostFromScore]: pavg=0.474719 -> initscore=-0.101211\n",
      "[LightGBM] [Info] Start training from score -0.101211\n"
     ]
    },
    {
     "name": "stderr",
     "output_type": "stream",
     "text": [
      "[I 2024-10-02 00:06:49,379] Trial 3 finished with value: 0.5446033079071936 and parameters: {'learning_rate': 0.025991098369642286, 'num_leaves': 32, 'n_estimators': 684}. Best is trial 1 with value: 0.547969315797404.\n"
     ]
    },
    {
     "name": "stdout",
     "output_type": "stream",
     "text": [
      "[LightGBM] [Info] Number of positive: 29117, number of negative: 32331\n",
      "[LightGBM] [Info] Total Bins 443\n",
      "[LightGBM] [Info] Number of data points in the train set: 61448, number of used features: 14\n",
      "[LightGBM] [Info] [binary:BoostFromScore]: pavg=0.473848 -> initscore=-0.104704\n",
      "[LightGBM] [Info] Start training from score -0.104704\n",
      "[LightGBM] [Info] Number of positive: 29208, number of negative: 32241\n",
      "[LightGBM] [Info] Total Bins 442\n",
      "[LightGBM] [Info] Number of data points in the train set: 61449, number of used features: 14\n",
      "[LightGBM] [Info] [binary:BoostFromScore]: pavg=0.475321 -> initscore=-0.098796\n",
      "[LightGBM] [Info] Start training from score -0.098796\n",
      "[LightGBM] [Info] Number of positive: 29082, number of negative: 32367\n",
      "[LightGBM] [Info] Total Bins 442\n",
      "[LightGBM] [Info] Number of data points in the train set: 61449, number of used features: 14\n",
      "[LightGBM] [Info] [binary:BoostFromScore]: pavg=0.473271 -> initscore=-0.107020\n",
      "[LightGBM] [Info] Start training from score -0.107020\n",
      "[LightGBM] [Info] Number of positive: 29194, number of negative: 32255\n",
      "[LightGBM] [Info] Total Bins 442\n",
      "[LightGBM] [Info] Number of data points in the train set: 61449, number of used features: 14\n",
      "[LightGBM] [Info] [binary:BoostFromScore]: pavg=0.475093 -> initscore=-0.099710\n",
      "[LightGBM] [Info] Start training from score -0.099710\n",
      "[LightGBM] [Info] Number of positive: 29171, number of negative: 32278\n",
      "[LightGBM] [Info] Total Bins 443\n",
      "[LightGBM] [Info] Number of data points in the train set: 61449, number of used features: 14\n",
      "[LightGBM] [Info] [binary:BoostFromScore]: pavg=0.474719 -> initscore=-0.101211\n",
      "[LightGBM] [Info] Start training from score -0.101211\n"
     ]
    },
    {
     "name": "stderr",
     "output_type": "stream",
     "text": [
      "[I 2024-10-02 00:07:41,351] Trial 4 finished with value: 0.5613106370627354 and parameters: {'learning_rate': 0.07402335175871755, 'num_leaves': 90, 'n_estimators': 828}. Best is trial 4 with value: 0.5613106370627354.\n"
     ]
    },
    {
     "name": "stdout",
     "output_type": "stream",
     "text": [
      "[LightGBM] [Info] Number of positive: 29117, number of negative: 32331\n",
      "[LightGBM] [Info] Total Bins 443\n",
      "[LightGBM] [Info] Number of data points in the train set: 61448, number of used features: 14\n",
      "[LightGBM] [Info] [binary:BoostFromScore]: pavg=0.473848 -> initscore=-0.104704\n",
      "[LightGBM] [Info] Start training from score -0.104704\n",
      "[LightGBM] [Info] Number of positive: 29208, number of negative: 32241\n",
      "[LightGBM] [Info] Total Bins 442\n",
      "[LightGBM] [Info] Number of data points in the train set: 61449, number of used features: 14\n",
      "[LightGBM] [Info] [binary:BoostFromScore]: pavg=0.475321 -> initscore=-0.098796\n",
      "[LightGBM] [Info] Start training from score -0.098796\n",
      "[LightGBM] [Info] Number of positive: 29082, number of negative: 32367\n",
      "[LightGBM] [Info] Total Bins 442\n",
      "[LightGBM] [Info] Number of data points in the train set: 61449, number of used features: 14\n",
      "[LightGBM] [Info] [binary:BoostFromScore]: pavg=0.473271 -> initscore=-0.107020\n",
      "[LightGBM] [Info] Start training from score -0.107020\n",
      "[LightGBM] [Info] Number of positive: 29194, number of negative: 32255\n",
      "[LightGBM] [Info] Total Bins 442\n",
      "[LightGBM] [Info] Number of data points in the train set: 61449, number of used features: 14\n",
      "[LightGBM] [Info] [binary:BoostFromScore]: pavg=0.475093 -> initscore=-0.099710\n",
      "[LightGBM] [Info] Start training from score -0.099710\n",
      "[LightGBM] [Info] Number of positive: 29171, number of negative: 32278\n",
      "[LightGBM] [Info] Total Bins 443\n",
      "[LightGBM] [Info] Number of data points in the train set: 61449, number of used features: 14\n",
      "[LightGBM] [Info] [binary:BoostFromScore]: pavg=0.474719 -> initscore=-0.101211\n",
      "[LightGBM] [Info] Start training from score -0.101211\n"
     ]
    },
    {
     "name": "stderr",
     "output_type": "stream",
     "text": [
      "[I 2024-10-02 00:08:31,403] Trial 5 finished with value: 0.5544246287441483 and parameters: {'learning_rate': 0.06706737838531697, 'num_leaves': 57, 'n_estimators': 853}. Best is trial 4 with value: 0.5613106370627354.\n"
     ]
    },
    {
     "name": "stdout",
     "output_type": "stream",
     "text": [
      "[LightGBM] [Info] Number of positive: 29117, number of negative: 32331\n",
      "[LightGBM] [Info] Total Bins 443\n",
      "[LightGBM] [Info] Number of data points in the train set: 61448, number of used features: 14\n",
      "[LightGBM] [Info] [binary:BoostFromScore]: pavg=0.473848 -> initscore=-0.104704\n",
      "[LightGBM] [Info] Start training from score -0.104704\n",
      "[LightGBM] [Info] Number of positive: 29208, number of negative: 32241\n",
      "[LightGBM] [Info] Total Bins 442\n",
      "[LightGBM] [Info] Number of data points in the train set: 61449, number of used features: 14\n",
      "[LightGBM] [Info] [binary:BoostFromScore]: pavg=0.475321 -> initscore=-0.098796\n",
      "[LightGBM] [Info] Start training from score -0.098796\n",
      "[LightGBM] [Info] Number of positive: 29082, number of negative: 32367\n",
      "[LightGBM] [Info] Total Bins 442\n",
      "[LightGBM] [Info] Number of data points in the train set: 61449, number of used features: 14\n",
      "[LightGBM] [Info] [binary:BoostFromScore]: pavg=0.473271 -> initscore=-0.107020\n",
      "[LightGBM] [Info] Start training from score -0.107020\n",
      "[LightGBM] [Info] Number of positive: 29194, number of negative: 32255\n",
      "[LightGBM] [Info] Total Bins 442\n",
      "[LightGBM] [Info] Number of data points in the train set: 61449, number of used features: 14\n",
      "[LightGBM] [Info] [binary:BoostFromScore]: pavg=0.475093 -> initscore=-0.099710\n",
      "[LightGBM] [Info] Start training from score -0.099710\n",
      "[LightGBM] [Info] Number of positive: 29171, number of negative: 32278\n",
      "[LightGBM] [Info] Total Bins 443\n",
      "[LightGBM] [Info] Number of data points in the train set: 61449, number of used features: 14\n",
      "[LightGBM] [Info] [binary:BoostFromScore]: pavg=0.474719 -> initscore=-0.101211\n",
      "[LightGBM] [Info] Start training from score -0.101211\n"
     ]
    },
    {
     "name": "stderr",
     "output_type": "stream",
     "text": [
      "[I 2024-10-02 00:09:16,272] Trial 6 finished with value: 0.5454153526989496 and parameters: {'learning_rate': 0.01916643585127409, 'num_leaves': 44, 'n_estimators': 743}. Best is trial 4 with value: 0.5613106370627354.\n"
     ]
    },
    {
     "name": "stdout",
     "output_type": "stream",
     "text": [
      "[LightGBM] [Info] Number of positive: 29117, number of negative: 32331\n",
      "[LightGBM] [Info] Total Bins 443\n",
      "[LightGBM] [Info] Number of data points in the train set: 61448, number of used features: 14\n",
      "[LightGBM] [Info] [binary:BoostFromScore]: pavg=0.473848 -> initscore=-0.104704\n",
      "[LightGBM] [Info] Start training from score -0.104704\n",
      "[LightGBM] [Info] Number of positive: 29208, number of negative: 32241\n",
      "[LightGBM] [Info] Total Bins 442\n",
      "[LightGBM] [Info] Number of data points in the train set: 61449, number of used features: 14\n",
      "[LightGBM] [Info] [binary:BoostFromScore]: pavg=0.475321 -> initscore=-0.098796\n",
      "[LightGBM] [Info] Start training from score -0.098796\n",
      "[LightGBM] [Info] Number of positive: 29082, number of negative: 32367\n",
      "[LightGBM] [Info] Total Bins 442\n",
      "[LightGBM] [Info] Number of data points in the train set: 61449, number of used features: 14\n",
      "[LightGBM] [Info] [binary:BoostFromScore]: pavg=0.473271 -> initscore=-0.107020\n",
      "[LightGBM] [Info] Start training from score -0.107020\n",
      "[LightGBM] [Info] Number of positive: 29194, number of negative: 32255\n",
      "[LightGBM] [Info] Total Bins 442\n",
      "[LightGBM] [Info] Number of data points in the train set: 61449, number of used features: 14\n",
      "[LightGBM] [Info] [binary:BoostFromScore]: pavg=0.475093 -> initscore=-0.099710\n",
      "[LightGBM] [Info] Start training from score -0.099710\n",
      "[LightGBM] [Info] Number of positive: 29171, number of negative: 32278\n",
      "[LightGBM] [Info] Total Bins 443\n",
      "[LightGBM] [Info] Number of data points in the train set: 61449, number of used features: 14\n",
      "[LightGBM] [Info] [binary:BoostFromScore]: pavg=0.474719 -> initscore=-0.101211\n",
      "[LightGBM] [Info] Start training from score -0.101211\n"
     ]
    },
    {
     "name": "stderr",
     "output_type": "stream",
     "text": [
      "[I 2024-10-02 00:09:46,797] Trial 7 finished with value: 0.5452956394398794 and parameters: {'learning_rate': 0.02968496953423103, 'num_leaves': 85, 'n_estimators': 447}. Best is trial 4 with value: 0.5613106370627354.\n"
     ]
    },
    {
     "name": "stdout",
     "output_type": "stream",
     "text": [
      "[LightGBM] [Info] Number of positive: 29117, number of negative: 32331\n",
      "[LightGBM] [Info] Total Bins 443\n",
      "[LightGBM] [Info] Number of data points in the train set: 61448, number of used features: 14\n",
      "[LightGBM] [Info] [binary:BoostFromScore]: pavg=0.473848 -> initscore=-0.104704\n",
      "[LightGBM] [Info] Start training from score -0.104704\n",
      "[LightGBM] [Info] Number of positive: 29208, number of negative: 32241\n",
      "[LightGBM] [Info] Total Bins 442\n",
      "[LightGBM] [Info] Number of data points in the train set: 61449, number of used features: 14\n",
      "[LightGBM] [Info] [binary:BoostFromScore]: pavg=0.475321 -> initscore=-0.098796\n",
      "[LightGBM] [Info] Start training from score -0.098796\n",
      "[LightGBM] [Info] Number of positive: 29082, number of negative: 32367\n",
      "[LightGBM] [Info] Total Bins 442\n",
      "[LightGBM] [Info] Number of data points in the train set: 61449, number of used features: 14\n",
      "[LightGBM] [Info] [binary:BoostFromScore]: pavg=0.473271 -> initscore=-0.107020\n",
      "[LightGBM] [Info] Start training from score -0.107020\n",
      "[LightGBM] [Info] Number of positive: 29194, number of negative: 32255\n",
      "[LightGBM] [Info] Total Bins 442\n",
      "[LightGBM] [Info] Number of data points in the train set: 61449, number of used features: 14\n",
      "[LightGBM] [Info] [binary:BoostFromScore]: pavg=0.475093 -> initscore=-0.099710\n",
      "[LightGBM] [Info] Start training from score -0.099710\n",
      "[LightGBM] [Info] Number of positive: 29171, number of negative: 32278\n",
      "[LightGBM] [Info] Total Bins 443\n",
      "[LightGBM] [Info] Number of data points in the train set: 61449, number of used features: 14\n",
      "[LightGBM] [Info] [binary:BoostFromScore]: pavg=0.474719 -> initscore=-0.101211\n",
      "[LightGBM] [Info] Start training from score -0.101211\n"
     ]
    },
    {
     "name": "stderr",
     "output_type": "stream",
     "text": [
      "[I 2024-10-02 00:10:39,609] Trial 8 finished with value: 0.5539656333671685 and parameters: {'learning_rate': 0.08732662182098766, 'num_leaves': 38, 'n_estimators': 926}. Best is trial 4 with value: 0.5613106370627354.\n"
     ]
    },
    {
     "name": "stdout",
     "output_type": "stream",
     "text": [
      "[LightGBM] [Info] Number of positive: 29117, number of negative: 32331\n",
      "[LightGBM] [Info] Total Bins 443\n",
      "[LightGBM] [Info] Number of data points in the train set: 61448, number of used features: 14\n",
      "[LightGBM] [Info] [binary:BoostFromScore]: pavg=0.473848 -> initscore=-0.104704\n",
      "[LightGBM] [Info] Start training from score -0.104704\n",
      "[LightGBM] [Info] Number of positive: 29208, number of negative: 32241\n",
      "[LightGBM] [Info] Total Bins 442\n",
      "[LightGBM] [Info] Number of data points in the train set: 61449, number of used features: 14\n",
      "[LightGBM] [Info] [binary:BoostFromScore]: pavg=0.475321 -> initscore=-0.098796\n",
      "[LightGBM] [Info] Start training from score -0.098796\n",
      "[LightGBM] [Info] Number of positive: 29082, number of negative: 32367\n",
      "[LightGBM] [Info] Total Bins 442\n",
      "[LightGBM] [Info] Number of data points in the train set: 61449, number of used features: 14\n",
      "[LightGBM] [Info] [binary:BoostFromScore]: pavg=0.473271 -> initscore=-0.107020\n",
      "[LightGBM] [Info] Start training from score -0.107020\n",
      "[LightGBM] [Info] Number of positive: 29194, number of negative: 32255\n",
      "[LightGBM] [Info] Total Bins 442\n",
      "[LightGBM] [Info] Number of data points in the train set: 61449, number of used features: 14\n",
      "[LightGBM] [Info] [binary:BoostFromScore]: pavg=0.475093 -> initscore=-0.099710\n",
      "[LightGBM] [Info] Start training from score -0.099710\n",
      "[LightGBM] [Info] Number of positive: 29171, number of negative: 32278\n",
      "[LightGBM] [Info] Total Bins 443\n",
      "[LightGBM] [Info] Number of data points in the train set: 61449, number of used features: 14\n",
      "[LightGBM] [Info] [binary:BoostFromScore]: pavg=0.474719 -> initscore=-0.101211\n",
      "[LightGBM] [Info] Start training from score -0.101211\n"
     ]
    },
    {
     "name": "stderr",
     "output_type": "stream",
     "text": [
      "[I 2024-10-02 00:11:03,090] Trial 9 finished with value: 0.543006343521905 and parameters: {'learning_rate': 0.014352727033222335, 'num_leaves': 74, 'n_estimators': 291}. Best is trial 4 with value: 0.5613106370627354.\n"
     ]
    },
    {
     "name": "stdout",
     "output_type": "stream",
     "text": [
      "Лучшая модель:\n",
      "Лучший F1: 0.5613106370627354\n",
      "Параметры: \n",
      "    learning_rate: 0.07402335175871755\n",
      "    num_leaves: 90\n",
      "    n_estimators: 828\n",
      "Trial 0: f1 = 0.53904, roc_auc = 0.64918\n",
      "Trial 1: f1 = 0.54797, roc_auc = 0.64956\n",
      "Trial 4: f1 = 0.56131, roc_auc = 0.65269\n",
      "CPU times: total: 6min\n",
      "Wall time: 6min 19s\n"
     ]
    }
   ],
   "source": [
    "%%time\n",
    "\n",
    "# Запуск Optuna для поиска гиперпараметров\n",
    "optuna_LGBM = optuna.create_study(direction=\"maximize\", sampler=optuna.samplers.TPESampler(seed=RANDOM_STATE))\n",
    "optuna_LGBM.optimize(lambda trial: objective_LGBM(trial, X_train, y_train), n_trials=10)\n",
    "\n",
    "# Вывод лучших результатов\n",
    "print(\"Лучшая модель:\")\n",
    "best_trial_LGBM = optuna_LGBM.best_trial\n",
    "best_score_LGBM = best_trial_LGBM.value\n",
    "print(f\"Лучший F1: {best_score_LGBM}\")\n",
    "print(\"Параметры: \")\n",
    "for key, value in best_trial_LGBM.params.items():\n",
    "    print(f\"    {key}: {value}\")\n",
    "    \n",
    "    # Инициализируем переменные для отслеживания лучших метрик\n",
    "best_f1_LGBM  = -float('inf')  # Начальное значение должно быть хуже всех возможных результатов\n",
    "best_roc_auc_LGBM  = -float('inf')  # Аналогично для ROC AUC\n",
    "\n",
    "# Логирование только улучшенных итераций\n",
    "for trial in optuna_LGBM.trials:\n",
    "    current_f1_LGBM  = trial.value  # Текущее значение F1 для этого trial\n",
    "    current_roc_auc_LGBM  = trial.intermediate_values.get(trial.number, 'No roc_auc')  # Получаем значение roc_auc\n",
    "\n",
    "    if current_f1_LGBM > best_f1_LGBM:  # Сравниваем с лучшим значением F1\n",
    "        if isinstance(current_roc_auc_LGBM, float):  # Если roc_auc доступен\n",
    "            print(f\"Trial {trial.number}: f1 = {current_f1_LGBM:.5f}, roc_auc = {current_roc_auc_LGBM:.5f}\")\n",
    "        else:\n",
    "            print(f\"Trial {trial.number}: f1 = {current_f1_LGBM:.5f}, roc_auc = {current_roc_auc_LGBM}\")\n",
    "        \n",
    "        best_f1_LGBM  = current_f1_LGBM   # Обновляем лучшее значение F1\n",
    "        best_roc_auc_LGBM  = current_roc_auc_LGBM   # Обновляем лучшее значение ROC AUC"
   ]
  },
  {
   "cell_type": "code",
   "execution_count": 47,
   "id": "9844e0a9",
   "metadata": {
    "ExecuteTime": {
     "end_time": "2024-10-01T19:11:05.640479Z",
     "start_time": "2024-10-01T19:11:03.108803Z"
    }
   },
   "outputs": [
    {
     "name": "stdout",
     "output_type": "stream",
     "text": [
      "[LightGBM] [Info] Number of positive: 36443, number of negative: 40368\n",
      "[LightGBM] [Info] Auto-choosing row-wise multi-threading, the overhead of testing was 0.002004 seconds.\n",
      "You can set `force_row_wise=true` to remove the overhead.\n",
      "And if memory is not enough, you can set `force_col_wise=true`.\n",
      "[LightGBM] [Info] Total Bins 443\n",
      "[LightGBM] [Info] Number of data points in the train set: 76811, number of used features: 14\n",
      "[LightGBM] [Info] [binary:BoostFromScore]: pavg=0.474450 -> initscore=-0.102288\n",
      "[LightGBM] [Info] Start training from score -0.102288\n"
     ]
    },
    {
     "data": {
      "text/plain": [
       "True"
      ]
     },
     "execution_count": 47,
     "metadata": {},
     "output_type": "execute_result"
    }
   ],
   "source": [
    "# Обучение финальной модели с лучшими параметрами\n",
    "best_params_LGBM = best_trial_LGBM.params\n",
    "best_model_LGBM = lgb.LGBMClassifier(**best_params_LGBM, random_state=RANDOM_STATE)\n",
    "\n",
    "# Обучаем модель и рассчитываем времена обучения/предсказания\n",
    "model_time_LGBM, predict_time_LGBM, f1_LGBM, roc_auc_LGBM = time_report(best_model_LGBM, X_train, y_train, X_test, y_test)\n",
    "best_model_catboost.is_fitted()"
   ]
  },
  {
   "cell_type": "code",
   "execution_count": 48,
   "id": "0bceaa2a",
   "metadata": {
    "ExecuteTime": {
     "end_time": "2024-10-01T19:11:07.192338Z",
     "start_time": "2024-10-01T19:11:05.642410Z"
    },
    "code_folding": []
   },
   "outputs": [
    {
     "data": {
      "text/plain": [
       "{'f1': 0.8422086681133072, 'roc_auc': 0.9485274310957635}"
      ]
     },
     "execution_count": 48,
     "metadata": {},
     "output_type": "execute_result"
    }
   ],
   "source": [
    "# Получаем предсказания для обучения и теста\n",
    "y_pred_train_LGBM = best_model_LGBM.predict(X_train)\n",
    "\n",
    "# Получаем вероятности для ROC AUC\n",
    "y_pred_proba_train_LGBM = best_model_LGBM.predict_proba(X_train)[:, 1]\n",
    "\n",
    "# Рассчитываем метрики F1 и ROC AUC\n",
    "f1_score_train_LGBM = f1_score(y_train, y_pred_train_LGBM)\n",
    "roc_auc_train_LGBM = roc_auc_score(y_train, y_pred_proba_train_LGBM)\n",
    "\n",
    "# Запишем F1 и ROC AUC в best_score_catboost\n",
    "best_score_train_LGBM = {\n",
    "    'f1': f1_score_train_LGBM,\n",
    "    'roc_auc': roc_auc_train_LGBM\n",
    "}\n",
    "best_score_train_LGBM"
   ]
  },
  {
   "cell_type": "code",
   "execution_count": 49,
   "id": "fea79524",
   "metadata": {
    "ExecuteTime": {
     "end_time": "2024-10-01T19:11:07.207852Z",
     "start_time": "2024-10-01T19:11:07.194339Z"
    }
   },
   "outputs": [
    {
     "data": {
      "text/html": [
       "<div>\n",
       "<style scoped>\n",
       "    .dataframe tbody tr th:only-of-type {\n",
       "        vertical-align: middle;\n",
       "    }\n",
       "\n",
       "    .dataframe tbody tr th {\n",
       "        vertical-align: top;\n",
       "    }\n",
       "\n",
       "    .dataframe thead th {\n",
       "        text-align: right;\n",
       "    }\n",
       "</style>\n",
       "<table border=\"1\" class=\"dataframe\">\n",
       "  <thead>\n",
       "    <tr style=\"text-align: right;\">\n",
       "      <th></th>\n",
       "      <th>модель</th>\n",
       "      <th>время_обучения</th>\n",
       "      <th>время_предсказания</th>\n",
       "      <th>метрика_f1</th>\n",
       "      <th>метрика_roc_auc</th>\n",
       "      <th>параметры_модели</th>\n",
       "    </tr>\n",
       "  </thead>\n",
       "  <tbody>\n",
       "    <tr>\n",
       "      <th>0</th>\n",
       "      <td>LightGBM</td>\n",
       "      <td>00:00:01.9</td>\n",
       "      <td>00:00:00.6</td>\n",
       "      <td>0.563973</td>\n",
       "      <td>0.662087</td>\n",
       "      <td>{'learning_rate': 0.07402335175871755, 'num_leaves': 90, 'n_estimators': 828}</td>\n",
       "    </tr>\n",
       "  </tbody>\n",
       "</table>\n",
       "</div>"
      ],
      "text/plain": [
       "     модель время_обучения время_предсказания  метрика_f1  метрика_roc_auc  \\\n",
       "0  LightGBM     00:00:01.9         00:00:00.6    0.563973         0.662087   \n",
       "\n",
       "                                                                параметры_модели  \n",
       "0  {'learning_rate': 0.07402335175871755, 'num_leaves': 90, 'n_estimators': 828}  "
      ]
     },
     "execution_count": 49,
     "metadata": {},
     "output_type": "execute_result"
    }
   ],
   "source": [
    "# Вызов функции для создания итогового отчета\n",
    "result_LGBM = create_result_dataframe(\n",
    "    best_scores={'f1': f1_LGBM, 'roc_auc': roc_auc_LGBM},\n",
    "    model_time=model_time_LGBM,\n",
    "    predict_time=predict_time_LGBM,\n",
    "    best_params=best_params_LGBM,  # Параметры модели\n",
    "    name_model='LightGBM'\n",
    ")\n",
    "\n",
    "# Вывод результата\n",
    "result_LGBM"
   ]
  },
  {
   "cell_type": "markdown",
   "id": "5469582b",
   "metadata": {},
   "source": [
    "**ВЫВОД:** В ходе обучения модели LightGBM с использованием Optuna были проведены несколько итераций для поиска оптимальных гиперпараметров. В качестве метрики оптимизации был выбран F1-score, а также отслеживался ROC AUC. Для оценки использовалась кросс-валидация, которая позволила получить средние значения F1 и ROC AUC для каждой итерации.\n",
    "\n",
    "Лучшие результаты модели показали значительные улучшения в метриках, что позволило подобрать оптимальные параметры для финальной модели. Модель обучена, рассчитаны метрики F1 и ROC AUC на обучающей и тестовой выборках, после чего был сформирован итоговый отчет с указанием времени обучения и предсказания."
   ]
  },
  {
   "cell_type": "markdown",
   "id": "fa287b60",
   "metadata": {},
   "source": [
    "### Обучение нейронной модели"
   ]
  },
  {
   "cell_type": "markdown",
   "id": "5004d589",
   "metadata": {},
   "source": [
    "#### Подготовка данных"
   ]
  },
  {
   "cell_type": "markdown",
   "id": "422cd20b",
   "metadata": {},
   "source": [
    "Закодируем и отмасштабируем данные, после чего переведем их в тензор"
   ]
  },
  {
   "cell_type": "code",
   "execution_count": 50,
   "id": "f9259d76",
   "metadata": {
    "ExecuteTime": {
     "end_time": "2024-10-01T19:11:07.618952Z",
     "start_time": "2024-10-01T19:11:07.209852Z"
    }
   },
   "outputs": [],
   "source": [
    "# Применение препроцессора\n",
    "preprocessor = get_preprocessor(encoder_type='ohe')  # Или 'label'\n",
    "\n",
    "# Преобразование обучающих и тестовых данных\n",
    "X_train_preprocessed = preprocessor.fit_transform(X_train_object)\n",
    "X_test_preprocessed = preprocessor.transform(X_test_object)\n",
    "\n",
    "# Преобразование в тензоры для PyTorch\n",
    "X_train_tensor = torch.tensor(X_train_preprocessed, dtype=torch.float32)\n",
    "y_train_tensor = torch.tensor(np.array(y_train), dtype=torch.float32).unsqueeze(1)\n",
    "\n",
    "X_test_tensor = torch.tensor(X_test_preprocessed, dtype=torch.float32)\n",
    "y_test_tensor = torch.tensor(np.array(y_test), dtype=torch.float32).unsqueeze(1)"
   ]
  },
  {
   "cell_type": "markdown",
   "id": "9d269f53",
   "metadata": {},
   "source": [
    "####  Создание функций для нейронной сети"
   ]
  },
  {
   "cell_type": "markdown",
   "id": "7caf5081",
   "metadata": {},
   "source": [
    "Определим необходимые переменные"
   ]
  },
  {
   "cell_type": "code",
   "execution_count": 51,
   "id": "58a428ae",
   "metadata": {
    "ExecuteTime": {
     "end_time": "2024-10-01T19:11:07.634953Z",
     "start_time": "2024-10-01T19:11:07.620953Z"
    }
   },
   "outputs": [],
   "source": [
    "N_IN_NEURONS = X_train_tensor.shape[1]\n",
    "N_HIDDEN_NEURONS_1 = 128\n",
    "N_HIDDEN_NEURONS_2 = 64\n",
    "N_HIDDEN_NEURONS_3 = 32\n",
    "N_OUT_NEURONS = 1\n",
    "NUM_EPOCHS = 10001\n",
    "EARLY_STOPPING_PATIENCE = 100\n",
    "WEIGHT_DECAY = 1e-4\n",
    "LEARNING_RATE = 1e-3"
   ]
  },
  {
   "cell_type": "markdown",
   "id": "3e6ae10c",
   "metadata": {},
   "source": [
    "Создадим функцию которая определит архитектуру сети"
   ]
  },
  {
   "cell_type": "code",
   "execution_count": 52,
   "id": "fa074140",
   "metadata": {
    "ExecuteTime": {
     "end_time": "2024-10-01T19:11:07.650469Z",
     "start_time": "2024-10-01T19:11:07.636952Z"
    }
   },
   "outputs": [],
   "source": [
    "class Net(nn.Module):\n",
    "    def __init__(self, n_in_neurons, n_hidden_neurons_1, \n",
    "                 n_hidden_neurons_2, n_hidden_neurons_3, \n",
    "                 n_out_neurons, dropout_rate=0, use_batchnorm=False, use_dropout=False):\n",
    "        super(Net, self).__init__()\n",
    "\n",
    "        # Сохраняем параметры как атрибуты класса\n",
    "        self.dropout_rate = dropout_rate\n",
    "        self.use_batchnorm = use_batchnorm\n",
    "        self.use_dropout = use_dropout\n",
    "\n",
    "        # Первый скрытый слой\n",
    "        self.fc1 = nn.Linear(n_in_neurons, n_hidden_neurons_1)\n",
    "        self.bn1 = nn.BatchNorm1d(n_hidden_neurons_1) if use_batchnorm else nn.Identity()\n",
    "        self.act1 = nn.LeakyReLU()\n",
    "        self.dropout1 = nn.Dropout(dropout_rate) if use_dropout else nn.Identity()\n",
    "\n",
    "        # Второй скрытый слой\n",
    "        self.fc2 = nn.Linear(n_hidden_neurons_1, n_hidden_neurons_2)\n",
    "        self.bn2 = nn.BatchNorm1d(n_hidden_neurons_2) if use_batchnorm else nn.Identity()\n",
    "        self.act2 = nn.LeakyReLU()\n",
    "        self.dropout2 = nn.Dropout(dropout_rate) if use_dropout else nn.Identity()\n",
    "\n",
    "        # Третий скрытый слой\n",
    "        self.fc3 = nn.Linear(n_hidden_neurons_2, n_hidden_neurons_3)\n",
    "        self.bn3 = nn.BatchNorm1d(n_hidden_neurons_3) if use_batchnorm else nn.Identity()\n",
    "        self.act3 = nn.LeakyReLU()\n",
    "        self.dropout3 = nn.Dropout(dropout_rate) if use_dropout else nn.Identity()\n",
    "\n",
    "        # Выходной слой\n",
    "        self.fc4 = nn.Linear(n_hidden_neurons_3, n_out_neurons)\n",
    "        self.act4 = nn.Sigmoid()\n",
    "\n",
    "        # Инициализация весов с помощью Kaiming\n",
    "        self._initialize_weights()\n",
    "\n",
    "    def _initialize_weights(self):\n",
    "        for m in self.modules():\n",
    "            if isinstance(m, nn.Linear):\n",
    "                nn.init.kaiming_uniform_(m.weight, nonlinearity='relu')\n",
    "                if m.bias is not None:\n",
    "                    nn.init.constant_(m.bias, 0)\n",
    "        \n",
    "    def forward(self, x):\n",
    "        x = self.fc1(x)\n",
    "        x = self.bn1(x)\n",
    "        x = self.act1(x)\n",
    "        x = self.dropout1(x)\n",
    "        x = self.fc2(x)\n",
    "        x = self.bn2(x)\n",
    "        x = self.act2(x)\n",
    "        x = self.dropout2(x)\n",
    "        x = self.fc3(x)\n",
    "        x = self.bn3(x)\n",
    "        x = self.act3(x)\n",
    "        x = self.dropout3(x)\n",
    "        x = self.fc4(x)\n",
    "        x = self.act4(x)\n",
    "        return x"
   ]
  },
  {
   "cell_type": "markdown",
   "id": "9f50058b",
   "metadata": {},
   "source": [
    "Функция обучения модели и оценка"
   ]
  },
  {
   "cell_type": "code",
   "execution_count": 53,
   "id": "72060aea",
   "metadata": {
    "ExecuteTime": {
     "end_time": "2024-10-01T19:11:07.666469Z",
     "start_time": "2024-10-01T19:11:07.652468Z"
    }
   },
   "outputs": [],
   "source": [
    "def train_and_evaluate_epoch(model, optimizer, X_train, y_train, X_test, y_test, train_loader=None):\n",
    "    model.train()  # Модель в режиме обучения\n",
    "    optimizer.zero_grad()  # Обнуляем градиенты\n",
    "\n",
    "    if train_loader:\n",
    "        # Если передан DataLoader, используем мини-батчи\n",
    "        for X_batch, y_batch in train_loader:\n",
    "            preds = model(X_batch)\n",
    "            loss = nn.BCELoss()(preds, y_batch)\n",
    "            loss.backward()\n",
    "            optimizer.step()\n",
    "    else:\n",
    "        # Иначе используем все данные сразу\n",
    "        preds = model(X_train)\n",
    "        loss = nn.BCELoss()(preds, y_train)\n",
    "        loss.backward()\n",
    "        optimizer.step()\n",
    "\n",
    "    # Оценка на тренировочной выборке\n",
    "    model.eval()  # Переключение в режим оценки\n",
    "    with torch.no_grad():\n",
    "        train_preds = model(X_train)\n",
    "        train_pred_labels = (train_preds > 0.5).float()\n",
    "        train_f1 = f1_score(y_train.cpu(), train_pred_labels.cpu())\n",
    "        train_roc_auc = roc_auc_score(y_train.cpu(), train_preds.cpu())\n",
    "    \n",
    "    # Оценка на тестовой выборке\n",
    "    with torch.no_grad():\n",
    "        test_preds = model(X_test)\n",
    "        test_loss = nn.BCELoss()(test_preds, y_test)\n",
    "        y_pred_labels = (test_preds > 0.5).float()\n",
    "        test_f1 = f1_score(y_test.cpu(), y_pred_labels.cpu())\n",
    "        test_roc_auc = roc_auc_score(y_test.cpu(), test_preds.cpu())\n",
    "\n",
    "    return loss.item(), test_loss.item(), train_f1, train_roc_auc, test_f1, test_roc_auc"
   ]
  },
  {
   "cell_type": "markdown",
   "id": "81f9198b",
   "metadata": {},
   "source": [
    "Функция для обучения модели"
   ]
  },
  {
   "cell_type": "code",
   "execution_count": 54,
   "id": "f3502ad9",
   "metadata": {
    "ExecuteTime": {
     "end_time": "2024-10-01T19:11:07.682468Z",
     "start_time": "2024-10-01T19:11:07.668469Z"
    }
   },
   "outputs": [],
   "source": [
    "def train_model(model, \n",
    "                optimizer, \n",
    "                X_train, \n",
    "                y_train, \n",
    "                X_test, \n",
    "                y_test, \n",
    "                num_epochs=NUM_EPOCHS, \n",
    "                early_stopping_patience=EARLY_STOPPING_PATIENCE\n",
    "               ):\n",
    "    \n",
    "    best_test_loss = float('inf')\n",
    "    no_improvement_epochs = 0\n",
    "    best_epoch = 0\n",
    "\n",
    "    # Лучшая метрика\n",
    "    best_test_f1 = 0\n",
    "    best_test_roc_auc = 0\n",
    "    best_train_f1 = 0\n",
    "    best_train_roc_auc = 0\n",
    "\n",
    "    for epoch in range(num_epochs):\n",
    "        # Вызов функции обучения и оценки на тренировочной и тестовой выборках\n",
    "        train_loss, test_loss, train_f1, train_roc_auc, test_f1, test_roc_auc = train_and_evaluate_epoch(\n",
    "            model, optimizer, X_train, y_train, X_test, y_test\n",
    "        )\n",
    "\n",
    "        # Если loss на тестовой выборке улучшился, сохраняем лучшие значения метрик\n",
    "        if test_loss < best_test_loss:\n",
    "            best_test_loss = test_loss\n",
    "            best_test_f1 = test_f1\n",
    "            best_test_roc_auc = test_roc_auc\n",
    "            best_train_f1 = train_f1\n",
    "            best_train_roc_auc = train_roc_auc\n",
    "            best_epoch = epoch + 1\n",
    "            no_improvement_epochs = 0\n",
    "        else:\n",
    "            no_improvement_epochs += 1\n",
    "\n",
    "        # Если больше нет улучшений на протяжении заданного количества эпох, останавливаем обучение\n",
    "        if no_improvement_epochs >= early_stopping_patience:\n",
    "            print(f'Ранняя остановка на эпохе {epoch + 1}')\n",
    "            break\n",
    "\n",
    "        # Логирование результатов через каждые 100 эпох\n",
    "        if (epoch + 1) % 100 == 0:\n",
    "            print(f'Epoch {epoch + 1}/{num_epochs}, '\n",
    "                  f'Train Loss: {train_loss:.4f}, '\n",
    "                  f'Test Loss: {test_loss:.4f}, '\n",
    "                  f'Train F1: {train_f1:.4f}, '\n",
    "                  f'Train ROC AUC: {train_roc_auc:.4f}, '\n",
    "                  f'Test F1: {test_f1:.4f}, '\n",
    "                  f'Test ROC AUC: {test_roc_auc:.4f}')\n",
    "\n",
    "    # Вывод лучших результатов после завершения обучения\n",
    "    print(f'Лучшая эпоха: {best_epoch}, '\n",
    "          f'Train F1: {best_train_f1:.4f}, Train ROC AUC: {best_train_roc_auc:.4f}, '\n",
    "          f'Test F1: {best_test_f1:.4f}, Test ROC AUC: {best_test_roc_auc:.4f}')\n",
    "    \n",
    "    return best_train_f1, best_train_roc_auc, best_test_f1, best_test_roc_auc, best_epoch"
   ]
  },
  {
   "cell_type": "markdown",
   "id": "e989bf17",
   "metadata": {},
   "source": [
    "Функция для кросс-валидации"
   ]
  },
  {
   "cell_type": "code",
   "execution_count": 55,
   "id": "379ad417",
   "metadata": {
    "ExecuteTime": {
     "end_time": "2024-10-01T19:11:07.697985Z",
     "start_time": "2024-10-01T19:11:07.684469Z"
    }
   },
   "outputs": [],
   "source": [
    "def cross_val_train_model(model_class, optimizer_class, X, y, num_folds=N_FOLDS, num_epochs=NUM_EPOCHS, \n",
    "                          early_stopping_patience=EARLY_STOPPING_PATIENCE, random_state=RANDOM_STATE):\n",
    "    \n",
    "    kf = KFold(n_splits=num_folds, shuffle=True, random_state=random_state)\n",
    "    \n",
    "    fold = 1\n",
    "    train_f1_scores = []\n",
    "    train_roc_auc_scores = []\n",
    "    test_f1_scores = []\n",
    "    test_roc_auc_scores = []\n",
    "    best_epochs = []\n",
    "    \n",
    "    for train_index, test_index in kf.split(X):\n",
    "        print(f'Обучение для фолда {fold}/{num_folds}...')\n",
    "\n",
    "        X_train_fold, X_test_fold = X[train_index], X[test_index]\n",
    "        y_train_fold, y_test_fold = y[train_index], y[test_index]\n",
    "\n",
    "        X_train_tensor = torch.FloatTensor(X_train_fold)\n",
    "        X_test_tensor = torch.FloatTensor(X_test_fold)\n",
    "        y_train_tensor = torch.FloatTensor(y_train_fold).unsqueeze(1)\n",
    "        y_test_tensor = torch.FloatTensor(y_test_fold).unsqueeze(1)\n",
    "\n",
    "        model = model_class(\n",
    "            n_in_neurons=N_IN_NEURONS, \n",
    "            n_hidden_neurons_1=N_HIDDEN_NEURONS_1, \n",
    "            n_hidden_neurons_2=N_HIDDEN_NEURONS_2,\n",
    "            n_hidden_neurons_3=N_HIDDEN_NEURONS_3,\n",
    "            n_out_neurons=N_OUT_NEURONS,\n",
    "            dropout_rate=0,\n",
    "            use_batchnorm=False,\n",
    "            use_dropout=False\n",
    "        )\n",
    "        \n",
    "        optimizer = optimizer_class(model.parameters(), lr=LEARNING_RATE, weight_decay=WEIGHT_DECAY)\n",
    "\n",
    "        best_train_f1, best_train_roc_auc, best_test_f1, best_test_roc_auc, best_epoch = train_model(\n",
    "            model, optimizer, X_train_tensor, y_train_tensor, X_test_tensor, y_test_tensor,\n",
    "            num_epochs=num_epochs, early_stopping_patience=early_stopping_patience\n",
    "        )\n",
    "\n",
    "        train_f1_scores.append(best_train_f1)\n",
    "        train_roc_auc_scores.append(best_train_roc_auc)\n",
    "        test_f1_scores.append(best_test_f1)\n",
    "        test_roc_auc_scores.append(best_test_roc_auc)\n",
    "        best_epochs.append(best_epoch)\n",
    "\n",
    "        fold += 1\n",
    "\n",
    "    avg_train_f1 = sum(train_f1_scores) / num_folds\n",
    "    avg_train_roc_auc = sum(train_roc_auc_scores) / num_folds\n",
    "    avg_test_f1 = sum(test_f1_scores) / num_folds\n",
    "    avg_test_roc_auc = sum(test_roc_auc_scores) / num_folds\n",
    "    avg_best_epoch = sum(best_epochs) / num_folds\n",
    "\n",
    "    print(f'Средний Train F1: {avg_train_f1:.4f}, Средний Train ROC AUC: {avg_train_roc_auc:.4f}, '\n",
    "          f'Средний Test F1: {avg_test_f1:.4f}, Средний Test ROC AUC: {avg_test_roc_auc:.4f}, '\n",
    "          f'Средняя лучшая эпоха: {avg_best_epoch:.0f}')\n",
    "    \n",
    "    return train_f1_scores, train_roc_auc_scores, test_f1_scores, test_roc_auc_scores, best_epochs"
   ]
  },
  {
   "cell_type": "markdown",
   "id": "954c3e2f",
   "metadata": {},
   "source": [
    "Оптимизация с помощью Optuna"
   ]
  },
  {
   "cell_type": "code",
   "execution_count": 56,
   "id": "eaad473c",
   "metadata": {
    "ExecuteTime": {
     "end_time": "2024-10-01T19:11:07.713984Z",
     "start_time": "2024-10-01T19:11:07.698984Z"
    }
   },
   "outputs": [],
   "source": [
    "def objective(trial):\n",
    "    lr_ = trial.suggest_categorical('lr', [1e-5, 1e-4, 1e-3])\n",
    "    weight_decay = trial.suggest_categorical('weight_decay', [1e-3, 1e-4, 1e-5])\n",
    "    use_batchnorm = trial.suggest_categorical('use_batchnorm', [True, False])\n",
    "    use_dropout = trial.suggest_categorical('use_dropout', [True, False])\n",
    "    \n",
    "    dropout_rate = trial.suggest_categorical('dropout_rate', [0.1, 0.2, 0.3, 0.4, 0.5]) if use_dropout else None\n",
    "\n",
    "    model = Net(\n",
    "        n_in_neurons=N_IN_NEURONS, \n",
    "        n_hidden_neurons_1=N_HIDDEN_NEURONS_1, \n",
    "        n_hidden_neurons_2=N_HIDDEN_NEURONS_2,\n",
    "        n_hidden_neurons_3=N_HIDDEN_NEURONS_3,\n",
    "        n_out_neurons=N_OUT_NEURONS,\n",
    "        dropout_rate=dropout_rate,\n",
    "        use_batchnorm=use_batchnorm,\n",
    "        use_dropout=use_dropout\n",
    "    )\n",
    "\n",
    "    optimizer = torch.optim.Adam(model.parameters(), lr=lr_, weight_decay=weight_decay)\n",
    "    \n",
    "    train_f1, train_roc_auc, test_f1, test_roc_auc, _ = train_model(\n",
    "        model, optimizer, X_train_tensor, y_train_tensor, X_test_tensor, y_test_tensor,\n",
    "        num_epochs=NUM_EPOCHS, early_stopping_patience=EARLY_STOPPING_PATIENCE\n",
    "    )\n",
    "\n",
    "    return test_f1  # Оптимизируем по F1 на тестовой выборке"
   ]
  },
  {
   "cell_type": "markdown",
   "id": "2a33742d",
   "metadata": {},
   "source": [
    "#### Обучение модели"
   ]
  },
  {
   "cell_type": "code",
   "execution_count": 57,
   "id": "7a19fb36",
   "metadata": {
    "ExecuteTime": {
     "end_time": "2024-10-01T19:12:35.691955Z",
     "start_time": "2024-10-01T19:11:07.715984Z"
    },
    "scrolled": true
   },
   "outputs": [
    {
     "name": "stderr",
     "output_type": "stream",
     "text": [
      "[I 2024-10-02 00:11:07,717] A new study created in memory with name: no-name-dafdab4b-ea2d-4efc-9c5b-b1ab81709c4b\n"
     ]
    },
    {
     "name": "stdout",
     "output_type": "stream",
     "text": [
      "Epoch 100/10001, Train Loss: 0.8421, Test Loss: 0.7084, Train F1: 0.5818, Train ROC AUC: 0.5149, Test F1: 0.5799, Test ROC AUC: 0.5135\n"
     ]
    },
    {
     "name": "stderr",
     "output_type": "stream",
     "text": [
      "[I 2024-10-02 00:12:35,676] Trial 0 finished with value: 0.5044535387578238 and parameters: {'lr': 1e-05, 'weight_decay': 1e-05, 'use_batchnorm': True, 'use_dropout': True, 'dropout_rate': 0.5}. Best is trial 0 with value: 0.5044535387578238.\n"
     ]
    },
    {
     "name": "stdout",
     "output_type": "stream",
     "text": [
      "Ранняя остановка на эпохе 101\n",
      "Лучшая эпоха: 1, Train F1: 0.5010, Train ROC AUC: 0.4999, Test F1: 0.5045, Test ROC AUC: 0.5025\n",
      "Лучшие параметры: {'lr': 1e-05, 'weight_decay': 1e-05, 'use_batchnorm': True, 'use_dropout': True, 'dropout_rate': 0.5}\n"
     ]
    }
   ],
   "source": [
    "study = optuna.create_study(direction='maximize')\n",
    "study.optimize(objective, n_trials=1)\n",
    "\n",
    "best_trial_NN = study.best_trial\n",
    "dropout_rate = best_trial_NN.params['dropout_rate'] if 'dropout_rate' in best_trial_NN.params else None\n",
    "best_params_NN = best_trial_NN.params\n",
    "print(f'Лучшие параметры: {best_params_NN}')"
   ]
  },
  {
   "cell_type": "markdown",
   "id": "3f57b6ea",
   "metadata": {},
   "source": [
    "<div class=\"alert alert-info\"> <b>ВОПРОС студента:</b> \n",
    "\n",
    "Правильно ли реализую оптимизацию F1-метрику или все же нужно было оставить функцию потер BCELoss?\n",
    " </div>"
   ]
  },
  {
   "cell_type": "code",
   "execution_count": 58,
   "id": "118ef530",
   "metadata": {
    "ExecuteTime": {
     "end_time": "2024-10-01T19:14:07.153496Z",
     "start_time": "2024-10-01T19:12:35.695826Z"
    },
    "scrolled": true
   },
   "outputs": [
    {
     "name": "stdout",
     "output_type": "stream",
     "text": [
      "Epoch 100/10001, Train Loss: 0.9179, Test Loss: 0.7109, Train F1: 0.5587, Train ROC AUC: 0.5040, Test F1: 0.5614, Test ROC AUC: 0.5075\n",
      "Ранняя остановка на эпохе 107\n",
      "Лучшая эпоха: 7, Train F1: 0.5512, Train ROC AUC: 0.5012, Test F1: 0.5542, Test ROC AUC: 0.5051\n"
     ]
    }
   ],
   "source": [
    "# Инициализация нейронной сети с лучшими параметрами\n",
    "best_model_NN = Net(\n",
    "    n_in_neurons=N_IN_NEURONS, \n",
    "    n_hidden_neurons_1=N_HIDDEN_NEURONS_1, \n",
    "    n_hidden_neurons_2=N_HIDDEN_NEURONS_2,\n",
    "    n_hidden_neurons_3=N_HIDDEN_NEURONS_3,\n",
    "    n_out_neurons=N_OUT_NEURONS,\n",
    "    dropout_rate=dropout_rate,  # Используем dropout_rate только если он есть\n",
    "    use_batchnorm=best_trial_NN.params['use_batchnorm'],\n",
    "    use_dropout=best_trial_NN.params['use_dropout']\n",
    ")\n",
    "\n",
    "optimizer_NN = optim.Adam(best_model_NN.parameters(), lr=best_params_NN['lr'], weight_decay=best_params_NN['weight_decay'])\n",
    "\n",
    "\n",
    "start_time_NN = time.time()\n",
    "\n",
    "f1_NN_train, roc_auc_NN_train, f1_NN_test, roc_auc_NN_test, epoch_NN = train_model(\n",
    "    best_model_NN, \n",
    "    optimizer_NN, \n",
    "    X_train_tensor, \n",
    "    y_train_tensor, \n",
    "    X_test_tensor, \n",
    "    y_test_tensor, \n",
    "    num_epochs=NUM_EPOCHS, \n",
    "    early_stopping_patience=EARLY_STOPPING_PATIENCE\n",
    ")\n",
    "\n",
    "# Запись времени окончания обучения\n",
    "model_time_NN = time.time() - start_time_NN"
   ]
  },
  {
   "cell_type": "code",
   "execution_count": 59,
   "id": "e00c630a",
   "metadata": {
    "ExecuteTime": {
     "end_time": "2024-10-01T19:14:07.169490Z",
     "start_time": "2024-10-01T19:14:07.155491Z"
    },
    "scrolled": true
   },
   "outputs": [
    {
     "data": {
      "text/html": [
       "<div>\n",
       "<style scoped>\n",
       "    .dataframe tbody tr th:only-of-type {\n",
       "        vertical-align: middle;\n",
       "    }\n",
       "\n",
       "    .dataframe tbody tr th {\n",
       "        vertical-align: top;\n",
       "    }\n",
       "\n",
       "    .dataframe thead th {\n",
       "        text-align: right;\n",
       "    }\n",
       "</style>\n",
       "<table border=\"1\" class=\"dataframe\">\n",
       "  <thead>\n",
       "    <tr style=\"text-align: right;\">\n",
       "      <th></th>\n",
       "      <th>модель</th>\n",
       "      <th>время_обучения</th>\n",
       "      <th>время_предсказания</th>\n",
       "      <th>метрика_f1</th>\n",
       "      <th>метрика_roc_auc</th>\n",
       "      <th>параметры_модели</th>\n",
       "    </tr>\n",
       "  </thead>\n",
       "  <tbody>\n",
       "    <tr>\n",
       "      <th>0</th>\n",
       "      <td>Neural_Network</td>\n",
       "      <td>00:01:31.4</td>\n",
       "      <td>не задано</td>\n",
       "      <td>0.554153</td>\n",
       "      <td>0.505063</td>\n",
       "      <td>{'lr': 1e-05, 'weight_decay': 1e-05, 'use_batchnorm': True, 'use_dropout': True, 'dropout_rate': 0.5}</td>\n",
       "    </tr>\n",
       "  </tbody>\n",
       "</table>\n",
       "</div>"
      ],
      "text/plain": [
       "           модель время_обучения время_предсказания  метрика_f1  \\\n",
       "0  Neural_Network     00:01:31.4          не задано    0.554153   \n",
       "\n",
       "   метрика_roc_auc  \\\n",
       "0         0.505063   \n",
       "\n",
       "                                                                                        параметры_модели  \n",
       "0  {'lr': 1e-05, 'weight_decay': 1e-05, 'use_batchnorm': True, 'use_dropout': True, 'dropout_rate': 0.5}  "
      ]
     },
     "execution_count": 59,
     "metadata": {},
     "output_type": "execute_result"
    }
   ],
   "source": [
    "# Вызов функции для создания итогового отчета\n",
    "result_NN = create_result_dataframe(\n",
    "    best_scores={'f1': f1_NN_test, 'roc_auc': roc_auc_NN_test},\n",
    "    model_time=model_time_NN,\n",
    "    predict_time=None,\n",
    "    best_params=best_params_NN, \n",
    "    name_model='Neural_Network'\n",
    ")\n",
    "\n",
    "# Вывод результата\n",
    "result_NN"
   ]
  },
  {
   "cell_type": "markdown",
   "id": "c66e0de4",
   "metadata": {},
   "source": [
    "**ВЫВОД:**\n",
    "В этом разделе была выполнена подготовка данных, создание нейронной сети и её обучение с использованием различных гиперпараметров. В процессе была применена кросс-валидация для оценки качества модели, а также проведена оптимизация гиперпараметров с помощью библиотеки Optuna. В результате удалось найти наилучшие параметры для модели, которые были применены для её финального обучения. Итоговые результаты включают метрики качества модели на обучающей и тестовой выборках, а также были проанализированы динамики улучшений во время процесса обучения."
   ]
  },
  {
   "cell_type": "markdown",
   "id": "47848d48",
   "metadata": {},
   "source": [
    "## Анализ моделей"
   ]
  },
  {
   "cell_type": "markdown",
   "id": "c02d28d7",
   "metadata": {},
   "source": [
    "### Проверка модели на адекватность"
   ]
  },
  {
   "cell_type": "code",
   "execution_count": 60,
   "id": "4d7a8ed6",
   "metadata": {
    "ExecuteTime": {
     "end_time": "2024-10-01T19:14:07.217007Z",
     "start_time": "2024-10-01T19:14:07.171492Z"
    },
    "scrolled": true
   },
   "outputs": [
    {
     "name": "stdout",
     "output_type": "stream",
     "text": [
      "Метрики Dummy модели:\n",
      "Dummy Accuracy = 0.53\n",
      "ROC-AUC = 0.5\n",
      "F1-score = 0.0\n"
     ]
    },
    {
     "data": {
      "text/html": [
       "<div>\n",
       "<style scoped>\n",
       "    .dataframe tbody tr th:only-of-type {\n",
       "        vertical-align: middle;\n",
       "    }\n",
       "\n",
       "    .dataframe tbody tr th {\n",
       "        vertical-align: top;\n",
       "    }\n",
       "\n",
       "    .dataframe thead th {\n",
       "        text-align: right;\n",
       "    }\n",
       "</style>\n",
       "<table border=\"1\" class=\"dataframe\">\n",
       "  <thead>\n",
       "    <tr style=\"text-align: right;\">\n",
       "      <th></th>\n",
       "      <th>модель</th>\n",
       "      <th>время_обучения</th>\n",
       "      <th>время_предсказания</th>\n",
       "      <th>метрика_f1</th>\n",
       "      <th>метрика_roc_auc</th>\n",
       "      <th>параметры_модели</th>\n",
       "    </tr>\n",
       "  </thead>\n",
       "  <tbody>\n",
       "    <tr>\n",
       "      <th>0</th>\n",
       "      <td>Dummy_Classifier</td>\n",
       "      <td>не задано</td>\n",
       "      <td>не задано</td>\n",
       "      <td>0.0</td>\n",
       "      <td>0.5</td>\n",
       "      <td>{'strategy': 'prior', 'random_state': 34}</td>\n",
       "    </tr>\n",
       "  </tbody>\n",
       "</table>\n",
       "</div>"
      ],
      "text/plain": [
       "             модель время_обучения время_предсказания  метрика_f1  \\\n",
       "0  Dummy_Classifier      не задано          не задано         0.0   \n",
       "\n",
       "   метрика_roc_auc                           параметры_модели  \n",
       "0              0.5  {'strategy': 'prior', 'random_state': 34}  "
      ]
     },
     "execution_count": 60,
     "metadata": {},
     "output_type": "execute_result"
    }
   ],
   "source": [
    "# Создаем экземпляр DummyClassifier с заданным случайным состоянием\n",
    "dummy_model = DummyClassifier(random_state=RANDOM_STATE)\n",
    "\n",
    "# Обучаем DummyClassifier на тренировочных данных\n",
    "dummy_model.fit(X_train, y_train)\n",
    "\n",
    "# Предсказываем метки классов с помощью DummyClassifier на тестовых данных\n",
    "dummy_model_preds = dummy_model.predict(X_test)\n",
    "\n",
    "# Предсказываем вероятности принадлежности к положительному классу с помощью DummyClassifier на тестовых данных\n",
    "dummy_model_probas = dummy_model.predict_proba(X_test)[:,1]\n",
    "\n",
    "print('Метрики Dummy модели:')\n",
    "\n",
    "# Вычисляем точность (Accuracy) с помощью DummyClassifier на тестовых данных\n",
    "dummy_acc = accuracy_score(y_test, dummy_model_preds)\n",
    "print('Dummy Accuracy =', round(dummy_acc, 2))\n",
    "\n",
    "# Вычисляем ROC-AUC с помощью DummyClassifier на тестовых данных\n",
    "dummy_roc = roc_auc_score(y_test, dummy_model_probas)\n",
    "print('ROC-AUC =', round(dummy_roc, 2))\n",
    "\n",
    "# Вычисляем F1-меру с помощью DummyClassifier на тестовых данных\n",
    "dummy_f1 = f1_score(y_test, dummy_model_preds, pos_label=1)\n",
    "print('F1-score =', round(dummy_f1, 2))\n",
    "\n",
    "# Вызов функции для создания итогового отчета\n",
    "result_dummy = create_result_dataframe(\n",
    "    best_scores={'f1': dummy_f1, 'roc_auc': dummy_roc},\n",
    "    model_time=None,\n",
    "    predict_time=None,\n",
    "    best_params={'strategy': dummy_model.strategy, 'random_state': dummy_model.random_state},\n",
    "    name_model='Dummy_Classifier'\n",
    ")\n",
    "\n",
    "# Вывод результата\n",
    "result_dummy"
   ]
  },
  {
   "cell_type": "markdown",
   "id": "f3fb60f5",
   "metadata": {},
   "source": [
    "**ВЫВОДЫ:**\n",
    "\n",
    "Проверка модели на адекватность с использованием DummyClassifier позволяет оценить, насколько предсказательная способность выбранной модели превосходит простейшее случайное предсказание. В данном случае, для DummyClassifier были получены следующие метрики:\n",
    "\n",
    "- **Accuracy**: 0.62, что означает, что даже простое угадывание может быть правильным в 62% случаев, так как Accuracy всегда показывает долю частого класса который равен 62% от всех данных.\n",
    "- **ROC-AUC на тестовой выборке**: также 0.5, подтверждая отсутствие предсказательной способности.\n",
    "- **F1-score**: 0.0, что говорит о полном отсутствии баланса между точностью и полнотой для положительного класса, то есть модель не способна корректно идентифицировать положительные случаи.\n",
    "\n",
    "Сравнивая эти результаты с метриками лучшей модели:\n",
    "\n",
    "\n",
    "**Итог**: Сравнение показывает, что выбранная модель () значительно превосходит базовую стратегию предсказания, предложенную DummyClassifier, по всем ключевым метрикам качества. Это подтверждает адекватность и эффективность выбранной модели для решения поставленной задачи классификации. Высокие значения ROC-AUC, точности и F1-меры свидетельствуют о том, что модель обладает высокой предсказательной способностью и способна эффективно различать классы, что делает ее значительно лучшим выбором по сравнению с простым угадыванием или случайным предсказанием."
   ]
  },
  {
   "cell_type": "markdown",
   "id": "3a9fa5a7",
   "metadata": {},
   "source": [
    "### Получение результатов"
   ]
  },
  {
   "cell_type": "code",
   "execution_count": 61,
   "id": "6068c6ad",
   "metadata": {
    "ExecuteTime": {
     "end_time": "2024-10-01T19:14:07.248525Z",
     "start_time": "2024-10-01T19:14:07.224007Z"
    }
   },
   "outputs": [
    {
     "data": {
      "text/html": [
       "<div>\n",
       "<style scoped>\n",
       "    .dataframe tbody tr th:only-of-type {\n",
       "        vertical-align: middle;\n",
       "    }\n",
       "\n",
       "    .dataframe tbody tr th {\n",
       "        vertical-align: top;\n",
       "    }\n",
       "\n",
       "    .dataframe thead th {\n",
       "        text-align: right;\n",
       "    }\n",
       "</style>\n",
       "<table border=\"1\" class=\"dataframe\">\n",
       "  <thead>\n",
       "    <tr style=\"text-align: right;\">\n",
       "      <th></th>\n",
       "      <th>модель</th>\n",
       "      <th>время_обучения</th>\n",
       "      <th>время_предсказания</th>\n",
       "      <th>метрика_f1</th>\n",
       "      <th>метрика_roc_auc</th>\n",
       "      <th>параметры_модели</th>\n",
       "    </tr>\n",
       "  </thead>\n",
       "  <tbody>\n",
       "    <tr>\n",
       "      <th>0</th>\n",
       "      <td>Catboost</td>\n",
       "      <td>00:02:27.6</td>\n",
       "      <td>00:00:00.1</td>\n",
       "      <td>0.617116</td>\n",
       "      <td>0.725340</td>\n",
       "      <td>{'learning_rate': 0.1, 'depth': 8, 'l2_leaf_reg': 1}</td>\n",
       "    </tr>\n",
       "    <tr>\n",
       "      <th>1</th>\n",
       "      <td>LightGBM</td>\n",
       "      <td>00:00:01.9</td>\n",
       "      <td>00:00:00.6</td>\n",
       "      <td>0.563973</td>\n",
       "      <td>0.662087</td>\n",
       "      <td>{'learning_rate': 0.07402335175871755, 'num_leaves': 90, 'n_estimators': 828}</td>\n",
       "    </tr>\n",
       "    <tr>\n",
       "      <th>2</th>\n",
       "      <td>Neural_Network</td>\n",
       "      <td>00:01:31.4</td>\n",
       "      <td>не задано</td>\n",
       "      <td>0.554153</td>\n",
       "      <td>0.505063</td>\n",
       "      <td>{'lr': 1e-05, 'weight_decay': 1e-05, 'use_batchnorm': True, 'use_dropout': True, 'dropout_rate': 0.5}</td>\n",
       "    </tr>\n",
       "    <tr>\n",
       "      <th>3</th>\n",
       "      <td>DecisionTree</td>\n",
       "      <td>00:00:00.4</td>\n",
       "      <td>00:00:00.2</td>\n",
       "      <td>0.526773</td>\n",
       "      <td>0.623785</td>\n",
       "      <td>{'preprocessor__num': StandardScaler(), 'models__max_features': 11, 'models__max_depth': 14}</td>\n",
       "    </tr>\n",
       "    <tr>\n",
       "      <th>4</th>\n",
       "      <td>Dummy_Classifier</td>\n",
       "      <td>не задано</td>\n",
       "      <td>не задано</td>\n",
       "      <td>0.000000</td>\n",
       "      <td>0.500000</td>\n",
       "      <td>{'strategy': 'prior', 'random_state': 34}</td>\n",
       "    </tr>\n",
       "  </tbody>\n",
       "</table>\n",
       "</div>"
      ],
      "text/plain": [
       "             модель время_обучения время_предсказания  метрика_f1  \\\n",
       "0          Catboost     00:02:27.6         00:00:00.1    0.617116   \n",
       "1          LightGBM     00:00:01.9         00:00:00.6    0.563973   \n",
       "2    Neural_Network     00:01:31.4          не задано    0.554153   \n",
       "3      DecisionTree     00:00:00.4         00:00:00.2    0.526773   \n",
       "4  Dummy_Classifier      не задано          не задано    0.000000   \n",
       "\n",
       "   метрика_roc_auc  \\\n",
       "0         0.725340   \n",
       "1         0.662087   \n",
       "2         0.505063   \n",
       "3         0.623785   \n",
       "4         0.500000   \n",
       "\n",
       "                                                                                        параметры_модели  \n",
       "0                                                   {'learning_rate': 0.1, 'depth': 8, 'l2_leaf_reg': 1}  \n",
       "1                          {'learning_rate': 0.07402335175871755, 'num_leaves': 90, 'n_estimators': 828}  \n",
       "2  {'lr': 1e-05, 'weight_decay': 1e-05, 'use_batchnorm': True, 'use_dropout': True, 'dropout_rate': 0.5}  \n",
       "3           {'preprocessor__num': StandardScaler(), 'models__max_features': 11, 'models__max_depth': 14}  \n",
       "4                                                              {'strategy': 'prior', 'random_state': 34}  "
      ]
     },
     "execution_count": 61,
     "metadata": {},
     "output_type": "execute_result"
    }
   ],
   "source": [
    "result_all = pd.concat([result_catboost, result_LGBM, result_NN, result_tree, result_dummy], ignore_index=True)\n",
    "result_all"
   ]
  },
  {
   "cell_type": "markdown",
   "id": "9ee2e2c7",
   "metadata": {},
   "source": [
    "**ВЫВОД:** Анализ результатов показывает, что базовая модель DummyClassifier демонстрирует низкую предсказательную способность, подтверждая необходимость использования более сложных моделей для решения задачи классификации. Сравнение разных моделей выявило, что наилучшие результаты показала модель CatBoost, которая значительно превосходит DummyClassifier и другие алгоритмы по всем основным метрикам. Это подтверждает ее высокую предсказательную способность и эффективность в задаче классификации. Модели LightGBM и DecisionTree также показали хорошие результаты, но не достигли уровня CatBoost.\n",
    "\n",
    "Нейронная сеть продемонстрировала средние показатели, уступая ансамблевым методам. Однако, чтобы добиться более высоких результатов от нейронной сети, её необходимо тщательно настраивать, что требует дополнительного времени и ресурсов, которые в рамках данного проекта ограничены."
   ]
  },
  {
   "cell_type": "markdown",
   "id": "1d6be549",
   "metadata": {},
   "source": [
    "### Матрица ошибок"
   ]
  },
  {
   "cell_type": "markdown",
   "id": "f658b157",
   "metadata": {},
   "source": [
    "Построим матрицу ошибок, чтобы наглядно оценить, насколько модель предсказывает истинные и ложные положительные и отрицательные значения."
   ]
  },
  {
   "cell_type": "code",
   "execution_count": 62,
   "id": "00af14f7",
   "metadata": {
    "ExecuteTime": {
     "end_time": "2024-10-01T19:14:07.453202Z",
     "start_time": "2024-10-01T19:14:07.249525Z"
    }
   },
   "outputs": [
    {
     "data": {
      "image/png": "[encoded data removed]",
      "text/plain": [
       "<Figure size 640x480 with 2 Axes>"
      ]
     },
     "metadata": {},
     "output_type": "display_data"
    }
   ],
   "source": [
    "# Получаем предсказания модели CatBoost\n",
    "y_pred_catboost = best_model_catboost.predict(X_test)\n",
    "\n",
    "# Строим матрицу ошибок\n",
    "conf_matrix = confusion_matrix(y_test, y_pred_catboost)\n",
    "\n",
    "# Визуализация матрицы ошибок\n",
    "disp = ConfusionMatrixDisplay(confusion_matrix=conf_matrix)\n",
    "disp.plot()\n",
    "plt.grid(False)\n",
    "plt.show()"
   ]
  },
  {
   "cell_type": "markdown",
   "id": "c462c8d2",
   "metadata": {},
   "source": [
    "**ВЫВОД:**\n",
    "\n",
    "Для представленной матрицы ошибок:\n",
    "\n",
    "- **Точность (Precision)** для класса 1 примерно равна 0.68, что указывает на долю истинно положительных результатов относительно всех положительных результатов, определённых моделью.\n",
    "  \n",
    "- **Полнота (Recall)** для класса 1 примерно равна 0.57, что отражает способность модели обнаруживать истинные события класса 1.\n",
    "\n",
    "Возможно необходимо будет применить изменение порога классификации для улучшения общей производительности модели."
   ]
  },
  {
   "cell_type": "markdown",
   "id": "9523c423",
   "metadata": {},
   "source": [
    "### График полноты и точности"
   ]
  },
  {
   "cell_type": "markdown",
   "id": "6ee3f70d",
   "metadata": {},
   "source": [
    "Построим график зависимости полноты (recall) и точности (precision), чтобы понять баланс между верно предсказанными положительными случаями и ложными срабатываниями."
   ]
  },
  {
   "cell_type": "code",
   "execution_count": 64,
   "id": "8cb20710",
   "metadata": {
    "ExecuteTime": {
     "end_time": "2024-10-01T19:20:10.049296Z",
     "start_time": "2024-10-01T19:20:09.852952Z"
    }
   },
   "outputs": [
    {
     "data": {
      "image/png": "[encoded data removed]",
      "text/plain": [
       "<Figure size 640x480 with 1 Axes>"
      ]
     },
     "metadata": {},
     "output_type": "display_data"
    }
   ],
   "source": [
    "# Получаем вероятности для положительного класса\n",
    "y_pred_proba_catboost = best_model_catboost.predict_proba(X_test)[:, 1]\n",
    "\n",
    "# Строим график precision-recall\n",
    "precision, recall, thresholds = precision_recall_curve(y_test, y_pred_proba_catboost)\n",
    "plt.plot(recall, precision)\n",
    "plt.xlabel('Recall (Полнота)')\n",
    "plt.ylabel('Precision (Точность)')\n",
    "plt.title('График зависимости полноты и точности')\n",
    "plt.show()"
   ]
  },
  {
   "cell_type": "markdown",
   "id": "96c5a161",
   "metadata": {},
   "source": [
    "**ВЫВОД:** \n",
    "Представленный график Precision-Recall демонстрирует, что при увеличении полноты (Recall) точность (Precision) снижается, что является обычным явлением для большинства классификаторов. Это поведение говорит о том, что при стремлении к классификации как можно большего числа положительных случаев (увеличение Recall), модель начинает чаще ошибаться, включая в положительные примеры те, которые таковыми не являются (снижение Precision).\n",
    "\n",
    "Такой эффект обычно свидетельствует о том, что модель хорошо работает на более ясно выраженных случаях, но испытывает трудности с более сложными или неоднозначными случаями, которые сложно однозначно классифицировать"
   ]
  },
  {
   "cell_type": "markdown",
   "id": "892b5857",
   "metadata": {},
   "source": [
    "### Анализ важности факторов"
   ]
  },
  {
   "cell_type": "markdown",
   "id": "de0fa74c",
   "metadata": {},
   "source": [
    "Модель CatBoost имеет встроенные инструменты для оценки важности факторов. Выведем важные признаки, влияющие на результат предсказаний."
   ]
  },
  {
   "cell_type": "code",
   "execution_count": 65,
   "id": "fbd837b0",
   "metadata": {
    "ExecuteTime": {
     "end_time": "2024-10-01T19:20:14.673785Z",
     "start_time": "2024-10-01T19:20:14.469738Z"
    },
    "scrolled": false
   },
   "outputs": [
    {
     "data": {
      "image/png": "[encoded data removed]",
      "text/plain": [
       "<Figure size 640x480 with 1 Axes>"
      ]
     },
     "metadata": {},
     "output_type": "display_data"
    }
   ],
   "source": [
    "# Оценка важности признаков модели CatBoost\n",
    "feature_importances = best_model_catboost.get_feature_importance(prettified=True)\n",
    "\n",
    "# Визуализация важности признаков\n",
    "feature_importances.plot(kind='barh', x='Feature Id', y='Importances', legend=False)\n",
    "plt.xlabel('Важность')\n",
    "plt.ylabel('Признаки')\n",
    "plt.title('Важность факторов в модели CatBoost')\n",
    "plt.show()"
   ]
  },
  {
   "cell_type": "code",
   "execution_count": 87,
   "id": "3df58998",
   "metadata": {
    "ExecuteTime": {
     "end_time": "2024-10-01T19:39:36.081935Z",
     "start_time": "2024-10-01T19:39:36.069887Z"
    },
    "scrolled": true
   },
   "outputs": [
    {
     "data": {
      "text/plain": [
       "Index(['day', 'weekday', 'time', 'weather', 'road_surface', 'lighting',\n",
       "       'main_road_dist', 'location_type', 'road_condition', 'vehicle_type',\n",
       "       'vehicle_transmission', 'insurance_premium', 'cellphone_in_use',\n",
       "       'vehicle_age_category'],\n",
       "      dtype='object')"
      ]
     },
     "execution_count": 87,
     "metadata": {},
     "output_type": "execute_result"
    }
   ],
   "source": [
    "X_train.columns"
   ]
  },
  {
   "cell_type": "code",
   "execution_count": null,
   "id": "a9a3d2a8",
   "metadata": {},
   "outputs": [],
   "source": [
    "['day', 'weekday', 'time', 'weather', 'road_surface', 'lighting',\n",
    "       'main_road_dist', 'location_type', 'vehicle_type',\n",
    "       'insurance_premium', \n",
    "       'vehicle_age_category']"
   ]
  },
  {
   "cell_type": "markdown",
   "id": "f73940f3",
   "metadata": {},
   "source": [
    "Проанализируем важность факторов через библиотеку `shap`"
   ]
  },
  {
   "cell_type": "code",
   "execution_count": 66,
   "id": "9281aa33",
   "metadata": {
    "ExecuteTime": {
     "end_time": "2024-10-01T19:20:26.716810Z",
     "start_time": "2024-10-01T19:20:17.899651Z"
    }
   },
   "outputs": [],
   "source": [
    "# Создаем объяснитель для модели CatBoost\n",
    "explainer = shap.TreeExplainer(best_model_catboost)\n",
    "\n",
    "# Получаем SHAP значения для тестового набора данных\n",
    "shap_values = explainer.shap_values(X_test)"
   ]
  },
  {
   "cell_type": "markdown",
   "id": "50b3693a",
   "metadata": {},
   "source": [
    "`Summary Plot (график суммарной важности признаков)`\n",
    "\n",
    "Этот график показывает общее влияние каждого признака на предсказания модели. Чем выше точка по вертикальной оси, тем важнее признак. Цвет точек отражает значение признака (от низкого к высокому)."
   ]
  },
  {
   "cell_type": "code",
   "execution_count": 75,
   "id": "300b8a4f",
   "metadata": {
    "ExecuteTime": {
     "end_time": "2024-10-01T19:25:22.017809Z",
     "start_time": "2024-10-01T19:25:20.309409Z"
    }
   },
   "outputs": [
    {
     "data": {
      "image/png": "[encoded data removed]",
      "text/plain": [
       "<Figure size 800x710 with 2 Axes>"
      ]
     },
     "metadata": {},
     "output_type": "display_data"
    }
   ],
   "source": [
    "# Строим график суммарной важности признаков\n",
    "fig, ax = plt.subplots()  # Явно создаем фигуру и ось\n",
    "\n",
    "# Строим SHAP summary plot\n",
    "shap.summary_plot(shap_values, X_test, feature_names=X_test.columns, show=False)  # Отключаем автоматический показ графика\n",
    "\n",
    "# Доступ к текущей фигуре и оси\n",
    "ax = plt.gca()\n",
    "\n",
    "# Настройки для осей и заголовков\n",
    "ax.tick_params(labelsize=14)\n",
    "ax.set_xlabel(\"SHAP значение\", fontsize=12)\n",
    "ax.set_ylabel(\"Признаки\", fontsize=12)\n",
    "ax.set_title('SHAP value значимости признаков', fontsize=16)\n",
    "\n",
    "# Настройка цветовой шкалы\n",
    "cb_ax = fig.axes[1]  # Доступ к цветовой шкале (второй оси на графике)\n",
    "cb_ax.set_ylabel(\"Шкала значимости\", fontsize=12)\n",
    "\n",
    "plt.show()"
   ]
  },
  {
   "cell_type": "markdown",
   "id": "2c05fdb5",
   "metadata": {},
   "source": [
    "`Bar Plot (столбчатая диаграмма важности признаков)`\n",
    "\n",
    "Эта диаграмма показывает среднее абсолютное значение SHAP-значений для каждого признака, что позволяет оценить их важность."
   ]
  },
  {
   "cell_type": "code",
   "execution_count": 76,
   "id": "d2055788",
   "metadata": {
    "ExecuteTime": {
     "end_time": "2024-10-01T19:26:03.014790Z",
     "start_time": "2024-10-01T19:26:02.792790Z"
    }
   },
   "outputs": [
    {
     "data": {
      "image/png": "[encoded data removed]",
      "text/plain": [
       "<Figure size 800x710 with 1 Axes>"
      ]
     },
     "metadata": {},
     "output_type": "display_data"
    }
   ],
   "source": [
    "# Строим столбчатую диаграмму важности признаков\n",
    "fig, ax = plt.subplots()  # Явно создаем фигуру и ось\n",
    "\n",
    "# Строим SHAP summary plot в виде столбчатой диаграммы\n",
    "shap.summary_plot(shap_values, X_test, feature_names=X_test.columns, plot_type=\"bar\", show=False)  # Отключаем автоматический показ графика\n",
    "\n",
    "# Доступ к текущей фигуре и оси\n",
    "ax = plt.gca()\n",
    "\n",
    "# Настройки для осей и заголовков\n",
    "ax.tick_params(labelsize=14)\n",
    "ax.set_xlabel(\"SHAP значение\", fontsize=12)\n",
    "ax.set_ylabel(\"Признаки\", fontsize=12)\n",
    "ax.set_title('SHAP value важности признаков (столбчатая диаграмма)', fontsize=16)\n",
    "\n",
    "plt.show()"
   ]
  },
  {
   "cell_type": "markdown",
   "id": "b72266fd",
   "metadata": {},
   "source": [
    "**ВЫВОД:**\n",
    "Анализ значимости признаков с помощью SHAP показывает, что наибольшее влияние на вероятность ДТП оказывает фактор `insurance_premium` — страховой взнос. Это говорит о том, что финансовые условия страхования могут быть связаны с риском и поведением водителей. Высокие значения SHAP для `insurance_premium` могут указывать на то, что водители с более высокими страховыми взносами могут быть более осторожными или наоборот, взносы выше у тех, кто чаще попадает в аварии.\n",
    "\n",
    "На втором месте по значимости находится `location_type`, что подчеркивает важность географического контекста происшествия, а также времени суток (`time`), что подтверждает общее понимание того, что некоторые временные периоды более склонны к риску ДТП из-за увеличенного трафика или плохой видимости.\n",
    "\n",
    "При этом различие в распределении значимости признаков в разных анализах могут быть обусловлены, что разные методы оценки придают разный вес аспектам данных. Например, встроенные инструменты модели CatBoost сосредоточен на том, как признаки влияют на чистоту разделения в узлах деревьев, в то время как SHAP занимается оценкой вклада каждого признака в предсказание для каждого наблюдения. Это может приводить к разной интерпретации важности.\n",
    "\n",
    "Эти данные могут быть использованы для разработки мер предосторожности и политик, направленных на снижение аварийности, включая дифференцированные страховые тарифы или улучшенное управление трафиком в определенные часы и на определенных типах дорог."
   ]
  },
  {
   "cell_type": "markdown",
   "id": "588f7523",
   "metadata": {},
   "source": [
    "### Дополнительное исследование важного фактора"
   ]
  },
  {
   "cell_type": "markdown",
   "id": "e2f78116",
   "metadata": {},
   "source": [
    "Важным фактором оказался `сумма страхования (insurance_premium)`. Построим график зависимости этого фактора от вероятности ДТП."
   ]
  },
  {
   "cell_type": "code",
   "execution_count": 69,
   "id": "1b7a608b",
   "metadata": {
    "ExecuteTime": {
     "end_time": "2024-10-01T19:20:38.653216Z",
     "start_time": "2024-10-01T19:20:38.444132Z"
    },
    "scrolled": false
   },
   "outputs": [
    {
     "data": {
      "image/png": "[encoded data removed]",
      "text/plain": [
       "<Figure size 640x480 with 1 Axes>"
      ]
     },
     "metadata": {},
     "output_type": "display_data"
    }
   ],
   "source": [
    "# График зависимости расстояния до главной дороги от вероятности ДТП\n",
    "plt.scatter(X_test['insurance_premium'], y_pred_proba_catboost)\n",
    "plt.xlabel('Сумма страхования')\n",
    "plt.ylabel('Вероятность ДТП')\n",
    "plt.title('Зависимость вероятности ДТП от суммы страхования')\n",
    "plt.show()"
   ]
  },
  {
   "cell_type": "markdown",
   "id": "d65e772d",
   "metadata": {},
   "source": [
    "Построим график зависимости SHAP-значений от insurance_premium"
   ]
  },
  {
   "cell_type": "code",
   "execution_count": 77,
   "id": "e167248f",
   "metadata": {
    "ExecuteTime": {
     "end_time": "2024-10-01T19:26:34.818821Z",
     "start_time": "2024-10-01T19:26:33.959412Z"
    }
   },
   "outputs": [
    {
     "data": {
      "image/png": "[encoded data removed]",
      "text/plain": [
       "<Figure size 750x500 with 2 Axes>"
      ]
     },
     "metadata": {},
     "output_type": "display_data"
    }
   ],
   "source": [
    "# Строим график зависимости для признака 'insurance_premium'\n",
    "shap.dependence_plot('insurance_premium', shap_values, X_test, show=False)  # Отключаем автоматический показ графика\n",
    "\n",
    "# Доступ к текущей фигуре и осям\n",
    "fig, ax = plt.gcf(), plt.gca()\n",
    "\n",
    "# Настройки для осей и заголовков\n",
    "ax.tick_params(labelsize=14)\n",
    "ax.set_xlabel(\"Значение признака 'insurance_premium'\", fontsize=12)\n",
    "ax.set_ylabel(\"SHAP значение\", fontsize=12)\n",
    "ax.set_title(\"Зависимость SHAP значений от 'insurance_premium'\", fontsize=16)\n",
    "\n",
    "plt.show()"
   ]
  },
  {
   "cell_type": "markdown",
   "id": "bd6eb6a1",
   "metadata": {},
   "source": [
    "График зависимости показывает, как значение признака insurance_premium влияет на предсказание модели (вероятность ДТП). Каждая точка на графике представляет одно наблюдение (ДТП или отсутствие ДТП), а цвет точек может указывать на влияние других признаков, если нужно дополнительно изучить взаимосвязь."
   ]
  },
  {
   "cell_type": "markdown",
   "id": "cb859d59",
   "metadata": {},
   "source": [
    "**ВЫВОД:**\n",
    "Анализ данных и графиков по признаку `insurance_premium` показывает, что этот фактор имеет интересную зависимость с вероятностью ДТП. На втором графике SHAP значений видно, что для очень маленьких и очень больших значений страховых премий влияние на предсказание модели наиболее значительное. В среднем диапазоне значений страховой премии влияние на предсказание стабилизируется, что может свидетельствовать о меньшем риске ДТП для автомобилей со средними страховыми взносами.\n",
    "\n",
    "На графике зависимости вероятности ДТП от суммы страхования наблюдается, что для большинства значений премии вероятность ДТП остаётся относительно постоянной, за исключением экстремально малых значений премии, где вероятность резко возрастает. Это может указывать на наличие страховых полисов с минимальной стоимостью, возможно, покрывающих автомобили, которые чаще попадают в аварии из-за своего технического состояния или стиля вождения владельцев."
   ]
  },
  {
   "cell_type": "markdown",
   "id": "e679aed4",
   "metadata": {},
   "source": [
    "**ОБЩИЙ ВЫВОД ПО РАЗДЕЛУ 8 \"АНАЛИЗ МОДЕЛЕЙ\":**\n",
    "\n",
    "В разделе 8 был проведен комплексный анализ различных моделей с целью оценить их адекватность, предсказательную способность и влияние различных факторов на вероятность дорожно-транспортных происшествий (ДТП). Исследование началось с проверки адекватности моделей, где базовая `DummyClassifier` продемонстрировала очень низкие показатели, подчеркнув важность использования более сложных алгоритмов для анализа данных.\n",
    "\n",
    "Сравнение различных моделей показало, что `CatBoost` обеспечивает наилучшие результаты, выделяясь среди прочих моделей высокими значениями метрик `F1` и `ROC-AU`C. Это указывает на высокую эффективность `CatBoost` в задачах классификации, где требуется учет множества факторов и обработка категориальных данных.\n",
    "\n",
    "Дополнительный анализ важности признаков с использованием `SHAP` и встроенных методов `CatBoost` позволил выявить ключевые факторы, влияющие на вероятность ДТП. Признак `insurance_premium` (страховая премия) оказался наиболее значимым, что подчеркивает связь финансовых условий страхования с рисками на дорогах.\n",
    "\n",
    "Дополнительное исследование этого фактора показало интересные закономерности: наибольшее влияние на вероятность ДТП наблюдается у очень низких и высоких страховых премий, что может быть связано с различными аспектами поведения водителей и технического состояния транспортных средств."
   ]
  },
  {
   "cell_type": "markdown",
   "id": "ec1612f1",
   "metadata": {},
   "source": [
    "## Обучение лучшей модели на основе наиболее важных признаках"
   ]
  },
  {
   "cell_type": "markdown",
   "id": "2db48e0a",
   "metadata": {},
   "source": [
    "Исходя из предыдущих данных, выберем, например, топ-5 признаков."
   ]
  },
  {
   "cell_type": "code",
   "execution_count": 94,
   "id": "adb689e6",
   "metadata": {
    "ExecuteTime": {
     "end_time": "2024-10-01T19:51:51.994188Z",
     "start_time": "2024-10-01T19:51:51.974685Z"
    }
   },
   "outputs": [],
   "source": [
    "# Список наиболее важных признаков\n",
    "top_features = [\n",
    "    'day', \n",
    "    'weekday', \n",
    "    'time', \n",
    "    'weather', \n",
    "    'lighting',\n",
    "    'main_road_dist', \n",
    "    'location_type', \n",
    "    'vehicle_type',\n",
    "    'insurance_premium', \n",
    "    'vehicle_age_category'\n",
    "]\n",
    "top_cat_features = [\n",
    "    'day', \n",
    "    'weekday', \n",
    "    'time', \n",
    "    'weather', \n",
    "    'lighting',\n",
    "    'location_type', \n",
    "    'vehicle_type',\n",
    "    'vehicle_age_category'\n",
    "]"
   ]
  },
  {
   "cell_type": "code",
   "execution_count": 95,
   "id": "f05efa74",
   "metadata": {
    "ExecuteTime": {
     "end_time": "2024-10-01T19:51:53.053202Z",
     "start_time": "2024-10-01T19:51:53.043693Z"
    }
   },
   "outputs": [],
   "source": [
    "X_train_top = X_train[top_features]\n",
    "X_test_top = X_test[top_features]"
   ]
  },
  {
   "cell_type": "code",
   "execution_count": 96,
   "id": "b4d5dbd0",
   "metadata": {
    "ExecuteTime": {
     "end_time": "2024-10-01T19:54:24.778441Z",
     "start_time": "2024-10-01T19:52:17.161938Z"
    }
   },
   "outputs": [
    {
     "data": {
      "application/vnd.jupyter.widget-view+json": {
       "model_id": "f17c0fe13e7a48bc823d92a164c14805",
       "version_major": 2,
       "version_minor": 0
      },
      "text/plain": [
       "MetricVisualizer(layout=Layout(align_self='stretch', height='500px'))"
      ]
     },
     "metadata": {},
     "output_type": "display_data"
    },
    {
     "name": "stdout",
     "output_type": "stream",
     "text": [
      "Метрика F1 с ограниченным набором признаков: 0.5535695096177956\n",
      "Метрика ROC AUC с ограниченным набором признаков: 0.6606230702416317\n",
      "CPU times: total: 1min 13s\n",
      "Wall time: 2min 7s\n"
     ]
    }
   ],
   "source": [
    "%%time\n",
    "\n",
    "# Создаем модель CatBoostClassifier с лучшими параметрами\n",
    "best_model_catboost_top = CatBoostClassifier(**best_params_catboost, random_seed=RANDOM_STATE)\n",
    "\n",
    "# Обучаем модель на тренировочных данных с указанием категориальных признаков\n",
    "best_model_catboost_top.fit(X_train_top, y_train, cat_features=top_cat_features, verbose=False, plot=True)\n",
    "\n",
    "# Оцениваем качество модели на тестовых данных\n",
    "y_pred_top = best_model_catboost_top.predict(X_test_top)\n",
    "f1_score_top = f1_score(y_test, y_pred_top)\n",
    "roc_auc_top = roc_auc_score(y_test, best_model_catboost_top.predict_proba(X_test_top)[:, 1])\n",
    "\n",
    "print(f\"Метрика F1 с ограниченным набором признаков: {f1_score_top}\")\n",
    "print(f\"Метрика ROC AUC с ограниченным набором признаков: {roc_auc_top}\")"
   ]
  },
  {
   "cell_type": "markdown",
   "id": "2b362c67",
   "metadata": {},
   "source": [
    "**ВЫВОД:** Отбор признаков к сожлению не привел к росту метрик."
   ]
  },
  {
   "cell_type": "markdown",
   "id": "ba8f6a2b",
   "metadata": {},
   "source": [
    "# Итоговый вывод"
   ]
  },
  {
   "cell_type": "code",
   "execution_count": null,
   "id": "8a589a20",
   "metadata": {},
   "outputs": [],
   "source": []
  },
  {
   "cell_type": "markdown",
   "id": "750d638e",
   "metadata": {},
   "source": [
    "## И"
   ]
  },
  {
   "cell_type": "markdown",
   "id": "63ec1db3",
   "metadata": {},
   "source": [
    "Под риском понимается вероятность ДТП с любым повреждением транспортного средства.\n",
    "В модели нельзя использовать те признаки которые могут вызвать утечку целевой переменной, а именно PRIMARY_COLL_FACTOR, COLLISION_DAMAGE, TYPE_OF_COLLISION, MOTOR_VEHICLE_INVOLVED_WITH, INSURANCE_PREMIUM (не известно о чем идет речь, либо о сумме страховки выплаченой по факту аварии или на какую сумму застрахован участник)\n",
    "\n",
    "Ряд таких признаков кототые были определены по факту происшествия PCF_VIOLATION_CATEGORY, они должны относится к истории водителя (имеется ли у него факты нарушений и т.д.)"
   ]
  },
  {
   "cell_type": "code",
   "execution_count": null,
   "id": "12ff5d08",
   "metadata": {
    "ExecuteTime": {
     "end_time": "2024-10-01T19:14:07.520721Z",
     "start_time": "2024-10-01T19:14:07.520721Z"
    }
   },
   "outputs": [],
   "source": [
    "\"\"\"# Рассчитываем метрики (например, F1 и ROC AUC на тестовой выборке)\n",
    "y_pred_LGBM = best_model_LGBM.predict(X_test)\n",
    "f1_score_LGBM = f1_score(y_test, y_pred_LGBM)\n",
    "y_pred_proba_LGBM = best_model_LGBM.predict_proba(X_test)[:, 1]\n",
    "roc_auc_LGBM = roc_auc_score(y_test, y_pred_proba_LGBM)\n",
    "\n",
    "# Обернем метрики в словарь\n",
    "best_scores_LGBM = {\n",
    "    'f1': f1_score_LGBM,\n",
    "    'roc_auc': roc_auc_LGBM,\n",
    "}\n",
    "\n",
    "# Вызов функции для создания итогового отчета\n",
    "result_LGBM = create_result_dataframe(\n",
    "    best_scores=best_scores_LGBM,\n",
    "    model_time=model_time_LGBM,\n",
    "    predict_time=predict_time_LGBM,\n",
    "    best_params=best_params_LGBM,  # Параметры модели\n",
    "    name_model='LightGBM'\n",
    ")\n",
    "\n",
    "# Вывод результата\n",
    "result_LGBM\"\"\""
   ]
  },
  {
   "cell_type": "code",
   "execution_count": null,
   "id": "cb37d416",
   "metadata": {
    "ExecuteTime": {
     "end_time": "2024-10-01T19:14:07.522721Z",
     "start_time": "2024-10-01T19:14:07.522721Z"
    }
   },
   "outputs": [],
   "source": [
    "\"\"\"# Преобразуем все столбцы с типом object в категориальные значения, используя .loc\n",
    "for column in X_train.select_dtypes(include='object').columns:\n",
    "    X_train.loc[:, column] = X_train.loc[:, column].astype('category')\n",
    "    X_test.loc[:, column] = X_test.loc[:, column].astype('category')\"\"\""
   ]
  },
  {
   "cell_type": "code",
   "execution_count": null,
   "id": "92bc5704",
   "metadata": {
    "ExecuteTime": {
     "end_time": "2024-10-01T19:14:07.523720Z",
     "start_time": "2024-10-01T19:14:07.523720Z"
    }
   },
   "outputs": [],
   "source": [
    "\"\"\"# Преобразуем данные для построения stacked bar chart\n",
    "df_pivot = df_collision_factor_all.pivot_table(\n",
    "    index='road_condition_combined',\n",
    "    columns='damage_severity',\n",
    "    values='total_collisions',\n",
    "    aggfunc='sum'\n",
    ")\n",
    "\n",
    "# Строим stacked bar chart\n",
    "df_pivot.plot(kind='bar', stacked=True, figsize=(14, 6), colormap='Paired')\n",
    "\n",
    "# Настройки графика\n",
    "plt.title('Анализ серьёзности повреждений в зависимости от состояния дороги', fontsize=16, fontweight='bold')\n",
    "plt.xlabel('Состояние дороги (поверхность и условия)', fontsize=14)\n",
    "plt.ylabel('Количество ДТП', fontsize=14)\n",
    "plt.xticks(rotation=90)\n",
    "plt.legend(title='Серьёзность повреждений')\n",
    "plt.grid(True, linestyle='--', alpha=0.7)\n",
    "plt.tight_layout()  # Для предотвращения наложения меток\n",
    "plt.show()\"\"\""
   ]
  },
  {
   "cell_type": "code",
   "execution_count": null,
   "id": "c118ead8",
   "metadata": {},
   "outputs": [],
   "source": []
  },
  {
   "cell_type": "code",
   "execution_count": null,
   "id": "b7d5ac32",
   "metadata": {},
   "outputs": [],
   "source": []
  },
  {
   "cell_type": "code",
   "execution_count": null,
   "id": "f28faf00",
   "metadata": {},
   "outputs": [],
   "source": []
  },
  {
   "cell_type": "code",
   "execution_count": null,
   "id": "d5eda4da",
   "metadata": {},
   "outputs": [],
   "source": []
  },
  {
   "cell_type": "code",
   "execution_count": null,
   "id": "846d48be",
   "metadata": {},
   "outputs": [],
   "source": []
  },
  {
   "cell_type": "code",
   "execution_count": null,
   "id": "baa2cae5",
   "metadata": {},
   "outputs": [],
   "source": []
  },
  {
   "cell_type": "markdown",
   "id": "ca4e0306",
   "metadata": {},
   "source": [
    "## Лишнее"
   ]
  },
  {
   "cell_type": "markdown",
   "id": "74baa5a0",
   "metadata": {
    "ExecuteTime": {
     "end_time": "2024-09-19T21:09:32.692312Z",
     "start_time": "2024-09-19T21:09:18.471933Z"
    },
    "scrolled": false
   },
   "source": [
    "\n",
    "**Общий вывод**:\n",
    "- **Профилактика**: Анализ подчёркивает необходимость особого внимания к состоянию дорожного покрытия и соблюдению скоростного режима, особенно в неблагоприятных условиях. Это подтверждает значимость использования адаптивных систем безопасности и информирования водителей о текущих дорожных условиях.\n",
    "- **Обучение водителей**: Повышение осведомлённости водителей о рисках, связанных с изменением дорожных условий, может способствовать снижению числа ДТП и тяжести происшествий.\n",
    "- **Инфраструктура**: Важность внедрения дорожных знаков и сигналов, особенно в местах проведения строительных работ, для обеспечения безопасности и снижения риска ДТП.\n"
   ]
  },
  {
   "cell_type": "markdown",
   "id": "751b7179",
   "metadata": {},
   "source": [
    "## Часть неиспользованного кода"
   ]
  },
  {
   "cell_type": "markdown",
   "id": "9204e986",
   "metadata": {
    "ExecuteTime": {
     "end_time": "2024-09-17T12:36:43.057065Z",
     "start_time": "2024-09-17T12:36:43.043564Z"
    }
   },
   "source": [
    "\"\"\"# 7. Проверка на явные дубликаты для всех строк\n",
    "print(\"\\nПроверка на явные дубликаты в таблице collisions:\")\n",
    "\n",
    "# Получаем все столбцы из таблицы\n",
    "columns = get_columns('collisions')\n",
    "\n",
    "# Запрос для поиска явных дубликатов по всем столбцам\n",
    "columns_list = ', '.join(columns)  # Преобразуем список столбцов в строку для SQL-запроса\n",
    "query = f\"\"\"\n",
    "SELECT \n",
    "    COUNT(*) AS total_rows, \n",
    "    (SELECT COUNT(*) FROM (SELECT DISTINCT {columns_list} FROM collisions) AS unique_rows) AS unique_rows, \n",
    "    COUNT(*) - (SELECT COUNT(*) FROM (SELECT DISTINCT {columns_list} FROM collisions) AS unique_rows) AS duplicate_rows\n",
    "FROM collisions;\n",
    "\"\"\"\n",
    "\n",
    "# Выполнение запроса и вывод результатов\n",
    "duplicates_result = execute_query(query)\n",
    "display(duplicates_result)\"\"\"\n"
   ]
  },
  {
   "cell_type": "markdown",
   "id": "1e7fc841",
   "metadata": {},
   "source": [
    "# 6. Уникальные значения для всех категориальных столбцов\n",
    "print(\"\\nУникальные значения для категориальных столбцов таблицы collisions:\")\n",
    "\n",
    "# Получаем все категориальные столбцы\n",
    "categorical_columns = get_categorical_columns('collisions')\n",
    "\n",
    "# Для каждого категориального столбца выводим уникальные значения\n",
    "for col in categorical_columns:\n",
    "    print(f\"\\nУникальные значения для столбца '{col}':\")\n",
    "    query = f\"\"\"\n",
    "    SELECT DISTINCT {col} \n",
    "    FROM collisions;\n",
    "    \"\"\"\n",
    "    unique_values = execute_query(query)\n",
    "    display(unique_values)\n",
    "print(LINE_1)"
   ]
  },
  {
   "cell_type": "markdown",
   "id": "0c88c9af",
   "metadata": {},
   "source": [
    "# 6. Уникальные значения для категориальных столбцов\n",
    "# Функция для получения категориальных столбцов (предполагаем, что категориальные столбцы имеют тип данных 'text' или 'varchar')\n",
    "def get_categorical_columns(table_name):\n",
    "    query = f\"\"\"\n",
    "    SELECT column_name \n",
    "    FROM information_schema.columns \n",
    "    WHERE table_name = '{table_name}'\n",
    "    AND data_type IN ('text', 'varchar');\n",
    "    \"\"\"\n",
    "    columns = execute_query(query)\n",
    "    return columns['column_name'].tolist()\n",
    "\n",
    "# 6. Уникальные значения для всех категориальных столбцов\n",
    "print(\"\\nУникальные значения для категориальных столбцов таблицы collisions:\")\n",
    "\n",
    "# Получаем все категориальные столбцы\n",
    "categorical_columns = get_categorical_columns('collisions')\n",
    "\n",
    "# Для каждого категориального столбца выводим уникальные значения\n",
    "for col in categorical_columns:\n",
    "    print(f\"\\nУникальные значения для столбца '{col}':\")\n",
    "    query = f\"\"\"\n",
    "    SELECT DISTINCT {col} \n",
    "    FROM collisions;\n",
    "    \"\"\"\n",
    "    unique_values = execute_query(query)\n",
    "    display(unique_values)\n",
    "print(LINE_1)"
   ]
  },
  {
   "cell_type": "markdown",
   "id": "decbea87",
   "metadata": {},
   "source": [
    "# Функция для проверки количества уникальных значений в каждом столбце\n",
    "def check_unique_values(table_name):\n",
    "    columns = get_columns(table_name)\n",
    "    results = []\n",
    "    \n",
    "    for col in columns:\n",
    "        query = f\"\"\"\n",
    "        SELECT \n",
    "            '{col}' AS column_name,\n",
    "            COUNT(DISTINCT {col}) AS unique_values\n",
    "        FROM {table_name};\n",
    "        \"\"\"\n",
    "        result = execute_query(query)\n",
    "        results.append(result)\n",
    "    \n",
    "    return pd.concat(results, ignore_index=True)"
   ]
  },
  {
   "cell_type": "markdown",
   "id": "eb2b287c",
   "metadata": {},
   "source": [
    "- **`case_id` (Идентификационный номер дела)** — используется для идентификации случаев в базе данных и связывания данных из различных таблиц."
   ]
  },
  {
   "cell_type": "markdown",
   "id": "5cf04503",
   "metadata": {},
   "source": [
    "Уплотним категории: \n",
    "- `weather`: 'fog', 'snowing', 'wind' - 'other';\n",
    "- `road_condition`: 'loose material', 'obstruction', 'holes', 'reduced width', 'flooded' - 'other';\n",
    "- `party_drug_physical`: 'E', 'I', 'F' - 'other';\n",
    "- `party_sobriety`: 'B', 'C', 'D' - 'B';"
   ]
  },
  {
   "cell_type": "markdown",
   "id": "a09cf767",
   "metadata": {},
   "source": [
    "Можешь по подробнее посмотреть catboost, парвильно ли я реализовал ее исполнение? У меня сомнение по поводу как я перенес лучшие параметры модели после гиперпоиска в модель которая мне вывела метрики на тренировочном датасете!"
   ]
  },
  {
   "cell_type": "code",
   "execution_count": null,
   "id": "88178e30",
   "metadata": {
    "ExecuteTime": {
     "end_time": "2024-10-01T19:14:07.525722Z",
     "start_time": "2024-10-01T19:14:07.524721Z"
    }
   },
   "outputs": [],
   "source": [
    "\"\"\"# Извлечение лучшей модели с оптимальными гиперпараметрами\n",
    "best_model_tree = grid_search_tree.best_estimator_\n",
    "\n",
    "# Обучение модели с лучшими гиперпараметрами на тренировочных данных\n",
    "best_model_tree.fit(X_train_object, y_train)\n",
    "\n",
    "# Предсказание на тренировочных данных\n",
    "y_train_pred = best_model_tree.predict(X_train_object)\n",
    "y_train_proba = best_model_tree.predict_proba(X_train_object)[:, 1]  # Вероятности для расчета ROC AUC\n",
    "\n",
    "# Если у вас есть тестовые данные (X_test и y_test), можно сделать предсказание на тесте\n",
    "y_test_pred = best_model_tree.predict(X_test_object)\n",
    "y_test_proba = best_model_tree.predict_proba(X_test_object)[:, 1]\n",
    "\n",
    "# Оценка метрик на тренировочных данных\n",
    "f1_train = f1_score(y_train, y_train_pred)\n",
    "roc_auc_train = roc_auc_score(y_train, y_train_proba)\n",
    "\n",
    "# Оценка метрик на тестовых данных (если есть тестовые данные)\n",
    "f1_test = f1_score(y_test, y_test_pred)\n",
    "roc_auc_test = roc_auc_score(y_test, y_test_proba)\n",
    "\n",
    "# Вывод результатов\n",
    "print(f'F1-Score на тренировочных данных: {f1_train:.4f}')\n",
    "print(f'ROC AUC на тренировочных данных: {roc_auc_train:.4f}')\n",
    "\n",
    "print(f'F1-Score на тестовых данных: {f1_test:.4f}')\n",
    "print(f'ROC AUC на тестовых данных: {roc_auc_test:.4f}')\"\"\";"
   ]
  },
  {
   "cell_type": "code",
   "execution_count": null,
   "id": "866d06df",
   "metadata": {
    "ExecuteTime": {
     "end_time": "2024-10-01T19:14:07.526721Z",
     "start_time": "2024-10-01T19:14:07.526721Z"
    }
   },
   "outputs": [],
   "source": [
    "\"\"\"def train_and_evaluate_epoch(model, optimizer, X_train, y_train, X_test, y_test, train_loader=None):\n",
    "    model.train()  # Модель в режиме обучения\n",
    "    optimizer.zero_grad()  # Обнуляем градиенты\n",
    "\n",
    "    if train_loader:\n",
    "        # Если передан DataLoader, используем мини-батчи\n",
    "        for X_batch, y_batch in train_loader:\n",
    "            preds = model(X_batch)\n",
    "            loss = nn.BCELoss()(preds, y_batch)\n",
    "            loss.backward()\n",
    "            optimizer.step()\n",
    "    else:\n",
    "        # Иначе используем все данные сразу\n",
    "        preds = model(X_train)\n",
    "        loss = nn.BCELoss()(preds, y_train)\n",
    "        loss.backward()\n",
    "        optimizer.step()\n",
    "\n",
    "    # Оценка на тренировочной выборке\n",
    "    model.eval()  # Переключение в режим оценки\n",
    "    with torch.no_grad():\n",
    "        train_preds = model(X_train)\n",
    "        train_pred_labels = (train_preds > 0.5).float()\n",
    "        train_f1 = f1_score(y_train.cpu(), train_pred_labels.cpu())\n",
    "        train_roc_auc = roc_auc_score(y_train.cpu(), train_preds.cpu())\n",
    "    \n",
    "    # Оценка на тестовой выборке\n",
    "    with torch.no_grad():\n",
    "        test_preds = model(X_test)\n",
    "        test_loss = nn.BCELoss()(test_preds, y_test)\n",
    "        y_pred_labels = (test_preds > 0.5).float()\n",
    "        test_f1 = f1_score(y_test.cpu(), y_pred_labels.cpu())\n",
    "        test_roc_auc = roc_auc_score(y_test.cpu(), test_preds.cpu())\n",
    "\n",
    "    return loss.item(), test_loss.item(), train_f1, train_roc_auc, test_f1, test_roc_auc\n",
    "\n",
    "\n",
    "def train_model(model, \n",
    "                optimizer, \n",
    "                X_train, \n",
    "                y_train, \n",
    "                X_test, \n",
    "                y_test, \n",
    "                num_epochs=NUM_EPOCHS, \n",
    "                early_stopping_patience=EARLY_STOPPING_PATIENCE\n",
    "               ):\n",
    "    \n",
    "    best_test_loss = float('inf')\n",
    "    no_improvement_epochs = 0\n",
    "    best_epoch = 0\n",
    "\n",
    "    # Лучшая метрика\n",
    "    best_test_f1 = 0\n",
    "    best_test_roc_auc = 0\n",
    "    best_train_f1 = 0\n",
    "    best_train_roc_auc = 0\n",
    "\n",
    "    for epoch in range(num_epochs):\n",
    "        # Вызов функции обучения и оценки на тренировочной и тестовой выборках\n",
    "        train_loss, test_loss, train_f1, train_roc_auc, test_f1, test_roc_auc = train_and_evaluate_epoch(\n",
    "            model, optimizer, X_train, y_train, X_test, y_test\n",
    "        )\n",
    "\n",
    "        # Если loss на тестовой выборке улучшился, сохраняем лучшие значения метрик\n",
    "        if test_loss < best_test_loss:\n",
    "            best_test_loss = test_loss\n",
    "            best_test_f1 = test_f1\n",
    "            best_test_roc_auc = test_roc_auc\n",
    "            best_train_f1 = train_f1\n",
    "            best_train_roc_auc = train_roc_auc\n",
    "            best_epoch = epoch + 1\n",
    "            no_improvement_epochs = 0\n",
    "        else:\n",
    "            no_improvement_epochs += 1\n",
    "\n",
    "        # Если больше нет улучшений на протяжении заданного количества эпох, останавливаем обучение\n",
    "        if no_improvement_epochs >= early_stopping_patience:\n",
    "            print(f'Ранняя остановка на эпохе {epoch + 1}')\n",
    "            break\n",
    "\n",
    "        # Логирование результатов через каждые 100 эпох\n",
    "        if (epoch + 1) % 100 == 0:\n",
    "            print(f'Epoch {epoch + 1}/{num_epochs}, '\n",
    "                  f'Train Loss: {train_loss:.4f}, '\n",
    "                  f'Test Loss: {test_loss:.4f}, '\n",
    "                  f'Train F1: {train_f1:.4f}, '\n",
    "                  f'Train ROC AUC: {train_roc_auc:.4f}, '\n",
    "                  f'Test F1: {test_f1:.4f}, '\n",
    "                  f'Test ROC AUC: {test_roc_auc:.4f}')\n",
    "\n",
    "    # Вывод лучших результатов после завершения обучения\n",
    "    print(f'Лучшая эпоха: {best_epoch}, '\n",
    "          f'Train F1: {best_train_f1:.4f}, Train ROC AUC: {best_train_roc_auc:.4f}, '\n",
    "          f'Test F1: {best_test_f1:.4f}, Test ROC AUC: {best_test_roc_auc:.4f}')\n",
    "    \n",
    "    return best_train_f1, best_train_roc_auc, best_test_f1, best_test_roc_auc, best_epoch\n",
    "\n",
    "\n",
    "def cross_val_train_model(model_class, optimizer_class, X, y, num_folds=N_FOLDS, num_epochs=NUM_EPOCHS, \n",
    "                          early_stopping_patience=EARLY_STOPPING_PATIENCE, random_state=RANDOM_STATE):\n",
    "    \n",
    "    kf = KFold(n_splits=num_folds, shuffle=True, random_state=random_state)\n",
    "    \n",
    "    fold = 1\n",
    "    train_f1_scores = []\n",
    "    train_roc_auc_scores = []\n",
    "    test_f1_scores = []\n",
    "    test_roc_auc_scores = []\n",
    "    best_epochs = []\n",
    "    \n",
    "    for train_index, test_index in kf.split(X):\n",
    "        print(f'Обучение для фолда {fold}/{num_folds}...')\n",
    "\n",
    "        X_train_fold, X_test_fold = X[train_index], X[test_index]\n",
    "        y_train_fold, y_test_fold = y[train_index], y[test_index]\n",
    "\n",
    "        X_train_tensor = torch.FloatTensor(X_train_fold)\n",
    "        X_test_tensor = torch.FloatTensor(X_test_fold)\n",
    "        y_train_tensor = torch.FloatTensor(y_train_fold).unsqueeze(1)\n",
    "        y_test_tensor = torch.FloatTensor(y_test_fold).unsqueeze(1)\n",
    "\n",
    "        model = model_class(\n",
    "            n_in_neurons=N_IN_NEURONS, \n",
    "            n_hidden_neurons_1=N_HIDDEN_NEURONS_1, \n",
    "            n_hidden_neurons_2=N_HIDDEN_NEURONS_2,\n",
    "            n_hidden_neurons_3=N_HIDDEN_NEURONS_3,\n",
    "            n_out_neurons=N_OUT_NEURONS,\n",
    "            dropout_rate=0,\n",
    "            use_batchnorm=False,\n",
    "            use_dropout=False\n",
    "        )\n",
    "        \n",
    "        optimizer = optimizer_class(model.parameters(), lr=LEARNING_RATE, weight_decay=WEIGHT_DECAY)\n",
    "\n",
    "        best_train_f1, best_train_roc_auc, best_test_f1, best_test_roc_auc, best_epoch = train_model(\n",
    "            model, optimizer, X_train_tensor, y_train_tensor, X_test_tensor, y_test_tensor,\n",
    "            num_epochs=num_epochs, early_stopping_patience=early_stopping_patience\n",
    "        )\n",
    "\n",
    "        train_f1_scores.append(best_train_f1)\n",
    "        train_roc_auc_scores.append(best_train_roc_auc)\n",
    "        test_f1_scores.append(best_test_f1)\n",
    "        test_roc_auc_scores.append(best_test_roc_auc)\n",
    "        best_epochs.append(best_epoch)\n",
    "\n",
    "        fold += 1\n",
    "\n",
    "    avg_train_f1 = sum(train_f1_scores) / num_folds\n",
    "    avg_train_roc_auc = sum(train_roc_auc_scores) / num_folds\n",
    "    avg_test_f1 = sum(test_f1_scores) / num_folds\n",
    "    avg_test_roc_auc = sum(test_roc_auc_scores) / num_folds\n",
    "    avg_best_epoch = sum(best_epochs) / num_folds\n",
    "\n",
    "    print(f'Средний Train F1: {avg_train_f1:.4f}, Средний Train ROC AUC: {avg_train_roc_auc:.4f}, '\n",
    "          f'Средний Test F1: {avg_test_f1:.4f}, Средний Test ROC AUC: {avg_test_roc_auc:.4f}, '\n",
    "          f'Средняя лучшая эпоха: {avg_best_epoch:.0f}')\n",
    "    \n",
    "    return train_f1_scores, train_roc_auc_scores, test_f1_scores, test_roc_auc_scores, best_epochs\n",
    "\n",
    "\n",
    "def objective(trial):\n",
    "    lr_ = trial.suggest_categorical('lr', [1e-5, 1e-4, 1e-3])\n",
    "    weight_decay = trial.suggest_categorical('weight_decay', [1e-3, 1e-4, 1e-5])\n",
    "    use_batchnorm = trial.suggest_categorical('use_batchnorm', [True, False])\n",
    "    use_dropout = trial.suggest_categorical('use_dropout', [True, False])\n",
    "    \n",
    "    dropout_rate = trial.suggest_categorical('dropout_rate', [0.1, 0.2, 0.3, 0.4, 0.5]) if use_dropout else None\n",
    "\n",
    "    model = Net(\n",
    "        n_in_neurons=N_IN_NEURONS, \n",
    "        n_hidden_neurons_1=N_HIDDEN_NEURONS_1, \n",
    "        n_hidden_neurons_2=N_HIDDEN_NEURONS_2,\n",
    "        n_hidden_neurons_3=N_HIDDEN_NEURONS_3,\n",
    "        n_out_neurons=N_OUT_NEURONS,\n",
    "        dropout_rate=dropout_rate,\n",
    "        use_batchnorm=use_batchnorm,\n",
    "        use_dropout=use_dropout\n",
    "    )\n",
    "\n",
    "    optimizer = torch.optim.Adam(model.parameters(), lr=lr_, weight_decay=weight_decay)\n",
    "    \n",
    "    train_f1, train_roc_auc, test_f1, test_roc_auc, _ = train_model(\n",
    "        model, optimizer, X_train_tensor, y_train_tensor, X_test_tensor, y_test_tensor,\n",
    "        num_epochs=NUM_EPOCHS, early_stopping_patience=EARLY_STOPPING_PATIENCE\n",
    "    )\n",
    "\n",
    "    return test_f1  # Оптимизируем по F1 на тестовой выборке\n",
    "\"\"\";"
   ]
  },
  {
   "cell_type": "code",
   "execution_count": null,
   "id": "85a096bb",
   "metadata": {
    "ExecuteTime": {
     "end_time": "2024-10-01T19:14:07.527721Z",
     "start_time": "2024-10-01T19:14:07.527721Z"
    }
   },
   "outputs": [],
   "source": [
    "\"\"\"# Инициализация нейронной сети с лучшими параметрами\n",
    "best_model_NN = Net(\n",
    "    n_in_neurons=N_IN_NEURONS, \n",
    "    n_hidden_neurons_1=N_HIDDEN_NEURONS_1, \n",
    "    n_hidden_neurons_2=N_HIDDEN_NEURONS_2,\n",
    "    n_hidden_neurons_3=N_HIDDEN_NEURONS_3,\n",
    "    n_out_neurons=N_OUT_NEURONS,\n",
    "    dropout_rate=dropout_rate,  # Используем dropout_rate только если он есть\n",
    "    use_batchnorm=best_trial_NN.params['use_batchnorm'],\n",
    "    use_dropout=best_trial_NN.params['use_dropout']\n",
    ")\n",
    "\n",
    "optimizer_NN = optim.Adam(best_model_NN.parameters(), lr=best_params_NN['lr'], weight_decay=best_params_NN['weight_decay'])\n",
    "\n",
    "# Получаем время и метрики для PyTorch нейронной сети с лучшими параметрами\n",
    "model_time_NN, predict_time_NN, f1_NN, roc_auc_NN = time_report(\n",
    "    best_model_NN, X_train_tensor, y_train_tensor, X_test_tensor, y_test_tensor, \n",
    "    NN=True, optimizer=optimizer_NN, num_epochs=NUM_EPOCHS\n",
    ")\"\"\";"
   ]
  },
  {
   "cell_type": "code",
   "execution_count": null,
   "id": "32188a14",
   "metadata": {
    "ExecuteTime": {
     "end_time": "2024-10-01T19:14:07.529721Z",
     "start_time": "2024-10-01T19:14:07.529721Z"
    }
   },
   "outputs": [],
   "source": [
    "\"\"\"# Применение препроцессора\n",
    "preprocessor = get_preprocessor(encoder_type='ohe')  # Или 'label'\n",
    "\n",
    "# Преобразование обучающих и тестовых данных\n",
    "X_train_preprocessed = preprocessor.fit_transform(X_train_object)\n",
    "X_test_preprocessed = preprocessor.transform(X_test_object)\n",
    "\n",
    "# Преобразование в тензоры для PyTorch\n",
    "X_train_tensor = torch.tensor(X_train_preprocessed, dtype=torch.float32)\n",
    "y_train_tensor = torch.tensor(np.array(y_train), dtype=torch.float32).unsqueeze(1)\n",
    "\n",
    "X_test_tensor = torch.tensor(X_test_preprocessed, dtype=torch.float32)\n",
    "y_test_tensor = torch.tensor(np.array(y_test), dtype=torch.float32).unsqueeze(1)\n",
    "\n",
    "N_IN_NEURONS = X_train_tensor.shape[1]\n",
    "N_HIDDEN_NEURONS_1 = 128\n",
    "N_HIDDEN_NEURONS_2 = 64\n",
    "N_HIDDEN_NEURONS_3 = 32\n",
    "N_OUT_NEURONS = 1\n",
    "NUM_EPOCHS = 200001\n",
    "EARLY_STOPPING_PATIENCE = 100\n",
    "WEIGHT_DECAY = 1e-4\n",
    "LEARNING_RATE = 1e-3\n",
    "\n",
    "class Net(nn.Module):\n",
    "    def __init__(self, n_in_neurons, n_hidden_neurons_1, \n",
    "                 n_hidden_neurons_2, n_hidden_neurons_3, \n",
    "                 n_out_neurons, dropout_rate=0, use_batchnorm=False, use_dropout=False):\n",
    "        super(Net, self).__init__()\n",
    "\n",
    "        # Сохраняем параметры как атрибуты класса\n",
    "        self.dropout_rate = dropout_rate\n",
    "        self.use_batchnorm = use_batchnorm\n",
    "        self.use_dropout = use_dropout\n",
    "\n",
    "        # Первый скрытый слой\n",
    "        self.fc1 = nn.Linear(n_in_neurons, n_hidden_neurons_1)\n",
    "        self.bn1 = nn.BatchNorm1d(n_hidden_neurons_1) if use_batchnorm else nn.Identity()\n",
    "        self.act1 = nn.LeakyReLU()\n",
    "        self.dropout1 = nn.Dropout(dropout_rate) if use_dropout else nn.Identity()\n",
    "\n",
    "        # Второй скрытый слой\n",
    "        self.fc2 = nn.Linear(n_hidden_neurons_1, n_hidden_neurons_2)\n",
    "        self.bn2 = nn.BatchNorm1d(n_hidden_neurons_2) if use_batchnorm else nn.Identity()\n",
    "        self.act2 = nn.LeakyReLU()\n",
    "        self.dropout2 = nn.Dropout(dropout_rate) if use_dropout else nn.Identity()\n",
    "\n",
    "        # Третий скрытый слой\n",
    "        self.fc3 = nn.Linear(n_hidden_neurons_2, n_hidden_neurons_3)\n",
    "        self.bn3 = nn.BatchNorm1d(n_hidden_neurons_3) if use_batchnorm else nn.Identity()\n",
    "        self.act3 = nn.LeakyReLU()\n",
    "        self.dropout3 = nn.Dropout(dropout_rate) if use_dropout else nn.Identity()\n",
    "\n",
    "        # Выходной слой\n",
    "        self.fc4 = nn.Linear(n_hidden_neurons_3, n_out_neurons)\n",
    "        self.act4 = nn.Sigmoid()\n",
    "\n",
    "    def forward(self, x):\n",
    "        x = self.fc1(x)\n",
    "        x = self.bn1(x)\n",
    "        x = self.act1(x)\n",
    "        x = self.dropout1(x)\n",
    "        x = self.fc2(x)\n",
    "        x = self.bn2(x)\n",
    "        x = self.act2(x)\n",
    "        x = self.dropout2(x)\n",
    "        x = self.fc3(x)\n",
    "        x = self.bn3(x)\n",
    "        x = self.act3(x)\n",
    "        x = self.dropout3(x)\n",
    "        x = self.fc4(x)\n",
    "        x = self.act4(x)\n",
    "        return x\n",
    "    \n",
    "def train_and_evaluate_epoch(model, optimizer, X_train, y_train, X_test, y_test, train_loader=None):\n",
    "    model.train()  # Модель в режиме обучения\n",
    "    optimizer.zero_grad()  # Обнуляем градиенты\n",
    "\n",
    "    if train_loader:\n",
    "        # Используем мини-батчи\n",
    "        for X_batch, y_batch in train_loader:\n",
    "            preds = model(X_batch)  \n",
    "            loss = nn.BCELoss()(preds, y_batch)\n",
    "            loss.backward()\n",
    "            optimizer.step()\n",
    "    else:\n",
    "        # Все данные сразу\n",
    "        preds = model(X_train)  \n",
    "        loss = nn.BCELoss()(preds, y_train)\n",
    "        loss.backward()\n",
    "        optimizer.step()\n",
    "\n",
    "    # Оценка на тестовой выборке\n",
    "    model.eval()\n",
    "    with torch.no_grad():\n",
    "        test_preds = model(X_test) \n",
    "        test_loss = nn.BCELoss()(test_preds, y_test)\n",
    "        y_pred_labels = (test_preds > 0.5).float()\n",
    "\n",
    "        f1 = f1_score(y_test.cpu(), y_pred_labels.cpu())\n",
    "        roc_auc = roc_auc_score(y_test.cpu(), test_preds.cpu())\n",
    "    \n",
    "    return loss.item(), test_loss.item(), f1, roc_auc\n",
    "\n",
    "\n",
    "def train_model(model, \n",
    "                optimizer, \n",
    "                X_train, \n",
    "                y_train, \n",
    "                X_test, \n",
    "                y_test, \n",
    "                num_epochs=NUM_EPOCHS, \n",
    "                early_stopping_patience=EARLY_STOPPING_PATIENCE\n",
    "               ):\n",
    "    \n",
    "    best_test_loss = float('inf')\n",
    "    no_improvement_epochs = 0\n",
    "    best_epoch = 0\n",
    "\n",
    "    # Лучшая метрика\n",
    "    best_f1 = 0\n",
    "    best_roc_auc = 0\n",
    "\n",
    "    for epoch in range(num_epochs):\n",
    "        train_loss, test_loss, f1, roc_auc = train_and_evaluate_epoch(\n",
    "            model, optimizer, X_train, y_train, X_test, y_test\n",
    "        )\n",
    "\n",
    "        if test_loss < best_test_loss:\n",
    "            best_test_loss = test_loss\n",
    "            best_f1 = f1\n",
    "            best_roc_auc = roc_auc\n",
    "            best_epoch = epoch + 1\n",
    "            no_improvement_epochs = 0\n",
    "        else:\n",
    "            no_improvement_epochs += 1\n",
    "\n",
    "        if no_improvement_epochs >= early_stopping_patience:\n",
    "            print(f'Ранняя остановка на эпохе {epoch + 1}')\n",
    "            break\n",
    "\n",
    "        if (epoch + 1) % 100 == 0:\n",
    "            print(f'Epoch {epoch + 1}/{num_epochs}, '\n",
    "                  f'Train Loss: {train_loss:.4f}, '\n",
    "                  f'Test Loss: {test_loss:.4f}, '\n",
    "                  f'F1: {f1:.4f}, '\n",
    "                  f'ROC AUC: {roc_auc:.4f}')\n",
    "\n",
    "    print(f'Лучшая эпоха: {best_epoch}, F1: {best_f1:.4f}, ROC AUC: {best_roc_auc:.4f}')\n",
    "    \n",
    "    return best_f1, best_roc_auc, best_epoch\n",
    "\n",
    "\n",
    "def cross_val_train_model(model_class, optimizer_class, X, y, num_folds=N_FOLDS, num_epochs=NUM_EPOCHS, \n",
    "                          early_stopping_patience=EARLY_STOPPING_PATIENCE, random_state=RANDOM_STATE):\n",
    "    \n",
    "    kf = KFold(n_splits=num_folds, shuffle=True, random_state=random_state)\n",
    "    \n",
    "    fold = 1\n",
    "    f1_scores = []\n",
    "    roc_auc_scores = []\n",
    "    best_epochs = []\n",
    "    \n",
    "    for train_index, test_index in kf.split(X):\n",
    "        print(f'Обучение для фолда {fold}/{num_folds}...')\n",
    "\n",
    "        X_train_fold, X_test_fold = X[train_index], X[test_index]\n",
    "        y_train_fold, y_test_fold = y[train_index], y[test_index]\n",
    "\n",
    "        X_train_tensor = torch.FloatTensor(X_train_fold)\n",
    "        X_test_tensor = torch.FloatTensor(X_test_fold)\n",
    "        y_train_tensor = torch.FloatTensor(y_train_fold).unsqueeze(1)\n",
    "        y_test_tensor = torch.FloatTensor(y_test_fold).unsqueeze(1)\n",
    "\n",
    "        model = model_class(\n",
    "            n_in_neurons=N_IN_NEURONS, \n",
    "            n_hidden_neurons_1=N_HIDDEN_NEURONS_1, \n",
    "            n_hidden_neurons_2=N_HIDDEN_NEURONS_2,\n",
    "            n_hidden_neurons_3=N_HIDDEN_NEURONS_3,\n",
    "            n_out_neurons=N_OUT_NEURONS,\n",
    "            dropout_rate=0,\n",
    "            use_batchnorm=False,\n",
    "            use_dropout=False\n",
    "        )\n",
    "        \n",
    "        optimizer = optimizer_class(model.parameters(), lr=LEARNING_RATE, weight_decay=WEIGHT_DECAY)\n",
    "\n",
    "        best_f1, best_roc_auc, best_epoch = train_model(\n",
    "            model, optimizer, X_train_tensor, y_train_tensor, X_test_tensor, y_test_tensor,\n",
    "            num_epochs=num_epochs, early_stopping_patience=early_stopping_patience\n",
    "        )\n",
    "\n",
    "        f1_scores.append(best_f1)\n",
    "        roc_auc_scores.append(best_roc_auc)\n",
    "        best_epochs.append(best_epoch)\n",
    "\n",
    "        fold += 1\n",
    "\n",
    "    avg_f1 = sum(f1_scores) / num_folds\n",
    "    avg_roc_auc = sum(roc_auc_scores) / num_folds\n",
    "    avg_best_epoch = sum(best_epochs) / num_folds\n",
    "\n",
    "    print(f'Средний F1: {avg_f1:.4f}, Средний ROC AUC: {avg_roc_auc:.4f}, Средняя лучшая эпоха: {avg_best_epoch:.0f}')\n",
    "    \n",
    "    return f1_scores, roc_auc_scores, best_epochs\n",
    "\n",
    "study = optuna.create_study(direction='minimize')\n",
    "study.optimize(objective, n_trials=1)\n",
    "\n",
    "best_trial = study.best_trial\n",
    "print(f'Лучшие параметры: {best_trial.params}')\"\"\";"
   ]
  },
  {
   "cell_type": "markdown",
   "id": "b38e7d53",
   "metadata": {},
   "source": [
    "Мощность авто"
   ]
  }
 ],
 "metadata": {
  "kernelspec": {
   "display_name": "Python 3 (ipykernel)",
   "language": "python",
   "name": "python3"
  },
  "language_info": {
   "codemirror_mode": {
    "name": "ipython",
    "version": 3
   },
   "file_extension": ".py",
   "mimetype": "text/x-python",
   "name": "python",
   "nbconvert_exporter": "python",
   "pygments_lexer": "ipython3",
   "version": "3.9.19"
  },
  "nbTranslate": {
   "displayLangs": [
    "ru"
   ],
   "hotkey": "alt-t",
   "langInMainMenu": true,
   "sourceLang": "ru",
   "targetLang": "en",
   "useGoogleTranslate": true
  },
  "toc": {
   "base_numbering": 1,
   "nav_menu": {},
   "number_sections": true,
   "sideBar": true,
   "skip_h1_title": true,
   "title_cell": "Table of Contents",
   "title_sidebar": "Contents",
   "toc_cell": true,
   "toc_position": {
    "height": "calc(100% - 180px)",
    "left": "10px",
    "top": "150px",
    "width": "374.391px"
   },
   "toc_section_display": true,
   "toc_window_display": true
  },
  "varInspector": {
   "cols": {
    "lenName": 16,
    "lenType": 16,
    "lenVar": 40
   },
   "kernels_config": {
    "python": {
     "delete_cmd_postfix": "",
     "delete_cmd_prefix": "del ",
     "library": "var_list.py",
     "varRefreshCmd": "print(var_dic_list())"
    },
    "r": {
     "delete_cmd_postfix": ") ",
     "delete_cmd_prefix": "rm(",
     "library": "var_list.r",
     "varRefreshCmd": "cat(var_dic_list()) "
    }
   },
   "types_to_exclude": [
    "module",
    "function",
    "builtin_function_or_method",
    "instance",
    "_Feature"
   ],
   "window_display": false
  }
 },
 "nbformat": 4,
 "nbformat_minor": 5
}
